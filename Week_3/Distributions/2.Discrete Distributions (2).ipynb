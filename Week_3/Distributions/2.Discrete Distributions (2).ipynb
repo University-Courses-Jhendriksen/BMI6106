{
 "cells": [
  {
   "cell_type": "markdown",
   "metadata": {},
   "source": [
    "## Hypergeometric Distribution (Sampling without replacement)\n",
    "\n",
    "A we saw before, Bernoulli trials that are indepedent (sampling with replacement) follow a binomial distribution, the case when we sample without replacement (trials are not independent) then our probabilities follow an hypergeometric distribution\n",
    "\n",
    "As our previous discrete distributions, the hypergeometric describes the probability of k successes, in multiple n draws. The difference is that the sample comes from a population of size N where there are exactly K objects with that feature.\n",
    "\n",
    "Similar to the binomial distribution we have a binomial choice in terms of our probability (success/failure, On/off, etc..)\n",
    "In contrast to the binomial, each draw in dependent of each previous draw, and the probability of success is linked to the reduction in the population.\n",
    "\n",
    "\n"
   ]
  },
  {
   "cell_type": "markdown",
   "metadata": {},
   "source": [
    "$$PDF = P(X = k) = \\frac {{K \\choose k} * {N - K \\choose n - k}}{N \\choose n}  $$\n",
    "\n",
    "K is the number of successes in the population - k is the number of observed successes\n",
    "\n",
    "N is the population size - n is the sample size (number of draws)\n",
    "\n",
    "$$\\mu = n \\frac {K}{N}$$\n",
    "\n",
    "$$\\sigma^2 = n \\frac {K}{N} * (\\frac {N - K}{N}) * (\\frac {N -n }{N - 1}) $$\n"
   ]
  },
  {
   "cell_type": "markdown",
   "metadata": {},
   "source": [
    "#### Example 1\n",
    "\n",
    "A deck of cards contains 20 cards: 6 red cards and 14 black cards. 5 cards are drawn randomly without replacement. What is the probability that exactly 4 red cards are drawn?\n",
    "\n",
    "\n",
    "N = 20\n",
    "n = 5\n",
    "K = 6\n",
    "k = 4\n",
    "\n",
    "$$ P(X = k) = \\frac {{K \\choose k} * {N - K \\choose n - k}}{N \\choose n}  $$\n",
    "\n",
    "$$ P(X = k) = \\frac {{6 \\choose 4} * {20 - 6 \\choose 5 - 4}}{20 \\choose 5}  $$\n",
    "\n",
    "$$ P(X = k) = \\frac {{6 \\choose 4} * {14 \\choose 1}}{20 \\choose 5}  $$\n",
    "\n",
    "$$ P(X = k) = \\frac {{6 \\choose 4} * {14 \\choose 1}}{20 \\choose 5}  $$\n",
    "\n",
    "$$ P(X = k) = 0.0135$$\n",
    "\n",
    "\n"
   ]
  },
  {
   "cell_type": "markdown",
   "metadata": {},
   "source": [
    "#### Example 2\n",
    "\n",
    "A small voting district has 101 female voters and 95 male voters. A random sample of 10 voters is drawn. What is the probability exactly 7 of the voters will be female?\n",
    "\n",
    "N = 196 n = 10 K = 101 k = 7\n"
   ]
  },
  {
   "cell_type": "code",
   "execution_count": 1,
   "metadata": {},
   "outputs": [
    {
     "data": {
      "text/html": [
       "0.130396427057674"
      ],
      "text/latex": [
       "0.130396427057674"
      ],
      "text/markdown": [
       "0.130396427057674"
      ],
      "text/plain": [
       "[1] 0.1303964"
      ]
     },
     "metadata": {},
     "output_type": "display_data"
    }
   ],
   "source": [
    "##R has a little different notation, where we \n",
    "\n",
    "dhyper(7,101,95,10)\n",
    "?dhyper()"
   ]
  },
  {
   "cell_type": "code",
   "execution_count": 2,
   "metadata": {
    "collapsed": true
   },
   "outputs": [
    {
     "data": {
      "image/png": "[encoded data removed]",
      "text/plain": [
       "plot without title"
      ]
     },
     "metadata": {},
     "output_type": "display_data"
    }
   ],
   "source": [
    "plot(dhyper(1:7,101,95,10),type = \"h\")"
   ]
  },
  {
   "cell_type": "markdown",
   "metadata": {},
   "source": [
    "#### Example 3\n",
    "\n",
    "In a deep sequencing of an experimental and a control tissue. The reference genome has ~15,000 genes. 3,000 out of 15,000 genes are enriched above a certain cut-off in the sample of interest compared to control.\n",
    "\n",
    "In a previous ChIP on chip experiment, it was found 400 genes are enriched by ChIP on chip. Of the 400 ChIP-chip genes, 100 genes were in the group of 3,000 enriched RNA-Seq transcripts.\n",
    "\n",
    "What is the probability that the ChIP-chip genes would be enriched by RNA-Seq by chance alone?\n",
    "\n",
    "in other words, what is the probability of getting 100 or more enriched genes from the 3000 genes (out of the 15000 total genes) in a sample of size 400 "
   ]
  },
  {
   "cell_type": "code",
   "execution_count": null,
   "metadata": {},
   "outputs": [],
   "source": [
    "#N = 15000, K = 3000, n = 400, k = 100, we also need N-K = 12000\n",
    "\n",
    "##Note that we 100 or more  - we can then use CDF\n",
    "\n",
    "phyper(99,3000,12000, 400, lower.tail=FALSE) #---> lower tail is the same as CDF of 1-(100:400)\n",
    "\n",
    "#or \n",
    "\n",
    "sum(dhyper(100:400,3000,12000, 400))"
   ]
  },
  {
   "cell_type": "code",
   "execution_count": null,
   "metadata": {
    "scrolled": false
   },
   "outputs": [],
   "source": [
    "##If we plot the whole distribution we get an approximation to the binomial with long tails\n",
    "\n",
    "plot(dhyper(0:400,3000,12000, 400), type = \"h\", xlim = c(0,120))"
   ]
  },
  {
   "cell_type": "code",
   "execution_count": null,
   "metadata": {},
   "outputs": [],
   "source": [
    "plot(phyper(0:400,3000,12000, 400), type = \"h\", xlim = c(0,110))"
   ]
  },
  {
   "cell_type": "code",
   "execution_count": null,
   "metadata": {},
   "outputs": [],
   "source": [
    "plot(phyper(100:400,3000,12000, 400, lower.tail = F), type = \"h\", xlim = c(0,110))"
   ]
  },
  {
   "cell_type": "markdown",
   "metadata": {},
   "source": [
    "## Poisson Distribution\n",
    "\n",
    "In the poisson distribution we are interested in investigate the probability that an event ocurred n times in an interval of time (or space).\n",
    "\n",
    "Here, we are interested in count the number of times an event occurs, where the events are independent\n",
    "\n",
    "In this case we actually know the average number of successes $\\mu$, and this rate is constant.\n",
    "\n",
    "$$ P\\left( k \\right) = \\frac{{e^{ - \\lambda } \\lambda ^k }}{{k!}}$$\n",
    "\n",
    "Where k is the number of times an events occurs\n",
    "\n",
    "lambda $\\lambda$ is the average number of events in an interval, $\\lambda$ is also called the rate parameter\n",
    "\n",
    "e is the number 2.71828... (Euler's number) the base of the natural logarithms\n",
    "\n",
    "\n",
    "### $$ \\mu = \\lambda$$\n",
    "\n",
    "### $$ \\sigma = \\sqrt \\lambda $$\n",
    "\n",
    "### $$ \\sigma^2 = \\lambda $$\n",
    "\n",
    "\n",
    "The Poisson distribution may be useful to model events such as (Wikipedia)\n",
    "\n",
    "* The number of mutations in set sized regions of a chromosome\n",
    "* The number of meteorites greater than 1 meter diameter that strike Earth in a year\n",
    "* The number of patients arriving in an emergency room between 10 and 11 pm\n",
    "* The number of cases of a disease in different towns\n",
    "* The number of births per hour during a given day"
   ]
  },
  {
   "cell_type": "markdown",
   "metadata": {},
   "source": [
    "Example 1\n",
    "\n",
    "The average number of homes sold by the Acme Realty company is 2 homes per day. What is the probability that exactly 3 homes will be sold tomorrow?\n",
    "\n",
    "$\\lambda = 2$\n",
    "\n",
    "k = 3\n",
    "\n",
    "#### $$= \\frac{{e^{ - \\lambda } \\lambda ^k }}{{k!}}$$ \n",
    "\n",
    "#### $$= \\frac{{e^{ - 2 } 2 ^3 }}{{3!}}$$ \n",
    "\n",
    "#### the probability of selling 3 homes tomorrow $ = 0.180$"
   ]
  },
  {
   "cell_type": "code",
   "execution_count": null,
   "metadata": {},
   "outputs": [],
   "source": [
    "###As we can see as we increase in lambda the positive skew decreases and the variance increases\n",
    "par(mfrow = c(1, 3)) \n",
    "plot(0:20, dpois(0:20, 3), type = \"h\", ylim = c(0, 0.25),\n",
    "    xlab = \"X\", main = \"Po(3)\", ylab = \"P(X)\", lwd = 3, \n",
    "    cex.lab = 1.5, cex.axis = 2,\n",
    "                          cex.main = 2) \n",
    "plot(0:20, dpois(0:20, 5), type = \"h\", \n",
    "     ylim = c(0, 0.25), xlab = \"X\",main = \"Po(5)\",\n",
    "     ylab = \"P(X)\", lwd = 3, cex.lab = 1.5, cex.axis = 2, cex.main =\n",
    "                                               2) \n",
    "\n",
    "plot(0:20, dpois(0:20, 10),type = \"h\", ylim = c(0, 0.25), \n",
    "     xlab = \"X\", main = \"Po(10)\", ylab = \"P(X)\", \n",
    "     lwd = 3, cex.lab = 1.5, cex.axis = 2, cex.main = 2)"
   ]
  },
  {
   "cell_type": "markdown",
   "metadata": {},
   "source": [
    "#### Example 2\n",
    "\n",
    "Suppose the average number of lions seen on a 1-day safari is 5. What is the probability that tourists will see fewer than four lions on the next 1-day safari?"
   ]
  },
  {
   "cell_type": "code",
   "execution_count": null,
   "metadata": {},
   "outputs": [],
   "source": [
    "?ppois()\n",
    "ppois(3,5)\n",
    "sum(dpois(0:3,5))"
   ]
  }
 ],
 "metadata": {
  "kernelspec": {
   "display_name": "R",
   "language": "R",
   "name": "ir"
  },
  "language_info": {
   "codemirror_mode": "r",
   "file_extension": ".r",
   "mimetype": "text/x-r-source",
   "name": "R",
   "pygments_lexer": "r",
   "version": "3.6.1"
  }
 },
 "nbformat": 4,
 "nbformat_minor": 2
}
