{
 "cells": [
  {
   "cell_type": "markdown",
   "metadata": {},
   "source": [
    "### 1. we classify 2000 email in two groups: 1000 emails as spam and 1000 emails as non-spam. 210 of the spam emails contained the phrase This isn’t spam, 99 had the word prize and 110 the word prince. Of the 99 that contained the word prize, 79 also contained the word prince. On the other hand, of the 1000 non-spam emails, only 23 had the phrase this isn’t spam, 80 the word prize and 110 the word prince. Of the 80 that contained the word prize 8 also contained the word prince.\n",
    "\n",
    "<br>\n",
    "<font color=blue>Assuming that the a priori probability of any message being spam is 0.5, what is the probability that an email is spam given it contains the phrase This isn't spam</font>\n",
    "\n",
    "Hint: Bayes Theorem of the form:\n",
    "\n",
    "$$Pr[ K | C ] = \\frac{ \\Pr[ C | K] \\Pr[K] }{ \\Pr[ C | K ] \\Pr[ K ] +\n",
    "               \\Pr[ C | K^c ] \\Pr[ K^c ] } $$\n",
    "\n",
    "##### P(spam) = 0.5; P(non-spam) = 0.5"
   ]
  },
  {
   "cell_type": "code",
   "execution_count": null,
   "metadata": {},
   "outputs": [],
   "source": []
  },
  {
   "cell_type": "markdown",
   "metadata": {},
   "source": [
    "### 2. From the Cleveland Heart Disease dataset (attached to this folder - [ https://archive.ics.uci.edu/ml/datasets/Heart+Disease ] ) if we pick 25 patients randomly, find the probability that at least 3 have less than 50 percent diameter narrowing (num variable 14 in dataset state 0)\n",
    "\n",
    "<br>\n",
    "<font color=blue>Answer this question using one of the distributions seen in class without using the R functions, but by showing the calculations worked by hand. You can always confirm the answer with the R function</font>"
   ]
  },
  {
   "cell_type": "code",
   "execution_count": null,
   "metadata": {},
   "outputs": [],
   "source": []
  },
  {
   "cell_type": "markdown",
   "metadata": {},
   "source": [
    "### 3. From the Cleveland Heart Disease dataset assume that patients are examined at random what is the average number of patients before the first patient with cholesterol levels above than 300 is encountered?\n",
    "\n",
    "<br>\n",
    "<font color=blue>Answer this question using one of the distributions seen in class without using the R functions, but by showing the calculations worked by hand. You can always confirm the answer with the R function</font>"
   ]
  },
  {
   "cell_type": "code",
   "execution_count": null,
   "metadata": {},
   "outputs": [],
   "source": []
  },
  {
   "cell_type": "markdown",
   "metadata": {},
   "source": [
    "### 4. The 2019-nCoV-cases-JHU.csv dataset provides daily updated data on the most recent coronavirus outbreak from the last month, this data is provided twice daily and gives the numbers of confirmed cases, the number of deaths and the number of recovered patients.\n",
    "\n",
    "<br>\n",
    "<font color=blue>Answer the following questions using one of the distributions seen in class you can use the R functions as the main method of evaluation</font><br>\n",
    "<font color=blue>\n",
    "    1. What is the probability of seen 100k, and 1Mill affected individuals worldwide? <br>\n",
    "    2. at what time interval will this happen? <br>\n",
    "    3. Based on the numbers of death and recovered patients then, are the people from China altogheter at higher Risk/Odds than the rest of the world? calculate the OR and RR and give Confidence intervals.<br>\n",
    "    \n",
    "<font color=blue>The units should be given in days (need to pool data when needed - remember that the data is given twice each day) </font>"
   ]
  },
  {
   "cell_type": "code",
   "execution_count": null,
   "metadata": {},
   "outputs": [],
   "source": []
  },
  {
   "cell_type": "markdown",
   "metadata": {},
   "source": [
    "### 5. From the Cleveland Heart Disease dataset create a contingency table that tabulates the relationship between chest pain and the diagnosis of heart disease?\n",
    "\n",
    "<br>\n",
    "<font color=blue>\n",
    "1. Calculate the marginal probability of a diagnosis of a vessel diameter narrowing larger than 50%<br>\n",
    "2. Calculate the joint probability of atypical angina and a vessel diameter narrowing larger than 50%<br>\n",
    "3. What is the probability of a diagnosis of 1 given that the patient has a typical angina?<br>\n",
    "4. If a patient has asymptomatic angina what is the probability of a diagnosis of 0 (diameter narrowing less than 50%), what is the probability of a diagnosis of 1? <br></font>\n",
    "\n",
    "<br>\n",
    "<font color=blue> Generate the contingency table using the R code as seen in class</font>\n"
   ]
  },
  {
   "cell_type": "code",
   "execution_count": null,
   "metadata": {},
   "outputs": [],
   "source": []
  },
  {
   "cell_type": "markdown",
   "metadata": {},
   "source": [
    "### 6. From the Cleveland Heart Disease dataset:\n",
    "\n",
    "<br>\n",
    "<font color=blue>\n",
    "1. calculate the mean and variance for the maximum heart rate achive during the exercise test, <br>\n",
    "2. then generate 10000 boostraps and calculate the average mean, variance and 95% Confidence interval for each of the bootstraps samples. <br>\n",
    "3. Produce density plots of the mean bootstraps.<br> \n",
    "4. In one of two sentences write an overall conclusion of applying the bootstrap to increase the precision to this dataset.<br></font>"
   ]
  },
  {
   "cell_type": "code",
   "execution_count": null,
   "metadata": {},
   "outputs": [],
   "source": []
  }
 ],
 "metadata": {
  "kernelspec": {
   "display_name": "R",
   "language": "R",
   "name": "ir"
  },
  "language_info": {
   "codemirror_mode": "r",
   "file_extension": ".r",
   "mimetype": "text/x-r-source",
   "name": "R",
   "pygments_lexer": "r",
   "version": "3.6.0"
  }
 },
 "nbformat": 4,
 "nbformat_minor": 2
}
