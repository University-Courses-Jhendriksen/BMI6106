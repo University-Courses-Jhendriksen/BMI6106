{
 "cells": [
  {
   "cell_type": "markdown",
   "metadata": {},
   "source": [
    "# Regularization and Variable Selection in linear models (Shrinkage Methods)"
   ]
  },
  {
   "cell_type": "markdown",
   "metadata": {},
   "source": [
    "### LASSO, Ridge and Elastic Net\n",
    "\n",
    "\n",
    "### Ridge\n",
    "Ridge uses a tunable parameter that is used to minimized the coefficients as low as possible using this equation.\n",
    "\n",
    "RSS(residual  sum  of  squares) $+ \\lambda \\sum_{j=1}^{p} \\beta_j^2$\n",
    "\n",
    "$\\lambda  is \\leq 0$ In this case ridge coefficients are adjusted to fit the data well but there is no really reduction of coefficients unless there contribution to the model is almost 0. Similar to the least squares technique for linear model ridge tries to minimize the RSS but it adds and adittional paramenter called the shrinkage penalty and this tends to reduce the coefficients toward zero.\n",
    "\n",
    "### LASSO\n",
    "LASSO relies open the linear model to reduce features using an alternative fitting procedure for estimating the coefficients. This procedure is more restrictive and reduce the coefficients that do not contribute to the model to 0.\n",
    "\n",
    "It also uses a tunable parameter $\\lambda$\n",
    "\n",
    "$$RSS + \\lambda \\sum_{j=1}^{p} |\\beta_j|$$\n",
    "\n",
    "LASSO uses an L1 penalty instead of an L2. as mentioned before the shrinkage penalty in lasso tends to recude some variables to zero, if they have very low coefficients to beging with.\n",
    "\n",
    "### Elastic Net\n",
    "\n",
    "As we will explore next, LASSO present problems whit highly correlated datasets or high dimensional data where LASSO tends to select one variable from a group and ignore the others. Elastic net overcomes this difficulties by addind a quadratic term to the shrinkage penalty \n",
    "\n",
    "$$RSS + \\lambda \\sum_{j=1}^{p} |\\beta_j|^2$$"
   ]
  },
  {
   "cell_type": "markdown",
   "metadata": {},
   "source": [
    "![title](Bias_variance.png)"
   ]
  },
  {
   "cell_type": "markdown",
   "metadata": {},
   "source": [
    "We will follow the tutorial from [https://www4.stat.ncsu.edu/~post/josh/LASSO_Ridge_Elastic_Net_-_Examples.html](https://www4.stat.ncsu.edu/~post/josh/LASSO_Ridge_Elastic_Net_-_Examples.html). That gives a very good explanation to the differences and strenghts to the three different methods for variable selection.\n",
    "\n",
    "In the first section we will simulate data taken from a normal distribution, where there is very small signal and lots of noise."
   ]
  },
  {
   "cell_type": "code",
   "execution_count": 1,
   "metadata": {},
   "outputs": [
    {
     "name": "stderr",
     "output_type": "stream",
     "text": [
      "Loading required package: Matrix\n",
      "\n",
      "Loaded glmnet 4.1-1\n",
      "\n"
     ]
    }
   ],
   "source": [
    "library(MASS)  # Package needed to generate correlated precictors\n",
    "library(glmnet)  # Package to fit ridge/lasso/elastic net models"
   ]
  },
  {
   "cell_type": "code",
   "execution_count": 2,
   "metadata": {},
   "outputs": [],
   "source": [
    "# Generate data\n",
    "set.seed(19875)  # Set seed for reproducibility\n",
    "n <- 1000  # Number of observations\n",
    "p <- 5000  # Number of predictors included in model\n",
    "real_p <- 15  # Number of true predictors\n",
    "x <- matrix(rnorm(n*p), nrow=n, ncol=p)\n",
    "y <- apply(x[,1:real_p], 1, sum) + rnorm(n)\n",
    "\n",
    "# Split data into train (2/3) and test (1/3) sets\n",
    "train_rows <- sample(1:n, .66*n)\n",
    "x.train <- x[train_rows, ]\n",
    "x.test <- x[-train_rows, ]\n",
    "\n",
    "y.train <- y[train_rows]\n",
    "y.test <- y[-train_rows]"
   ]
  },
  {
   "cell_type": "code",
   "execution_count": 3,
   "metadata": {},
   "outputs": [
    {
     "data": {
      "text/html": [
       "<table class=\"dataframe\">\n",
       "<caption>A matrix: 6 × 5000 of type dbl</caption>\n",
       "<tbody>\n",
       "\t<tr><td> 1.0158064</td><td>-2.1233216</td><td> 1.1109087</td><td> 0.48810771</td><td>0.4510301</td><td> 1.72496031</td><td> 0.1444734</td><td>-0.30811700</td><td>-0.04698793</td><td>-1.25381907</td><td>...</td><td> 0.1980665</td><td> 0.2489703</td><td>-0.1150974</td><td>-0.7069987</td><td> 0.60524684</td><td> 0.395003002</td><td>-0.8400175</td><td> 0.79860539</td><td> 0.9549130</td><td> 1.34037406</td></tr>\n",
       "\t<tr><td>-1.9134587</td><td> 0.3385125</td><td>-0.5879818</td><td>-0.04468573</td><td>1.8965145</td><td> 0.05888253</td><td>-1.8126959</td><td> 0.09771311</td><td>-0.55916953</td><td>-0.19408463</td><td>...</td><td>-0.2835207</td><td> 0.5071261</td><td> 0.9136516</td><td>-1.0876121</td><td>-1.81720785</td><td>-1.107487856</td><td> 0.3704898</td><td>-0.95554498</td><td>-0.4395614</td><td> 0.09095082</td></tr>\n",
       "\t<tr><td> 2.2498462</td><td>-0.9709378</td><td> 0.3564133</td><td>-1.18759018</td><td>0.7966766</td><td> 1.63718697</td><td> 0.1213689</td><td> 0.06479325</td><td>-0.66972236</td><td> 0.68715724</td><td>...</td><td>-2.2204721</td><td> 0.4550765</td><td>-0.8247341</td><td>-0.3502451</td><td>-0.60710861</td><td> 2.089378425</td><td>-0.3950637</td><td> 0.94654640</td><td>-1.4759874</td><td> 0.03501103</td></tr>\n",
       "\t<tr><td> 1.7924403</td><td>-0.2356649</td><td> 1.3223368</td><td>-0.20971424</td><td>0.6269838</td><td>-2.02410698</td><td> 1.8545330</td><td>-1.37945300</td><td> 1.01335403</td><td>-0.42288539</td><td>...</td><td> 0.4692550</td><td>-0.4250710</td><td> 0.3316593</td><td> 1.8953527</td><td> 0.08096607</td><td> 1.695944200</td><td>-0.7763419</td><td>-1.30906450</td><td> 1.7334954</td><td> 0.51327545</td></tr>\n",
       "\t<tr><td> 0.2764585</td><td>-1.3816672</td><td> 1.4950893</td><td>-0.86565965</td><td>0.3600757</td><td> 1.45172395</td><td>-0.7207944</td><td>-0.63215070</td><td>-0.96786327</td><td>-0.06999146</td><td>...</td><td>-0.8970582</td><td>-1.3451329</td><td>-1.4163426</td><td> 2.2047781</td><td> 0.74774184</td><td>-0.004327117</td><td>-0.6421672</td><td>-0.20819750</td><td>-0.4524946</td><td> 0.37164163</td></tr>\n",
       "\t<tr><td>-0.8304207</td><td>-0.3464086</td><td> 2.1143309</td><td> 1.39869613</td><td>0.6596009</td><td> 0.14537704</td><td>-0.6916929</td><td> 0.18702489</td><td> 0.23469795</td><td> 1.06186656</td><td>...</td><td> 1.9223166</td><td>-0.2258022</td><td>-1.6019665</td><td> 0.6099615</td><td> 0.71633968</td><td>-0.436958332</td><td> 0.9399259</td><td>-0.04225441</td><td> 0.6925121</td><td>-2.06390386</td></tr>\n",
       "</tbody>\n",
       "</table>\n"
      ],
      "text/latex": [
       "A matrix: 6 × 5000 of type dbl\n",
       "\\begin{tabular}{lllllllllllllllllllll}\n",
       "\t  1.0158064 & -2.1233216 &  1.1109087 &  0.48810771 & 0.4510301 &  1.72496031 &  0.1444734 & -0.30811700 & -0.04698793 & -1.25381907 & ... &  0.1980665 &  0.2489703 & -0.1150974 & -0.7069987 &  0.60524684 &  0.395003002 & -0.8400175 &  0.79860539 &  0.9549130 &  1.34037406\\\\\n",
       "\t -1.9134587 &  0.3385125 & -0.5879818 & -0.04468573 & 1.8965145 &  0.05888253 & -1.8126959 &  0.09771311 & -0.55916953 & -0.19408463 & ... & -0.2835207 &  0.5071261 &  0.9136516 & -1.0876121 & -1.81720785 & -1.107487856 &  0.3704898 & -0.95554498 & -0.4395614 &  0.09095082\\\\\n",
       "\t  2.2498462 & -0.9709378 &  0.3564133 & -1.18759018 & 0.7966766 &  1.63718697 &  0.1213689 &  0.06479325 & -0.66972236 &  0.68715724 & ... & -2.2204721 &  0.4550765 & -0.8247341 & -0.3502451 & -0.60710861 &  2.089378425 & -0.3950637 &  0.94654640 & -1.4759874 &  0.03501103\\\\\n",
       "\t  1.7924403 & -0.2356649 &  1.3223368 & -0.20971424 & 0.6269838 & -2.02410698 &  1.8545330 & -1.37945300 &  1.01335403 & -0.42288539 & ... &  0.4692550 & -0.4250710 &  0.3316593 &  1.8953527 &  0.08096607 &  1.695944200 & -0.7763419 & -1.30906450 &  1.7334954 &  0.51327545\\\\\n",
       "\t  0.2764585 & -1.3816672 &  1.4950893 & -0.86565965 & 0.3600757 &  1.45172395 & -0.7207944 & -0.63215070 & -0.96786327 & -0.06999146 & ... & -0.8970582 & -1.3451329 & -1.4163426 &  2.2047781 &  0.74774184 & -0.004327117 & -0.6421672 & -0.20819750 & -0.4524946 &  0.37164163\\\\\n",
       "\t -0.8304207 & -0.3464086 &  2.1143309 &  1.39869613 & 0.6596009 &  0.14537704 & -0.6916929 &  0.18702489 &  0.23469795 &  1.06186656 & ... &  1.9223166 & -0.2258022 & -1.6019665 &  0.6099615 &  0.71633968 & -0.436958332 &  0.9399259 & -0.04225441 &  0.6925121 & -2.06390386\\\\\n",
       "\\end{tabular}\n"
      ],
      "text/markdown": [
       "\n",
       "A matrix: 6 × 5000 of type dbl\n",
       "\n",
       "|  1.0158064 | -2.1233216 |  1.1109087 |  0.48810771 | 0.4510301 |  1.72496031 |  0.1444734 | -0.30811700 | -0.04698793 | -1.25381907 | ... |  0.1980665 |  0.2489703 | -0.1150974 | -0.7069987 |  0.60524684 |  0.395003002 | -0.8400175 |  0.79860539 |  0.9549130 |  1.34037406 |\n",
       "| -1.9134587 |  0.3385125 | -0.5879818 | -0.04468573 | 1.8965145 |  0.05888253 | -1.8126959 |  0.09771311 | -0.55916953 | -0.19408463 | ... | -0.2835207 |  0.5071261 |  0.9136516 | -1.0876121 | -1.81720785 | -1.107487856 |  0.3704898 | -0.95554498 | -0.4395614 |  0.09095082 |\n",
       "|  2.2498462 | -0.9709378 |  0.3564133 | -1.18759018 | 0.7966766 |  1.63718697 |  0.1213689 |  0.06479325 | -0.66972236 |  0.68715724 | ... | -2.2204721 |  0.4550765 | -0.8247341 | -0.3502451 | -0.60710861 |  2.089378425 | -0.3950637 |  0.94654640 | -1.4759874 |  0.03501103 |\n",
       "|  1.7924403 | -0.2356649 |  1.3223368 | -0.20971424 | 0.6269838 | -2.02410698 |  1.8545330 | -1.37945300 |  1.01335403 | -0.42288539 | ... |  0.4692550 | -0.4250710 |  0.3316593 |  1.8953527 |  0.08096607 |  1.695944200 | -0.7763419 | -1.30906450 |  1.7334954 |  0.51327545 |\n",
       "|  0.2764585 | -1.3816672 |  1.4950893 | -0.86565965 | 0.3600757 |  1.45172395 | -0.7207944 | -0.63215070 | -0.96786327 | -0.06999146 | ... | -0.8970582 | -1.3451329 | -1.4163426 |  2.2047781 |  0.74774184 | -0.004327117 | -0.6421672 | -0.20819750 | -0.4524946 |  0.37164163 |\n",
       "| -0.8304207 | -0.3464086 |  2.1143309 |  1.39869613 | 0.6596009 |  0.14537704 | -0.6916929 |  0.18702489 |  0.23469795 |  1.06186656 | ... |  1.9223166 | -0.2258022 | -1.6019665 |  0.6099615 |  0.71633968 | -0.436958332 |  0.9399259 | -0.04225441 |  0.6925121 | -2.06390386 |\n",
       "\n"
      ],
      "text/plain": [
       "     [,1]       [,2]       [,3]       [,4]        [,5]      [,6]       \n",
       "[1,]  1.0158064 -2.1233216  1.1109087  0.48810771 0.4510301  1.72496031\n",
       "[2,] -1.9134587  0.3385125 -0.5879818 -0.04468573 1.8965145  0.05888253\n",
       "[3,]  2.2498462 -0.9709378  0.3564133 -1.18759018 0.7966766  1.63718697\n",
       "[4,]  1.7924403 -0.2356649  1.3223368 -0.20971424 0.6269838 -2.02410698\n",
       "[5,]  0.2764585 -1.3816672  1.4950893 -0.86565965 0.3600757  1.45172395\n",
       "[6,] -0.8304207 -0.3464086  2.1143309  1.39869613 0.6596009  0.14537704\n",
       "     [,7]       [,8]        [,9]        [,10]       [,11] [,12]      [,13]     \n",
       "[1,]  0.1444734 -0.30811700 -0.04698793 -1.25381907 ...    0.1980665  0.2489703\n",
       "[2,] -1.8126959  0.09771311 -0.55916953 -0.19408463 ...   -0.2835207  0.5071261\n",
       "[3,]  0.1213689  0.06479325 -0.66972236  0.68715724 ...   -2.2204721  0.4550765\n",
       "[4,]  1.8545330 -1.37945300  1.01335403 -0.42288539 ...    0.4692550 -0.4250710\n",
       "[5,] -0.7207944 -0.63215070 -0.96786327 -0.06999146 ...   -0.8970582 -1.3451329\n",
       "[6,] -0.6916929  0.18702489  0.23469795  1.06186656 ...    1.9223166 -0.2258022\n",
       "     [,14]      [,15]      [,16]       [,17]        [,18]      [,19]      \n",
       "[1,] -0.1150974 -0.7069987  0.60524684  0.395003002 -0.8400175  0.79860539\n",
       "[2,]  0.9136516 -1.0876121 -1.81720785 -1.107487856  0.3704898 -0.95554498\n",
       "[3,] -0.8247341 -0.3502451 -0.60710861  2.089378425 -0.3950637  0.94654640\n",
       "[4,]  0.3316593  1.8953527  0.08096607  1.695944200 -0.7763419 -1.30906450\n",
       "[5,] -1.4163426  2.2047781  0.74774184 -0.004327117 -0.6421672 -0.20819750\n",
       "[6,] -1.6019665  0.6099615  0.71633968 -0.436958332  0.9399259 -0.04225441\n",
       "     [,20]      [,21]      \n",
       "[1,]  0.9549130  1.34037406\n",
       "[2,] -0.4395614  0.09095082\n",
       "[3,] -1.4759874  0.03501103\n",
       "[4,]  1.7334954  0.51327545\n",
       "[5,] -0.4524946  0.37164163\n",
       "[6,]  0.6925121 -2.06390386"
      ]
     },
     "metadata": {},
     "output_type": "display_data"
    }
   ],
   "source": [
    "head(x)\n"
   ]
  },
  {
   "cell_type": "code",
   "execution_count": 4,
   "metadata": {},
   "outputs": [],
   "source": [
    "# Fit models \n",
    "# (For plots on left):\n",
    "fit.lasso <- glmnet(x.train, y.train, family=\"gaussian\", alpha=1)\n",
    "fit.ridge <- glmnet(x.train, y.train, family=\"gaussian\", alpha=0)\n",
    "fit.elnet <- glmnet(x.train, y.train, family=\"gaussian\", alpha=.5)\n"
   ]
  },
  {
   "cell_type": "code",
   "execution_count": 5,
   "metadata": {},
   "outputs": [],
   "source": [
    "# 10-fold Cross validation for each alpha = 0, 0.1, ... , 0.9, 1.0\n",
    "# (For plots on Right)\n",
    "for (i in 0:10) {\n",
    "    assign(paste(\"fit\", i, sep=\"\"), cv.glmnet(x.train, y.train, type.measure=\"mse\", \n",
    "                                              alpha=i/10,family=\"gaussian\"))\n",
    "}"
   ]
  },
  {
   "cell_type": "code",
   "execution_count": 6,
   "metadata": {},
   "outputs": [
    {
     "data": {
      "image/png": "[encoded data removed]",
      "text/plain": [
       "Plot with title \"Elastic Net\""
      ]
     },
     "metadata": {
      "image/png": {
       "height": 420,
       "width": 420
      }
     },
     "output_type": "display_data"
    }
   ],
   "source": [
    "# Plot solution paths:\n",
    "par(mfrow=c(3,2))\n",
    "# For plotting options, type '?plot.glmnet' in R console\n",
    "plot(fit.lasso, xvar=\"lambda\",label=TRUE)\n",
    "plot(fit10, main=\"LASSO\")\n",
    "\n",
    "plot(fit.ridge, xvar=\"lambda\")\n",
    "plot(fit0, main=\"Ridge\")\n",
    "\n",
    "plot(fit.elnet, xvar=\"lambda\")\n",
    "plot(fit5, main=\"Elastic Net\")"
   ]
  },
  {
   "cell_type": "code",
   "execution_count": 7,
   "metadata": {},
   "outputs": [
    {
     "data": {
      "text/html": [
       "15.2851599823741"
      ],
      "text/latex": [
       "15.2851599823741"
      ],
      "text/markdown": [
       "15.2851599823741"
      ],
      "text/plain": [
       "[1] 15.28516"
      ]
     },
     "metadata": {},
     "output_type": "display_data"
    },
    {
     "data": {
      "text/html": [
       "1.63470400474771"
      ],
      "text/latex": [
       "1.63470400474771"
      ],
      "text/markdown": [
       "1.63470400474771"
      ],
      "text/plain": [
       "[1] 1.634704"
      ]
     },
     "metadata": {},
     "output_type": "display_data"
    },
    {
     "data": {
      "text/html": [
       "1.48257746373715"
      ],
      "text/latex": [
       "1.48257746373715"
      ],
      "text/markdown": [
       "1.48257746373715"
      ],
      "text/plain": [
       "[1] 1.482577"
      ]
     },
     "metadata": {},
     "output_type": "display_data"
    },
    {
     "data": {
      "text/html": [
       "1.35624085203761"
      ],
      "text/latex": [
       "1.35624085203761"
      ],
      "text/markdown": [
       "1.35624085203761"
      ],
      "text/plain": [
       "[1] 1.356241"
      ]
     },
     "metadata": {},
     "output_type": "display_data"
    },
    {
     "data": {
      "text/html": [
       "1.35291177969253"
      ],
      "text/latex": [
       "1.35291177969253"
      ],
      "text/markdown": [
       "1.35291177969253"
      ],
      "text/plain": [
       "[1] 1.352912"
      ]
     },
     "metadata": {},
     "output_type": "display_data"
    }
   ],
   "source": [
    "#MSE on test set\n",
    "yhat0 <- predict(fit0, s=fit0$lambda.1se, newx=x.test)\n",
    "yhat1 <- predict(fit1, s=fit1$lambda.1se, newx=x.test)\n",
    "yhat2 <- predict(fit2, s=fit2$lambda.1se, newx=x.test)\n",
    "yhat3 <- predict(fit3, s=fit3$lambda.1se, newx=x.test)\n",
    "yhat4 <- predict(fit4, s=fit4$lambda.1se, newx=x.test)\n",
    "yhat5 <- predict(fit5, s=fit5$lambda.1se, newx=x.test)\n",
    "yhat6 <- predict(fit6, s=fit6$lambda.1se, newx=x.test)\n",
    "yhat7 <- predict(fit7, s=fit7$lambda.1se, newx=x.test)\n",
    "yhat8 <- predict(fit8, s=fit8$lambda.1se, newx=x.test)\n",
    "yhat9 <- predict(fit9, s=fit9$lambda.1se, newx=x.test)\n",
    "yhat10 <- predict(fit10, s=fit10$lambda.1se, newx=x.test)\n",
    "\n",
    "mse0 <- mean((y.test - yhat0)^2)\n",
    "mse1 <- mean((y.test - yhat1)^2)\n",
    "mse2 <- mean((y.test - yhat2)^2)\n",
    "mse3 <- mean((y.test - yhat3)^2)\n",
    "mse4 <- mean((y.test - yhat4)^2)\n",
    "mse5 <- mean((y.test - yhat5)^2)\n",
    "mse6 <- mean((y.test - yhat6)^2)\n",
    "mse7 <- mean((y.test - yhat7)^2)\n",
    "mse8 <- mean((y.test - yhat8)^2)\n",
    "mse9 <- mean((y.test - yhat9)^2)\n",
    "mse10 <- mean((y.test - yhat10)^2)\n",
    "\n",
    "mse0 ##Ridge\n",
    "mse2\n",
    "mse4\n",
    "mse8\n",
    "mse10 ##Lasso"
   ]
  },
  {
   "cell_type": "code",
   "execution_count": 8,
   "metadata": {},
   "outputs": [
    {
     "data": {
      "text/html": [
       "13.3977392066094"
      ],
      "text/latex": [
       "13.3977392066094"
      ],
      "text/markdown": [
       "13.3977392066094"
      ],
      "text/plain": [
       "[1] 13.39774"
      ]
     },
     "metadata": {},
     "output_type": "display_data"
    },
    {
     "data": {
      "text/html": [
       "0.0133977392066094"
      ],
      "text/latex": [
       "0.0133977392066094"
      ],
      "text/markdown": [
       "0.0133977392066094"
      ],
      "text/plain": [
       "[1] 0.01339774"
      ]
     },
     "metadata": {},
     "output_type": "display_data"
    },
    {
     "data": {
      "text/html": [
       "0.0267954784132188"
      ],
      "text/latex": [
       "0.0267954784132188"
      ],
      "text/markdown": [
       "0.0267954784132188"
      ],
      "text/plain": [
       "[1] 0.02679548"
      ]
     },
     "metadata": {},
     "output_type": "display_data"
    }
   ],
   "source": [
    "lambda_cv_Ridge <- min(fit.ridge$lambda)\n",
    "lambda_cv_Lasso <- min(fit.lasso$lambda)\n",
    "lambda_cv_Elnet <- min(fit.elnet$lambda)\n",
    "lambda_cv_Ridge\n",
    "lambda_cv_Lasso\n",
    "lambda_cv_Elnet"
   ]
  },
  {
   "cell_type": "markdown",
   "metadata": {},
   "source": [
    "AIC is an out of sample estimator that can be used to evaluate the quality of the model. low values of AIC equate better models. BIC is implemented similarly than AIC but it differs in the penalty given from the number of paramenters where AIC uses 2k (where k is the number of paramenters from the model) and BIC uses a penaly of ln(n)k"
   ]
  },
  {
   "cell_type": "markdown",
   "metadata": {},
   "source": [
    "![title](AIC.png)\n",
    "\n",
    "More information at [https://towardsdatascience.com/introduction-to-aic-akaike-information-criterion-9c9ba1c96ced](https://towardsdatascience.com/introduction-to-aic-akaike-information-criterion-9c9ba1c96ced)"
   ]
  },
  {
   "cell_type": "code",
   "execution_count": 9,
   "metadata": {},
   "outputs": [
    {
     "data": {
      "text/html": [
       "-11830.7019994773"
      ],
      "text/latex": [
       "-11830.7019994773"
      ],
      "text/markdown": [
       "-11830.7019994773"
      ],
      "text/plain": [
       "[1] -11830.7"
      ]
     },
     "metadata": {},
     "output_type": "display_data"
    },
    {
     "name": "stdout",
     "output_type": "stream",
     "text": [
      "[1] \"Lambda from AIC Ridge =  13.3977392066094\"\n"
     ]
    },
    {
     "data": {
      "text/html": [
       "22150.8841832269"
      ],
      "text/latex": [
       "22150.8841832269"
      ],
      "text/markdown": [
       "22150.8841832269"
      ],
      "text/plain": [
       "[1] 22150.88"
      ]
     },
     "metadata": {},
     "output_type": "display_data"
    },
    {
     "name": "stdout",
     "output_type": "stream",
     "text": [
      "[1] \"Lambda from BIC Ridge =  13.3977392066094\"\n"
     ]
    },
    {
     "data": {
      "text/html": [
       "-10554.2295422867"
      ],
      "text/latex": [
       "-10554.2295422867"
      ],
      "text/markdown": [
       "-10554.2295422867"
      ],
      "text/plain": [
       "[1] -10554.23"
      ]
     },
     "metadata": {},
     "output_type": "display_data"
    },
    {
     "name": "stdout",
     "output_type": "stream",
     "text": [
      "[1] \"Lambda from AIC Lasso =  0.0990189661692623\"\n"
     ]
    },
    {
     "data": {
      "text/html": [
       "-10438.962974348"
      ],
      "text/latex": [
       "-10438.962974348"
      ],
      "text/markdown": [
       "-10438.962974348"
      ],
      "text/plain": [
       "[1] -10438.96"
      ]
     },
     "metadata": {},
     "output_type": "display_data"
    },
    {
     "name": "stdout",
     "output_type": "stream",
     "text": [
      "[1] \"Lambda from BIC Lasso=  0.1249477639877\"\n",
      "[1] \"mse Lasso AIC =  1.27423633930938\"\n",
      "[1] \"mse Lasso BIC =  1.31752470484621\"\n"
     ]
    },
    {
     "data": {
      "text/html": [
       "-10487.9175941686"
      ],
      "text/latex": [
       "-10487.9175941686"
      ],
      "text/markdown": [
       "-10487.9175941686"
      ],
      "text/plain": [
       "[1] -10487.92"
      ]
     },
     "metadata": {},
     "output_type": "display_data"
    },
    {
     "name": "stdout",
     "output_type": "stream",
     "text": [
      "[1] \"Lambda AIC enet = 0.207467657558744\"\n"
     ]
    },
    {
     "data": {
      "text/html": [
       "-10340.3310361018"
      ],
      "text/latex": [
       "-10340.3310361018"
      ],
      "text/markdown": [
       "-10340.3310361018"
      ],
      "text/plain": [
       "[1] -10340.33"
      ]
     },
     "metadata": {},
     "output_type": "display_data"
    },
    {
     "data": {
      "text/html": [
       "0.261794491647378"
      ],
      "text/latex": [
       "0.261794491647378"
      ],
      "text/markdown": [
       "0.261794491647378"
      ],
      "text/plain": [
       "[1] 0.2617945"
      ]
     },
     "metadata": {},
     "output_type": "display_data"
    },
    {
     "name": "stdout",
     "output_type": "stream",
     "text": [
      "[1] \"mse elnet =  1.42929645042112\"\n"
     ]
    }
   ],
   "source": [
    "##Find best AIC/BIC for each model\n",
    "##Ridge\n",
    "tLL <- fit.ridge$nulldev - deviance(fit.ridge) ##Likelihood of the model\n",
    "k <- fit.ridge$df ##Number of parameters\n",
    "n <- fit.ridge$nobs ##Sample Size\n",
    "\n",
    "##AIC\n",
    "\n",
    "AICc <- -tLL+2*k+2*k*(k+1)/(n-k-1)\n",
    "min(AICc)##Best AIC\n",
    "best_AIC = match(c(min(AICc)),AICc)##Which index is this?\n",
    "print(paste(\"Lambda from AIC Ridge = \",fit.ridge$lambda[best_AIC]))##Find this lambda\n",
    "\n",
    "##BIC\n",
    "BIC<-log(n)*k - tLL \n",
    "min(BIC)##Best BIC\n",
    "best_BIC = match(c(min(BIC)),BIC)##Which index is this?\n",
    "print(paste(\"Lambda from BIC Ridge = \",fit.ridge$lambda[best_BIC]))\n",
    "\n",
    "##Lasso\n",
    "##AIC\n",
    "tLL <- fit.lasso$nulldev - deviance(fit.lasso)\n",
    "k <- fit.lasso$df\n",
    "n <- fit.lasso$nobs\n",
    "AICc_lasso <- -tLL+2*k+2*k*(k+1)/(n-k-1)\n",
    "min(AICc_lasso)##Best AIC\n",
    "best_AIC_lasso = match(c(min(AICc_lasso)),AICc_lasso)##Which index is this?\n",
    "print(paste(\"Lambda from AIC Lasso = \",fit.lasso$lambda[best_AIC_lasso]))##Find this lambda\n",
    "\n",
    "##BIC\n",
    "BIC_lasso<-log(n)*k - tLL \n",
    "min(BIC_lasso)##Best BIC\n",
    "best_BIC_lasso = match(c(min(BIC_lasso)),BIC_lasso)##Which index is this?\n",
    "print(paste(\"Lambda from BIC Lasso= \",fit.lasso$lambda[best_BIC_lasso]))\n",
    "\n",
    "\n",
    "yLassoAIC <- predict(fit10, s=fit.lasso$lambda[best_AIC_lasso], newx=x.test)\n",
    "mseLassoAIC <- mean((y.test - yLassoAIC)^2)\n",
    "print(paste(\"mse Lasso AIC = \",mseLassoAIC)) ##1.27423633930938 Best model so far\n",
    "\n",
    "yLassoBIC <- predict(fit10, s=fit.lasso$lambda[best_BIC_lasso], newx=x.test)\n",
    "mseLassoBIC <- mean((y.test - yLassoBIC)^2)\n",
    "print(paste(\"mse Lasso BIC = \",mseLassoBIC)) ##1.31752470484621 Still better but not best\n",
    "\n",
    "##Elastic Net\n",
    "##AIC\n",
    "tLL <- fit.elnet$nulldev - deviance(fit.elnet)\n",
    "k <- fit.elnet$df\n",
    "n <- fit.elnet$nobs\n",
    "AICc_elnet <- -tLL+2*k+2*k*(k+1)/(n-k-1)\n",
    "min(AICc_elnet)##Best AIC\n",
    "best_AIC_elnet = match(c(min(AICc_elnet)),AICc_elnet)##Which index is this?\n",
    "print(paste(\"Lambda AIC enet =\",fit.elnet$lambda[best_AIC_elnet]))##Find this lambda\n",
    "\n",
    "##BIC\n",
    "BIC_elnet<-log(n)*k - tLL \n",
    "min(BIC_elnet)##Best BIC\n",
    "best_BIC_elnet = match(c(min(BIC_elnet)),BIC_elnet)##Which index is this?\n",
    "fit.elnet$lambda[best_BIC_elnet]\n",
    "\n",
    "yelnetAIC <- predict(fit5, s=fit.elnet$lambda[best_BIC_elnet], newx=x.test)\n",
    "mseelnetAIC <- mean((y.test - yelnetAIC)^2)\n",
    "print(paste(\"mse elnet = \",mseelnetAIC))"
   ]
  },
  {
   "cell_type": "code",
   "execution_count": null,
   "metadata": {},
   "outputs": [],
   "source": []
  },
  {
   "cell_type": "markdown",
   "metadata": {},
   "source": [
    "### LASSO is the winner! LASSO is good at picking up a small signal through lots of noise."
   ]
  },
  {
   "cell_type": "markdown",
   "metadata": {},
   "source": [
    "In the folowing tutorial, the authors demonstrate the use of lasso in the logistic regresion. \n",
    "\n",
    "In this cases we will be transforming the continuous outcome to discrete, and the evaluation to the model will rely on the constrast differences between the categorical predictors. \n",
    "\n",
    "https://eight2late.wordpress.com/2017/07/11/a-gentle-introduction-to-logistic-regression-and-lasso-regularisation-using-r/"
   ]
  },
  {
   "cell_type": "code",
   "execution_count": null,
   "metadata": {},
   "outputs": [],
   "source": []
  }
 ],
 "metadata": {
  "kernelspec": {
   "display_name": "R",
   "language": "R",
   "name": "ir"
  },
  "language_info": {
   "codemirror_mode": "r",
   "file_extension": ".r",
   "mimetype": "text/x-r-source",
   "name": "R",
   "pygments_lexer": "r",
   "version": "4.0.5"
  }
 },
 "nbformat": 4,
 "nbformat_minor": 2
}
