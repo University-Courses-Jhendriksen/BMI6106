{
 "cells": [
  {
   "cell_type": "markdown",
   "metadata": {},
   "source": [
    "## Exam 2 (Due April 21, 2021 at 11:59 pm)\n",
    "\n",
    "Please read each question carefully and apply the necessary exploratory analysis to each data set, as well as test for the assumptions relevant to each method when appropriate.\n",
    "\n",
    "Write the answers in the space provided below each question."
   ]
  },
  {
   "cell_type": "markdown",
   "metadata": {},
   "source": [
    "### $1$. Small sample sizes reduces the power of a one tail t-test because the tails in the t distribution are similiar than those in a normal distribution?\n",
    "\n",
    "a. True\n",
    "\n",
    "b. False"
   ]
  },
  {
   "cell_type": "markdown",
   "metadata": {},
   "source": [
    "**False**, the power of a one-tail t-test is reduced by the fact that at low sample sizes the tails of its distribution are **not** similar to the normal distribution. At small sample sizes the tails of a t distribution are larger than those of the normal distribution and as the sample size increases the tails decrease, becoming increasingly more similar to the normal distribution (example below). "
   ]
  },
  {
   "cell_type": "code",
   "execution_count": 1,
   "metadata": {},
   "outputs": [
    {
     "name": "stdout",
     "output_type": "stream",
     "text": [
      "The probability of being further than 2 standard deviations away from the mean in either direction:\n",
      "\n",
      " normal distribution: 0.0455\n",
      "\n",
      " t-distribution at sample size 6: 0.1019\n",
      "\n",
      " t-distribution at sample size 51: 0.0509\n",
      "\n",
      " t-distribution at sample size 501: 0.0460"
     ]
    }
   ],
   "source": [
    "norm_dist2sd = pnorm(-2)*2\n",
    "t_dist2sd_8df = pt(-2,5)*2\n",
    "t_dist2sd_80df = pt(-2,50)*2\n",
    "t_dist2sd_800df = pt(-2,500)*2\n",
    "\n",
    "cat(sprintf(\"The probability of being further than 2 standard deviations away from the mean in either direction:\"))\n",
    "cat(sprintf(\"\\n\\n normal distribution: %0.4f\",norm_dist2sd))\n",
    "cat(sprintf(\"\\n\\n t-distribution at sample size 6: %0.4f\",t_dist2sd_8df))\n",
    "cat(sprintf(\"\\n\\n t-distribution at sample size 51: %0.4f\",t_dist2sd_80df))\n",
    "cat(sprintf(\"\\n\\n t-distribution at sample size 501: %0.4f\",t_dist2sd_800df))"
   ]
  },
  {
   "cell_type": "markdown",
   "metadata": {},
   "source": [
    "### $2$. Data on 102 male and 100 female athletes were collected at the Australian Institute of Sport. The data are  in the file ais.txt.\n",
    "\n",
    "Develop a logistic regression model for gender ( y = 1 corresponds to female) or ( y = 0 corresponds to male) based on the following predictors (which is a subset of those available):\n",
    "\n",
    "- RCC, read cell count\n",
    "- WCC, white cell count\n",
    "- BMI, body mass index\n",
    " \n",
    "Remember to check for the model assumptions."
   ]
  },
  {
   "cell_type": "code",
   "execution_count": 2,
   "metadata": {
    "scrolled": false
   },
   "outputs": [
    {
     "name": "stderr",
     "output_type": "stream",
     "text": [
      "Loading required package: ggplot2\n",
      "\n",
      "Loading required package: carData\n",
      "\n"
     ]
    },
    {
     "data": {
      "text/html": [
       "<table class=\"dataframe\">\n",
       "<caption>A data.frame: 6 × 14</caption>\n",
       "<thead>\n",
       "\t<tr><th></th><th scope=col>Sex</th><th scope=col>Ht</th><th scope=col>Wt</th><th scope=col>LBM</th><th scope=col>RCC</th><th scope=col>WCC</th><th scope=col>Hc</th><th scope=col>Hg</th><th scope=col>Ferr</th><th scope=col>BMI</th><th scope=col>SSF</th><th scope=col>Bfat</th><th scope=col>Label</th><th scope=col>Sport</th></tr>\n",
       "\t<tr><th></th><th scope=col>&lt;int&gt;</th><th scope=col>&lt;dbl&gt;</th><th scope=col>&lt;dbl&gt;</th><th scope=col>&lt;dbl&gt;</th><th scope=col>&lt;dbl&gt;</th><th scope=col>&lt;dbl&gt;</th><th scope=col>&lt;dbl&gt;</th><th scope=col>&lt;dbl&gt;</th><th scope=col>&lt;int&gt;</th><th scope=col>&lt;dbl&gt;</th><th scope=col>&lt;dbl&gt;</th><th scope=col>&lt;dbl&gt;</th><th scope=col>&lt;chr&gt;</th><th scope=col>&lt;chr&gt;</th></tr>\n",
       "</thead>\n",
       "<tbody>\n",
       "\t<tr><th scope=row>1</th><td>1</td><td>195.9</td><td>78.9</td><td>63.32</td><td>3.96</td><td>7.5</td><td>37.5</td><td>12.3</td><td>60</td><td>20.56</td><td>109.1</td><td>19.75</td><td>f-b_ball</td><td>b_ball</td></tr>\n",
       "\t<tr><th scope=row>2</th><td>1</td><td>189.7</td><td>74.4</td><td>58.55</td><td>4.41</td><td>8.3</td><td>38.2</td><td>12.7</td><td>68</td><td>20.67</td><td>102.8</td><td>21.30</td><td>f-b_ball</td><td>b_ball</td></tr>\n",
       "\t<tr><th scope=row>3</th><td>1</td><td>177.8</td><td>69.1</td><td>55.36</td><td>4.14</td><td>5.0</td><td>36.4</td><td>11.6</td><td>21</td><td>21.86</td><td>104.6</td><td>19.88</td><td>f-b_ball</td><td>b_ball</td></tr>\n",
       "\t<tr><th scope=row>4</th><td>1</td><td>185.0</td><td>74.9</td><td>57.18</td><td>4.11</td><td>5.3</td><td>37.3</td><td>12.6</td><td>69</td><td>21.88</td><td>126.4</td><td>23.66</td><td>f-b_ball</td><td>b_ball</td></tr>\n",
       "\t<tr><th scope=row>5</th><td>1</td><td>184.6</td><td>64.6</td><td>53.20</td><td>4.45</td><td>6.8</td><td>41.5</td><td>14.0</td><td>29</td><td>18.96</td><td> 80.3</td><td>17.64</td><td>f-b_ball</td><td>b_ball</td></tr>\n",
       "\t<tr><th scope=row>6</th><td>1</td><td>174.0</td><td>63.7</td><td>53.77</td><td>4.10</td><td>4.4</td><td>37.4</td><td>12.5</td><td>42</td><td>21.04</td><td> 75.2</td><td>15.58</td><td>f-b_ball</td><td>b_ball</td></tr>\n",
       "</tbody>\n",
       "</table>\n"
      ],
      "text/latex": [
       "A data.frame: 6 × 14\n",
       "\\begin{tabular}{r|llllllllllllll}\n",
       "  & Sex & Ht & Wt & LBM & RCC & WCC & Hc & Hg & Ferr & BMI & SSF & Bfat & Label & Sport\\\\\n",
       "  & <int> & <dbl> & <dbl> & <dbl> & <dbl> & <dbl> & <dbl> & <dbl> & <int> & <dbl> & <dbl> & <dbl> & <chr> & <chr>\\\\\n",
       "\\hline\n",
       "\t1 & 1 & 195.9 & 78.9 & 63.32 & 3.96 & 7.5 & 37.5 & 12.3 & 60 & 20.56 & 109.1 & 19.75 & f-b\\_ball & b\\_ball\\\\\n",
       "\t2 & 1 & 189.7 & 74.4 & 58.55 & 4.41 & 8.3 & 38.2 & 12.7 & 68 & 20.67 & 102.8 & 21.30 & f-b\\_ball & b\\_ball\\\\\n",
       "\t3 & 1 & 177.8 & 69.1 & 55.36 & 4.14 & 5.0 & 36.4 & 11.6 & 21 & 21.86 & 104.6 & 19.88 & f-b\\_ball & b\\_ball\\\\\n",
       "\t4 & 1 & 185.0 & 74.9 & 57.18 & 4.11 & 5.3 & 37.3 & 12.6 & 69 & 21.88 & 126.4 & 23.66 & f-b\\_ball & b\\_ball\\\\\n",
       "\t5 & 1 & 184.6 & 64.6 & 53.20 & 4.45 & 6.8 & 41.5 & 14.0 & 29 & 18.96 &  80.3 & 17.64 & f-b\\_ball & b\\_ball\\\\\n",
       "\t6 & 1 & 174.0 & 63.7 & 53.77 & 4.10 & 4.4 & 37.4 & 12.5 & 42 & 21.04 &  75.2 & 15.58 & f-b\\_ball & b\\_ball\\\\\n",
       "\\end{tabular}\n"
      ],
      "text/markdown": [
       "\n",
       "A data.frame: 6 × 14\n",
       "\n",
       "| <!--/--> | Sex &lt;int&gt; | Ht &lt;dbl&gt; | Wt &lt;dbl&gt; | LBM &lt;dbl&gt; | RCC &lt;dbl&gt; | WCC &lt;dbl&gt; | Hc &lt;dbl&gt; | Hg &lt;dbl&gt; | Ferr &lt;int&gt; | BMI &lt;dbl&gt; | SSF &lt;dbl&gt; | Bfat &lt;dbl&gt; | Label &lt;chr&gt; | Sport &lt;chr&gt; |\n",
       "|---|---|---|---|---|---|---|---|---|---|---|---|---|---|---|\n",
       "| 1 | 1 | 195.9 | 78.9 | 63.32 | 3.96 | 7.5 | 37.5 | 12.3 | 60 | 20.56 | 109.1 | 19.75 | f-b_ball | b_ball |\n",
       "| 2 | 1 | 189.7 | 74.4 | 58.55 | 4.41 | 8.3 | 38.2 | 12.7 | 68 | 20.67 | 102.8 | 21.30 | f-b_ball | b_ball |\n",
       "| 3 | 1 | 177.8 | 69.1 | 55.36 | 4.14 | 5.0 | 36.4 | 11.6 | 21 | 21.86 | 104.6 | 19.88 | f-b_ball | b_ball |\n",
       "| 4 | 1 | 185.0 | 74.9 | 57.18 | 4.11 | 5.3 | 37.3 | 12.6 | 69 | 21.88 | 126.4 | 23.66 | f-b_ball | b_ball |\n",
       "| 5 | 1 | 184.6 | 64.6 | 53.20 | 4.45 | 6.8 | 41.5 | 14.0 | 29 | 18.96 |  80.3 | 17.64 | f-b_ball | b_ball |\n",
       "| 6 | 1 | 174.0 | 63.7 | 53.77 | 4.10 | 4.4 | 37.4 | 12.5 | 42 | 21.04 |  75.2 | 15.58 | f-b_ball | b_ball |\n",
       "\n"
      ],
      "text/plain": [
       "  Sex Ht    Wt   LBM   RCC  WCC Hc   Hg   Ferr BMI   SSF   Bfat  Label   \n",
       "1 1   195.9 78.9 63.32 3.96 7.5 37.5 12.3 60   20.56 109.1 19.75 f-b_ball\n",
       "2 1   189.7 74.4 58.55 4.41 8.3 38.2 12.7 68   20.67 102.8 21.30 f-b_ball\n",
       "3 1   177.8 69.1 55.36 4.14 5.0 36.4 11.6 21   21.86 104.6 19.88 f-b_ball\n",
       "4 1   185.0 74.9 57.18 4.11 5.3 37.3 12.6 69   21.88 126.4 23.66 f-b_ball\n",
       "5 1   184.6 64.6 53.20 4.45 6.8 41.5 14.0 29   18.96  80.3 17.64 f-b_ball\n",
       "6 1   174.0 63.7 53.77 4.10 4.4 37.4 12.5 42   21.04  75.2 15.58 f-b_ball\n",
       "  Sport \n",
       "1 b_ball\n",
       "2 b_ball\n",
       "3 b_ball\n",
       "4 b_ball\n",
       "5 b_ball\n",
       "6 b_ball"
      ]
     },
     "metadata": {},
     "output_type": "display_data"
    },
    {
     "name": "stdout",
     "output_type": "stream",
     "text": [
      "The response variable is binary - 1 = Female and 0 = Male\n",
      "\n",
      "The minimum sample size needed to meet assumptions is 60.6 while the actual sample size is 202\n",
      "\n",
      "Boxplots show there is at least 1 outlier for each explanatory variable and this should be noted"
     ]
    },
    {
     "name": "stderr",
     "output_type": "stream",
     "text": [
      "`geom_smooth()` using formula 'y ~ x'\n",
      "\n"
     ]
    },
    {
     "data": {
      "image/png": "[encoded data removed]",
      "text/plain": [
       "Plot with title \"BMI\""
      ]
     },
     "metadata": {
      "image/png": {
       "height": 720,
       "width": 720
      }
     },
     "output_type": "display_data"
    },
    {
     "name": "stderr",
     "output_type": "stream",
     "text": [
      "`geom_smooth()` using formula 'y ~ x'\n",
      "\n"
     ]
    },
    {
     "data": {
      "image/png": "[encoded data removed]",
      "text/plain": [
       "plot without title"
      ]
     },
     "metadata": {
      "image/png": {
       "height": 360,
       "width": 360
      }
     },
     "output_type": "display_data"
    },
    {
     "name": "stderr",
     "output_type": "stream",
     "text": [
      "`geom_smooth()` using formula 'y ~ x'\n",
      "\n"
     ]
    },
    {
     "data": {
      "image/png": "[encoded data removed]",
      "text/plain": [
       "plot without title"
      ]
     },
     "metadata": {
      "image/png": {
       "height": 360,
       "width": 360
      }
     },
     "output_type": "display_data"
    },
    {
     "name": "stdout",
     "output_type": "stream",
     "text": [
      "There is no severe correlation between predictor variables with the largest R^2 being 0.09"
     ]
    },
    {
     "data": {
      "image/png": "[encoded data removed]",
      "text/plain": [
       "plot without title"
      ]
     },
     "metadata": {
      "image/png": {
       "height": 360,
       "width": 360
      }
     },
     "output_type": "display_data"
    }
   ],
   "source": [
    "library(ggpubr)\n",
    "library(car)\n",
    "athletes = read.table(\"ais.txt\",header = TRUE)\n",
    "head(athletes)\n",
    "# check assumptions\n",
    "# The response variable is binary\n",
    "cat(sprintf(\"The response variable is binary - 1 = Female and 0 = Male\"))\n",
    "# check sample size is large enough\n",
    "smallest_freq = 100/202\n",
    "num_expl = 3\n",
    "min_samp = (10*num_expl)/smallest_freq\n",
    "cat(sprintf(\"\\n\\nThe minimum sample size needed to meet assumptions is %.1f while the actual sample size is 202\",min_samp))\n",
    "# check for outliers \n",
    "options(repr.plot.width = 12, repr.plot.height = 12)\n",
    "par(mfrow = c(1,3))\n",
    "boxplot(athletes$RCC,main = \"RCC\")\n",
    "boxplot(athletes$WCC,main = \"WCC\")\n",
    "boxplot(athletes$BMI,main = \"BMI\")\n",
    "cat(sprintf(\"\\n\\nBoxplots show there is at least 1 outlier for each explanatory variable and this should be noted\"))\n",
    "# There should not be severe collinearity among explanatory variables\n",
    "options(repr.plot.width = 6, repr.plot.height = 6)\n",
    "ggscatter(athletes, x = \"RCC\", y = \"WCC\",add = \"reg.line\",conf.int = TRUE, cor.coef = TRUE, cor.method = \"pearson\",\n",
    "          main = \"RCC vs WCC\", xlab = \"RCC\", ylab = \"WCC\")\n",
    "ggscatter(athletes, x = \"RCC\", y = \"BMI\",add = \"reg.line\",conf.int = TRUE, cor.coef = TRUE, cor.method = \"pearson\",\n",
    "          main = \"RCC vs BMI\", xlab = \"RCC\", ylab = \"BMI\")\n",
    "ggscatter(athletes, x = \"BMI\", y = \"WCC\",add = \"reg.line\",conf.int = TRUE, cor.coef = TRUE, cor.method = \"pearson\",\n",
    "          main = \"BMI vs WCC\", xlab = \"BMI\", ylab = \"WCC\")\n",
    "cat(sprintf(\"There is no severe correlation between predictor variables with the largest R^2 being 0.09\"))"
   ]
  },
  {
   "cell_type": "markdown",
   "metadata": {},
   "source": [
    "The examples above show that there is no substantial correlation between predictor variables, the response variable is binary, and the sample size of 202 is greater than the mininum needed of 61 and outliers have been accounted for so a logistic regression model should be appropriate."
   ]
  },
  {
   "cell_type": "code",
   "execution_count": 45,
   "metadata": {},
   "outputs": [
    {
     "data": {
      "text/plain": [
       "\n",
       "Call:\n",
       "glm(formula = Sex ~ RCC + WCC + BMI, family = \"binomial\", data = athletes)\n",
       "\n",
       "Deviance Residuals: \n",
       "     Min        1Q    Median        3Q       Max  \n",
       "-2.56012  -0.52459  -0.02467   0.52242   2.67643  \n",
       "\n",
       "Coefficients:\n",
       "            Estimate Std. Error z value Pr(>|z|)    \n",
       "(Intercept) 29.29399    3.92411   7.465 8.32e-14 ***\n",
       "RCC         -5.34706    0.72118  -7.414 1.22e-13 ***\n",
       "WCC          0.15505    0.12190   1.272  0.20338    \n",
       "BMI         -0.22911    0.08723  -2.626  0.00863 ** \n",
       "---\n",
       "Signif. codes:  0 '***' 0.001 '**' 0.01 '*' 0.05 '.' 0.1 ' ' 1\n",
       "\n",
       "(Dispersion parameter for binomial family taken to be 1)\n",
       "\n",
       "    Null deviance: 280.01  on 201  degrees of freedom\n",
       "Residual deviance: 147.01  on 198  degrees of freedom\n",
       "AIC: 155.01\n",
       "\n",
       "Number of Fisher Scoring iterations: 5\n"
      ]
     },
     "metadata": {},
     "output_type": "display_data"
    },
    {
     "name": "stdout",
     "output_type": "stream",
     "text": [
      "\n",
      "Data points with highest Cook score - most likely to be outliers:\n"
     ]
    },
    {
     "data": {
      "text/html": [
       "<table class=\"dataframe\">\n",
       "<caption>A tibble: 3 × 11</caption>\n",
       "<thead>\n",
       "\t<tr><th scope=col>Sex</th><th scope=col>RCC</th><th scope=col>WCC</th><th scope=col>BMI</th><th scope=col>.fitted</th><th scope=col>.resid</th><th scope=col>.std.resid</th><th scope=col>.hat</th><th scope=col>.sigma</th><th scope=col>.cooksd</th><th scope=col>index</th></tr>\n",
       "\t<tr><th scope=col>&lt;int&gt;</th><th scope=col>&lt;dbl&gt;</th><th scope=col>&lt;dbl&gt;</th><th scope=col>&lt;dbl&gt;</th><th scope=col>&lt;dbl&gt;</th><th scope=col>&lt;dbl&gt;</th><th scope=col>&lt;dbl&gt;</th><th scope=col>&lt;dbl&gt;</th><th scope=col>&lt;dbl&gt;</th><th scope=col>&lt;dbl&gt;</th><th scope=col>&lt;int&gt;</th></tr>\n",
       "</thead>\n",
       "<tbody>\n",
       "\t<tr><td>1</td><td>5.33</td><td> 9.3</td><td>25.27</td><td>-3.5534109</td><td> 2.676429</td><td> 2.687408</td><td>0.008154391</td><td>0.8423751</td><td>0.07238859</td><td> 74</td></tr>\n",
       "\t<tr><td>1</td><td>4.75</td><td> 7.5</td><td>31.93</td><td>-2.2570702</td><td> 2.170993</td><td> 2.236780</td><td>0.057957840</td><td>0.8490346</td><td>0.15600721</td><td> 75</td></tr>\n",
       "\t<tr><td>0</td><td>4.63</td><td>14.3</td><td>25.43</td><td> 0.9281342</td><td>-1.588230</td><td>-1.731167</td><td>0.158316817</td><td>0.8550109</td><td>0.14133617</td><td>194</td></tr>\n",
       "</tbody>\n",
       "</table>\n"
      ],
      "text/latex": [
       "A tibble: 3 × 11\n",
       "\\begin{tabular}{lllllllllll}\n",
       " Sex & RCC & WCC & BMI & .fitted & .resid & .std.resid & .hat & .sigma & .cooksd & index\\\\\n",
       " <int> & <dbl> & <dbl> & <dbl> & <dbl> & <dbl> & <dbl> & <dbl> & <dbl> & <dbl> & <int>\\\\\n",
       "\\hline\n",
       "\t 1 & 5.33 &  9.3 & 25.27 & -3.5534109 &  2.676429 &  2.687408 & 0.008154391 & 0.8423751 & 0.07238859 &  74\\\\\n",
       "\t 1 & 4.75 &  7.5 & 31.93 & -2.2570702 &  2.170993 &  2.236780 & 0.057957840 & 0.8490346 & 0.15600721 &  75\\\\\n",
       "\t 0 & 4.63 & 14.3 & 25.43 &  0.9281342 & -1.588230 & -1.731167 & 0.158316817 & 0.8550109 & 0.14133617 & 194\\\\\n",
       "\\end{tabular}\n"
      ],
      "text/markdown": [
       "\n",
       "A tibble: 3 × 11\n",
       "\n",
       "| Sex &lt;int&gt; | RCC &lt;dbl&gt; | WCC &lt;dbl&gt; | BMI &lt;dbl&gt; | .fitted &lt;dbl&gt; | .resid &lt;dbl&gt; | .std.resid &lt;dbl&gt; | .hat &lt;dbl&gt; | .sigma &lt;dbl&gt; | .cooksd &lt;dbl&gt; | index &lt;int&gt; |\n",
       "|---|---|---|---|---|---|---|---|---|---|---|\n",
       "| 1 | 5.33 |  9.3 | 25.27 | -3.5534109 |  2.676429 |  2.687408 | 0.008154391 | 0.8423751 | 0.07238859 |  74 |\n",
       "| 1 | 4.75 |  7.5 | 31.93 | -2.2570702 |  2.170993 |  2.236780 | 0.057957840 | 0.8490346 | 0.15600721 |  75 |\n",
       "| 0 | 4.63 | 14.3 | 25.43 |  0.9281342 | -1.588230 | -1.731167 | 0.158316817 | 0.8550109 | 0.14133617 | 194 |\n",
       "\n"
      ],
      "text/plain": [
       "  Sex RCC  WCC  BMI   .fitted    .resid    .std.resid .hat        .sigma   \n",
       "1 1   5.33  9.3 25.27 -3.5534109  2.676429  2.687408  0.008154391 0.8423751\n",
       "2 1   4.75  7.5 31.93 -2.2570702  2.170993  2.236780  0.057957840 0.8490346\n",
       "3 0   4.63 14.3 25.43  0.9281342 -1.588230 -1.731167  0.158316817 0.8550109\n",
       "  .cooksd    index\n",
       "1 0.07238859  74  \n",
       "2 0.15600721  75  \n",
       "3 0.14133617 194  "
      ]
     },
     "metadata": {},
     "output_type": "display_data"
    },
    {
     "name": "stdout",
     "output_type": "stream",
     "text": [
      "\n",
      "\n",
      "Using VIF of the model's explanatory variables to confirm the assumption of no-multicollinearity:\n"
     ]
    },
    {
     "data": {
      "text/html": [
       "<style>\n",
       ".dl-inline {width: auto; margin:0; padding: 0}\n",
       ".dl-inline>dt, .dl-inline>dd {float: none; width: auto; display: inline-block}\n",
       ".dl-inline>dt::after {content: \":\\0020\"; padding-right: .5ex}\n",
       ".dl-inline>dt:not(:first-of-type) {padding-left: .5ex}\n",
       "</style><dl class=dl-inline><dt>RCC</dt><dd>1.03071975746456</dd><dt>WCC</dt><dd>1.08119849029382</dd><dt>BMI</dt><dd>1.05411462667828</dd></dl>\n"
      ],
      "text/latex": [
       "\\begin{description*}\n",
       "\\item[RCC] 1.03071975746456\n",
       "\\item[WCC] 1.08119849029382\n",
       "\\item[BMI] 1.05411462667828\n",
       "\\end{description*}\n"
      ],
      "text/markdown": [
       "RCC\n",
       ":   1.03071975746456WCC\n",
       ":   1.08119849029382BMI\n",
       ":   1.05411462667828\n",
       "\n"
      ],
      "text/plain": [
       "     RCC      WCC      BMI \n",
       "1.030720 1.081198 1.054115 "
      ]
     },
     "metadata": {},
     "output_type": "display_data"
    },
    {
     "name": "stdout",
     "output_type": "stream",
     "text": [
      "The logistic regression model was able to make 171 correct predictions for an accuracy of 84.7 percent"
     ]
    }
   ],
   "source": [
    "# Developing the logistic regression model \n",
    "library(broom)\n",
    "logistic_model_gender = glm(Sex ~ RCC+WCC+BMI,family = \"binomial\",data = athletes)\n",
    "summary(logistic_model_gender)\n",
    "# testing logistic model\n",
    "gender_prob = predict(logistic_model_gender, newx = athletes,type = \"response\")\n",
    "gender_prediction = ifelse(gender_prob >= 0.5,1,0)\n",
    "model_table = table(pred = gender_prediction,true = athletes$Sex)\n",
    "\n",
    "correct_predictions = model_table[1,1] + model_table[2,2]\n",
    "percent_correct = (correct_predictions/202)*100\n",
    "\n",
    "# re-evaluating some of the assumptions needed\n",
    "cat(sprintf(\"\\nData points with highest Cook score - most likely to be outliers:\\n\"))\n",
    "model_data = augment(logistic_model_gender) %>% mutate(index = 1:n())\n",
    "model_data %>% top_n(3,.cooksd)\n",
    "\n",
    "cat(sprintf(\"\\n\\nUsing VIF of the model's explanatory variables to confirm the assumption of no-multicollinearity:\\n\"))\n",
    "vif(logistic_model_gender)\n",
    "\n",
    "cat(sprintf(\"The logistic regression model was able to make %.0f correct predictions for an accuracy of %.1f percent\",\n",
    "            correct_predictions,percent_correct))"
   ]
  },
  {
   "cell_type": "markdown",
   "metadata": {},
   "source": [
    "Generation of the model allowed further confirmation that the assumptions made for a logistic regression are valid: standardized residuals of less than 3 on the samples most likely to be troublesome outliers demonstrates that they are not substantial outliers and VIF of the explanatory variables had values hovering right near 1 which indicates no substantial multicollinearity. The mode was able to predict gender of the athletes with an accuracy of 84.7%."
   ]
  },
  {
   "cell_type": "markdown",
   "metadata": {},
   "source": [
    "### $3$. If scores are normally distributed with a mean of 42 and a standard deviation of 8, what percent of the scores is: \n",
    "\n",
    "(a) greater than 25? \n",
    "\n",
    "(b) smaller than 31? \n",
    "\n",
    "(c) between 25 and 31?"
   ]
  },
  {
   "cell_type": "code",
   "execution_count": 11,
   "metadata": {},
   "outputs": [
    {
     "name": "stdout",
     "output_type": "stream",
     "text": [
      "Given a normal distribution with mean 42 and standard deviation 8:\n",
      "\n",
      "a) percentage of scores greater than 25 = 98.32 percent\n",
      "\n",
      "b) percentage of scores less than 31 = 8.46 percent\n",
      "\n",
      "c) percentage of scores between 25 and 31 = 6.78 percent"
     ]
    }
   ],
   "source": [
    "mean3 = 42\n",
    "std3 = 8\n",
    "# a) greater than 25\n",
    "pGreater25 = 1 - pnorm(25,mean3,std3)\n",
    "# b) less than 31\n",
    "pSmaller31 = pnorm(31,mean3,std3)\n",
    "# c) between 25 and 31\n",
    "pBetween25and31 = pGreater25+pSmaller31 - 1\n",
    "\n",
    "cat(sprintf(\"Given a normal distribution with mean 42 and standard deviation 8:\"))\n",
    "cat(sprintf(\"\\n\\na) percentage of scores greater than 25 = %.2f percent\",pGreater25*100))\n",
    "cat(sprintf(\"\\n\\nb) percentage of scores less than 31 = %.2f percent\",pSmaller31*100))\n",
    "cat(sprintf(\"\\n\\nc) percentage of scores between 25 and 31 = %.2f percent\",pBetween25and31*100))"
   ]
  },
  {
   "cell_type": "markdown",
   "metadata": {},
   "source": [
    "### $4$. From the following table:\n",
    "![title](table1.png)\n",
    "\n",
    "a. Apply the appropiate tests to evaluate the null hypothesis that there is no difference in the noise values means at different vehicle sizes. \n",
    "\n",
    "b. Examine all assumptions related to the test and make sure that the data follows all of those assumptions."
   ]
  },
  {
   "cell_type": "code",
   "execution_count": 6,
   "metadata": {
    "scrolled": false
   },
   "outputs": [
    {
     "name": "stdout",
     "output_type": "stream",
     "text": [
      "Shapiro-Wilk test to check for approximate normality:"
     ]
    },
    {
     "data": {
      "text/plain": [
       "\n",
       "\tShapiro-Wilk normality test\n",
       "\n",
       "data:  small\n",
       "W = 0.81799, p-value = 0.08479\n"
      ]
     },
     "metadata": {},
     "output_type": "display_data"
    },
    {
     "data": {
      "text/plain": [
       "\n",
       "\tShapiro-Wilk normality test\n",
       "\n",
       "data:  medium\n",
       "W = 0.83114, p-value = 0.1099\n"
      ]
     },
     "metadata": {},
     "output_type": "display_data"
    },
    {
     "data": {
      "text/plain": [
       "\n",
       "\tShapiro-Wilk normality test\n",
       "\n",
       "data:  large\n",
       "W = 0.84829, p-value = 0.1525\n"
      ]
     },
     "metadata": {},
     "output_type": "display_data"
    },
    {
     "name": "stdout",
     "output_type": "stream",
     "text": [
      "\n",
      "\n",
      "Levene Tests to determine if approximate equivariance is met: "
     ]
    },
    {
     "data": {
      "text/html": [
       "<table class=\"dataframe\">\n",
       "<caption>A anova: 2 × 3</caption>\n",
       "<thead>\n",
       "\t<tr><th></th><th scope=col>Df</th><th scope=col>F value</th><th scope=col>Pr(&gt;F)</th></tr>\n",
       "\t<tr><th></th><th scope=col>&lt;int&gt;</th><th scope=col>&lt;dbl&gt;</th><th scope=col>&lt;dbl&gt;</th></tr>\n",
       "</thead>\n",
       "<tbody>\n",
       "\t<tr><th scope=row>group</th><td> 2</td><td>3.5</td><td>0.05656064</td></tr>\n",
       "\t<tr><th scope=row> </th><td>15</td><td> NA</td><td>        NA</td></tr>\n",
       "</tbody>\n",
       "</table>\n"
      ],
      "text/latex": [
       "A anova: 2 × 3\n",
       "\\begin{tabular}{r|lll}\n",
       "  & Df & F value & Pr(>F)\\\\\n",
       "  & <int> & <dbl> & <dbl>\\\\\n",
       "\\hline\n",
       "\tgroup &  2 & 3.5 & 0.05656064\\\\\n",
       "\t  & 15 &  NA &         NA\\\\\n",
       "\\end{tabular}\n"
      ],
      "text/markdown": [
       "\n",
       "A anova: 2 × 3\n",
       "\n",
       "| <!--/--> | Df &lt;int&gt; | F value &lt;dbl&gt; | Pr(&gt;F) &lt;dbl&gt; |\n",
       "|---|---|---|---|\n",
       "| group |  2 | 3.5 | 0.05656064 |\n",
       "| <!----> | 15 |  NA |         NA |\n",
       "\n"
      ],
      "text/plain": [
       "      Df F value Pr(>F)    \n",
       "group  2 3.5     0.05656064\n",
       "      15  NA             NA"
      ]
     },
     "metadata": {},
     "output_type": "display_data"
    },
    {
     "name": "stdout",
     "output_type": "stream",
     "text": [
      "\n",
      "\n",
      "ANOVA testing to determine if a distance between means exists: \n"
     ]
    },
    {
     "data": {
      "text/plain": [
       "            Df Sum Sq Mean Sq F value   Pr(>F)    \n",
       "Size         2  15703    7851   70.49 2.36e-08 ***\n",
       "Residuals   15   1671     111                     \n",
       "---\n",
       "Signif. codes:  0 '***' 0.001 '**' 0.01 '*' 0.05 '.' 0.1 ' ' 1"
      ]
     },
     "metadata": {},
     "output_type": "display_data"
    },
    {
     "name": "stdout",
     "output_type": "stream",
     "text": [
      "\n",
      "\n",
      "Using TukeyHSD at a corrected alpha of 0.05/3 = 0.017"
     ]
    },
    {
     "data": {
      "text/plain": [
       "  Tukey multiple comparisons of means\n",
       "    98.3% family-wise confidence level\n",
       "\n",
       "Fit: aov(formula = Noise ~ Size, data = data4)\n",
       "\n",
       "$Size\n",
       "                  diff       lwr         upr     p adj\n",
       "medium-large  70.00000  50.78731 89.21268661 0.0000000\n",
       "small-large   50.83333  31.62065 70.04601995 0.0000015\n",
       "small-medium -19.16667 -38.37935  0.04601995 0.0172562\n"
      ]
     },
     "metadata": {},
     "output_type": "display_data"
    },
    {
     "data": {
      "image/png": "[encoded data removed]",
      "text/plain": [
       "plot without title"
      ]
     },
     "metadata": {
      "image/png": {
       "height": 360,
       "width": 360
      }
     },
     "output_type": "display_data"
    },
    {
     "data": {
      "image/png": "[encoded data removed]",
      "text/plain": [
       "Plot with title \"Plot of ANOVA residuals for evidence of approximate equivariance\""
      ]
     },
     "metadata": {
      "image/png": {
       "height": 360,
       "width": 360
      }
     },
     "output_type": "display_data"
    }
   ],
   "source": [
    "# Use ANOVA and then pairwise t-tests\n",
    "small = c(810,820,820,835,835,835)\n",
    "medium = c(840,840,840,845,855,850)\n",
    "large = c(785,790,785,760,760,770)\n",
    "small_mean = mean(small)\n",
    "med_mean = mean(medium)\n",
    "large_mean = mean(large)\n",
    "\n",
    "data4 = data.frame(matrix(0,nrow=18,ncol=2))\n",
    "colnames(data4) = c(\"Size\",\"Noise\")\n",
    "data4$Size[1:6] = \"small\"\n",
    "data4$Size[7:12] = \"medium\"\n",
    "data4$Size[13:18] = \"large\"\n",
    "data4$Size = as.factor(data4$Size)\n",
    "data4$Noise[1:6] = small\n",
    "data4$Noise[7:12] = medium\n",
    "data4$Noise[13:18] = large\n",
    "# looking at distributions\n",
    "cat(sprintf(\"Shapiro-Wilk test to check for approximate normality:\"))\n",
    "ggplot(data4, aes(x = Noise, fill = Size)) + geom_density(alpha = 0.5) + ggtitle(\"Noise distributions\")\n",
    "shapiro.test(small)\n",
    "shapiro.test(medium)\n",
    "shapiro.test(large)\n",
    "# check for equivariance between groups\n",
    "cat(sprintf(\"\\n\\nLevene Tests to determine if approximate equivariance is met: \"))\n",
    "leveneTest(Noise~Size, data = data4)\n",
    "# perform ANOVA to determine if difference between means exists\n",
    "cat(sprintf(\"\\n\\nANOVA testing to determine if a distance between means exists: \\n\"))\n",
    "noise_anova = aov(Noise~Size, data = data4)\n",
    "summary(noise_anova)\n",
    "# perform TukeyHSD paired t-tests to determine where difference exists\n",
    "cat(sprintf(\"\\n\\nUsing TukeyHSD at a corrected alpha of 0.05/3 = 0.017\"))\n",
    "TukeyHSD(noise_anova,conf.level = 1-0.017)\n",
    "plot(noise_anova,1,main = \"Plot of ANOVA residuals for evidence of approximate equivariance\")"
   ]
  },
  {
   "cell_type": "markdown",
   "metadata": {},
   "source": [
    "Tests and visualizations showed the groups to be approximately normal with no Shapiro-Wilk test returning a signficant p-value. A Levene test was used to determine if the groups were equivariant/shared a common variance and returned a non-signficant p-value of 0.152 indicating that the assumption of common variance and normality were both met for using ANOVA. ANOVA produced a p-value of 2.3e-8 indicating with high significance that the means of the three vehicles sizes were not the same. Further analysis using the TukeyHSD pairwise tests with an alpha of 0.017 (0.05 corrected for 3 tests) showed that while medium and large sized vehicles had different average noise levels and small and larger were also different, small and medium vehicle sound levels were not significantly different."
   ]
  },
  {
   "cell_type": "markdown",
   "metadata": {},
   "source": [
    "### $5$. From the BABNEW.dta dataset use the appropiate statistical test to evaluate difference in birth weight (bweight)  as a function of gender (sex). \n",
    "\n",
    "Solve the exercise manually using the steps given in lecture and then confirm the results with the R function.\n"
   ]
  },
  {
   "cell_type": "code",
   "execution_count": 40,
   "metadata": {
    "scrolled": false
   },
   "outputs": [
    {
     "data": {
      "text/html": [
       "<table class=\"dataframe\">\n",
       "<caption>A data.frame: 6 × 8</caption>\n",
       "<thead>\n",
       "\t<tr><th></th><th scope=col>id</th><th scope=col>matage</th><th scope=col>ht</th><th scope=col>gestwks</th><th scope=col>sex</th><th scope=col>bweight</th><th scope=col>matagegp</th><th scope=col>gestcat</th></tr>\n",
       "\t<tr><th></th><th scope=col>&lt;dbl&gt;</th><th scope=col>&lt;dbl&gt;</th><th scope=col>&lt;fct&gt;</th><th scope=col>&lt;dbl&gt;</th><th scope=col>&lt;fct&gt;</th><th scope=col>&lt;dbl&gt;</th><th scope=col>&lt;dbl&gt;</th><th scope=col>&lt;dbl&gt;</th></tr>\n",
       "</thead>\n",
       "<tbody>\n",
       "\t<tr><th scope=row>1</th><td>1</td><td>33</td><td>no</td><td>37.74</td><td>female</td><td>2410</td><td>2</td><td>2</td></tr>\n",
       "\t<tr><th scope=row>2</th><td>2</td><td>34</td><td>no</td><td>39.15</td><td>female</td><td>2977</td><td>2</td><td>2</td></tr>\n",
       "\t<tr><th scope=row>3</th><td>3</td><td>34</td><td>no</td><td>35.72</td><td>female</td><td>2100</td><td>2</td><td>1</td></tr>\n",
       "\t<tr><th scope=row>4</th><td>4</td><td>30</td><td>no</td><td>39.29</td><td>male  </td><td>3270</td><td>2</td><td>2</td></tr>\n",
       "\t<tr><th scope=row>5</th><td>5</td><td>35</td><td>no</td><td>38.38</td><td>female</td><td>2620</td><td>3</td><td>2</td></tr>\n",
       "\t<tr><th scope=row>6</th><td>6</td><td>37</td><td>no</td><td>37.86</td><td>male  </td><td>3260</td><td>3</td><td>2</td></tr>\n",
       "</tbody>\n",
       "</table>\n"
      ],
      "text/latex": [
       "A data.frame: 6 × 8\n",
       "\\begin{tabular}{r|llllllll}\n",
       "  & id & matage & ht & gestwks & sex & bweight & matagegp & gestcat\\\\\n",
       "  & <dbl> & <dbl> & <fct> & <dbl> & <fct> & <dbl> & <dbl> & <dbl>\\\\\n",
       "\\hline\n",
       "\t1 & 1 & 33 & no & 37.74 & female & 2410 & 2 & 2\\\\\n",
       "\t2 & 2 & 34 & no & 39.15 & female & 2977 & 2 & 2\\\\\n",
       "\t3 & 3 & 34 & no & 35.72 & female & 2100 & 2 & 1\\\\\n",
       "\t4 & 4 & 30 & no & 39.29 & male   & 3270 & 2 & 2\\\\\n",
       "\t5 & 5 & 35 & no & 38.38 & female & 2620 & 3 & 2\\\\\n",
       "\t6 & 6 & 37 & no & 37.86 & male   & 3260 & 3 & 2\\\\\n",
       "\\end{tabular}\n"
      ],
      "text/markdown": [
       "\n",
       "A data.frame: 6 × 8\n",
       "\n",
       "| <!--/--> | id &lt;dbl&gt; | matage &lt;dbl&gt; | ht &lt;fct&gt; | gestwks &lt;dbl&gt; | sex &lt;fct&gt; | bweight &lt;dbl&gt; | matagegp &lt;dbl&gt; | gestcat &lt;dbl&gt; |\n",
       "|---|---|---|---|---|---|---|---|---|\n",
       "| 1 | 1 | 33 | no | 37.74 | female | 2410 | 2 | 2 |\n",
       "| 2 | 2 | 34 | no | 39.15 | female | 2977 | 2 | 2 |\n",
       "| 3 | 3 | 34 | no | 35.72 | female | 2100 | 2 | 1 |\n",
       "| 4 | 4 | 30 | no | 39.29 | male   | 3270 | 2 | 2 |\n",
       "| 5 | 5 | 35 | no | 38.38 | female | 2620 | 3 | 2 |\n",
       "| 6 | 6 | 37 | no | 37.86 | male   | 3260 | 3 | 2 |\n",
       "\n"
      ],
      "text/plain": [
       "  id matage ht gestwks sex    bweight matagegp gestcat\n",
       "1 1  33     no 37.74   female 2410    2        2      \n",
       "2 2  34     no 39.15   female 2977    2        2      \n",
       "3 3  34     no 35.72   female 2100    2        1      \n",
       "4 4  30     no 39.29   male   3270    2        2      \n",
       "5 5  35     no 38.38   female 2620    3        2      \n",
       "6 6  37     no 37.86   male   3260    3        2      "
      ]
     },
     "metadata": {},
     "output_type": "display_data"
    },
    {
     "name": "stdout",
     "output_type": "stream",
     "text": [
      "Evaluating normality of the male and female distributions:\n",
      "Kurtosis: 4.623 and 5.072\n",
      "Skewness: -0.887 and -1.151\n",
      "Shapiro-Wilk p-value: 7.987e-09 and 2.664e-11\n",
      "Given the high n, 641, the U score can be assumed to act as if drawn from a normal distribution allowing it to\n",
      "be translated into a z-score: \n",
      "U score = 42916.5\n",
      "into Z score = 3.60\n",
      "leads to pvalue = 3.231e-04\n",
      "\n",
      "This manually derived p-value matches that from both the base Mann-Whitney U test in R: 3.234e-04 and that from the\n",
      "coin packakge of 3.231e-04"
     ]
    },
    {
     "data": {
      "image/png": "[encoded data removed]",
      "text/plain": [
       "plot without title"
      ]
     },
     "metadata": {
      "image/png": {
       "height": 720,
       "width": 720
      }
     },
     "output_type": "display_data"
    }
   ],
   "source": [
    "library(foreign)\n",
    "library(tidyverse)\n",
    "library(dplyr)\n",
    "babnew <- read.dta(\"./BABNEW.dta\", convert.factors = T)\n",
    "library(magrittr)\n",
    "library(moments)\n",
    "library(\"coin\")\n",
    "head(babnew)\n",
    "# checking for normality of the distributions\n",
    "male_weights = babnew$bweight[babnew$sex==\"male\"]\n",
    "female_weights = babnew$bweight[babnew$sex==\"female\"]\n",
    "m_skew = skewness(male_weights)\n",
    "f_skew = skewness(female_weights)\n",
    "m_kurt = kurtosis(male_weights)\n",
    "f_kurt = kurtosis(female_weights)\n",
    "m_p = shapiro.test(male_weights)$p.value\n",
    "f_p = shapiro.test(female_weights)$p.value\n",
    "cat(sprintf(\"Evaluating normality of the male and female distributions:\"))\n",
    "cat(sprintf(\"\\nKurtosis: %.3f and %.3f\",m_kurt,f_kurt))\n",
    "cat(sprintf(\"\\nSkewness: %.3f and %.3f\",m_skew,f_skew))\n",
    "cat(sprintf(\"\\nShapiro-Wilk p-value: %1.3e and %1.3e\",m_p,f_p))\n",
    "ggplot(babnew, aes(x = bweight, fill = sex)) + geom_density(alpha = 0.5) + ggtitle(\"male vs female weight distributions\")\n",
    "# applying a non-parametric test because the distributions are not normal and transforms do not make normal\n",
    "# mann-whitney U test - uses median rather than mean as null hypothesis \n",
    "nf = length(female_weights)\n",
    "nm = length(male_weights)\n",
    "birthweight_sort = babnew[order(babnew$bweight),]\n",
    "birthweight_sort$weight_ranked = rank(birthweight_sort$bweight,ties.method=\"average\")\n",
    "sort_f = filter(birthweight_sort,sex == \"female\")\n",
    "sort_m = filter(birthweight_sort,sex == \"male\")\n",
    "Rf = sum(sort_f$weight_ranked)\n",
    "Rm = sum(sort_m$weight_ranked)\n",
    "Uf <- Rf - (nf*(nf+1))/2\n",
    "Um <- Rm - (nm*(nm+1))/2\n",
    "Utest = min(Uf,Um)\n",
    "meanU = nf*nm/2\n",
    "sdU1 = (nf*nm*(nf+nm+1))/12\n",
    "rank_counts = count(birthweight_sort,vars = weight_ranked)\n",
    "n = nf+nm\n",
    "sdU2 = 1-sum((rank_counts$n^3-rank_counts$n)/(n^3 -n))\n",
    "sigmaU = sqrt(sdU1*sdU2)\n",
    "z_test = (abs(Utest-meanU))/sigmaU\n",
    "p_value_U = (1-pnorm(z_test))*2\n",
    "\n",
    "\n",
    "# using the r-function for mann-whitney U test\n",
    "MW_weight = wilcox.test(bweight~sex,data = babnew)\n",
    "coin_MW = wilcox_test(bweight~sex,data = babnew)\n",
    "\n",
    "cat(sprintf(\"\\nGiven the high n, %.0f, the U score can be assumed to act as if drawn from a normal distribution allowing it to\n",
    "be translated into a z-score: \",n))\n",
    "cat(sprintf(\"\\nU score = %.1f\",Utest))\n",
    "cat(sprintf(\"\\ninto Z score = %.2f\",z_test))\n",
    "cat(sprintf(\"\\nleads to pvalue = %1.3e\",p_value_U))\n",
    "cat(sprintf(\"\\n\\nThis manually derived p-value matches that from both the base Mann-Whitney U test in R: %1.3e and that from the\n",
    "coin packakge of 3.231e-04\",MW_weight$p.value))"
   ]
  },
  {
   "cell_type": "markdown",
   "metadata": {},
   "source": [
    "The distributions of birthweights for both male and female babies showed evidence of non-normal distributions with skew of -0.887 and -1.151 combined with kurtosis of 4.62 and 5.07 respectively. This indicated a skew of the distribution towards the right and a sharper peak of the distribution, which was also seen when plotted. Shapiro-Wilk test's agreed with this evidence with highly signficant p-values under all data transformations indicating non-normal distributions. Because the distributions were non-normal it was decided to use a non-parametric test rather than a t-test, using the analogous Mann-Whitney U test. With over 600 samples we were able to assume the U score manually calculated would be approximately normally distributed allowing conversion into a Z-score and then into a p-value of 3.23e-4. This p-value agreed with those provided by both the R wilcox.test() and coin::wilcox_test p-values indicating that the null hypothesis, that the medians of the two distributions is the same, is to be rejected, indicating the median birthweight between males and females is signficantly different. "
   ]
  },
  {
   "cell_type": "markdown",
   "metadata": {},
   "source": [
    "### $6$. The following data reports the calorie content of beef hot dogs. Here are the numbers of calories of a random sample of 20 different hot dogs:\n",
    "\n",
    "186, 181, 176, 149, 184, 190, 158, 139, 175, 148, 152, 111, 141, 153, 190, 157, 131, 149, 135, 132.\n",
    "\n",
    "Assume that these numbers are the observed values from a random sample of twenty independent normal random variables with mean μ and variance σ2, both unknown. Find the 90% confidence intervals for the mean number of calories μ."
   ]
  },
  {
   "cell_type": "markdown",
   "metadata": {},
   "source": [
    "$(\\bar{x} - t_{n-1,1_{-\\alpha/2}}s/\\sqrt{n},\\bar{x} + t_{n-1,1_{-\\alpha/2}}s/\\sqrt{n}) $"
   ]
  },
  {
   "cell_type": "code",
   "execution_count": 44,
   "metadata": {},
   "outputs": [
    {
     "name": "stdout",
     "output_type": "stream",
     "text": [
      "The 90 percent confidence interval for the average number of calories in a beef hotdog is: [148.1,165.6]\n",
      "or 156.8 +/- 8.75 calories"
     ]
    }
   ],
   "source": [
    "rand_calories = c(186,181,176,149,184,190,158,139,175,148,152,111,141,153,190,157,131,149,135,132)\n",
    "n = 20\n",
    "x_bar = mean(rand_calories)\n",
    "s = sd(rand_calories)\n",
    "alpha = 0.1\n",
    "t_score = qt(1-(alpha/2),df = n-1)\n",
    "CIl= x_bar-(t_score*(s/sqrt(n)))\n",
    "CIh = x_bar+(t_score*(s/sqrt(n)))\n",
    "cat(sprintf(\"The 90 percent confidence interval for the average number of calories in a beef hotdog is: [%.1f,%.1f]\",CIl,CIh))\n",
    "cat(sprintf(\"\\nor %.1f +/- %.2f calories\",x_bar,t_score*(s/sqrt(n))))"
   ]
  },
  {
   "cell_type": "markdown",
   "metadata": {},
   "source": [
    "### $7$. Which type of predictor variables can be included in a General Linear Model\n",
    "\n",
    "a. Logistic\n",
    "\n",
    "b. Normal\n",
    "\n",
    "c. Categorical\n",
    "\n",
    "d. continuous\n",
    "\n",
    "e. Mixed\n"
   ]
  },
  {
   "cell_type": "markdown",
   "metadata": {},
   "source": [
    "GLM models can make use of both continuous and categorical variable types or a mix of the two."
   ]
  },
  {
   "cell_type": "markdown",
   "metadata": {},
   "source": [
    "### $8$. The file anscombe.txt contains 4 different datasets constructed by Anscombe in 1973. The x and y variables are matched to each dataset respectively (e.g. x1 corresponds to y1, etc). \n",
    "\n",
    "A. Produce a Simple linear regression for each dataset (a scatterplot might also help you to see the differences). \n",
    "\n",
    "B. Write the resulting linear function for each model. \n",
    "\n",
    "C. Generate residuals plots \n",
    "\n",
    "D. In a few sentences discuss each model and what might be the problem (if any) with that model and what can be done to fix it."
   ]
  },
  {
   "cell_type": "code",
   "execution_count": 49,
   "metadata": {
    "scrolled": false
   },
   "outputs": [
    {
     "data": {
      "text/html": [
       "<table class=\"dataframe\">\n",
       "<caption>A matrix: 2 × 4 of type dbl</caption>\n",
       "<thead>\n",
       "\t<tr><th></th><th scope=col>Estimate</th><th scope=col>Std. Error</th><th scope=col>t value</th><th scope=col>Pr(&gt;|t|)</th></tr>\n",
       "</thead>\n",
       "<tbody>\n",
       "\t<tr><th scope=row>(Intercept)</th><td>3.0000909</td><td>1.1247468</td><td>2.667348</td><td>0.025734051</td></tr>\n",
       "\t<tr><th scope=row>x1</th><td>0.5000909</td><td>0.1179055</td><td>4.241455</td><td>0.002169629</td></tr>\n",
       "</tbody>\n",
       "</table>\n"
      ],
      "text/latex": [
       "A matrix: 2 × 4 of type dbl\n",
       "\\begin{tabular}{r|llll}\n",
       "  & Estimate & Std. Error & t value & Pr(>\\textbar{}t\\textbar{})\\\\\n",
       "\\hline\n",
       "\t(Intercept) & 3.0000909 & 1.1247468 & 2.667348 & 0.025734051\\\\\n",
       "\tx1 & 0.5000909 & 0.1179055 & 4.241455 & 0.002169629\\\\\n",
       "\\end{tabular}\n"
      ],
      "text/markdown": [
       "\n",
       "A matrix: 2 × 4 of type dbl\n",
       "\n",
       "| <!--/--> | Estimate | Std. Error | t value | Pr(&gt;|t|) |\n",
       "|---|---|---|---|---|\n",
       "| (Intercept) | 3.0000909 | 1.1247468 | 2.667348 | 0.025734051 |\n",
       "| x1 | 0.5000909 | 0.1179055 | 4.241455 | 0.002169629 |\n",
       "\n"
      ],
      "text/plain": [
       "            Estimate  Std. Error t value  Pr(>|t|)   \n",
       "(Intercept) 3.0000909 1.1247468  2.667348 0.025734051\n",
       "x1          0.5000909 0.1179055  4.241455 0.002169629"
      ]
     },
     "metadata": {},
     "output_type": "display_data"
    },
    {
     "data": {
      "text/html": [
       "<table class=\"dataframe\">\n",
       "<caption>A matrix: 2 × 4 of type dbl</caption>\n",
       "<thead>\n",
       "\t<tr><th></th><th scope=col>Estimate</th><th scope=col>Std. Error</th><th scope=col>t value</th><th scope=col>Pr(&gt;|t|)</th></tr>\n",
       "</thead>\n",
       "<tbody>\n",
       "\t<tr><th scope=row>(Intercept)</th><td>3.000909</td><td>1.1253024</td><td>2.666758</td><td>0.025758941</td></tr>\n",
       "\t<tr><th scope=row>x2</th><td>0.500000</td><td>0.1179637</td><td>4.238590</td><td>0.002178816</td></tr>\n",
       "</tbody>\n",
       "</table>\n"
      ],
      "text/latex": [
       "A matrix: 2 × 4 of type dbl\n",
       "\\begin{tabular}{r|llll}\n",
       "  & Estimate & Std. Error & t value & Pr(>\\textbar{}t\\textbar{})\\\\\n",
       "\\hline\n",
       "\t(Intercept) & 3.000909 & 1.1253024 & 2.666758 & 0.025758941\\\\\n",
       "\tx2 & 0.500000 & 0.1179637 & 4.238590 & 0.002178816\\\\\n",
       "\\end{tabular}\n"
      ],
      "text/markdown": [
       "\n",
       "A matrix: 2 × 4 of type dbl\n",
       "\n",
       "| <!--/--> | Estimate | Std. Error | t value | Pr(&gt;|t|) |\n",
       "|---|---|---|---|---|\n",
       "| (Intercept) | 3.000909 | 1.1253024 | 2.666758 | 0.025758941 |\n",
       "| x2 | 0.500000 | 0.1179637 | 4.238590 | 0.002178816 |\n",
       "\n"
      ],
      "text/plain": [
       "            Estimate Std. Error t value  Pr(>|t|)   \n",
       "(Intercept) 3.000909 1.1253024  2.666758 0.025758941\n",
       "x2          0.500000 0.1179637  4.238590 0.002178816"
      ]
     },
     "metadata": {},
     "output_type": "display_data"
    },
    {
     "data": {
      "text/html": [
       "<table class=\"dataframe\">\n",
       "<caption>A matrix: 2 × 4 of type dbl</caption>\n",
       "<thead>\n",
       "\t<tr><th></th><th scope=col>Estimate</th><th scope=col>Std. Error</th><th scope=col>t value</th><th scope=col>Pr(&gt;|t|)</th></tr>\n",
       "</thead>\n",
       "<tbody>\n",
       "\t<tr><th scope=row>(Intercept)</th><td>3.0024545</td><td>1.1244812</td><td>2.670080</td><td>0.025619109</td></tr>\n",
       "\t<tr><th scope=row>x3</th><td>0.4997273</td><td>0.1178777</td><td>4.239372</td><td>0.002176305</td></tr>\n",
       "</tbody>\n",
       "</table>\n"
      ],
      "text/latex": [
       "A matrix: 2 × 4 of type dbl\n",
       "\\begin{tabular}{r|llll}\n",
       "  & Estimate & Std. Error & t value & Pr(>\\textbar{}t\\textbar{})\\\\\n",
       "\\hline\n",
       "\t(Intercept) & 3.0024545 & 1.1244812 & 2.670080 & 0.025619109\\\\\n",
       "\tx3 & 0.4997273 & 0.1178777 & 4.239372 & 0.002176305\\\\\n",
       "\\end{tabular}\n"
      ],
      "text/markdown": [
       "\n",
       "A matrix: 2 × 4 of type dbl\n",
       "\n",
       "| <!--/--> | Estimate | Std. Error | t value | Pr(&gt;|t|) |\n",
       "|---|---|---|---|---|\n",
       "| (Intercept) | 3.0024545 | 1.1244812 | 2.670080 | 0.025619109 |\n",
       "| x3 | 0.4997273 | 0.1178777 | 4.239372 | 0.002176305 |\n",
       "\n"
      ],
      "text/plain": [
       "            Estimate  Std. Error t value  Pr(>|t|)   \n",
       "(Intercept) 3.0024545 1.1244812  2.670080 0.025619109\n",
       "x3          0.4997273 0.1178777  4.239372 0.002176305"
      ]
     },
     "metadata": {},
     "output_type": "display_data"
    },
    {
     "data": {
      "text/html": [
       "<table class=\"dataframe\">\n",
       "<caption>A matrix: 2 × 4 of type dbl</caption>\n",
       "<thead>\n",
       "\t<tr><th></th><th scope=col>Estimate</th><th scope=col>Std. Error</th><th scope=col>t value</th><th scope=col>Pr(&gt;|t|)</th></tr>\n",
       "</thead>\n",
       "<tbody>\n",
       "\t<tr><th scope=row>(Intercept)</th><td>3.0017273</td><td>1.1239211</td><td>2.670763</td><td>0.025590425</td></tr>\n",
       "\t<tr><th scope=row>x4</th><td>0.4999091</td><td>0.1178189</td><td>4.243028</td><td>0.002164602</td></tr>\n",
       "</tbody>\n",
       "</table>\n"
      ],
      "text/latex": [
       "A matrix: 2 × 4 of type dbl\n",
       "\\begin{tabular}{r|llll}\n",
       "  & Estimate & Std. Error & t value & Pr(>\\textbar{}t\\textbar{})\\\\\n",
       "\\hline\n",
       "\t(Intercept) & 3.0017273 & 1.1239211 & 2.670763 & 0.025590425\\\\\n",
       "\tx4 & 0.4999091 & 0.1178189 & 4.243028 & 0.002164602\\\\\n",
       "\\end{tabular}\n"
      ],
      "text/markdown": [
       "\n",
       "A matrix: 2 × 4 of type dbl\n",
       "\n",
       "| <!--/--> | Estimate | Std. Error | t value | Pr(&gt;|t|) |\n",
       "|---|---|---|---|---|\n",
       "| (Intercept) | 3.0017273 | 1.1239211 | 2.670763 | 0.025590425 |\n",
       "| x4 | 0.4999091 | 0.1178189 | 4.243028 | 0.002164602 |\n",
       "\n"
      ],
      "text/plain": [
       "            Estimate  Std. Error t value  Pr(>|t|)   \n",
       "(Intercept) 3.0017273 1.1239211  2.670763 0.025590425\n",
       "x4          0.4999091 0.1178189  4.243028 0.002164602"
      ]
     },
     "metadata": {},
     "output_type": "display_data"
    },
    {
     "data": {
      "image/png": "[encoded data removed]",
      "text/plain": [
       "Plot with title \"Anscombe Set 4 with Linear Regression\""
      ]
     },
     "metadata": {
      "image/png": {
       "height": 720,
       "width": 720
      }
     },
     "output_type": "display_data"
    },
    {
     "data": {
      "image/png": "[encoded data removed]",
      "text/plain": [
       "Plot with title \"Anscombe Linear Regression Residual plot Set 4\""
      ]
     },
     "metadata": {
      "image/png": {
       "height": 720,
       "width": 720
      }
     },
     "output_type": "display_data"
    }
   ],
   "source": [
    "options(repr.plot.width = 12, repr.plot.height = 12)\n",
    "anscombe = read.table(\"anscombe.txt\",header = TRUE)\n",
    "\n",
    "lin1 = lm(y1 ~ x1, data = anscombe)\n",
    "lin2 = lm(y2 ~ x2, data = anscombe)\n",
    "lin3 = lm(y3 ~ x3, data = anscombe)\n",
    "lin4 = lm(y4 ~ x4, data = anscombe)\n",
    "summary(lin1)$coefficients\n",
    "summary(lin2)$coefficients\n",
    "summary(lin3)$coefficients\n",
    "summary(lin4)$coefficients\n",
    "\n",
    "f1 = anscombe$x1*0.5+3\n",
    "f2 = anscombe$x2*0.5+3\n",
    "f3 = anscombe$x3*0.5+3\n",
    "f4 = anscombe$x4*0.5+3\n",
    "\n",
    "par(mfrow=c(2,2))\n",
    "plot(anscombe$x1,anscombe$y1,cex = 10,pch = \".\",main = 'Anscombe Set 1 with Linear Regression')\n",
    "lines(anscombe$x1,f1,col = \"red\")\n",
    "plot(anscombe$x2,anscombe$y2,cex = 10,pch = \".\",main = 'Anscombe Set 2 with Linear Regression')\n",
    "lines(anscombe$x2,f2,col = \"red\")\n",
    "plot(anscombe$x3,anscombe$y3,cex = 10,pch = \".\",main = 'Anscombe Set 3 with Linear Regression')\n",
    "lines(anscombe$x3,f3,col = \"red\")\n",
    "plot(anscombe$x4,anscombe$y4,cex = 10,pch = \".\",main = 'Anscombe Set 4 with Linear Regression')\n",
    "lines(anscombe$x4,f4,col = \"red\")\n",
    "\n",
    "par(mfrow=c(2,2))\n",
    "res1 = resid(lin1)\n",
    "plot(anscombe$x1,res1,cex = 10,pch = \".\",main = 'Anscombe Linear Regression Residual plot Set 1')\n",
    "abline(0,0)\n",
    "for (k in 1:length(anscombe$x1)){\n",
    "    lines(c(anscombe$x1[k],anscombe$x1[k]),c(0,res1[k]),col = \"red\")\n",
    "}\n",
    "res2 = resid(lin2)\n",
    "plot(anscombe$x2,res2,cex = 10,pch = \".\",main = 'Anscombe Linear Regression Residual plot Set 2')\n",
    "abline(0,0)\n",
    "for (k in 1:length(anscombe$x1)){\n",
    "    lines(c(anscombe$x2[k],anscombe$x2[k]),c(0,res2[k]),col = \"red\")\n",
    "}\n",
    "res3 = resid(lin3)\n",
    "plot(anscombe$x3,res3,cex = 10,pch = \".\",main = 'Anscombe Linear Regression Residual plot Set 3')\n",
    "abline(0,0)\n",
    "for (k in 1:length(anscombe$x1)){\n",
    "    lines(c(anscombe$x3[k],anscombe$x3[k]),c(0,res3[k]),col = \"red\")\n",
    "}\n",
    "res4 = resid(lin4)\n",
    "plot(anscombe$x4,res4,cex = 10,pch = \".\",main = 'Anscombe Linear Regression Residual plot Set 4')\n",
    "abline(0,0)\n",
    "for (k in 1:length(anscombe$x1)){\n",
    "    lines(c(anscombe$x4[k],anscombe$x4[k]),c(0,res4[k]),col = \"red\")\n",
    "}"
   ]
  },
  {
   "cell_type": "markdown",
   "metadata": {},
   "source": [
    "The Anscombe datasets are distinct and of unrelated form but are designed to have the same linear regression function. For all 4 datasets the linear regression models produced the function ypred = x*0.5 + 3 with the same p-values and standard error. However, scatter plots of the datasets shows completely different patterns between them. While the first dataset is an appropriate dataset for linear regression with variability but high correlation between x and y, this is not the case for the other dataset. This is all the more apparent when visualizing the residuals, which are only randomly distributed for dataset 1. \n",
    "\n",
    "Dataset 2 has residuals forming a parabolic pattern indicating that a 2nd order polynomial regression would be more appropriate for modeling that dataset. \n",
    "\n",
    "Dataset 3 shows a linear relationship that is overestimated as x increases due to an outlier in the y-direction. Removal of that outlier would improve the ability of the model to accurately model the rest of the dataset. \n",
    "\n",
    "Dataset 4 has high residuals normally distributed about the same x, and an outlier in the x-direction. Removal of this outlier would reduce the residuals of the model, however, a linear model is also inappropriate for this dataset as there is no true relationship between the x and y variable. "
   ]
  }
 ],
 "metadata": {
  "kernelspec": {
   "display_name": "R",
   "language": "R",
   "name": "ir"
  },
  "language_info": {
   "codemirror_mode": "r",
   "file_extension": ".r",
   "mimetype": "text/x-r-source",
   "name": "R",
   "pygments_lexer": "r",
   "version": "4.0.5"
  }
 },
 "nbformat": 4,
 "nbformat_minor": 2
}
