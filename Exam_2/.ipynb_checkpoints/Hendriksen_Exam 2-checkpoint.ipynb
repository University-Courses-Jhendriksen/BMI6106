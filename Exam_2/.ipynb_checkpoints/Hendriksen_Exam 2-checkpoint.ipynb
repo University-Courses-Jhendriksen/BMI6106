{
 "cells": [
  {
   "cell_type": "markdown",
   "metadata": {},
   "source": [
    "## Exam 2 (Due April 21, 2021 at 11:59 pm)\n",
    "\n",
    "Please read each question carefully and apply the necessary exploratory analysis to each data set, as well as test for the assumptions relevant to each method when appropriate.\n",
    "\n",
    "Write the answers in the space provided below each question."
   ]
  },
  {
   "cell_type": "markdown",
   "metadata": {},
   "source": [
    "### $1$. Small sample sizes reduces the power of a one tail t-test because the tails in the t distribution are similiar than those in a normal distribution?\n",
    "\n",
    "a. True\n",
    "\n",
    "b. False"
   ]
  },
  {
   "cell_type": "markdown",
   "metadata": {},
   "source": [
    "**False**, the power of a one-tail t-test is reduced by the fact that at low sample sizes the tails of its distribution are **not** similar to the normal distribution. At small sample sizes the tails of a t distribution are larger than those of the normal distribution and as the sample size increases the tails decrease, becoming increasingly more similar to the normal distribution. "
   ]
  },
  {
   "cell_type": "markdown",
   "metadata": {},
   "source": [
    "### $2$. Data on 102 male and 100 female athletes were collected at the Australian Institute of Sport. The data are  in the file ais.txt.\n",
    "\n",
    "Develop a logistic regression model for gender ( y = 1 corresponds to female) or ( y = 0 corresponds to male) based on the following predictors (which is a subset of those available):\n",
    "\n",
    "- RCC, read cell count\n",
    "- WCC, white cell count\n",
    "- BMI, body mass index\n",
    " \n",
    "Remember to check for the model assumptions."
   ]
  },
  {
   "cell_type": "code",
   "execution_count": 76,
   "metadata": {
    "scrolled": false
   },
   "outputs": [
    {
     "data": {
      "text/html": [
       "<table class=\"dataframe\">\n",
       "<caption>A data.frame: 6 × 14</caption>\n",
       "<thead>\n",
       "\t<tr><th></th><th scope=col>Sex</th><th scope=col>Ht</th><th scope=col>Wt</th><th scope=col>LBM</th><th scope=col>RCC</th><th scope=col>WCC</th><th scope=col>Hc</th><th scope=col>Hg</th><th scope=col>Ferr</th><th scope=col>BMI</th><th scope=col>SSF</th><th scope=col>Bfat</th><th scope=col>Label</th><th scope=col>Sport</th></tr>\n",
       "\t<tr><th></th><th scope=col>&lt;int&gt;</th><th scope=col>&lt;dbl&gt;</th><th scope=col>&lt;dbl&gt;</th><th scope=col>&lt;dbl&gt;</th><th scope=col>&lt;dbl&gt;</th><th scope=col>&lt;dbl&gt;</th><th scope=col>&lt;dbl&gt;</th><th scope=col>&lt;dbl&gt;</th><th scope=col>&lt;int&gt;</th><th scope=col>&lt;dbl&gt;</th><th scope=col>&lt;dbl&gt;</th><th scope=col>&lt;dbl&gt;</th><th scope=col>&lt;chr&gt;</th><th scope=col>&lt;chr&gt;</th></tr>\n",
       "</thead>\n",
       "<tbody>\n",
       "\t<tr><th scope=row>1</th><td>1</td><td>195.9</td><td>78.9</td><td>63.32</td><td>3.96</td><td>7.5</td><td>37.5</td><td>12.3</td><td>60</td><td>20.56</td><td>109.1</td><td>19.75</td><td>f-b_ball</td><td>b_ball</td></tr>\n",
       "\t<tr><th scope=row>2</th><td>1</td><td>189.7</td><td>74.4</td><td>58.55</td><td>4.41</td><td>8.3</td><td>38.2</td><td>12.7</td><td>68</td><td>20.67</td><td>102.8</td><td>21.30</td><td>f-b_ball</td><td>b_ball</td></tr>\n",
       "\t<tr><th scope=row>3</th><td>1</td><td>177.8</td><td>69.1</td><td>55.36</td><td>4.14</td><td>5.0</td><td>36.4</td><td>11.6</td><td>21</td><td>21.86</td><td>104.6</td><td>19.88</td><td>f-b_ball</td><td>b_ball</td></tr>\n",
       "\t<tr><th scope=row>4</th><td>1</td><td>185.0</td><td>74.9</td><td>57.18</td><td>4.11</td><td>5.3</td><td>37.3</td><td>12.6</td><td>69</td><td>21.88</td><td>126.4</td><td>23.66</td><td>f-b_ball</td><td>b_ball</td></tr>\n",
       "\t<tr><th scope=row>5</th><td>1</td><td>184.6</td><td>64.6</td><td>53.20</td><td>4.45</td><td>6.8</td><td>41.5</td><td>14.0</td><td>29</td><td>18.96</td><td> 80.3</td><td>17.64</td><td>f-b_ball</td><td>b_ball</td></tr>\n",
       "\t<tr><th scope=row>6</th><td>1</td><td>174.0</td><td>63.7</td><td>53.77</td><td>4.10</td><td>4.4</td><td>37.4</td><td>12.5</td><td>42</td><td>21.04</td><td> 75.2</td><td>15.58</td><td>f-b_ball</td><td>b_ball</td></tr>\n",
       "</tbody>\n",
       "</table>\n"
      ],
      "text/latex": [
       "A data.frame: 6 × 14\n",
       "\\begin{tabular}{r|llllllllllllll}\n",
       "  & Sex & Ht & Wt & LBM & RCC & WCC & Hc & Hg & Ferr & BMI & SSF & Bfat & Label & Sport\\\\\n",
       "  & <int> & <dbl> & <dbl> & <dbl> & <dbl> & <dbl> & <dbl> & <dbl> & <int> & <dbl> & <dbl> & <dbl> & <chr> & <chr>\\\\\n",
       "\\hline\n",
       "\t1 & 1 & 195.9 & 78.9 & 63.32 & 3.96 & 7.5 & 37.5 & 12.3 & 60 & 20.56 & 109.1 & 19.75 & f-b\\_ball & b\\_ball\\\\\n",
       "\t2 & 1 & 189.7 & 74.4 & 58.55 & 4.41 & 8.3 & 38.2 & 12.7 & 68 & 20.67 & 102.8 & 21.30 & f-b\\_ball & b\\_ball\\\\\n",
       "\t3 & 1 & 177.8 & 69.1 & 55.36 & 4.14 & 5.0 & 36.4 & 11.6 & 21 & 21.86 & 104.6 & 19.88 & f-b\\_ball & b\\_ball\\\\\n",
       "\t4 & 1 & 185.0 & 74.9 & 57.18 & 4.11 & 5.3 & 37.3 & 12.6 & 69 & 21.88 & 126.4 & 23.66 & f-b\\_ball & b\\_ball\\\\\n",
       "\t5 & 1 & 184.6 & 64.6 & 53.20 & 4.45 & 6.8 & 41.5 & 14.0 & 29 & 18.96 &  80.3 & 17.64 & f-b\\_ball & b\\_ball\\\\\n",
       "\t6 & 1 & 174.0 & 63.7 & 53.77 & 4.10 & 4.4 & 37.4 & 12.5 & 42 & 21.04 &  75.2 & 15.58 & f-b\\_ball & b\\_ball\\\\\n",
       "\\end{tabular}\n"
      ],
      "text/markdown": [
       "\n",
       "A data.frame: 6 × 14\n",
       "\n",
       "| <!--/--> | Sex &lt;int&gt; | Ht &lt;dbl&gt; | Wt &lt;dbl&gt; | LBM &lt;dbl&gt; | RCC &lt;dbl&gt; | WCC &lt;dbl&gt; | Hc &lt;dbl&gt; | Hg &lt;dbl&gt; | Ferr &lt;int&gt; | BMI &lt;dbl&gt; | SSF &lt;dbl&gt; | Bfat &lt;dbl&gt; | Label &lt;chr&gt; | Sport &lt;chr&gt; |\n",
       "|---|---|---|---|---|---|---|---|---|---|---|---|---|---|---|\n",
       "| 1 | 1 | 195.9 | 78.9 | 63.32 | 3.96 | 7.5 | 37.5 | 12.3 | 60 | 20.56 | 109.1 | 19.75 | f-b_ball | b_ball |\n",
       "| 2 | 1 | 189.7 | 74.4 | 58.55 | 4.41 | 8.3 | 38.2 | 12.7 | 68 | 20.67 | 102.8 | 21.30 | f-b_ball | b_ball |\n",
       "| 3 | 1 | 177.8 | 69.1 | 55.36 | 4.14 | 5.0 | 36.4 | 11.6 | 21 | 21.86 | 104.6 | 19.88 | f-b_ball | b_ball |\n",
       "| 4 | 1 | 185.0 | 74.9 | 57.18 | 4.11 | 5.3 | 37.3 | 12.6 | 69 | 21.88 | 126.4 | 23.66 | f-b_ball | b_ball |\n",
       "| 5 | 1 | 184.6 | 64.6 | 53.20 | 4.45 | 6.8 | 41.5 | 14.0 | 29 | 18.96 |  80.3 | 17.64 | f-b_ball | b_ball |\n",
       "| 6 | 1 | 174.0 | 63.7 | 53.77 | 4.10 | 4.4 | 37.4 | 12.5 | 42 | 21.04 |  75.2 | 15.58 | f-b_ball | b_ball |\n",
       "\n"
      ],
      "text/plain": [
       "  Sex Ht    Wt   LBM   RCC  WCC Hc   Hg   Ferr BMI   SSF   Bfat  Label   \n",
       "1 1   195.9 78.9 63.32 3.96 7.5 37.5 12.3 60   20.56 109.1 19.75 f-b_ball\n",
       "2 1   189.7 74.4 58.55 4.41 8.3 38.2 12.7 68   20.67 102.8 21.30 f-b_ball\n",
       "3 1   177.8 69.1 55.36 4.14 5.0 36.4 11.6 21   21.86 104.6 19.88 f-b_ball\n",
       "4 1   185.0 74.9 57.18 4.11 5.3 37.3 12.6 69   21.88 126.4 23.66 f-b_ball\n",
       "5 1   184.6 64.6 53.20 4.45 6.8 41.5 14.0 29   18.96  80.3 17.64 f-b_ball\n",
       "6 1   174.0 63.7 53.77 4.10 4.4 37.4 12.5 42   21.04  75.2 15.58 f-b_ball\n",
       "  Sport \n",
       "1 b_ball\n",
       "2 b_ball\n",
       "3 b_ball\n",
       "4 b_ball\n",
       "5 b_ball\n",
       "6 b_ball"
      ]
     },
     "metadata": {},
     "output_type": "display_data"
    },
    {
     "name": "stdout",
     "output_type": "stream",
     "text": [
      "The response variable is binary - 1 = Female and 0 = Male\n",
      "\n",
      "The minimum sample size needed to meet assumptions is 60.6 while the actual sample size is 202\n",
      "\n",
      "Boxplots show there is at least 1 outlier for each explanatory variable and this should be noted"
     ]
    },
    {
     "name": "stderr",
     "output_type": "stream",
     "text": [
      "`geom_smooth()` using formula 'y ~ x'\n",
      "\n"
     ]
    },
    {
     "data": {
      "image/png": "[encoded data removed]",
      "text/plain": [
       "Plot with title \"BMI\""
      ]
     },
     "metadata": {
      "image/png": {
       "height": 720,
       "width": 720
      }
     },
     "output_type": "display_data"
    },
    {
     "name": "stderr",
     "output_type": "stream",
     "text": [
      "`geom_smooth()` using formula 'y ~ x'\n",
      "\n"
     ]
    },
    {
     "data": {
      "image/png": "[encoded data removed]",
      "text/plain": [
       "plot without title"
      ]
     },
     "metadata": {
      "image/png": {
       "height": 360,
       "width": 360
      }
     },
     "output_type": "display_data"
    },
    {
     "name": "stderr",
     "output_type": "stream",
     "text": [
      "`geom_smooth()` using formula 'y ~ x'\n",
      "\n"
     ]
    },
    {
     "data": {
      "image/png": "[encoded data removed]",
      "text/plain": [
       "plot without title"
      ]
     },
     "metadata": {
      "image/png": {
       "height": 360,
       "width": 360
      }
     },
     "output_type": "display_data"
    },
    {
     "name": "stdout",
     "output_type": "stream",
     "text": [
      "There is no severe correlation between predictor variables with the largest R^2 being 0.09"
     ]
    },
    {
     "data": {
      "image/png": "[encoded data removed]",
      "text/plain": [
       "plot without title"
      ]
     },
     "metadata": {
      "image/png": {
       "height": 360,
       "width": 360
      }
     },
     "output_type": "display_data"
    }
   ],
   "source": [
    "library(ggpubr)\n",
    "athletes = read.table(\"ais.txt\",header = TRUE)\n",
    "head(athletes)\n",
    "# check assumptions\n",
    "# The response variable is binary\n",
    "cat(sprintf(\"The response variable is binary - 1 = Female and 0 = Male\"))\n",
    "# check sample size is large enough\n",
    "smallest_freq = 100/202\n",
    "num_expl = 3\n",
    "min_samp = (10*num_expl)/smallest_freq\n",
    "cat(sprintf(\"\\n\\nThe minimum sample size needed to meet assumptions is %.1f while the actual sample size is 202\",min_samp))\n",
    "# check for outliers \n",
    "options(repr.plot.width = 12, repr.plot.height = 12)\n",
    "par(mfrow = c(1,3))\n",
    "boxplot(athletes$RCC,main = \"RCC\")\n",
    "boxplot(athletes$WCC,main = \"WCC\")\n",
    "boxplot(athletes$BMI,main = \"BMI\")\n",
    "cat(sprintf(\"\\n\\nBoxplots show there is at least 1 outlier for each explanatory variable and this should be noted\"))\n",
    "# There should not be severe collinearity among explanatory variables\n",
    "options(repr.plot.width = 6, repr.plot.height = 6)\n",
    "ggscatter(athletes, x = \"RCC\", y = \"WCC\",add = \"reg.line\",conf.int = TRUE, cor.coef = TRUE, cor.method = \"pearson\",\n",
    "          main = \"RCC vs WCC\", xlab = \"RCC\", ylab = \"WCC\")\n",
    "ggscatter(athletes, x = \"RCC\", y = \"BMI\",add = \"reg.line\",conf.int = TRUE, cor.coef = TRUE, cor.method = \"pearson\",\n",
    "          main = \"RCC vs BMI\", xlab = \"RCC\", ylab = \"BMI\")\n",
    "ggscatter(athletes, x = \"BMI\", y = \"WCC\",add = \"reg.line\",conf.int = TRUE, cor.coef = TRUE, cor.method = \"pearson\",\n",
    "          main = \"BMI vs WCC\", xlab = \"BMI\", ylab = \"WCC\")\n",
    "cat(sprintf(\"There is no severe correlation between predictor variables with the largest R^2 being 0.09\"))"
   ]
  },
  {
   "cell_type": "markdown",
   "metadata": {},
   "source": []
  },
  {
   "cell_type": "code",
   "execution_count": 89,
   "metadata": {},
   "outputs": [
    {
     "data": {
      "text/plain": [
       "\n",
       "Call:\n",
       "glm(formula = Sex ~ RCC + WCC + BMI, family = \"binomial\", data = athletes)\n",
       "\n",
       "Deviance Residuals: \n",
       "     Min        1Q    Median        3Q       Max  \n",
       "-2.56012  -0.52459  -0.02467   0.52242   2.67643  \n",
       "\n",
       "Coefficients:\n",
       "            Estimate Std. Error z value Pr(>|z|)    \n",
       "(Intercept) 29.29399    3.92411   7.465 8.32e-14 ***\n",
       "RCC         -5.34706    0.72118  -7.414 1.22e-13 ***\n",
       "WCC          0.15505    0.12190   1.272  0.20338    \n",
       "BMI         -0.22911    0.08723  -2.626  0.00863 ** \n",
       "---\n",
       "Signif. codes:  0 '***' 0.001 '**' 0.01 '*' 0.05 '.' 0.1 ' ' 1\n",
       "\n",
       "(Dispersion parameter for binomial family taken to be 1)\n",
       "\n",
       "    Null deviance: 280.01  on 201  degrees of freedom\n",
       "Residual deviance: 147.01  on 198  degrees of freedom\n",
       "AIC: 155.01\n",
       "\n",
       "Number of Fisher Scoring iterations: 5\n"
      ]
     },
     "metadata": {},
     "output_type": "display_data"
    },
    {
     "data": {
      "text/plain": [
       "    true\n",
       "pred  0  1\n",
       "   0 87 16\n",
       "   1 15 84"
      ]
     },
     "metadata": {},
     "output_type": "display_data"
    },
    {
     "data": {
      "text/html": [
       "171"
      ],
      "text/latex": [
       "171"
      ],
      "text/markdown": [
       "171"
      ],
      "text/plain": [
       "[1] 171"
      ]
     },
     "metadata": {},
     "output_type": "display_data"
    },
    {
     "data": {
      "text/html": [
       "84.6534653465346"
      ],
      "text/latex": [
       "84.6534653465346"
      ],
      "text/markdown": [
       "84.6534653465346"
      ],
      "text/plain": [
       "[1] 84.65347"
      ]
     },
     "metadata": {},
     "output_type": "display_data"
    }
   ],
   "source": [
    "# Developing the logistic regression model \n",
    "logistic_model_gender = glm(Sex ~ RCC+WCC+BMI,family = \"binomial\",data = athletes)\n",
    "summary(logistic_model_gender)\n",
    "gender_prob = predict(logistic_model_gender, newx = athletes,type = \"response\")\n",
    "gender_prediction = ifelse(gender_prob >= 0.5,1,0)\n",
    "model_table = table(pred = gender_prediction,true = athletes$Sex)\n",
    "model_table\n",
    "correct_predictions = model_table[1,1] + model_table[2,2]\n",
    "percent_correct = (correct_predictions/202)*100\n",
    "correct_predictions\n",
    "percent_correct"
   ]
  },
  {
   "cell_type": "markdown",
   "metadata": {},
   "source": [
    "### $3$. If scores are normally distributed with a mean of 42 and a standard deviation of 8, what percent of the scores is: \n",
    "\n",
    "(a) greater than 25? \n",
    "\n",
    "(b) smaller than 31? \n",
    "\n",
    "(c) between 25 and 31?"
   ]
  },
  {
   "cell_type": "code",
   "execution_count": 94,
   "metadata": {},
   "outputs": [
    {
     "name": "stdout",
     "output_type": "stream",
     "text": [
      "Given a normal distribution with mean 42 and standard deviation 8:\n",
      "\n",
      "a) percentage of scores greater than 25 = 98.32 percent\n",
      "\n",
      "b) percentage of scores less than 31 = 8.46 percent\n",
      "\n",
      "c) percentage of scores between 25 and 31 = 6.78 percent"
     ]
    }
   ],
   "source": [
    "mean3 = 42\n",
    "std3 = 8\n",
    "# a) greater than 25\n",
    "pGreater25 = 1 - pnorm(25,mean3,std3)\n",
    "# b) less than 31\n",
    "pSmaller31 = pnorm(31,mean3,std3)\n",
    "# c) between 25 and 31\n",
    "pBetween25and31 = pGreater25+pSmaller31 - 1\n",
    "\n",
    "cat(sprintf(\"Given a normal distribution with mean 42 and standard deviation 8:\"))\n",
    "cat(sprintf(\"\\n\\na) percentage of scores greater than 25 = %.2f percent\",pGreater25*100))\n",
    "cat(sprintf(\"\\n\\nb) percentage of scores less than 31 = %.2f percent\",pSmaller31*100))\n",
    "cat(sprintf(\"\\n\\nc) percentage of scores between 25 and 31 = %.2f percent\",pBetween25and31*100))"
   ]
  },
  {
   "cell_type": "markdown",
   "metadata": {},
   "source": [
    "### $4$. From the following table:\n",
    "![title](table1.png)\n",
    "\n",
    "a. Apply the appropiate tests to evaluate the null hypothesis that there is no difference in the noise values means at different vehicle sizes. \n",
    "\n",
    "b. Examine all assumptions related to the test and make sure that the data follows all of those assumptions."
   ]
  },
  {
   "cell_type": "code",
   "execution_count": 10,
   "metadata": {},
   "outputs": [],
   "source": [
    "# Use ANOVA and then pairwise t-tests\n",
    "small = c(810,820,820,835,835,835)\n",
    "medium = c(840,840,840,845,855,850)\n",
    "large = c(785,790,785,760,760,770)"
   ]
  },
  {
   "cell_type": "markdown",
   "metadata": {},
   "source": [
    "### $5$. From the BABNEW.dta dataset use the appropiate statistical test to evaluate difference in birth weight (bweight)  as a function of gender (sex). \n",
    "\n",
    "Solve the exercise manually using the steps given in lecture and then confirm the results with the R function.\n"
   ]
  },
  {
   "cell_type": "code",
   "execution_count": 9,
   "metadata": {},
   "outputs": [
    {
     "data": {
      "text/html": [
       "<table class=\"dataframe\">\n",
       "<caption>A data.frame: 6 × 8</caption>\n",
       "<thead>\n",
       "\t<tr><th></th><th scope=col>id</th><th scope=col>matage</th><th scope=col>ht</th><th scope=col>gestwks</th><th scope=col>sex</th><th scope=col>bweight</th><th scope=col>matagegp</th><th scope=col>gestcat</th></tr>\n",
       "\t<tr><th></th><th scope=col>&lt;dbl&gt;</th><th scope=col>&lt;dbl&gt;</th><th scope=col>&lt;fct&gt;</th><th scope=col>&lt;dbl&gt;</th><th scope=col>&lt;fct&gt;</th><th scope=col>&lt;dbl&gt;</th><th scope=col>&lt;dbl&gt;</th><th scope=col>&lt;dbl&gt;</th></tr>\n",
       "</thead>\n",
       "<tbody>\n",
       "\t<tr><th scope=row>1</th><td>1</td><td>33</td><td>no</td><td>37.74</td><td>female</td><td>2410</td><td>2</td><td>2</td></tr>\n",
       "\t<tr><th scope=row>2</th><td>2</td><td>34</td><td>no</td><td>39.15</td><td>female</td><td>2977</td><td>2</td><td>2</td></tr>\n",
       "\t<tr><th scope=row>3</th><td>3</td><td>34</td><td>no</td><td>35.72</td><td>female</td><td>2100</td><td>2</td><td>1</td></tr>\n",
       "\t<tr><th scope=row>4</th><td>4</td><td>30</td><td>no</td><td>39.29</td><td>male  </td><td>3270</td><td>2</td><td>2</td></tr>\n",
       "\t<tr><th scope=row>5</th><td>5</td><td>35</td><td>no</td><td>38.38</td><td>female</td><td>2620</td><td>3</td><td>2</td></tr>\n",
       "\t<tr><th scope=row>6</th><td>6</td><td>37</td><td>no</td><td>37.86</td><td>male  </td><td>3260</td><td>3</td><td>2</td></tr>\n",
       "</tbody>\n",
       "</table>\n"
      ],
      "text/latex": [
       "A data.frame: 6 × 8\n",
       "\\begin{tabular}{r|llllllll}\n",
       "  & id & matage & ht & gestwks & sex & bweight & matagegp & gestcat\\\\\n",
       "  & <dbl> & <dbl> & <fct> & <dbl> & <fct> & <dbl> & <dbl> & <dbl>\\\\\n",
       "\\hline\n",
       "\t1 & 1 & 33 & no & 37.74 & female & 2410 & 2 & 2\\\\\n",
       "\t2 & 2 & 34 & no & 39.15 & female & 2977 & 2 & 2\\\\\n",
       "\t3 & 3 & 34 & no & 35.72 & female & 2100 & 2 & 1\\\\\n",
       "\t4 & 4 & 30 & no & 39.29 & male   & 3270 & 2 & 2\\\\\n",
       "\t5 & 5 & 35 & no & 38.38 & female & 2620 & 3 & 2\\\\\n",
       "\t6 & 6 & 37 & no & 37.86 & male   & 3260 & 3 & 2\\\\\n",
       "\\end{tabular}\n"
      ],
      "text/markdown": [
       "\n",
       "A data.frame: 6 × 8\n",
       "\n",
       "| <!--/--> | id &lt;dbl&gt; | matage &lt;dbl&gt; | ht &lt;fct&gt; | gestwks &lt;dbl&gt; | sex &lt;fct&gt; | bweight &lt;dbl&gt; | matagegp &lt;dbl&gt; | gestcat &lt;dbl&gt; |\n",
       "|---|---|---|---|---|---|---|---|---|\n",
       "| 1 | 1 | 33 | no | 37.74 | female | 2410 | 2 | 2 |\n",
       "| 2 | 2 | 34 | no | 39.15 | female | 2977 | 2 | 2 |\n",
       "| 3 | 3 | 34 | no | 35.72 | female | 2100 | 2 | 1 |\n",
       "| 4 | 4 | 30 | no | 39.29 | male   | 3270 | 2 | 2 |\n",
       "| 5 | 5 | 35 | no | 38.38 | female | 2620 | 3 | 2 |\n",
       "| 6 | 6 | 37 | no | 37.86 | male   | 3260 | 3 | 2 |\n",
       "\n"
      ],
      "text/plain": [
       "  id matage ht gestwks sex    bweight matagegp gestcat\n",
       "1 1  33     no 37.74   female 2410    2        2      \n",
       "2 2  34     no 39.15   female 2977    2        2      \n",
       "3 3  34     no 35.72   female 2100    2        1      \n",
       "4 4  30     no 39.29   male   3270    2        2      \n",
       "5 5  35     no 38.38   female 2620    3        2      \n",
       "6 6  37     no 37.86   male   3260    3        2      "
      ]
     },
     "metadata": {},
     "output_type": "display_data"
    }
   ],
   "source": [
    "library(foreign)\n",
    "library(tidyverse)\n",
    "library(dplyr)\n",
    "babnew <- read.dta(\"./BABNEW.dta\", convert.factors = T)\n",
    "library(magrittr)\n",
    "head(babnew)\n"
   ]
  },
  {
   "cell_type": "markdown",
   "metadata": {},
   "source": [
    "### $6$. The following data reports the calorie content of beef hot dogs. Here are the numbers of calories of a random sample of 20 different hot dogs:\n",
    "\n",
    "186, 181, 176, 149, 184, 190, 158, 139, 175, 148, 152, 111, 141, 153, 190, 157, 131, 149, 135, 132.\n",
    "\n",
    "Assume that these numbers are the observed values from a random sample of twenty independent normal random variables with mean μ and variance σ2, both unknown. Find the 90% confidence intervals for the mean number of calories μ."
   ]
  },
  {
   "cell_type": "markdown",
   "metadata": {},
   "source": [
    "$(\\bar{x} - t_{n-1,1_{-\\alpha/2}}s/\\sqrt{n},\\bar{x} + t_{n-1,1_{-\\alpha/2}}s/\\sqrt{n}) $"
   ]
  },
  {
   "cell_type": "code",
   "execution_count": 12,
   "metadata": {},
   "outputs": [],
   "source": [
    "rand_calories = c(186,181,176,149,184,190,158,139,175,148,152,111,141,153,190,157,131,149,135,132)\n",
    "df = 19\n",
    "t_score = \n",
    "x_bar = \n"
   ]
  },
  {
   "cell_type": "markdown",
   "metadata": {},
   "source": [
    "### $7$. Which type of predictor variables can be included in a General Linear Model\n",
    "\n",
    "a. Logistic\n",
    "\n",
    "b. Normal\n",
    "\n",
    "c. Categorical\n",
    "\n",
    "d. continuous\n",
    "\n",
    "e. Mixed\n"
   ]
  },
  {
   "cell_type": "markdown",
   "metadata": {},
   "source": [
    "It depends on the specific type of General Linear Model "
   ]
  },
  {
   "cell_type": "markdown",
   "metadata": {},
   "source": [
    "### $8$. The file anscombe.txt contains 4 different datasets constructed by Anscombe in 1973. The x and y variables are matched to each dataset respectively (e.g. x1 corresponds to y1, etc). \n",
    "\n",
    "A. Produce a Simple linear regression for each dataset (a scatterplot might also help you to see the differences). \n",
    "\n",
    "B. Write the resulting linear function for each model. \n",
    "\n",
    "C. Generate residuals plots \n",
    "\n",
    "D. In a few sentences discuss each model and what might be the problem (if any) with that model and what can be done to fix it."
   ]
  },
  {
   "cell_type": "code",
   "execution_count": 44,
   "metadata": {
    "scrolled": false
   },
   "outputs": [
    {
     "data": {
      "text/html": [
       "<table class=\"dataframe\">\n",
       "<caption>A matrix: 2 × 4 of type dbl</caption>\n",
       "<thead>\n",
       "\t<tr><th></th><th scope=col>Estimate</th><th scope=col>Std. Error</th><th scope=col>t value</th><th scope=col>Pr(&gt;|t|)</th></tr>\n",
       "</thead>\n",
       "<tbody>\n",
       "\t<tr><th scope=row>(Intercept)</th><td>3.0000909</td><td>1.1247468</td><td>2.667348</td><td>0.025734051</td></tr>\n",
       "\t<tr><th scope=row>x1</th><td>0.5000909</td><td>0.1179055</td><td>4.241455</td><td>0.002169629</td></tr>\n",
       "</tbody>\n",
       "</table>\n"
      ],
      "text/latex": [
       "A matrix: 2 × 4 of type dbl\n",
       "\\begin{tabular}{r|llll}\n",
       "  & Estimate & Std. Error & t value & Pr(>\\textbar{}t\\textbar{})\\\\\n",
       "\\hline\n",
       "\t(Intercept) & 3.0000909 & 1.1247468 & 2.667348 & 0.025734051\\\\\n",
       "\tx1 & 0.5000909 & 0.1179055 & 4.241455 & 0.002169629\\\\\n",
       "\\end{tabular}\n"
      ],
      "text/markdown": [
       "\n",
       "A matrix: 2 × 4 of type dbl\n",
       "\n",
       "| <!--/--> | Estimate | Std. Error | t value | Pr(&gt;|t|) |\n",
       "|---|---|---|---|---|\n",
       "| (Intercept) | 3.0000909 | 1.1247468 | 2.667348 | 0.025734051 |\n",
       "| x1 | 0.5000909 | 0.1179055 | 4.241455 | 0.002169629 |\n",
       "\n"
      ],
      "text/plain": [
       "            Estimate  Std. Error t value  Pr(>|t|)   \n",
       "(Intercept) 3.0000909 1.1247468  2.667348 0.025734051\n",
       "x1          0.5000909 0.1179055  4.241455 0.002169629"
      ]
     },
     "metadata": {},
     "output_type": "display_data"
    },
    {
     "data": {
      "text/html": [
       "<table class=\"dataframe\">\n",
       "<caption>A matrix: 2 × 4 of type dbl</caption>\n",
       "<thead>\n",
       "\t<tr><th></th><th scope=col>Estimate</th><th scope=col>Std. Error</th><th scope=col>t value</th><th scope=col>Pr(&gt;|t|)</th></tr>\n",
       "</thead>\n",
       "<tbody>\n",
       "\t<tr><th scope=row>(Intercept)</th><td>3.000909</td><td>1.1253024</td><td>2.666758</td><td>0.025758941</td></tr>\n",
       "\t<tr><th scope=row>x2</th><td>0.500000</td><td>0.1179637</td><td>4.238590</td><td>0.002178816</td></tr>\n",
       "</tbody>\n",
       "</table>\n"
      ],
      "text/latex": [
       "A matrix: 2 × 4 of type dbl\n",
       "\\begin{tabular}{r|llll}\n",
       "  & Estimate & Std. Error & t value & Pr(>\\textbar{}t\\textbar{})\\\\\n",
       "\\hline\n",
       "\t(Intercept) & 3.000909 & 1.1253024 & 2.666758 & 0.025758941\\\\\n",
       "\tx2 & 0.500000 & 0.1179637 & 4.238590 & 0.002178816\\\\\n",
       "\\end{tabular}\n"
      ],
      "text/markdown": [
       "\n",
       "A matrix: 2 × 4 of type dbl\n",
       "\n",
       "| <!--/--> | Estimate | Std. Error | t value | Pr(&gt;|t|) |\n",
       "|---|---|---|---|---|\n",
       "| (Intercept) | 3.000909 | 1.1253024 | 2.666758 | 0.025758941 |\n",
       "| x2 | 0.500000 | 0.1179637 | 4.238590 | 0.002178816 |\n",
       "\n"
      ],
      "text/plain": [
       "            Estimate Std. Error t value  Pr(>|t|)   \n",
       "(Intercept) 3.000909 1.1253024  2.666758 0.025758941\n",
       "x2          0.500000 0.1179637  4.238590 0.002178816"
      ]
     },
     "metadata": {},
     "output_type": "display_data"
    },
    {
     "data": {
      "text/html": [
       "<table class=\"dataframe\">\n",
       "<caption>A matrix: 2 × 4 of type dbl</caption>\n",
       "<thead>\n",
       "\t<tr><th></th><th scope=col>Estimate</th><th scope=col>Std. Error</th><th scope=col>t value</th><th scope=col>Pr(&gt;|t|)</th></tr>\n",
       "</thead>\n",
       "<tbody>\n",
       "\t<tr><th scope=row>(Intercept)</th><td>3.0024545</td><td>1.1244812</td><td>2.670080</td><td>0.025619109</td></tr>\n",
       "\t<tr><th scope=row>x3</th><td>0.4997273</td><td>0.1178777</td><td>4.239372</td><td>0.002176305</td></tr>\n",
       "</tbody>\n",
       "</table>\n"
      ],
      "text/latex": [
       "A matrix: 2 × 4 of type dbl\n",
       "\\begin{tabular}{r|llll}\n",
       "  & Estimate & Std. Error & t value & Pr(>\\textbar{}t\\textbar{})\\\\\n",
       "\\hline\n",
       "\t(Intercept) & 3.0024545 & 1.1244812 & 2.670080 & 0.025619109\\\\\n",
       "\tx3 & 0.4997273 & 0.1178777 & 4.239372 & 0.002176305\\\\\n",
       "\\end{tabular}\n"
      ],
      "text/markdown": [
       "\n",
       "A matrix: 2 × 4 of type dbl\n",
       "\n",
       "| <!--/--> | Estimate | Std. Error | t value | Pr(&gt;|t|) |\n",
       "|---|---|---|---|---|\n",
       "| (Intercept) | 3.0024545 | 1.1244812 | 2.670080 | 0.025619109 |\n",
       "| x3 | 0.4997273 | 0.1178777 | 4.239372 | 0.002176305 |\n",
       "\n"
      ],
      "text/plain": [
       "            Estimate  Std. Error t value  Pr(>|t|)   \n",
       "(Intercept) 3.0024545 1.1244812  2.670080 0.025619109\n",
       "x3          0.4997273 0.1178777  4.239372 0.002176305"
      ]
     },
     "metadata": {},
     "output_type": "display_data"
    },
    {
     "data": {
      "text/html": [
       "<table class=\"dataframe\">\n",
       "<caption>A matrix: 2 × 4 of type dbl</caption>\n",
       "<thead>\n",
       "\t<tr><th></th><th scope=col>Estimate</th><th scope=col>Std. Error</th><th scope=col>t value</th><th scope=col>Pr(&gt;|t|)</th></tr>\n",
       "</thead>\n",
       "<tbody>\n",
       "\t<tr><th scope=row>(Intercept)</th><td>3.0017273</td><td>1.1239211</td><td>2.670763</td><td>0.025590425</td></tr>\n",
       "\t<tr><th scope=row>x4</th><td>0.4999091</td><td>0.1178189</td><td>4.243028</td><td>0.002164602</td></tr>\n",
       "</tbody>\n",
       "</table>\n"
      ],
      "text/latex": [
       "A matrix: 2 × 4 of type dbl\n",
       "\\begin{tabular}{r|llll}\n",
       "  & Estimate & Std. Error & t value & Pr(>\\textbar{}t\\textbar{})\\\\\n",
       "\\hline\n",
       "\t(Intercept) & 3.0017273 & 1.1239211 & 2.670763 & 0.025590425\\\\\n",
       "\tx4 & 0.4999091 & 0.1178189 & 4.243028 & 0.002164602\\\\\n",
       "\\end{tabular}\n"
      ],
      "text/markdown": [
       "\n",
       "A matrix: 2 × 4 of type dbl\n",
       "\n",
       "| <!--/--> | Estimate | Std. Error | t value | Pr(&gt;|t|) |\n",
       "|---|---|---|---|---|\n",
       "| (Intercept) | 3.0017273 | 1.1239211 | 2.670763 | 0.025590425 |\n",
       "| x4 | 0.4999091 | 0.1178189 | 4.243028 | 0.002164602 |\n",
       "\n"
      ],
      "text/plain": [
       "            Estimate  Std. Error t value  Pr(>|t|)   \n",
       "(Intercept) 3.0017273 1.1239211  2.670763 0.025590425\n",
       "x4          0.4999091 0.1178189  4.243028 0.002164602"
      ]
     },
     "metadata": {},
     "output_type": "display_data"
    },
    {
     "data": {
      "image/png": "[encoded data removed]",
      "text/plain": [
       "Plot with title \"Anscombe Set 4 with Linear Regression\""
      ]
     },
     "metadata": {
      "image/png": {
       "height": 720,
       "width": 720
      }
     },
     "output_type": "display_data"
    },
    {
     "data": {
      "image/png": "[encoded data removed]",
      "text/plain": [
       "Plot with title \"Anscombe Linear Regression Residual plot Set 4\""
      ]
     },
     "metadata": {
      "image/png": {
       "height": 720,
       "width": 720
      }
     },
     "output_type": "display_data"
    }
   ],
   "source": [
    "options(repr.plot.width = 12, repr.plot.height = 12)\n",
    "anscombe = read.table(\"anscombe.txt\",header = TRUE)\n",
    "\n",
    "lin1 = lm(y1 ~ x1, data = anscombe)\n",
    "lin2 = lm(y2 ~ x2, data = anscombe)\n",
    "lin3 = lm(y3 ~ x3, data = anscombe)\n",
    "lin4 = lm(y4 ~ x4, data = anscombe)\n",
    "summary(lin1)$coefficients\n",
    "summary(lin2)$coefficients\n",
    "summary(lin3)$coefficients\n",
    "summary(lin4)$coefficients\n",
    "\n",
    "f1 = anscombe$x1*summary(lin1)$coefficients[2,1] + summary(lin1)$coefficients[1,1]\n",
    "f2 = anscombe$x2*summary(lin2)$coefficients[2,1] + summary(lin2)$coefficients[1,1]\n",
    "f3 = anscombe$x3*summary(lin3)$coefficients[2,1] + summary(lin3)$coefficients[1,1]\n",
    "f4 = anscombe$x4*summary(lin4)$coefficients[2,1] + summary(lin4)$coefficients[1,1]\n",
    "\n",
    "par(mfrow=c(2,2))\n",
    "plot(anscombe$x1,anscombe$y1,cex = 10,pch = \".\",main = 'Anscombe Set 1 with Linear Regression')\n",
    "lines(anscombe$x1,f1,col = \"red\")\n",
    "plot(anscombe$x2,anscombe$y2,cex = 10,pch = \".\",main = 'Anscombe Set 2 with Linear Regression')\n",
    "lines(anscombe$x2,f2,col = \"red\")\n",
    "plot(anscombe$x3,anscombe$y3,cex = 10,pch = \".\",main = 'Anscombe Set 3 with Linear Regression')\n",
    "lines(anscombe$x3,f3,col = \"red\")\n",
    "plot(anscombe$x4,anscombe$y4,cex = 10,pch = \".\",main = 'Anscombe Set 4 with Linear Regression')\n",
    "lines(anscombe$x4,f4,col = \"red\")\n",
    "\n",
    "par(mfrow=c(2,2))\n",
    "res1 = resid(lin1)\n",
    "plot(anscombe$x1,res1,cex = 10,pch = \".\",main = 'Anscombe Linear Regression Residual plot Set 1')\n",
    "abline(0,0)\n",
    "res2 = resid(lin2)\n",
    "plot(anscombe$x2,res2,cex = 10,pch = \".\",main = 'Anscombe Linear Regression Residual plot Set 2')\n",
    "abline(0,0)\n",
    "res3 = resid(lin3)\n",
    "plot(anscombe$x3,res3,cex = 10,pch = \".\",main = 'Anscombe Linear Regression Residual plot Set 3')\n",
    "abline(0,0)\n",
    "res4 = resid(lin4)\n",
    "plot(anscombe$x4,res4,cex = 10,pch = \".\",main = 'Anscombe Linear Regression Residual plot Set 4')\n",
    "abline(0,0)"
   ]
  },
  {
   "cell_type": "markdown",
   "metadata": {},
   "source": [
    "The Anscombe datasets are distinct and of unrelated form but are designed to have the same linear regression function. "
   ]
  }
 ],
 "metadata": {
  "kernelspec": {
   "display_name": "R",
   "language": "R",
   "name": "ir"
  },
  "language_info": {
   "codemirror_mode": "r",
   "file_extension": ".r",
   "mimetype": "text/x-r-source",
   "name": "R",
   "pygments_lexer": "r",
   "version": "4.0.5"
  }
 },
 "nbformat": 4,
 "nbformat_minor": 2
}
