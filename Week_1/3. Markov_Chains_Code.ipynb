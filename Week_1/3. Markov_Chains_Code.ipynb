{
 "cells": [
  {
   "cell_type": "markdown",
   "metadata": {},
   "source": [
    "## Markov Chains"
   ]
  },
  {
   "cell_type": "markdown",
   "metadata": {},
   "source": [
    "## Definition\n",
    "\n",
    "Mathematical systems that hop from one state to another, this system is an stochastic process as it is based on conditional probabilities that change on a temporal matter\n",
    "\n",
    "Each set state is temporally fixed but it can change from one time to the next, moreover, the outcome of one trial could affect the outcome of the next trial.\n"
   ]
  },
  {
   "cell_type": "code",
   "execution_count": null,
   "metadata": {},
   "outputs": [],
   "source": [
    "physical exercise training method A is used only 5% of the time\n",
    "\n",
    "a person using method A will stay with this method 85% of the time\n",
    "\n",
    "a person not using method A will switch to method A about 65% time\n",
    "\n",
    "A = Method A\n",
    "A'= Method B'\n",
    "\n",
    "\n",
    "\n",
    "\n",
    "\n",
    "\n",
    "\n",
    "\n",
    "\n",
    "\n",
    "Transition Matrix\n",
    "\n",
    "\n",
    "P(A) = ?\n",
    "\n",
    "So = [0.05 0.95]\n",
    "\n",
    "\n",
    "\n",
    "\n",
    "\n",
    "\n",
    "\n",
    "\n",
    "\n",
    "\n",
    "\n",
    "\n",
    "\n",
    "\n",
    "s1 = [0.66 0.34]\n",
    "\n",
    "\n",
    "\n",
    "\n",
    "\n",
    "\n",
    "\n",
    "\n"
   ]
  },
  {
   "cell_type": "code",
   "execution_count": 1,
   "metadata": {},
   "outputs": [
    {
     "data": {
      "text/html": [
       "0.66"
      ],
      "text/latex": [
       "0.66"
      ],
      "text/markdown": [
       "0.66"
      ],
      "text/plain": [
       "[1] 0.66"
      ]
     },
     "metadata": {},
     "output_type": "display_data"
    }
   ],
   "source": [
    "(0.05*0.85)+(0.95*0.65)\n"
   ]
  },
  {
   "cell_type": "code",
   "execution_count": 2,
   "metadata": {},
   "outputs": [
    {
     "data": {
      "text/html": [
       "<table>\n",
       "<tbody>\n",
       "\t<tr><td>0.85</td><td>0.15</td></tr>\n",
       "\t<tr><td>0.65</td><td>0.35</td></tr>\n",
       "</tbody>\n",
       "</table>\n"
      ],
      "text/latex": [
       "\\begin{tabular}{ll}\n",
       "\t 0.85 & 0.15\\\\\n",
       "\t 0.65 & 0.35\\\\\n",
       "\\end{tabular}\n"
      ],
      "text/markdown": [
       "\n",
       "| 0.85 | 0.15 |\n",
       "| 0.65 | 0.35 |\n",
       "\n"
      ],
      "text/plain": [
       "     [,1] [,2]\n",
       "[1,] 0.85 0.15\n",
       "[2,] 0.65 0.35"
      ]
     },
     "metadata": {},
     "output_type": "display_data"
    }
   ],
   "source": [
    "tran = matrix(c(0.85,0.15,0.65,0.35),ncol = 2,nrow = 2, byrow = T)\n",
    "tran"
   ]
  },
  {
   "cell_type": "code",
   "execution_count": 11,
   "metadata": {},
   "outputs": [
    {
     "data": {
      "text/html": [
       "<table>\n",
       "<tbody>\n",
       "\t<tr><td>0.0425</td><td>0.0075</td></tr>\n",
       "\t<tr><td>0.6175</td><td>0.3325</td></tr>\n",
       "</tbody>\n",
       "</table>\n"
      ],
      "text/latex": [
       "\\begin{tabular}{ll}\n",
       "\t 0.0425 & 0.0075\\\\\n",
       "\t 0.6175 & 0.3325\\\\\n",
       "\\end{tabular}\n"
      ],
      "text/markdown": [
       "\n",
       "| 0.0425 | 0.0075 |\n",
       "| 0.6175 | 0.3325 |\n",
       "\n"
      ],
      "text/plain": [
       "     [,1]   [,2]  \n",
       "[1,] 0.0425 0.0075\n",
       "[2,] 0.6175 0.3325"
      ]
     },
     "metadata": {},
     "output_type": "display_data"
    },
    {
     "data": {
      "text/html": [
       "<ol class=list-inline>\n",
       "\t<li>0.81128</li>\n",
       "\t<li>0.18872</li>\n",
       "</ol>\n"
      ],
      "text/latex": [
       "\\begin{enumerate*}\n",
       "\\item 0.81128\n",
       "\\item 0.18872\n",
       "\\end{enumerate*}\n"
      ],
      "text/markdown": [
       "1. 0.81128\n",
       "2. 0.18872\n",
       "\n",
       "\n"
      ],
      "text/plain": [
       "[1] 0.81128 0.18872"
      ]
     },
     "metadata": {},
     "output_type": "display_data"
    },
    {
     "data": {
      "text/html": [
       "<ol class=list-inline>\n",
       "\t<li>0.812256</li>\n",
       "\t<li>0.187744</li>\n",
       "</ol>\n"
      ],
      "text/latex": [
       "\\begin{enumerate*}\n",
       "\\item 0.812256\n",
       "\\item 0.187744\n",
       "\\end{enumerate*}\n"
      ],
      "text/markdown": [
       "1. 0.812256\n",
       "2. 0.187744\n",
       "\n",
       "\n"
      ],
      "text/plain": [
       "[1] 0.812256 0.187744"
      ]
     },
     "metadata": {},
     "output_type": "display_data"
    },
    {
     "data": {
      "text/html": [
       "<ol class=list-inline>\n",
       "\t<li>0.8124512</li>\n",
       "\t<li>0.1875488</li>\n",
       "</ol>\n"
      ],
      "text/latex": [
       "\\begin{enumerate*}\n",
       "\\item 0.8124512\n",
       "\\item 0.1875488\n",
       "\\end{enumerate*}\n"
      ],
      "text/markdown": [
       "1. 0.8124512\n",
       "2. 0.1875488\n",
       "\n",
       "\n"
      ],
      "text/plain": [
       "[1] 0.8124512 0.1875488"
      ]
     },
     "metadata": {},
     "output_type": "display_data"
    },
    {
     "data": {
      "text/html": [
       "<ol class=list-inline>\n",
       "\t<li>0.81249024</li>\n",
       "\t<li>0.18750976</li>\n",
       "</ol>\n"
      ],
      "text/latex": [
       "\\begin{enumerate*}\n",
       "\\item 0.81249024\n",
       "\\item 0.18750976\n",
       "\\end{enumerate*}\n"
      ],
      "text/markdown": [
       "1. 0.81249024\n",
       "2. 0.18750976\n",
       "\n",
       "\n"
      ],
      "text/plain": [
       "[1] 0.8124902 0.1875098"
      ]
     },
     "metadata": {},
     "output_type": "display_data"
    }
   ],
   "source": [
    "s0 = c(0.05,0.95)\n",
    "s0 * tran\n",
    "s1 = colSums(s0 * tran)\n",
    "s2 = colSums(s1 * tran)\n",
    "s3 = colSums(s2 * tran)\n",
    "s4 = colSums(s3 * tran)\n",
    "s5 = colSums(s4 * tran)\n",
    "s6 = colSums(s5 * tran)\n",
    "s4\n",
    "s5\n",
    "s6\n",
    "s7  = colSums(s6 * tran)\n",
    "s7"
   ]
  },
  {
   "cell_type": "markdown",
   "metadata": {
    "collapsed": true
   },
   "source": [
    "### State space\n",
    "\n",
    "In markov chains you use multiple states of one or multiple variable, lets define the state space as S \n",
    "\n",
    "S = {s1, s2, s3}\n",
    "\n",
    "Examples of state spaces\n",
    "\n",
    "Wheather={rain, sunny, cloudy, storm, snow, etc...}\n",
    "\n",
    "mood={happy, sad, angry, etc...}\n",
    "\n",
    "nucleotide frequency = {a,g,c,t}\n",
    "\n",
    "page rank (Google) ={search categories....}"
   ]
  },
  {
   "cell_type": "markdown",
   "metadata": {},
   "source": [
    "### Transition\n",
    "\n",
    "The state space then moves from one event to the next, we define this as an *step*\n",
    "\n",
    "The chain will move from $s_i$ to $s_j$ with a probability $p_ij$, independently to which state the chain was before.\n",
    "\n",
    "This probability is called a *transition probability*\n",
    "\n",
    "We define an initial starting state as our start point from there the chain moves stochastically to the subsequent steps."
   ]
  },
  {
   "cell_type": "markdown",
   "metadata": {},
   "source": [
    "Example (taken from Introduction to Probability Grinstead and Snell):\n",
    "\n",
    "In the Land of Oz weather is very hard to predict. They never have two nice days in a row. If they have a nice day, they are just as likely to have snow as rain the next day. If they have snow or rain, they have an even chance of having the same the next day. If there is change from snow or rain, only half of the time is this a change to a nice day. \n",
    "\n",
    "Based on this information lets form a Markov chain: \n",
    "\n",
    "- a. lets define the state space\n",
    "    - S = {Rain, Nice, Snow} or\n",
    "    - S = {R, N, S}\n",
    "\n",
    "\n",
    "- b. Create a transition matrix using the transition probabilities\n",
    "\n",
    "    - From the above information we determine the transition probabilities. These are most conveniently represented in a square array as a **transition matrix**\n"
   ]
  },
  {
   "cell_type": "markdown",
   "metadata": {},
   "source": [
    "\n",
    "## Transition matrix\n",
    "\n",
    "\\begin{array}{cc}\n",
    "&&& R & N &  S \\\\\n",
    "\\end{array}\n",
    "\\begin{equation*}\n",
    "P  =  \\begin{array}{cc}\n",
    "R \\\\\n",
    "N \\\\\n",
    "S \\\\\n",
    "\\end{array}\n",
    "\\begin{pmatrix}\n",
    "\\frac{1}{2}       & \\frac{1}{4} & \\frac{1}{4}  \\\\\n",
    "\\frac{1}{2}       & 0 & \\frac{1}{2}   \\\\\n",
    "\\frac{1}{4}       & \\frac{1}{4} & \\frac{1}{2} \n",
    "\\end{pmatrix}\n",
    "\\end{equation*}\n",
    "\n",
    "The left side of the matrix represent the present (current) and the top represent the probability to the next steps: for example\n",
    "the first row shows the probabilities for different events following Rain\n"
   ]
  },
  {
   "cell_type": "markdown",
   "metadata": {},
   "source": [
    "### Initial state (probability vector):\n",
    "\n",
    "We can generate a vector of probabilities that represent the initial state $S_0$, for example if we want to state that today we are having a nice day, we can generate a vector in the form\n",
    "\n",
    "$S_0$ = [0,1,0] where\n",
    "\n",
    "${\\sum_{j\\in S} P_j = 1}$\n",
    "\n",
    "We can also represent our initial state the initial probabilities for today's weather, if we want to represent that there is a 50% for a nice day and equal changes of rain or snow we can represent our initial state as:\n",
    "\n",
    "$S_0$ = [0.25,0,50,0.25]\n"
   ]
  },
  {
   "cell_type": "markdown",
   "metadata": {},
   "source": [
    "### Chain prediction\n",
    "\n",
    "Once we have the initial state and our transition matrix, then we can ask the long term behavior for each state based on our initial probability vector.\n",
    "\n",
    "Let P be the transition matrix of a Markov chain, and let u be the probability vector which represents the starting distribution. Then the probability that the chain is in state $s_i$ after n steps is the ith entry in the vector\n",
    "\n",
    "Eq. 1                                         $(u)^n = uP^n$                  \n",
    "\n",
    "Example,\n",
    "\n",
    "From our previous example, lets use our initial state $S_0$ = [0.25,0,50,0.25]\n",
    "\n",
    "using our equation 1 we want to ask what are the distribution of probabilities after 3 days \n",
    "\n",
    "$uP^3 = [0.25,0.50,0.25] * \\begin{pmatrix}\n",
    "0.5       & 0.25 & 0.25  \\\\\n",
    "0.5       & 0 & 0.5   \\\\\n",
    "0.25       & 0.25 & 0.5 \n",
    "\\end{pmatrix}^3$\n",
    "\n",
    "$$ uP^3 = [0.40625,\t0.1875,\t0.40625] $$"
   ]
  },
  {
   "cell_type": "markdown",
   "metadata": {},
   "source": [
    "### There obviously packages for markov chains in R\n",
    "\n",
    "#### e.g. package markovchain [https://cran.r-project.org/web/packages/markovchain/vignettes/an_introduction_to_markovchain_package.pdf](https://cran.r-project.org/web/packages/markovchain/vignettes/an_introduction_to_markovchain_package.pdf)"
   ]
  },
  {
   "cell_type": "code",
   "execution_count": 18,
   "metadata": {},
   "outputs": [],
   "source": [
    "library(markovchain)\n",
    "\n",
    "#Lets define our states\n",
    "weatherStates <- c(\"Rain\", \"Nice\", \"Snow\")\n",
    "byRow <- TRUE\n",
    "\n",
    "##lets create the transitional matrix\n",
    "weatherMatrix <- matrix(data = c(0.5, 0.25, 0.25,\n",
    "                                 0.5, 0.0, 0.5,\n",
    "                                 0.25, 0.25, 0.5), byrow = byRow, nrow = 3,\n",
    "                        dimnames = list(weatherStates, weatherStates))\n",
    "\n",
    "##make the matrix a markovchain class\n",
    "mcWeather <- new(\"markovchain\", states = weatherStates, byrow = byRow,\n",
    "                 transitionMatrix = weatherMatrix, name = \"Weather\")\n",
    "\n",
    "##define the initial state\n",
    "initialState <- c(1, 0, 0)\n",
    "\n"
   ]
  },
  {
   "cell_type": "code",
   "execution_count": 13,
   "metadata": {},
   "outputs": [
    {
     "data": {
      "text/html": [
       "<table>\n",
       "<thead><tr><th></th><th scope=col>Rain</th><th scope=col>Nice</th><th scope=col>Snow</th></tr></thead>\n",
       "<tbody>\n",
       "\t<tr><th scope=row>Rain</th><td>0.50</td><td>0.25</td><td>0.25</td></tr>\n",
       "\t<tr><th scope=row>Nice</th><td>0.50</td><td>0.00</td><td>0.50</td></tr>\n",
       "\t<tr><th scope=row>Snow</th><td>0.25</td><td>0.25</td><td>0.50</td></tr>\n",
       "</tbody>\n",
       "</table>\n"
      ],
      "text/latex": [
       "\\begin{tabular}{r|lll}\n",
       "  & Rain & Nice & Snow\\\\\n",
       "\\hline\n",
       "\tRain & 0.50 & 0.25 & 0.25\\\\\n",
       "\tNice & 0.50 & 0.00 & 0.50\\\\\n",
       "\tSnow & 0.25 & 0.25 & 0.50\\\\\n",
       "\\end{tabular}\n"
      ],
      "text/markdown": [
       "\n",
       "| <!--/--> | Rain | Nice | Snow |\n",
       "|---|---|---|---|\n",
       "| Rain | 0.50 | 0.25 | 0.25 |\n",
       "| Nice | 0.50 | 0.00 | 0.50 |\n",
       "| Snow | 0.25 | 0.25 | 0.50 |\n",
       "\n"
      ],
      "text/plain": [
       "     Rain Nice Snow\n",
       "Rain 0.50 0.25 0.25\n",
       "Nice 0.50 0.00 0.50\n",
       "Snow 0.25 0.25 0.50"
      ]
     },
     "metadata": {},
     "output_type": "display_data"
    }
   ],
   "source": [
    "weatherMatrix"
   ]
  },
  {
   "cell_type": "code",
   "execution_count": 14,
   "metadata": {},
   "outputs": [
    {
     "data": {
      "text/plain": [
       "Weather \n",
       " A  3 - dimensional discrete Markov Chain defined by the following states: \n",
       " Rain, Nice, Snow \n",
       " The transition matrix  (by rows)  is defined as follows: \n",
       "     Rain Nice Snow\n",
       "Rain 0.50 0.25 0.25\n",
       "Nice 0.50 0.00 0.50\n",
       "Snow 0.25 0.25 0.50\n"
      ]
     },
     "metadata": {},
     "output_type": "display_data"
    }
   ],
   "source": [
    "mcWeather"
   ]
  },
  {
   "cell_type": "code",
   "execution_count": 15,
   "metadata": {},
   "outputs": [
    {
     "data": {
      "text/plain": [
       "Weather^3 \n",
       " A  3 - dimensional discrete Markov Chain defined by the following states: \n",
       " Rain, Nice, Snow \n",
       " The transition matrix  (by rows)  is defined as follows: \n",
       "         Rain     Nice     Snow\n",
       "Rain 0.406250 0.203125 0.390625\n",
       "Nice 0.406250 0.187500 0.406250\n",
       "Snow 0.390625 0.203125 0.406250\n"
      ]
     },
     "metadata": {},
     "output_type": "display_data"
    }
   ],
   "source": [
    "##State of probabilities after 3 days\n",
    "mcWeather ^3"
   ]
  },
  {
   "cell_type": "code",
   "execution_count": 23,
   "metadata": {},
   "outputs": [
    {
     "data": {
      "text/html": [
       "<table>\n",
       "<thead><tr><th scope=col>Rain</th><th scope=col>Nice</th><th scope=col>Snow</th></tr></thead>\n",
       "<tbody>\n",
       "\t<tr><td>0.4000015</td><td>0.2000008</td><td>0.3999977</td></tr>\n",
       "</tbody>\n",
       "</table>\n"
      ],
      "text/latex": [
       "\\begin{tabular}{lll}\n",
       " Rain & Nice & Snow\\\\\n",
       "\\hline\n",
       "\t 0.4000015 & 0.2000008 & 0.3999977\\\\\n",
       "\\end{tabular}\n"
      ],
      "text/markdown": [
       "\n",
       "| Rain | Nice | Snow |\n",
       "|---|---|---|\n",
       "| 0.4000015 | 0.2000008 | 0.3999977 |\n",
       "\n"
      ],
      "text/plain": [
       "     Rain      Nice      Snow     \n",
       "[1,] 0.4000015 0.2000008 0.3999977"
      ]
     },
     "metadata": {},
     "output_type": "display_data"
    }
   ],
   "source": [
    "after3Days <- initialState * (mcWeather^9)\n",
    "after3Days"
   ]
  },
  {
   "cell_type": "code",
   "execution_count": 17,
   "metadata": {},
   "outputs": [
    {
     "data": {
      "image/png": "[encoded data removed]",
      "text/plain": [
       "Plot with title “”"
      ]
     },
     "metadata": {},
     "output_type": "display_data"
    }
   ],
   "source": [
    "plot(mcWeather)"
   ]
  },
  {
   "cell_type": "code",
   "execution_count": null,
   "metadata": {},
   "outputs": [],
   "source": []
  },
  {
   "cell_type": "markdown",
   "metadata": {},
   "source": [
    "Multiple applications msm, mcmc, mcmcmc, hidden markov chains"
   ]
  },
  {
   "cell_type": "markdown",
   "metadata": {},
   "source": [
    "### Random Walks\n",
    "\n",
    "Drunkard's walk example\n",
    "\n",
    "Consider a completely drunk person who walks along a street. being drunk, he has no sense of direction. So he may move forwards with equal probability that he moves backwards.\n",
    "\n",
    "The person walks along a four-block stretch of Park Avenue. If he is at corner 1, 2, or 3, then he walks to the left or right with equal probability. He continues until he reaches corner 4, which is a bar, or corner 0, which is his home. If he reaches either home or the bar, he stays there.\n",
    "\n",
    "![title](drunkard’s_walk.png)"
   ]
  },
  {
   "cell_type": "markdown",
   "metadata": {},
   "source": [
    "![title](diagram.png)"
   ]
  },
  {
   "cell_type": "markdown",
   "metadata": {},
   "source": [
    "What is the Transition Matrix?\n",
    "\n",
    "$$P =\n",
    "\\begin{pmatrix}\n",
    "0 & 0 & 0 & 0 & 0  \\\\\n",
    "0 & 0 & 0 & 0 & 0  \\\\\n",
    "0 & 0 & 0 & 0 & 0  \\\\\n",
    "0 & 0 & 0 & 0 & 0  \\\\\n",
    "0 & 0 & 0 & 0 & 0  \n",
    "\\end{pmatrix}$$"
   ]
  },
  {
   "cell_type": "markdown",
   "metadata": {},
   "source": [
    "#### Lets create a function that allows us to simulate this random walk based on the conditional probabilities from the transition matrix"
   ]
  },
  {
   "cell_type": "code",
   "execution_count": 8,
   "metadata": {},
   "outputs": [],
   "source": [
    "P=matrix(0,5,5)\n",
    "P[1,] = c(1,0,0,0,0)\n",
    "P[2,] = c(0.5,0,0.5,0,0)\n",
    "P[3,] = c(0,0.5,0,0.5,0)\n",
    "P[4,] = c(0,0,0.5,0,0.5)\n",
    "P[5,] = c(0,0,0,0,1)\n",
    "#P\n",
    "\n",
    "markov = function(N,Po,P){\n",
    "    P0 = c(0.0005,0.4,0.199,0.4,0.0005)\n",
    "    P = P*P0\n",
    "    X=matrix(0,1,N)\n",
    "    a = 3\n",
    "    X[1] = a\n",
    "    for (i in 2:N){\n",
    "        a=sample(c(1:5),1,replace=T,P[a,])\n",
    "        X[i]=a\n",
    "    }\n",
    "    b = as.vector(X)\n",
    "    return(b)\n",
    "}"
   ]
  },
  {
   "cell_type": "code",
   "execution_count": 13,
   "metadata": {},
   "outputs": [
    {
     "data": {
      "text/html": [
       "<ol class=list-inline>\n",
       "\t<li>3</li>\n",
       "\t<li>4</li>\n",
       "\t<li>5</li>\n",
       "\t<li>5</li>\n",
       "\t<li>5</li>\n",
       "\t<li>5</li>\n",
       "\t<li>5</li>\n",
       "\t<li>5</li>\n",
       "\t<li>5</li>\n",
       "\t<li>5</li>\n",
       "</ol>\n"
      ],
      "text/latex": [
       "\\begin{enumerate*}\n",
       "\\item 3\n",
       "\\item 4\n",
       "\\item 5\n",
       "\\item 5\n",
       "\\item 5\n",
       "\\item 5\n",
       "\\item 5\n",
       "\\item 5\n",
       "\\item 5\n",
       "\\item 5\n",
       "\\end{enumerate*}\n"
      ],
      "text/markdown": [
       "1. 3\n",
       "2. 4\n",
       "3. 5\n",
       "4. 5\n",
       "5. 5\n",
       "6. 5\n",
       "7. 5\n",
       "8. 5\n",
       "9. 5\n",
       "10. 5\n",
       "\n",
       "\n"
      ],
      "text/plain": [
       " [1] 3 4 5 5 5 5 5 5 5 5"
      ]
     },
     "metadata": {},
     "output_type": "display_data"
    }
   ],
   "source": [
    "P0 = c(0.0005,0.4,0.199,0.4,0.0005)\n",
    "markov(10,PO,P)"
   ]
  },
  {
   "cell_type": "code",
   "execution_count": 15,
   "metadata": {},
   "outputs": [
    {
     "data": {
      "image/png": "[encoded data removed]",
      "text/plain": [
       "plot without title"
      ]
     },
     "metadata": {},
     "output_type": "display_data"
    }
   ],
   "source": [
    "N =20\n",
    "plot(NA, xlim=c(0,20), ylim=c(0,5))#empty plot\n",
    "datas = matrix(ncol = 20, nrow = 100)\n",
    "for (i in 1:100){\n",
    "  datas[i,] = markov(N,P0,P)\n",
    "  condir = datas[i,]\n",
    "  col = (condir[10]==1 | condir[10]==5)\n",
    "  lines(condir, lwd=2,col = ifelse(col, \"coral\",\"forestgreen\"))\n",
    "}"
   ]
  },
  {
   "cell_type": "code",
   "execution_count": 17,
   "metadata": {},
   "outputs": [
    {
     "data": {
      "text/plain": [
       "datas\n",
       "  1   2   3   4   5 \n",
       "852 101 191  90 766 "
      ]
     },
     "metadata": {},
     "output_type": "display_data"
    }
   ],
   "source": [
    "table(datas)"
   ]
  },
  {
   "cell_type": "markdown",
   "metadata": {},
   "source": [
    "Exercise:\n",
    "\n",
    "Another simpler example of a random walk is a one-dimensional random walk. first we place a marker at zero (our initial state), we flip a coin, if it lands on heads, the marker is moved one unit to the right (1), if it lands on tails it is moved one unit to the left(-1).\n",
    "\n",
    "1. Generate a function that randomly draws from our initial state and populates a vector with the different transitions.\n",
    "2. Generate a plot that shows 500 independent one-dimensional walks, differentiating walks that end above 0 or below 0. "
   ]
  },
  {
   "cell_type": "code",
   "execution_count": null,
   "metadata": {},
   "outputs": [],
   "source": []
  }
 ],
 "metadata": {
  "kernelspec": {
   "display_name": "R",
   "language": "R",
   "name": "ir"
  },
  "language_info": {
   "codemirror_mode": "r",
   "file_extension": ".r",
   "mimetype": "text/x-r-source",
   "name": "R",
   "pygments_lexer": "r",
   "version": "3.5.1"
  }
 },
 "nbformat": 4,
 "nbformat_minor": 2
}
