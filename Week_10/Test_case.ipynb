{
 "cells": [
  {
   "cell_type": "markdown",
   "metadata": {},
   "source": [
    "# Test Case\n",
    "\n",
    "In order to understand a little better how to utilize unsupervised machine learning algorithms we will runa test case that comes from the final project presented by out TA Soyoung An and Yisurai Du for BMI 6018 Intro to Programming\n",
    "\n",
    "The project title is: \n",
    "### Relationship between amount of 911 calls and characteristics of townships in Montgomery County in Pennsylvania\n",
    "\n",
    "The main goal of the project is to try to understand the factors associated to 911 calls in the Montgomery Count in Pennsylvania.\n",
    "\n",
    "There are 4 predictors included:\n",
    "\n",
    "Levels of education (high - low)\n",
    "employment (yes - no)\n",
    "race (White - others)\n",
    "income (quantitative)\n",
    "\n",
    "The data that we will use is a set already collected and prepared. The data is also normalized by the population size for each township (total of 67 townships)"
   ]
  },
  {
   "cell_type": "code",
   "execution_count": 8,
   "metadata": {},
   "outputs": [],
   "source": [
    "# install.packages(\"tidyverse\")\n",
    "library(tidyverse)  # data manipulation\n",
    "library(cluster)    # clustering algorithms\n",
    "# install.packages(\"factoextra\")\n",
    "library(factoextra)\n",
    "library(dendextend)\n",
    "# install.packages(\"psych\")\n",
    "library(psych)\n",
    "\n"
   ]
  },
  {
   "cell_type": "code",
   "execution_count": 9,
   "metadata": {},
   "outputs": [
    {
     "data": {
      "text/html": [
       "<table class=\"dataframe\">\n",
       "<caption>A data.frame: 20 × 6</caption>\n",
       "<thead>\n",
       "\t<tr><th></th><th scope=col>twp</th><th scope=col>rate_high_edu</th><th scope=col>rate_call_911</th><th scope=col>rate_emp</th><th scope=col>rate_Race_w</th><th scope=col>income</th></tr>\n",
       "\t<tr><th></th><th scope=col>&lt;chr&gt;</th><th scope=col>&lt;dbl&gt;</th><th scope=col>&lt;dbl&gt;</th><th scope=col>&lt;dbl&gt;</th><th scope=col>&lt;dbl&gt;</th><th scope=col>&lt;dbl&gt;</th></tr>\n",
       "</thead>\n",
       "<tbody>\n",
       "\t<tr><th scope=row>0</th><td>NEW HANOVER     </td><td>0.3173947</td><td>0.08200756</td><td>0.5102400</td><td>0.9141250</td><td>31053.83</td></tr>\n",
       "\t<tr><th scope=row>1</th><td>HATFIELD        </td><td>0.3133383</td><td>0.13338322</td><td>0.5547176</td><td>0.7253468</td><td>28370.42</td></tr>\n",
       "\t<tr><th scope=row>2</th><td>NORRISTOWN      </td><td>0.1514128</td><td>0.20512671</td><td>0.4893679</td><td>0.3495485</td><td>16071.42</td></tr>\n",
       "\t<tr><th scope=row>3</th><td>LOWER POTTSGROVE</td><td>0.2815189</td><td>0.16429517</td><td>0.5020682</td><td>0.8520847</td><td>29904.47</td></tr>\n",
       "\t<tr><th scope=row>4</th><td>LANSDALE        </td><td>0.2783019</td><td>0.12987013</td><td>0.5162950</td><td>0.7228620</td><td>23601.85</td></tr>\n",
       "\t<tr><th scope=row>5</th><td>HORSHAM         </td><td>0.3520987</td><td>0.13312257</td><td>0.5294431</td><td>0.8570123</td><td>31351.98</td></tr>\n",
       "\t<tr><th scope=row>6</th><td>SKIPPACK        </td><td>0.3136637</td><td>0.07189917</td><td>0.3723861</td><td>0.7590948</td><td>29089.80</td></tr>\n",
       "\t<tr><th scope=row>7</th><td>LOWER SALFORD   </td><td>0.3520530</td><td>0.10682119</td><td>0.5274172</td><td>0.8874172</td><td>33902.91</td></tr>\n",
       "\t<tr><th scope=row>8</th><td>PLYMOUTH        </td><td>0.3418974</td><td>0.22905735</td><td>0.4994874</td><td>0.7840299</td><td>30087.95</td></tr>\n",
       "\t<tr><th scope=row>9</th><td>MONTGOMERY      </td><td>0.4301247</td><td>0.12756382</td><td>0.5535864</td><td>0.7407702</td><td>36612.06</td></tr>\n",
       "\t<tr><th scope=row>10</th><td>UPPER MORELAND  </td><td>0.3047951</td><td>0.17151983</td><td>0.5185001</td><td>0.8296001</td><td>26513.47</td></tr>\n",
       "\t<tr><th scope=row>11</th><td>CHELTENHAM      </td><td>0.4070667</td><td>0.15123884</td><td>0.5183316</td><td>0.5291867</td><td>29999.45</td></tr>\n",
       "\t<tr><th scope=row>12</th><td>UPPER MERION    </td><td>0.4425711</td><td>0.21938883</td><td>0.5514577</td><td>0.7024939</td><td>33985.33</td></tr>\n",
       "\t<tr><th scope=row>13</th><td>WHITEMARSH      </td><td>0.4655826</td><td>0.17484486</td><td>0.5137899</td><td>0.8791083</td><td>42089.19</td></tr>\n",
       "\t<tr><th scope=row>14</th><td>UPPER GWYNEDD   </td><td>0.4521134</td><td>0.10726599</td><td>0.5058741</td><td>0.8108798</td><td>36044.73</td></tr>\n",
       "\t<tr><th scope=row>15</th><td>LOWER PROVIDENCE</td><td>0.3457372</td><td>0.15261423</td><td>0.4631810</td><td>0.7732768</td><td>29974.24</td></tr>\n",
       "\t<tr><th scope=row>16</th><td>UPPER DUBLIN    </td><td>0.4671274</td><td>0.12573833</td><td>0.5095935</td><td>0.8107169</td><td>38801.74</td></tr>\n",
       "\t<tr><th scope=row>17</th><td>WHITPAIN        </td><td>0.4642650</td><td>0.13303839</td><td>0.5189867</td><td>0.8005477</td><td>44827.28</td></tr>\n",
       "\t<tr><th scope=row>18</th><td>DELAWARE        </td><td>0.2822583</td><td>0.12991043</td><td>0.4751943</td><td>0.7038593</td><td>23426.97</td></tr>\n",
       "\t<tr><th scope=row>19</th><td>FRANCONIA       </td><td>0.3075692</td><td>0.12485708</td><td>0.5020962</td><td>0.9451940</td><td>30670.28</td></tr>\n",
       "</tbody>\n",
       "</table>\n"
      ],
      "text/latex": [
       "A data.frame: 20 × 6\n",
       "\\begin{tabular}{r|llllll}\n",
       "  & twp & rate\\_high\\_edu & rate\\_call\\_911 & rate\\_emp & rate\\_Race\\_w & income\\\\\n",
       "  & <chr> & <dbl> & <dbl> & <dbl> & <dbl> & <dbl>\\\\\n",
       "\\hline\n",
       "\t0 & NEW HANOVER      & 0.3173947 & 0.08200756 & 0.5102400 & 0.9141250 & 31053.83\\\\\n",
       "\t1 & HATFIELD         & 0.3133383 & 0.13338322 & 0.5547176 & 0.7253468 & 28370.42\\\\\n",
       "\t2 & NORRISTOWN       & 0.1514128 & 0.20512671 & 0.4893679 & 0.3495485 & 16071.42\\\\\n",
       "\t3 & LOWER POTTSGROVE & 0.2815189 & 0.16429517 & 0.5020682 & 0.8520847 & 29904.47\\\\\n",
       "\t4 & LANSDALE         & 0.2783019 & 0.12987013 & 0.5162950 & 0.7228620 & 23601.85\\\\\n",
       "\t5 & HORSHAM          & 0.3520987 & 0.13312257 & 0.5294431 & 0.8570123 & 31351.98\\\\\n",
       "\t6 & SKIPPACK         & 0.3136637 & 0.07189917 & 0.3723861 & 0.7590948 & 29089.80\\\\\n",
       "\t7 & LOWER SALFORD    & 0.3520530 & 0.10682119 & 0.5274172 & 0.8874172 & 33902.91\\\\\n",
       "\t8 & PLYMOUTH         & 0.3418974 & 0.22905735 & 0.4994874 & 0.7840299 & 30087.95\\\\\n",
       "\t9 & MONTGOMERY       & 0.4301247 & 0.12756382 & 0.5535864 & 0.7407702 & 36612.06\\\\\n",
       "\t10 & UPPER MORELAND   & 0.3047951 & 0.17151983 & 0.5185001 & 0.8296001 & 26513.47\\\\\n",
       "\t11 & CHELTENHAM       & 0.4070667 & 0.15123884 & 0.5183316 & 0.5291867 & 29999.45\\\\\n",
       "\t12 & UPPER MERION     & 0.4425711 & 0.21938883 & 0.5514577 & 0.7024939 & 33985.33\\\\\n",
       "\t13 & WHITEMARSH       & 0.4655826 & 0.17484486 & 0.5137899 & 0.8791083 & 42089.19\\\\\n",
       "\t14 & UPPER GWYNEDD    & 0.4521134 & 0.10726599 & 0.5058741 & 0.8108798 & 36044.73\\\\\n",
       "\t15 & LOWER PROVIDENCE & 0.3457372 & 0.15261423 & 0.4631810 & 0.7732768 & 29974.24\\\\\n",
       "\t16 & UPPER DUBLIN     & 0.4671274 & 0.12573833 & 0.5095935 & 0.8107169 & 38801.74\\\\\n",
       "\t17 & WHITPAIN         & 0.4642650 & 0.13303839 & 0.5189867 & 0.8005477 & 44827.28\\\\\n",
       "\t18 & DELAWARE         & 0.2822583 & 0.12991043 & 0.4751943 & 0.7038593 & 23426.97\\\\\n",
       "\t19 & FRANCONIA        & 0.3075692 & 0.12485708 & 0.5020962 & 0.9451940 & 30670.28\\\\\n",
       "\\end{tabular}\n"
      ],
      "text/markdown": [
       "\n",
       "A data.frame: 20 × 6\n",
       "\n",
       "| <!--/--> | twp &lt;chr&gt; | rate_high_edu &lt;dbl&gt; | rate_call_911 &lt;dbl&gt; | rate_emp &lt;dbl&gt; | rate_Race_w &lt;dbl&gt; | income &lt;dbl&gt; |\n",
       "|---|---|---|---|---|---|---|\n",
       "| 0 | NEW HANOVER      | 0.3173947 | 0.08200756 | 0.5102400 | 0.9141250 | 31053.83 |\n",
       "| 1 | HATFIELD         | 0.3133383 | 0.13338322 | 0.5547176 | 0.7253468 | 28370.42 |\n",
       "| 2 | NORRISTOWN       | 0.1514128 | 0.20512671 | 0.4893679 | 0.3495485 | 16071.42 |\n",
       "| 3 | LOWER POTTSGROVE | 0.2815189 | 0.16429517 | 0.5020682 | 0.8520847 | 29904.47 |\n",
       "| 4 | LANSDALE         | 0.2783019 | 0.12987013 | 0.5162950 | 0.7228620 | 23601.85 |\n",
       "| 5 | HORSHAM          | 0.3520987 | 0.13312257 | 0.5294431 | 0.8570123 | 31351.98 |\n",
       "| 6 | SKIPPACK         | 0.3136637 | 0.07189917 | 0.3723861 | 0.7590948 | 29089.80 |\n",
       "| 7 | LOWER SALFORD    | 0.3520530 | 0.10682119 | 0.5274172 | 0.8874172 | 33902.91 |\n",
       "| 8 | PLYMOUTH         | 0.3418974 | 0.22905735 | 0.4994874 | 0.7840299 | 30087.95 |\n",
       "| 9 | MONTGOMERY       | 0.4301247 | 0.12756382 | 0.5535864 | 0.7407702 | 36612.06 |\n",
       "| 10 | UPPER MORELAND   | 0.3047951 | 0.17151983 | 0.5185001 | 0.8296001 | 26513.47 |\n",
       "| 11 | CHELTENHAM       | 0.4070667 | 0.15123884 | 0.5183316 | 0.5291867 | 29999.45 |\n",
       "| 12 | UPPER MERION     | 0.4425711 | 0.21938883 | 0.5514577 | 0.7024939 | 33985.33 |\n",
       "| 13 | WHITEMARSH       | 0.4655826 | 0.17484486 | 0.5137899 | 0.8791083 | 42089.19 |\n",
       "| 14 | UPPER GWYNEDD    | 0.4521134 | 0.10726599 | 0.5058741 | 0.8108798 | 36044.73 |\n",
       "| 15 | LOWER PROVIDENCE | 0.3457372 | 0.15261423 | 0.4631810 | 0.7732768 | 29974.24 |\n",
       "| 16 | UPPER DUBLIN     | 0.4671274 | 0.12573833 | 0.5095935 | 0.8107169 | 38801.74 |\n",
       "| 17 | WHITPAIN         | 0.4642650 | 0.13303839 | 0.5189867 | 0.8005477 | 44827.28 |\n",
       "| 18 | DELAWARE         | 0.2822583 | 0.12991043 | 0.4751943 | 0.7038593 | 23426.97 |\n",
       "| 19 | FRANCONIA        | 0.3075692 | 0.12485708 | 0.5020962 | 0.9451940 | 30670.28 |\n",
       "\n"
      ],
      "text/plain": [
       "   twp              rate_high_edu rate_call_911 rate_emp  rate_Race_w income  \n",
       "0  NEW HANOVER      0.3173947     0.08200756    0.5102400 0.9141250   31053.83\n",
       "1  HATFIELD         0.3133383     0.13338322    0.5547176 0.7253468   28370.42\n",
       "2  NORRISTOWN       0.1514128     0.20512671    0.4893679 0.3495485   16071.42\n",
       "3  LOWER POTTSGROVE 0.2815189     0.16429517    0.5020682 0.8520847   29904.47\n",
       "4  LANSDALE         0.2783019     0.12987013    0.5162950 0.7228620   23601.85\n",
       "5  HORSHAM          0.3520987     0.13312257    0.5294431 0.8570123   31351.98\n",
       "6  SKIPPACK         0.3136637     0.07189917    0.3723861 0.7590948   29089.80\n",
       "7  LOWER SALFORD    0.3520530     0.10682119    0.5274172 0.8874172   33902.91\n",
       "8  PLYMOUTH         0.3418974     0.22905735    0.4994874 0.7840299   30087.95\n",
       "9  MONTGOMERY       0.4301247     0.12756382    0.5535864 0.7407702   36612.06\n",
       "10 UPPER MORELAND   0.3047951     0.17151983    0.5185001 0.8296001   26513.47\n",
       "11 CHELTENHAM       0.4070667     0.15123884    0.5183316 0.5291867   29999.45\n",
       "12 UPPER MERION     0.4425711     0.21938883    0.5514577 0.7024939   33985.33\n",
       "13 WHITEMARSH       0.4655826     0.17484486    0.5137899 0.8791083   42089.19\n",
       "14 UPPER GWYNEDD    0.4521134     0.10726599    0.5058741 0.8108798   36044.73\n",
       "15 LOWER PROVIDENCE 0.3457372     0.15261423    0.4631810 0.7732768   29974.24\n",
       "16 UPPER DUBLIN     0.4671274     0.12573833    0.5095935 0.8107169   38801.74\n",
       "17 WHITPAIN         0.4642650     0.13303839    0.5189867 0.8005477   44827.28\n",
       "18 DELAWARE         0.2822583     0.12991043    0.4751943 0.7038593   23426.97\n",
       "19 FRANCONIA        0.3075692     0.12485708    0.5020962 0.9451940   30670.28"
      ]
     },
     "metadata": {},
     "output_type": "display_data"
    },
    {
     "data": {
      "text/html": [
       "<table class=\"dataframe\">\n",
       "<caption>A data.frame: 0 × 6</caption>\n",
       "<thead>\n",
       "\t<tr><th scope=col>twp</th><th scope=col>rate_high_edu</th><th scope=col>rate_call_911</th><th scope=col>rate_emp</th><th scope=col>rate_Race_w</th><th scope=col>income</th></tr>\n",
       "\t<tr><th scope=col>&lt;chr&gt;</th><th scope=col>&lt;dbl&gt;</th><th scope=col>&lt;dbl&gt;</th><th scope=col>&lt;dbl&gt;</th><th scope=col>&lt;dbl&gt;</th><th scope=col>&lt;dbl&gt;</th></tr>\n",
       "</thead>\n",
       "<tbody>\n",
       "</tbody>\n",
       "</table>\n"
      ],
      "text/latex": [
       "A data.frame: 0 × 6\n",
       "\\begin{tabular}{llllll}\n",
       " twp & rate\\_high\\_edu & rate\\_call\\_911 & rate\\_emp & rate\\_Race\\_w & income\\\\\n",
       " <chr> & <dbl> & <dbl> & <dbl> & <dbl> & <dbl>\\\\\n",
       "\\hline\n",
       "\\end{tabular}\n"
      ],
      "text/markdown": [
       "\n",
       "A data.frame: 0 × 6\n",
       "\n",
       "| twp &lt;chr&gt; | rate_high_edu &lt;dbl&gt; | rate_call_911 &lt;dbl&gt; | rate_emp &lt;dbl&gt; | rate_Race_w &lt;dbl&gt; | income &lt;dbl&gt; |\n",
       "|---|---|---|---|---|---|\n",
       "\n"
      ],
      "text/plain": [
       "     twp rate_high_edu rate_call_911 rate_emp rate_Race_w income"
      ]
     },
     "metadata": {},
     "output_type": "display_data"
    },
    {
     "data": {
      "text/html": [
       "<table class=\"dataframe\">\n",
       "<caption>A data.frame: 0 × 6</caption>\n",
       "<thead>\n",
       "\t<tr><th scope=col>twp</th><th scope=col>rate_high_edu</th><th scope=col>rate_call_911</th><th scope=col>rate_emp</th><th scope=col>rate_Race_w</th><th scope=col>income</th></tr>\n",
       "\t<tr><th scope=col>&lt;chr&gt;</th><th scope=col>&lt;dbl&gt;</th><th scope=col>&lt;dbl&gt;</th><th scope=col>&lt;dbl&gt;</th><th scope=col>&lt;dbl&gt;</th><th scope=col>&lt;dbl&gt;</th></tr>\n",
       "</thead>\n",
       "<tbody>\n",
       "</tbody>\n",
       "</table>\n"
      ],
      "text/latex": [
       "A data.frame: 0 × 6\n",
       "\\begin{tabular}{llllll}\n",
       " twp & rate\\_high\\_edu & rate\\_call\\_911 & rate\\_emp & rate\\_Race\\_w & income\\\\\n",
       " <chr> & <dbl> & <dbl> & <dbl> & <dbl> & <dbl>\\\\\n",
       "\\hline\n",
       "\\end{tabular}\n"
      ],
      "text/markdown": [
       "\n",
       "A data.frame: 0 × 6\n",
       "\n",
       "| twp &lt;chr&gt; | rate_high_edu &lt;dbl&gt; | rate_call_911 &lt;dbl&gt; | rate_emp &lt;dbl&gt; | rate_Race_w &lt;dbl&gt; | income &lt;dbl&gt; |\n",
       "|---|---|---|---|---|---|\n",
       "\n"
      ],
      "text/plain": [
       "     twp rate_high_edu rate_call_911 rate_emp rate_Race_w income"
      ]
     },
     "metadata": {},
     "output_type": "display_data"
    }
   ],
   "source": [
    "\n",
    "calls = read.csv(file = \"911calls.csv\", row.names = 1, header = T)\n",
    "\n",
    "head(calls,20)\n",
    "calls[rownames(calls)==\"NARBERTH\",]\n",
    "calls[rownames(calls)==\"PHILADELPHIA\",]"
   ]
  },
  {
   "cell_type": "markdown",
   "metadata": {},
   "source": [
    "## First, let's see how correlated are the variables among each other and specially with 911 calls"
   ]
  },
  {
   "cell_type": "code",
   "execution_count": 13,
   "metadata": {},
   "outputs": [
    {
     "data": {
      "image/png": "[encoded data removed]",
      "text/plain": [
       "plot without title"
      ]
     },
     "metadata": {
      "image/png": {
       "height": 420,
       "width": 420
      }
     },
     "output_type": "display_data"
    }
   ],
   "source": [
    "##These are two functions that give pair-wise correlation coefficients for every variable\n",
    "# round(cor(calls),4)\n",
    "pairs.panels(calls)"
   ]
  },
  {
   "cell_type": "markdown",
   "metadata": {},
   "source": [
    "## Note that rate_call_911 is not strongly associated to any variable."
   ]
  },
  {
   "cell_type": "code",
   "execution_count": 14,
   "metadata": {},
   "outputs": [
    {
     "ename": "ERROR",
     "evalue": "Error in colMeans(x, na.rm = TRUE): 'x' must be numeric\n",
     "output_type": "error",
     "traceback": [
      "Error in colMeans(x, na.rm = TRUE): 'x' must be numeric\nTraceback:\n",
      "1. scale(calls)",
      "2. scale.default(calls)",
      "3. colMeans(x, na.rm = TRUE)"
     ]
    }
   ],
   "source": [
    "scaled_df = scale(calls)\n",
    "distance_calls <- get_dist(scaled_df) #get_dist(): Computes a distance matrix between the rows of a data matrix.\n",
    "fviz_dist(distance_calls, gradient = list(low = \"#00AFBB\", mid = \"white\", high = \"#FC4E07\"))\n"
   ]
  },
  {
   "cell_type": "markdown",
   "metadata": {},
   "source": [
    "## There seems to be strong clustering around some of the counties, maybe we shoud subset based on some parameter, lets do a PCA and see the distribution across the principal components."
   ]
  },
  {
   "cell_type": "markdown",
   "metadata": {},
   "source": [
    "Let's start by examining the data using a PCA to see if we can use PCs in order to minimize the number of dimensions."
   ]
  },
  {
   "cell_type": "code",
   "execution_count": 15,
   "metadata": {},
   "outputs": [
    {
     "name": "stderr",
     "output_type": "stream",
     "text": [
      "Warning message in FUN(newX[, i], ...):\n",
      "\"NAs introduced by coercion\"\n"
     ]
    },
    {
     "data": {
      "text/html": [
       "<style>\n",
       ".dl-inline {width: auto; margin:0; padding: 0}\n",
       ".dl-inline>dt, .dl-inline>dd {float: none; width: auto; display: inline-block}\n",
       ".dl-inline>dt::after {content: \":\\0020\"; padding-right: .5ex}\n",
       ".dl-inline>dt:not(:first-of-type) {padding-left: .5ex}\n",
       "</style><dl class=dl-inline><dt>twp</dt><dd>&lt;NA&gt;</dd><dt>rate_high_edu</dt><dd>0.00947030889825298</dd><dt>rate_call_911</dt><dd>0.00666371936315436</dd><dt>rate_emp</dt><dd>0.002567471929867</dd><dt>rate_Race_w</dt><dd>0.0141898960399883</dd><dt>income</dt><dd>42471898.8629148</dd></dl>\n"
      ],
      "text/latex": [
       "\\begin{description*}\n",
       "\\item[twp] <NA>\n",
       "\\item[rate\\textbackslash{}\\_high\\textbackslash{}\\_edu] 0.00947030889825298\n",
       "\\item[rate\\textbackslash{}\\_call\\textbackslash{}\\_911] 0.00666371936315436\n",
       "\\item[rate\\textbackslash{}\\_emp] 0.002567471929867\n",
       "\\item[rate\\textbackslash{}\\_Race\\textbackslash{}\\_w] 0.0141898960399883\n",
       "\\item[income] 42471898.8629148\n",
       "\\end{description*}\n"
      ],
      "text/markdown": [
       "twp\n",
       ":   &lt;NA&gt;rate_high_edu\n",
       ":   0.00947030889825298rate_call_911\n",
       ":   0.00666371936315436rate_emp\n",
       ":   0.002567471929867rate_Race_w\n",
       ":   0.0141898960399883income\n",
       ":   42471898.8629148\n",
       "\n"
      ],
      "text/plain": [
       "          twp rate_high_edu rate_call_911      rate_emp   rate_Race_w \n",
       "           NA  9.470309e-03  6.663719e-03  2.567472e-03  1.418990e-02 \n",
       "       income \n",
       " 4.247190e+07 "
      ]
     },
     "metadata": {},
     "output_type": "display_data"
    },
    {
     "ename": "ERROR",
     "evalue": "Error in colMeans(x, na.rm = TRUE): 'x' must be numeric\n",
     "output_type": "error",
     "traceback": [
      "Error in colMeans(x, na.rm = TRUE): 'x' must be numeric\nTraceback:\n",
      "1. apply(calls, 2, scale)",
      "2. FUN(newX[, i], ...)",
      "3. scale.default(newX[, i], ...)",
      "4. colMeans(x, na.rm = TRUE)"
     ]
    }
   ],
   "source": [
    "####PCA###\n",
    "apply(calls, 2, var)\n",
    "scaled_df <- apply(calls, 2, scale)\n",
    "head(scaled_df)\n",
    "row.names(scaled_df) = row.names(calls)\n",
    "glimpse(scaled_df)"
   ]
  },
  {
   "cell_type": "code",
   "execution_count": 16,
   "metadata": {},
   "outputs": [
    {
     "ename": "ERROR",
     "evalue": "Error in is.data.frame(x): object 'scaled_df' not found\n",
     "output_type": "error",
     "traceback": [
      "Error in is.data.frame(x): object 'scaled_df' not found\nTraceback:\n",
      "1. cor(scaled_df)",
      "2. is.data.frame(x)"
     ]
    }
   ],
   "source": [
    "round(cor(scaled_df),4)\n",
    "pairs.panels(scaled_df)"
   ]
  },
  {
   "cell_type": "code",
   "execution_count": null,
   "metadata": {},
   "outputs": [],
   "source": [
    "##There is a clear outlier that is driving the distribution in the rate of employment variable\n",
    "##Should we eliminate this outlier??\n"
   ]
  },
  {
   "cell_type": "code",
   "execution_count": null,
   "metadata": {},
   "outputs": [],
   "source": [
    "arrests.cov <- cov(scaled_df)\n",
    "arrests.eigen <- eigen(arrests.cov)\n",
    "str(arrests.eigen)\n",
    "\n",
    "(phi <- arrests.eigen$vectors[,1:4])\n",
    "\n",
    "phi <- -phi\n",
    "row.names(phi) <- c(\"rate_high_edu\", \"rate_call_911\", \"rate_emp\", \"rate_Race_w\", \"income\")\n",
    "colnames(phi) <- c(\"PC1\", \"PC2\",\"PC3\",\"PC4\")\n",
    "phi\n",
    "\n",
    "PC1 <- as.matrix(scaled_df) %*% phi[,1]\n",
    "PC2 <- as.matrix(scaled_df) %*% phi[,2]\n",
    "PC3 <- as.matrix(scaled_df) %*% phi[,3]\n",
    "PC4 <- as.matrix(scaled_df) %*% phi[,4]\n",
    "\n",
    "# Create data frame with Principal Components scores\n",
    "PC <- data.frame(State = row.names(scaled_df), PC1, PC2, PC3, PC4)\n",
    "head(PC)\n",
    "\n",
    "ggplot(PC, aes(PC1, PC2)) + \n",
    "  modelr::geom_ref_line(h = 0) +\n",
    "  modelr::geom_ref_line(v = 0) +\n",
    "  geom_point() +\n",
    "  #geom_text(aes(label = State), size = 3) +\n",
    "  xlab(\"First Principal Component\") + \n",
    "  ylab(\"Second Principal Component\") + \n",
    "  ggtitle(\"First Two Principal Components of USArrests Data\")\n"
   ]
  },
  {
   "cell_type": "markdown",
   "metadata": {},
   "source": [
    "## If you look at the loadings, we see that PC1 is dominated by rate_high_edu and income"
   ]
  },
  {
   "cell_type": "code",
   "execution_count": null,
   "metadata": {},
   "outputs": [],
   "source": [
    "PVE <- arrests.eigen$values / sum(arrests.eigen$values)\n",
    "round(PVE, 2)"
   ]
  },
  {
   "cell_type": "markdown",
   "metadata": {},
   "source": [
    "## PC1 explains 41% of the variation and PC2 25% we only need these two"
   ]
  },
  {
   "cell_type": "code",
   "execution_count": null,
   "metadata": {},
   "outputs": [],
   "source": [
    "pca_result <- prcomp(scaled_df, scale = TRUE)\n",
    "names(pca_result)"
   ]
  },
  {
   "cell_type": "code",
   "execution_count": null,
   "metadata": {},
   "outputs": [],
   "source": [
    "pca_result$x <- - pca_result$x\n",
    "head(pca_result$x)\n",
    "\n",
    "biplot(pca_result, scale = 0, cex = 0.5)"
   ]
  },
  {
   "cell_type": "markdown",
   "metadata": {},
   "source": [
    "## Let's use the k-means technique to split the counties based on similarities across variables"
   ]
  },
  {
   "cell_type": "code",
   "execution_count": null,
   "metadata": {},
   "outputs": [],
   "source": [
    "###K-Means###\n",
    "\n",
    "k3 <- kmeans(scaled_df, centers = 4, nstart = 100)\n",
    "head(k3$cluster)\n",
    "PC$Kmeans = k3$cluster\n",
    "PC$Kmeans = as.factor(PC$Kmeans)\n",
    "clusters_one = PC[PC$Kmeans == 1,] \n",
    "clusters_two = PC[PC$Kmeans == 2,] \n",
    "clusters_three = PC[PC$Kmeans == 3,] \n",
    "#clusters_four = PC[PC$Kmeans == 4,] \n",
    "\n",
    "table(PC$Kmeans)\n"
   ]
  },
  {
   "cell_type": "markdown",
   "metadata": {},
   "source": [
    "## I split the data in 4 groups based on the overall variance of the dataset. The plot below is how the counties separate. Remember that PCA1 is highly driven by income and rate_high_education PC2 Is dominated by race and employment, so group 1 counties have lower income and more race diversity and group 4 have higher income and medium diversity, group 2 is the less diverse of medium income to low."
   ]
  },
  {
   "cell_type": "code",
   "execution_count": null,
   "metadata": {},
   "outputs": [],
   "source": [
    "ggplot(PC, aes(PC1, PC2,color = Kmeans)) + \n",
    "  modelr::geom_ref_line(h = 0) +\n",
    "  modelr::geom_ref_line(v = 0) +\n",
    "  geom_point() +\n",
    "  #geom_text(aes(label = State), size = 3) +\n",
    "  xlab(\"First Principal Component\") + \n",
    "  ylab(\"Second Principal Component\") + \n",
    "  ggtitle(\"First Two Principal Components of 911 call rates Montgomery County Pennsylvania\")"
   ]
  },
  {
   "cell_type": "markdown",
   "metadata": {},
   "source": [
    "## Because income is the highest loading in PCA with -0.6468989, let's split the data with this variable in three groups and see if our correlations improve"
   ]
  },
  {
   "cell_type": "code",
   "execution_count": null,
   "metadata": {},
   "outputs": [],
   "source": [
    "scaled_df_K = cbind(scaled_df,PC$Kmeans)\n",
    "scaled_df_K = as.data.frame(scaled_df_K)\n",
    "\n",
    "scaled_df_K[order(scaled_df_K$V6),]\n",
    "\n",
    "low = scaled_df_K[scaled_df_K$V6==1,]\n",
    "low = low[,1:5]\n",
    "round(cor(low),4)\n",
    "pairs.panels(low)\n"
   ]
  },
  {
   "cell_type": "markdown",
   "metadata": {},
   "source": [
    "# wow look at those correlations, there is a lot more power in this subset as income and rate_high_edu are highly correlated to rate_911_calls. Another important piece of information is the sign of the correlation. Income is negatively correlated which means that the higher the income the less number of 911 calls, similar to rate_high_edu."
   ]
  },
  {
   "cell_type": "code",
   "execution_count": null,
   "metadata": {},
   "outputs": [],
   "source": [
    "high = scaled_df_K[scaled_df_K$V6==3,]\n",
    "high = high[,1:5]\n",
    "round(cor(high),4)\n",
    "pairs.panels(high)"
   ]
  },
  {
   "cell_type": "markdown",
   "metadata": {},
   "source": [
    "# things look very different to our higher income counties, there is no really correlations across variables and the rates of 9_11 calls as expected as there is not a strong separationg of race and income in this group."
   ]
  },
  {
   "cell_type": "code",
   "execution_count": null,
   "metadata": {},
   "outputs": [],
   "source": [
    "mid = scaled_df_K[scaled_df_K$V6==4,]\n",
    "mid = mid[,1:5]\n",
    "round(cor(mid),4)\n",
    "pairs.panels(mid)"
   ]
  },
  {
   "cell_type": "markdown",
   "metadata": {},
   "source": [
    "# There even less correlations here, there might be some other components that could be driving this group that we havent been able to detect."
   ]
  },
  {
   "cell_type": "markdown",
   "metadata": {},
   "source": [
    "## Finally, let's compare the k-means approach to the hierarchichal clustering approach"
   ]
  },
  {
   "cell_type": "code",
   "execution_count": null,
   "metadata": {},
   "outputs": [],
   "source": [
    "##Hierarchical Clustering\n",
    "\n",
    "# Dissimilarity matrix\n",
    "d <- dist(scaled_df, method = \"euclidean\")\n",
    "\n",
    "# Hierarchical clustering using Complete Linkage\n",
    "hc1 <- hclust(d, method = \"complete\" )\n",
    "\n",
    "# Plot the obtained dendrogram\n",
    "plot(hc1, cex = 0.6, hang = -1)"
   ]
  },
  {
   "cell_type": "markdown",
   "metadata": {},
   "source": [
    "# We are using an euclidean distance and a complete linkage clustering algorith, we can see 3 or 4 clear clusters with some strong outliers."
   ]
  },
  {
   "cell_type": "code",
   "execution_count": null,
   "metadata": {},
   "outputs": [],
   "source": [
    "# methods to assess which is the best clustering method for this dataset\n",
    "m <- c( \"average\", \"single\", \"complete\", \"ward\")\n",
    "names(m) <- c( \"average\", \"single\", \"complete\", \"ward\")\n",
    "\n",
    "# function to compute coefficient\n",
    "ac <- function(x) {\n",
    "  agnes(scaled_df, method = x)$ac\n",
    "}\n",
    "\n",
    "map_dbl(m, ac)"
   ]
  },
  {
   "cell_type": "markdown",
   "metadata": {},
   "source": [
    "## The coefficients are very similar but it seems that the ward method might be better for this data. let's look"
   ]
  },
  {
   "cell_type": "code",
   "execution_count": null,
   "metadata": {},
   "outputs": [],
   "source": [
    "hc3 <- agnes(scaled_df, method = \"ward\")\n",
    "pltree(hc3, cex = 0.6, hang = -1, main = \"Dendrogram of agnes\") "
   ]
  },
  {
   "cell_type": "code",
   "execution_count": null,
   "metadata": {},
   "outputs": [],
   "source": [
    "pltree(hc3, cex = 0.6, hang = -1, main = \"Dendrogram of agnes\")\n",
    "rect.hclust(hc3, k = 5)"
   ]
  },
  {
   "cell_type": "markdown",
   "metadata": {},
   "source": [
    "# Three clear large clusters and two outliers that might be introducing noise to the data. You can cut the data with these groups and get the correlations plots and see if the signal improves."
   ]
  },
  {
   "cell_type": "markdown",
   "metadata": {},
   "source": [
    "### The plot below is a different representation of the clusters from k-means. "
   ]
  },
  {
   "cell_type": "code",
   "execution_count": null,
   "metadata": {},
   "outputs": [],
   "source": [
    "fviz_cluster(list(data = scaled_df_K, cluster = scaled_df_K$V6))"
   ]
  },
  {
   "cell_type": "code",
   "execution_count": null,
   "metadata": {},
   "outputs": [],
   "source": [
    "fviz_nbclust(scaled_df, FUN = hcut, method = \"wss\")"
   ]
  },
  {
   "cell_type": "code",
   "execution_count": null,
   "metadata": {},
   "outputs": [],
   "source": []
  }
 ],
 "metadata": {
  "kernelspec": {
   "display_name": "R",
   "language": "R",
   "name": "ir"
  },
  "language_info": {
   "codemirror_mode": "r",
   "file_extension": ".r",
   "mimetype": "text/x-r-source",
   "name": "R",
   "pygments_lexer": "r",
   "version": "4.0.5"
  }
 },
 "nbformat": 4,
 "nbformat_minor": 2
}
