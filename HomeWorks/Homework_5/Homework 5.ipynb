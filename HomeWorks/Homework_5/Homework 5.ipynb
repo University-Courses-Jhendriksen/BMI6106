{
 "cells": [
  {
   "cell_type": "markdown",
   "metadata": {},
   "source": [
    "### Homework 5 "
   ]
  },
  {
   "cell_type": "markdown",
   "metadata": {},
   "source": [
    "1. Logistic Regression\n",
    "\n",
    "From the diabates dataset seen on previous classes, fit a logistic regression model using the binary variable Outcome as the outcome variable and all of the other continuous variables as predictors.\n",
    "\n",
    "The idea is to find the model that best fit the data, and produce a list of optimal coefficients that will allow to predict outcomes from new data. For this you can use some or all of the resources seen in class, and other resources that can increase the resolution and accuracy of the model.\n",
    "\n",
    "lm functions in R (or Python sklearn.linear_model) <br>\n",
    "Cross-validation<br>\n",
    "k-fold cross-validation<br>\n",
    "Maximum likelihood estimation of coefficients <br>\n",
    "Gradient Descent optimization<br>\n",
    "Regularization<br>\n",
    "\n",
    "Other methods for optimization such: forward-backward model selection\n",
    "\n",
    "##### Examples..\n",
    "\n",
    "[https://eight2late.wordpress.com/2017/07/11/a-gentle-introduction-to-logistic-regression-and-lasso-regularisation-using-r/](https://eight2late.wordpress.com/2017/07/11/a-gentle-introduction-to-logistic-regression-and-lasso-regularisation-using-r/)\n",
    "\n",
    "[https://www.kaggle.com/c/titanic/discussion/13582#73042](https://www.kaggle.com/c/titanic/discussion/13582#73042)\n",
    "\n",
    "[https://www.r-bloggers.com/logistic-regression-regularized-with-optimization/](https://www.r-bloggers.com/logistic-regression-regularized-with-optimization/)\n",
    "\n",
    "[https://www.r-bloggers.com/predicting-creditability-using-logistic-regression-in-r-cross-validating-the-classifier-part-2-2/](https://www.r-bloggers.com/predicting-creditability-using-logistic-regression-in-r-cross-validating-the-classifier-part-2-2/)"
   ]
  },
  {
   "cell_type": "markdown",
   "metadata": {},
   "source": [
    "2. Regularization.\n",
    "\n",
    "Following the example given in class for the regularization procedures evaluate on each of the above simulations which is the most appropiate model (Ridge,Lasso,Elastic Net) using the appropiate variance measurements, produce the plots and write a small paragraph that explains the results. \n",
    "\n",
    "a.simulate new data, where the signal is strong but there is also lots of noise."
   ]
  },
  {
   "cell_type": "code",
   "execution_count": 4,
   "metadata": {},
   "outputs": [
    {
     "name": "stderr",
     "output_type": "stream",
     "text": [
      "Loading required package: Matrix\n",
      "\n",
      "Loaded glmnet 3.0-2\n",
      "\n",
      "\n"
     ]
    }
   ],
   "source": [
    "library(MASS)  # Package needed to generate correlated precictors\n",
    "library(glmnet)  # Package to fit ridge/lasso/elastic net models\n",
    "# Generate data\n",
    "set.seed(19874)\n",
    "n <- 1000    # Number of observations\n",
    "p <- 5000     # Number of predictors included in model\n",
    "real_p <- 1500  # Number of true predictors"
   ]
  },
  {
   "cell_type": "markdown",
   "metadata": {},
   "source": [
    "b. signal is variable but there is high correlation among the variables."
   ]
  },
  {
   "cell_type": "code",
   "execution_count": 5,
   "metadata": {},
   "outputs": [],
   "source": [
    "set.seed(19873)\n",
    "n <- 100    # Number of observations\n",
    "p <- 50     # Number of predictors included in model\n",
    "CovMatrix <- outer(1:p, 1:p, function(x,y) {.7^abs(x-y)}) ##Produce a covariate matrix with x and y as output and a 0.7 correlation\n",
    "\n",
    "x <- mvrnorm(n, rep(0,p), CovMatrix) ##Simulate from a multivariate normal distribution using the covariance matrix defined before\n",
    "y <- 10 * apply(x[, 1:2], 1, sum) + \n",
    "  5 * apply(x[, 3:4], 1, sum) +\n",
    "  apply(x[, 5:14], 1, sum) +\n",
    "  rnorm(n)"
   ]
  },
  {
   "cell_type": "code",
   "execution_count": null,
   "metadata": {},
   "outputs": [],
   "source": []
  }
 ],
 "metadata": {
  "kernelspec": {
   "display_name": "R",
   "language": "R",
   "name": "ir"
  },
  "language_info": {
   "codemirror_mode": "r",
   "file_extension": ".r",
   "mimetype": "text/x-r-source",
   "name": "R",
   "pygments_lexer": "r",
   "version": "3.6.0"
  }
 },
 "nbformat": 4,
 "nbformat_minor": 2
}
