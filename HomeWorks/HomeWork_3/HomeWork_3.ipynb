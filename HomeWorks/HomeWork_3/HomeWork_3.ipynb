{
 "cells": [
  {
   "cell_type": "markdown",
   "metadata": {},
   "source": [
    "# Homework 3\n",
    "### Discrete analysis and Naive Bayes\n",
    "### Dataset obtained from [https://archive.ics.uci.edu/ml/datasets/Chronic_Kidney_Disease](https://archive.ics.uci.edu/ml/datasets/Chronic_Kidney_Disease)"
   ]
  },
  {
   "cell_type": "markdown",
   "metadata": {},
   "source": [
    "### For this homework, we are going to use the kidney_disease dataset. This dataset contains information on 400 patients with and without Chronic Kidney Disease, there are 25 measurements of multiple  features possible importantly associated to the disease. This dataset contains missing data in various formats as well as typos (outliers?). Using this dataset please answer:"
   ]
  },
  {
   "cell_type": "markdown",
   "metadata": {},
   "source": [
    "### 1. Choose 5 features interactions (e.g. presence/absence of bacteria vs appetite good/poor) and calculate RR and OR for each set, and give a short but clear analysis of such Ratios. \n",
    "\n",
    "#### Ideally the interactions you choose will help you to understand a little bit about the relationships between selected features and aspects of the disease. "
   ]
  },
  {
   "cell_type": "code",
   "execution_count": null,
   "metadata": {},
   "outputs": [],
   "source": []
  },
  {
   "cell_type": "markdown",
   "metadata": {},
   "source": [
    "### 2a. Using only Continuous variables use Naive Bayes to evaluate the accuracy of the features selected on classifying an individual as having CKD or NoCKD, as well as the importance of each variable to the model.\n",
    "\n",
    "### 2b. Write a short paragraph of analysis of your results."
   ]
  },
  {
   "cell_type": "code",
   "execution_count": null,
   "metadata": {},
   "outputs": [],
   "source": []
  },
  {
   "cell_type": "markdown",
   "metadata": {},
   "source": [
    "### Remember that the data needs to be clean up, be aware of typos, missing data (in different formats) and outliers. Present figures that describe some of the steps you took to get the data ready for analysis."
   ]
  },
  {
   "cell_type": "code",
   "execution_count": null,
   "metadata": {},
   "outputs": [],
   "source": []
  }
 ],
 "metadata": {
  "kernelspec": {
   "display_name": "R",
   "language": "R",
   "name": "ir"
  },
  "language_info": {
   "codemirror_mode": "r",
   "file_extension": ".r",
   "mimetype": "text/x-r-source",
   "name": "R",
   "pygments_lexer": "r",
   "version": "3.6.0"
  }
 },
 "nbformat": 4,
 "nbformat_minor": 2
}
