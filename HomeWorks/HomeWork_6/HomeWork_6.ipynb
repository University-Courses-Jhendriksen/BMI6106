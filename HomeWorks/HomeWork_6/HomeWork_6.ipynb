{
 "cells": [
  {
   "cell_type": "markdown",
   "metadata": {},
   "source": [
    "# Homework 6 \n",
    "\n",
    "## Unsupervised Machine Learning Introduction (PCA, K-means, hierarchical clustering)"
   ]
  },
  {
   "cell_type": "markdown",
   "metadata": {},
   "source": [
    "In order to understand a little better how to utilize unsupervised machine learning algorithms we will runa test case that comes from a final project presented by Soyoung An and Yisurai Du for BMI 6018 Intro to Programming.\n",
    "\n",
    "The project title is:\n",
    "\n",
    "Relationship between amount of 911 calls and characteristics of townships in Montgomery County in Pennsylvania.\n",
    "\n",
    "\n",
    "The main goal of the project is to try to understand the factors associated to 911 calls in the Montgomery Count in Pennsylvania.\n",
    "\n",
    "There are 4 predictors included:\n",
    "\n",
    "Levels of education (high - low) employment (yes - no) race (White - others) income (quantitative)\n",
    "\n",
    "The data that we will use is a set already collected and prepared. The data is also normalized by the population size for each township (total of 67 townships)"
   ]
  },
  {
   "cell_type": "markdown",
   "metadata": {},
   "source": [
    "1. Evaluate the data, how correlated are the variables with the 911 calls? Are there outliers that need to be removed?\n",
    "\n",
    "2. perform and plot a PCA run using the full dataset and see the distribution of variables across the principal components (based on the percent of variation across components - scree plot)\n",
    "\n",
    "3. use the k-means technique to split the counties based on similarities across variables, how many clusters are ideal? (it should be between 3 and 4 - sometimes there is one cluster with just one county -- why?)\n",
    "\n",
    "4. using the kmean clusters, split the initial dataframe into the number of clusters (that should correlate to income) High-medium-Low and rerun the correlations to see if these have changed.\n",
    "\n",
    "5. What is the mean income by cluster?\n",
    "\n",
    "6. Create individual PCAs from the subset dataframes using the cluster splits and evaluate the loadings and the contribution of the variables across the principal components (biplot).\n",
    "\n",
    "Questions:\n",
    "\n",
    "a. Discuss the overal trends once the data is split by clusters, have the associations between variables changed at different income levels (clusters?)\n",
    "b. Are the variables behaving different and contributing in a different manner in the principal component space within the different PCAs."
   ]
  },
  {
   "cell_type": "code",
   "execution_count": null,
   "metadata": {},
   "outputs": [],
   "source": [
    "calls = read.csv(file = \"911calls.csv\", row.names = 1, header = T)\n",
    "head(calls,20)\n",
    "calls[rownames(calls)==\"NARBERTH\",]\n",
    "calls[rownames(calls)==\"PHILADELPHIA\",]"
   ]
  },
  {
   "cell_type": "code",
   "execution_count": null,
   "metadata": {},
   "outputs": [],
   "source": [
    "##Correlation Table"
   ]
  },
  {
   "cell_type": "code",
   "execution_count": null,
   "metadata": {},
   "outputs": [],
   "source": [
    "#PCA\n",
    "\n",
    "##Create biplot\n",
    "##Scree plot\n",
    "##Loadings table"
   ]
  },
  {
   "cell_type": "code",
   "execution_count": null,
   "metadata": {},
   "outputs": [],
   "source": [
    "##K-means\n",
    "##How manny clusters?\n",
    "##"
   ]
  },
  {
   "cell_type": "code",
   "execution_count": null,
   "metadata": {},
   "outputs": [],
   "source": [
    "##Correlation within each cluster"
   ]
  },
  {
   "cell_type": "code",
   "execution_count": null,
   "metadata": {},
   "outputs": [],
   "source": [
    "##PCA for each subset dataframe."
   ]
  }
 ],
 "metadata": {
  "kernelspec": {
   "display_name": "R",
   "language": "R",
   "name": "ir"
  },
  "language_info": {
   "codemirror_mode": "r",
   "file_extension": ".r",
   "mimetype": "text/x-r-source",
   "name": "R",
   "pygments_lexer": "r",
   "version": "3.6.0"
  }
 },
 "nbformat": 4,
 "nbformat_minor": 4
}
