{
 "cells": [
  {
   "cell_type": "markdown",
   "metadata": {},
   "source": [
    "### Homework 7 \n",
    "\n",
    "\n",
    "### 1 \n",
    "\n",
    "From the diabates dataset seen on class, fit a logistic regression model using the binary variable Outcome as the outcome variable and all of the other continuous variables as predictors.\n",
    "\n",
    "The idea is to find the model that best fit the data, and produce a list of optimal coefficients that will allow to predict outcomes from new data. For this you can use some or all of the resources seen in class, and other resources that can increase the resolution and accuracy of the model.\n",
    "\n",
    "lm functions in R (or Python sklearn.linear_model)\n",
    "Cross-validation\n",
    "k-fold cross-validation\n",
    "Maximum likelihood estimation of coefficients \n",
    "Gradient Descent optimization\n",
    "Regularization\n",
    "\n",
    "Other methods for optimization such: forward-backward model selection\n",
    "\n",
    "##### Examples..\n",
    "\n",
    "[https://eight2late.wordpress.com/2017/07/11/a-gentle-introduction-to-logistic-regression-and-lasso-regularisation-using-r/](https://eight2late.wordpress.com/2017/07/11/a-gentle-introduction-to-logistic-regression-and-lasso-regularisation-using-r/)\n",
    "\n",
    "[https://www.kaggle.com/c/titanic/discussion/13582#73042](https://www.kaggle.com/c/titanic/discussion/13582#73042)\n",
    "\n",
    "[https://www.r-bloggers.com/logistic-regression-regularized-with-optimization/](https://www.r-bloggers.com/logistic-regression-regularized-with-optimization/)\n",
    "\n",
    "[https://www.r-bloggers.com/predicting-creditability-using-logistic-regression-in-r-cross-validating-the-classifier-part-2-2/](https://www.r-bloggers.com/predicting-creditability-using-logistic-regression-in-r-cross-validating-the-classifier-part-2-2/)\n"
   ]
  },
  {
   "cell_type": "code",
   "execution_count": 79,
   "metadata": {
    "scrolled": false
   },
   "outputs": [
    {
     "data": {
      "text/html": [
       "<table class=\"dataframe\">\n",
       "<caption>A data.frame: 6 × 9</caption>\n",
       "<thead>\n",
       "\t<tr><th></th><th scope=col>Pregnancies</th><th scope=col>Glucose</th><th scope=col>BloodPressure</th><th scope=col>SkinThickness</th><th scope=col>Insulin</th><th scope=col>BMI</th><th scope=col>DiabetesPedigreeFunction</th><th scope=col>Age</th><th scope=col>Outcome</th></tr>\n",
       "\t<tr><th></th><th scope=col>&lt;int&gt;</th><th scope=col>&lt;int&gt;</th><th scope=col>&lt;int&gt;</th><th scope=col>&lt;int&gt;</th><th scope=col>&lt;int&gt;</th><th scope=col>&lt;dbl&gt;</th><th scope=col>&lt;dbl&gt;</th><th scope=col>&lt;int&gt;</th><th scope=col>&lt;fct&gt;</th></tr>\n",
       "</thead>\n",
       "<tbody>\n",
       "\t<tr><th scope=row>1</th><td>2</td><td>138</td><td>62</td><td>35</td><td>  0</td><td>33.6</td><td>0.127</td><td>47</td><td>1</td></tr>\n",
       "\t<tr><th scope=row>2</th><td>0</td><td> 84</td><td>82</td><td>31</td><td>125</td><td>38.2</td><td>0.233</td><td>23</td><td>0</td></tr>\n",
       "\t<tr><th scope=row>3</th><td>0</td><td>145</td><td> 0</td><td> 0</td><td>  0</td><td>44.2</td><td>0.630</td><td>31</td><td>1</td></tr>\n",
       "\t<tr><th scope=row>4</th><td>0</td><td>135</td><td>68</td><td>42</td><td>250</td><td>42.3</td><td>0.365</td><td>24</td><td>1</td></tr>\n",
       "\t<tr><th scope=row>5</th><td>1</td><td>139</td><td>62</td><td>41</td><td>480</td><td>40.7</td><td>0.536</td><td>21</td><td>0</td></tr>\n",
       "\t<tr><th scope=row>6</th><td>0</td><td>173</td><td>78</td><td>32</td><td>265</td><td>46.5</td><td>1.159</td><td>58</td><td>0</td></tr>\n",
       "</tbody>\n",
       "</table>\n"
      ],
      "text/latex": [
       "A data.frame: 6 × 9\n",
       "\\begin{tabular}{r|lllllllll}\n",
       "  & Pregnancies & Glucose & BloodPressure & SkinThickness & Insulin & BMI & DiabetesPedigreeFunction & Age & Outcome\\\\\n",
       "  & <int> & <int> & <int> & <int> & <int> & <dbl> & <dbl> & <int> & <fct>\\\\\n",
       "\\hline\n",
       "\t1 & 2 & 138 & 62 & 35 &   0 & 33.6 & 0.127 & 47 & 1\\\\\n",
       "\t2 & 0 &  84 & 82 & 31 & 125 & 38.2 & 0.233 & 23 & 0\\\\\n",
       "\t3 & 0 & 145 &  0 &  0 &   0 & 44.2 & 0.630 & 31 & 1\\\\\n",
       "\t4 & 0 & 135 & 68 & 42 & 250 & 42.3 & 0.365 & 24 & 1\\\\\n",
       "\t5 & 1 & 139 & 62 & 41 & 480 & 40.7 & 0.536 & 21 & 0\\\\\n",
       "\t6 & 0 & 173 & 78 & 32 & 265 & 46.5 & 1.159 & 58 & 0\\\\\n",
       "\\end{tabular}\n"
      ],
      "text/markdown": [
       "\n",
       "A data.frame: 6 × 9\n",
       "\n",
       "| <!--/--> | Pregnancies &lt;int&gt; | Glucose &lt;int&gt; | BloodPressure &lt;int&gt; | SkinThickness &lt;int&gt; | Insulin &lt;int&gt; | BMI &lt;dbl&gt; | DiabetesPedigreeFunction &lt;dbl&gt; | Age &lt;int&gt; | Outcome &lt;fct&gt; |\n",
       "|---|---|---|---|---|---|---|---|---|---|\n",
       "| 1 | 2 | 138 | 62 | 35 |   0 | 33.6 | 0.127 | 47 | 1 |\n",
       "| 2 | 0 |  84 | 82 | 31 | 125 | 38.2 | 0.233 | 23 | 0 |\n",
       "| 3 | 0 | 145 |  0 |  0 |   0 | 44.2 | 0.630 | 31 | 1 |\n",
       "| 4 | 0 | 135 | 68 | 42 | 250 | 42.3 | 0.365 | 24 | 1 |\n",
       "| 5 | 1 | 139 | 62 | 41 | 480 | 40.7 | 0.536 | 21 | 0 |\n",
       "| 6 | 0 | 173 | 78 | 32 | 265 | 46.5 | 1.159 | 58 | 0 |\n",
       "\n"
      ],
      "text/plain": [
       "  Pregnancies Glucose BloodPressure SkinThickness Insulin BMI \n",
       "1 2           138     62            35              0     33.6\n",
       "2 0            84     82            31            125     38.2\n",
       "3 0           145      0             0              0     44.2\n",
       "4 0           135     68            42            250     42.3\n",
       "5 1           139     62            41            480     40.7\n",
       "6 0           173     78            32            265     46.5\n",
       "  DiabetesPedigreeFunction Age Outcome\n",
       "1 0.127                    47  1      \n",
       "2 0.233                    23  0      \n",
       "3 0.630                    31  1      \n",
       "4 0.365                    24  1      \n",
       "5 0.536                    21  0      \n",
       "6 1.159                    58  0      "
      ]
     },
     "metadata": {},
     "output_type": "display_data"
    },
    {
     "name": "stdout",
     "output_type": "stream",
     "text": [
      "\n",
      "\n",
      "Summary of Logistic Regression on the Diabetes Dataset\n"
     ]
    },
    {
     "data": {
      "text/plain": [
       "Coefficients:\n",
       "                           Estimate Std. Error z value Pr(>|z|)    \n",
       "(Intercept)              -8.0711863  0.4515556 -17.874  < 2e-16 ***\n",
       "Pregnancies               0.1163576  0.0207922   5.596 2.19e-08 ***\n",
       "Glucose                   0.0332591  0.0023506  14.149  < 2e-16 ***\n",
       "BloodPressure            -0.0099059  0.0033849  -2.927  0.00343 ** \n",
       "SkinThickness             0.0012812  0.0044836   0.286  0.77507    \n",
       "Insulin                  -0.0016407  0.0006167  -2.660  0.00781 ** \n",
       "BMI                       0.0799562  0.0094115   8.496  < 2e-16 ***\n",
       "DiabetesPedigreeFunction  0.9679045  0.1949361   4.965 6.86e-07 ***\n",
       "Age                       0.0157123  0.0059401   2.645  0.00817 ** \n",
       "\n",
       "(Dispersion parameter for binomial family taken to be 1)\n",
       "\n",
       "    Null deviance: 2330.5  on 1803  degrees of freedom\n",
       "Residual deviance: 1735.7  on 1795  degrees of freedom\n",
       "AIC: 1753.7\n",
       "\n",
       "Number of Fisher Scoring iterations: 5"
      ]
     },
     "metadata": {},
     "output_type": "display_data"
    },
    {
     "name": "stdout",
     "output_type": "stream",
     "text": [
      "\n",
      "\n",
      "Summary of Logistic Regression on the Diabetes Dataset after Ridge Regularization\n"
     ]
    },
    {
     "data": {
      "text/plain": [
       "10 x 1 sparse Matrix of class \"dgCMatrix\"\n",
       "                                     1\n",
       "(Intercept)              -5.5252023544\n",
       "(Intercept)               .           \n",
       "Pregnancies               0.0732942808\n",
       "Glucose                   0.0198032014\n",
       "BloodPressure            -0.0031391771\n",
       "SkinThickness             0.0010076464\n",
       "Insulin                  -0.0001811072\n",
       "BMI                       0.0463991453\n",
       "DiabetesPedigreeFunction  0.5873863660\n",
       "Age                       0.0165586578"
      ]
     },
     "metadata": {},
     "output_type": "display_data"
    },
    {
     "name": "stdout",
     "output_type": "stream",
     "text": [
      "\n",
      "\n",
      "Summary of Logistic Regression on the Diabetes Dataset after Elastic Net Regularization\n"
     ]
    },
    {
     "data": {
      "text/plain": [
       "10 x 1 sparse Matrix of class \"dgCMatrix\"\n",
       "                                     1\n",
       "(Intercept)              -6.7747747855\n",
       "(Intercept)               .           \n",
       "Pregnancies               0.0884677946\n",
       "Glucose                   0.0268950655\n",
       "BloodPressure            -0.0028758668\n",
       "SkinThickness             .           \n",
       "Insulin                  -0.0003592811\n",
       "BMI                       0.0583700424\n",
       "DiabetesPedigreeFunction  0.6305998258\n",
       "Age                       0.0134668622"
      ]
     },
     "metadata": {},
     "output_type": "display_data"
    },
    {
     "name": "stdout",
     "output_type": "stream",
     "text": [
      "\n",
      "\n",
      "Summary of Logistic Regression on the Diabetes Dataset after LASSO Regularization\n"
     ]
    },
    {
     "data": {
      "text/plain": [
       "10 x 1 sparse Matrix of class \"dgCMatrix\"\n",
       "                                    1\n",
       "(Intercept)              -6.525344072\n",
       "(Intercept)               .          \n",
       "Pregnancies               0.081299112\n",
       "Glucose                   0.026715873\n",
       "BloodPressure             .          \n",
       "SkinThickness             .          \n",
       "Insulin                   .          \n",
       "BMI                       0.051448690\n",
       "DiabetesPedigreeFunction  0.465857948\n",
       "Age                       0.009905564"
      ]
     },
     "metadata": {},
     "output_type": "display_data"
    },
    {
     "name": "stdout",
     "output_type": "stream",
     "text": [
      "\n",
      "\n",
      "Summary of Model Evaluations - non-regularized"
     ]
    },
    {
     "data": {
      "text/plain": [
       "    true\n",
       "pred   0   1\n",
       "   0 122  22\n",
       "   1  17  35"
      ]
     },
     "metadata": {},
     "output_type": "display_data"
    },
    {
     "name": "stdout",
     "output_type": "stream",
     "text": [
      "Total Number Correct Predictions: 157\n",
      " Percent Accuracy: 80.10\n",
      " Model AICc: 1753.8\n",
      "\n",
      "\n",
      "\n",
      "Summary of Model Evaluations - Ridge-regularized"
     ]
    },
    {
     "data": {
      "text/plain": [
       "    true\n",
       "pred   0   1\n",
       "   0 130  28\n",
       "   1   9  29"
      ]
     },
     "metadata": {},
     "output_type": "display_data"
    },
    {
     "name": "stdout",
     "output_type": "stream",
     "text": [
      "Total Number Correct Predictions: 159\n",
      " Percent Accuracy: 81.12\n",
      " Model AICc: -514.6\n",
      "\n",
      "\n",
      "\n",
      "Summary of Model Evaluations - Elastic Net-regularized"
     ]
    },
    {
     "data": {
      "text/plain": [
       "    true\n",
       "pred   0   1\n",
       "   0 125  24\n",
       "   1  14  33"
      ]
     },
     "metadata": {},
     "output_type": "display_data"
    },
    {
     "name": "stdout",
     "output_type": "stream",
     "text": [
      "Total Number Correct Predictions: 158\n",
      " Percent Accuracy: 80.61\n",
      " Model AICc: -557.9\n",
      "\n",
      "\n",
      "\n",
      "Summary of Model Evaluations - Lasso-regularized"
     ]
    },
    {
     "data": {
      "text/plain": [
       "    true\n",
       "pred   0   1\n",
       "   0 126  23\n",
       "   1  13  34"
      ]
     },
     "metadata": {},
     "output_type": "display_data"
    },
    {
     "name": "stdout",
     "output_type": "stream",
     "text": [
      "Total Number Correct Predictions: 160\n",
      " Percent Accuracy: 81.63\n",
      " Model AICc: -545.2\n",
      "\n",
      "\n",
      "\n",
      "Repeated K-fold Cross Validation - All variables"
     ]
    },
    {
     "data": {
      "text/plain": [
       "Generalized Linear Model \n",
       "\n",
       "2000 samples\n",
       "   8 predictor\n",
       "   2 classes: '0', '1' \n",
       "\n",
       "No pre-processing\n",
       "Resampling: Cross-Validated (10 fold, repeated 9 times) \n",
       "Summary of sample sizes: 1800, 1801, 1800, 1800, 1800, 1799, ... \n",
       "Resampling results:\n",
       "\n",
       "  Accuracy   Kappa    \n",
       "  0.7782688  0.4776678\n"
      ]
     },
     "metadata": {},
     "output_type": "display_data"
    },
    {
     "name": "stdout",
     "output_type": "stream",
     "text": [
      "\n",
      "\n",
      "Repeated K-fold Cross Validation - Elastic Net based (smallest AICc) - Eliminate Skin Thickness"
     ]
    },
    {
     "data": {
      "text/plain": [
       "Generalized Linear Model \n",
       "\n",
       "2000 samples\n",
       "   7 predictor\n",
       "   2 classes: '0', '1' \n",
       "\n",
       "No pre-processing\n",
       "Resampling: Cross-Validated (10 fold, repeated 9 times) \n",
       "Summary of sample sizes: 1800, 1800, 1800, 1800, 1799, 1801, ... \n",
       "Resampling results:\n",
       "\n",
       "  Accuracy   Kappa    \n",
       "  0.7807214  0.4835052\n"
      ]
     },
     "metadata": {},
     "output_type": "display_data"
    },
    {
     "name": "stdout",
     "output_type": "stream",
     "text": [
      "\n",
      "\n",
      "Repeated K-fold Cross Validation - LASSO based (greatest original test accuracy) - Eliminate Skin Thickness, Insulin, and Blood Pressure"
     ]
    },
    {
     "data": {
      "text/plain": [
       "Generalized Linear Model \n",
       "\n",
       "2000 samples\n",
       "   5 predictor\n",
       "   2 classes: '0', '1' \n",
       "\n",
       "No pre-processing\n",
       "Resampling: Cross-Validated (10 fold, repeated 9 times) \n",
       "Summary of sample sizes: 1800, 1801, 1799, 1801, 1801, 1800, ... \n",
       "Resampling results:\n",
       "\n",
       "  Accuracy   Kappa   \n",
       "  0.7747283  0.469966\n"
      ]
     },
     "metadata": {},
     "output_type": "display_data"
    }
   ],
   "source": [
    "library(dplyr)\n",
    "library(ggplot2)\n",
    "library(mosaic)\n",
    "library(swirl)\n",
    "library(car)\n",
    "library(glmnet)\n",
    "library(caret)\n",
    "library(e1071)\n",
    "library(AICcmodavg)\n",
    "\n",
    "# initialize datasets\n",
    "diabetes <- read.csv(\"diabetes.csv\")\n",
    "diabetes$Outcome = as.factor(diabetes$Outcome)\n",
    "head(diabetes)\n",
    "set.seed(131313)\n",
    "train_split = rbinom(length(diabetes$Outcome),1,0.9)\n",
    "train_split = train_split == 1\n",
    "test_split = train_split == 0\n",
    "train_split = diabetes[train_split,]\n",
    "test_split = diabetes[test_split,]\n",
    "\n",
    "# creating model\n",
    "log_reg_diabetes = glm(Outcome ~ Pregnancies+Glucose+BloodPressure+SkinThickness+Insulin+BMI+DiabetesPedigreeFunction+Age,\n",
    "                      family = \"binomial\", data = train_split)\n",
    "cat(sprintf(\"\\n\\nSummary of Logistic Regression on the Diabetes Dataset\\n\"))\n",
    "msummary(log_reg_diabetes)\n",
    "\n",
    "# testing model\n",
    "predictions = predict(log_reg_diabetes, newdata = test_split,type = \"response\")\n",
    "predictions[predictions >= 0.5] = 1\n",
    "predictions[predictions < 0.5] = 0\n",
    "unreg_table = table(pred = predictions, true = test_split$Outcome)\n",
    "\n",
    "# regularization of model\n",
    "train_inputs = model.matrix(Outcome ~ Pregnancies+Glucose+BloodPressure+SkinThickness+Insulin+BMI+DiabetesPedigreeFunction+Age,\n",
    "                            train_split)\n",
    "test_inputs = model.matrix(Outcome ~ Pregnancies+Glucose+BloodPressure+SkinThickness+Insulin+BMI+DiabetesPedigreeFunction+Age,\n",
    "                            test_split)\n",
    "train_outputs = train_split$Outcome\n",
    "# optimizing lambda value for regularization with ridge, mix, or Lasso\n",
    "alphas = c(0,0.5,1)\n",
    "i = 1\n",
    "par(mfrow = c(1,3))\n",
    "cv.out = list()\n",
    "for(a in alphas){\n",
    "    cv.out[[i]] = cv.glmnet(train_inputs,train_outputs,alpha = a,family = \"binomial\",type.measure  = \"mse\")\n",
    "#     plot(cv.out[[i]])\n",
    "    i = i+1\n",
    "    }\n",
    "lambda_1se = cv.out[[1]]$lambda.1se\n",
    "lambda_2se = cv.out[[2]]$lambda.1se\n",
    "lambda_3se = cv.out[[3]]$lambda.1se\n",
    "\n",
    "cat(sprintf(\"\\n\\nSummary of Logistic Regression on the Diabetes Dataset after Ridge Regularization\\n\"))\n",
    "coef(cv.out[[1]],s=lambda_1se)\n",
    "cat(sprintf(\"\\n\\nSummary of Logistic Regression on the Diabetes Dataset after Elastic Net Regularization\\n\"))\n",
    "coef(cv.out[[2]],s=lambda_2se)\n",
    "cat(sprintf(\"\\n\\nSummary of Logistic Regression on the Diabetes Dataset after LASSO Regularization\\n\"))\n",
    "coef(cv.out[[3]],s=lambda_3se)\n",
    "\n",
    "ridge_prob = predict(cv.out[[1]],newx = test_inputs,type = \"response\")\n",
    "eln_prob = predict(cv.out[[2]],newx = test_inputs,type = \"response\")\n",
    "lasso_prob = predict(cv.out[[3]],newx = test_inputs,type = \"response\")\n",
    "ridge_predict = ifelse(ridge_prob>=0.5,1,0)\n",
    "eln_predict = ifelse(eln_prob>=0.5,1,0)\n",
    "lasso_predict = ifelse(lasso_prob>=0.5,1,0)\n",
    "ridge_table = table(pred = ridge_predict, true = test_split$Outcome)\n",
    "eln_table = table(pred = eln_predict, true = test_split$Outcome)\n",
    "lasso_table = table(pred = lasso_predict, true = test_split$Outcome)\n",
    "\n",
    "# evaluating the accuracy of the models\n",
    "glmnet_AIC <- function(fit, lambda = 'lambda.1se'){\n",
    "  whlm <- which(fit$lambda == fit[[lambda]])\n",
    "  with(fit$glmnet.fit,\n",
    "       {\n",
    "         tLL <- nulldev - nulldev * (1 - dev.ratio)[whlm]\n",
    "         k <- df[whlm]\n",
    "         n <- nobs\n",
    "         return(list('AIC' = - tLL + 2 * k + 2 * k * (k + 1) / (n - k - 1)))\n",
    "       })\n",
    "}\n",
    "cat(sprintf(\"\\n\\nSummary of Model Evaluations - non-regularized\"))\n",
    "unreg_correct = (unreg_table[1,1] + unreg_table[2,2])\n",
    "unreg_acc = unreg_correct/length(test_split$Outcome)*100\n",
    "unreg_aic = AICc(log_reg_diabetes)\n",
    "unreg_table\n",
    "cat(sprintf(\"Total Number Correct Predictions: %0.0f\\n Percent Accuracy: %0.2f\\n Model AICc: %.1f\\n\\n\",unreg_correct,\n",
    "            unreg_acc,unreg_aic))\n",
    "cat(sprintf(\"\\n\\nSummary of Model Evaluations - Ridge-regularized\"))\n",
    "ridge_correct = (ridge_table[1,1] + ridge_table[2,2])\n",
    "ridge_acc = ridge_correct/length(test_split$Outcome)*100\n",
    "ridge_aic = glmnet_AIC(cv.out[[1]])\n",
    "ridge_table\n",
    "cat(sprintf(\"Total Number Correct Predictions: %0.0f\\n Percent Accuracy: %0.2f\\n Model AICc: %.1f\\n\\n\",ridge_correct,\n",
    "            ridge_acc,ridge_aic))\n",
    "cat(sprintf(\"\\n\\nSummary of Model Evaluations - Elastic Net-regularized\"))\n",
    "eln_correct = (eln_table[1,1] + eln_table[2,2])\n",
    "eln_acc = eln_correct/length(test_split$Outcome)*100\n",
    "eln_aic = glmnet_AIC(cv.out[[2]])\n",
    "eln_table\n",
    "cat(sprintf(\"Total Number Correct Predictions: %0.0f\\n Percent Accuracy: %0.2f\\n Model AICc: %.1f\\n\\n\",eln_correct,\n",
    "            eln_acc,eln_aic))\n",
    "cat(sprintf(\"\\n\\nSummary of Model Evaluations - Lasso-regularized\"))\n",
    "lasso_correct = (lasso_table[1,1] + lasso_table[2,2])\n",
    "lasso_acc = lasso_correct/length(test_split$Outcome)*100\n",
    "lasso_aic = glmnet_AIC(cv.out[[3]])\n",
    "lasso_table\n",
    "cat(sprintf(\"Total Number Correct Predictions: %0.0f\\n Percent Accuracy: %0.2f\\n Model AICc: %.1f\\n\\n\",lasso_correct,\n",
    "            lasso_acc,lasso_aic))\n",
    "\n",
    "# continue with k-fold cross validation of unregularized model and best peforming model - eln by AIC and lasso by accuracy\n",
    "train.control = trainControl(method = \"repeatedcv\",number = 10, repeats = 9)\n",
    "\n",
    "log_reg_diabetes_kfcv = train(Outcome ~ Pregnancies+Glucose+BloodPressure+SkinThickness+Insulin+BMI+DiabetesPedigreeFunction+Age,\n",
    "                              data = diabetes, method = \"glm\",family = \"binomial\",trControl = train.control)\n",
    "cat(sprintf(\"\\n\\nRepeated K-fold Cross Validation - All variables\"))\n",
    "log_reg_diabetes_kfcv\n",
    "\n",
    "eln_kfcv = train(Outcome ~ Pregnancies+Glucose+BloodPressure+Insulin+BMI+DiabetesPedigreeFunction+Age,\n",
    "                              data = diabetes, method = \"glm\",family = \"binomial\",trControl = train.control)\n",
    "cat(sprintf(\"\\n\\nRepeated K-fold Cross Validation - Elastic Net based (smallest AICc) - Eliminate Skin Thickness\"))\n",
    "eln_kfcv\n",
    "\n",
    "lasso_kfcv = train(Outcome ~ Pregnancies+Glucose+BMI+DiabetesPedigreeFunction+Age,\n",
    "                    data = diabetes, method = \"glm\",family = \"binomial\",trControl = train.control)\n",
    "cat(sprintf(\"\\n\\nRepeated K-fold Cross Validation - LASSO based (greatest original test accuracy) - Eliminate Skin Thickness, Insulin, and Blood Pressure\"))\n",
    "lasso_kfcv\n",
    "\n"
   ]
  },
  {
   "cell_type": "markdown",
   "metadata": {},
   "source": [
    "In creating this logistic model for the Outcome of the diabetes dataset I split the data into a training set of data and a testing set of data so the impact of adjustments to the model(s) could be consistently tracked. 80% of the data was allocated to the training set and 20% to the test set. Performance of the models was evaluated using confusion matrices comparing the predictions made by the models and the GT of the test set, as well as using the AICc of the model. \n",
    "    \n",
    "   Regularization was investigated as a method to increase the robustness of the model and increase its test accuracy/decrease its AIC. All three of the Ridge, Elastic Net, and LASSO were tested as regularization techniques. Ridge resulted in minor adjustments to the coefficients and no simplification of the model, but in initial testing decreased AIC and increased accuracy compared to the original model. Elastic Net regularization resulted in a simplified model with 1 parameter - skin thickness - removed and the lowest AICc of all models tested. Finally, LASSO regularization resulted in a simplified model removing skin thickness, insulin, and blood pressure as predictors leaving only 5 compared to the original's 8 and Elastic Net's 7. This simplified model had the highest overall accuracy in initial testing and the second lowest AICc.\n",
    "    \n",
    "   For final comparison, new models were trained using repeated k-fold cross validation to assess their accuracy, using the predictor sets determined optimal by Elastic Net and LASSO in addition to using all predictors. Repeated k-fold cross validation provided assessment of the models in terms of both accuracy and Kappa - Kappa being the more important of the two assessor due to an uneven distribution of positive and negative outcomes across the dataset (35% and 65% respectively). Of the models tested in this manner, the one based off the Elastic Net results, removing skin thickness, had the highest accuracy and kappa at 0.7807 and 0.4835 versus 0.7782 and 0.4777 for the next highest. This increased accuracy, though relatively small in magnitude, combined with using fewer predictors results in an overall more robust model. The model based of LASSO using only 5 predictors had the worst accuracy and kappa of the three at 0.7747 and 0.4699, but was still remarkably close to the accuracy of the best model and used 2 fewer predictors indicating a high robustness that leaves it on par with the other regularized model. "
   ]
  },
  {
   "cell_type": "markdown",
   "metadata": {},
   "source": [
    "the globalBreastCancerRisk.csv shows the number of new cases of Breast Cancer (per population of 10,000) around the globe.\n",
    "\n",
    "Answer the following 2 questions using the inferential tools seen in class, along with any descriptive statistics that help you to evaluate your data. Also remember to state your hypotheses, select your alpha value, and give a statistically coherent answer to the problem.\n",
    "\n",
    "### 2. Evaluate whether there are differences between the number of breast cancer cases across continents."
   ]
  },
  {
   "cell_type": "code",
   "execution_count": 87,
   "metadata": {
    "scrolled": false
   },
   "outputs": [
    {
     "name": "stdout",
     "output_type": "stream",
     "text": [
      "\n",
      "\n",
      "Summary of datasets descriptive statistics by continent"
     ]
    },
    {
     "data": {
      "text/html": [
       "<table class=\"dataframe\">\n",
       "<caption>A data.frame: 5 × 4</caption>\n",
       "<thead>\n",
       "\t<tr><th></th><th scope=col>Total Number</th><th scope=col>Average per Country</th><th scope=col>Median</th><th scope=col>Std. Dev.</th></tr>\n",
       "\t<tr><th></th><th scope=col>&lt;dbl&gt;</th><th scope=col>&lt;dbl&gt;</th><th scope=col>&lt;dbl&gt;</th><th scope=col>&lt;dbl&gt;</th></tr>\n",
       "</thead>\n",
       "<tbody>\n",
       "\t<tr><th scope=row>Asia</th><td> 802.3</td><td>30.85769</td><td>26.45</td><td>17.418867</td></tr>\n",
       "\t<tr><th scope=row>Europe</th><td>1786.2</td><td>68.70000</td><td>72.45</td><td>18.358475</td></tr>\n",
       "\t<tr><th scope=row>Africa</th><td> 982.1</td><td>21.35000</td><td>20.35</td><td> 7.001738</td></tr>\n",
       "\t<tr><th scope=row>Americas</th><td> 920.4</td><td>40.01739</td><td>31.20</td><td>23.993212</td></tr>\n",
       "\t<tr><th scope=row>Oceania</th><td> 175.1</td><td>87.55000</td><td>87.55</td><td> 6.151829</td></tr>\n",
       "</tbody>\n",
       "</table>\n"
      ],
      "text/latex": [
       "A data.frame: 5 × 4\n",
       "\\begin{tabular}{r|llll}\n",
       "  & Total Number & Average per Country & Median & Std. Dev.\\\\\n",
       "  & <dbl> & <dbl> & <dbl> & <dbl>\\\\\n",
       "\\hline\n",
       "\tAsia &  802.3 & 30.85769 & 26.45 & 17.418867\\\\\n",
       "\tEurope & 1786.2 & 68.70000 & 72.45 & 18.358475\\\\\n",
       "\tAfrica &  982.1 & 21.35000 & 20.35 &  7.001738\\\\\n",
       "\tAmericas &  920.4 & 40.01739 & 31.20 & 23.993212\\\\\n",
       "\tOceania &  175.1 & 87.55000 & 87.55 &  6.151829\\\\\n",
       "\\end{tabular}\n"
      ],
      "text/markdown": [
       "\n",
       "A data.frame: 5 × 4\n",
       "\n",
       "| <!--/--> | Total Number &lt;dbl&gt; | Average per Country &lt;dbl&gt; | Median &lt;dbl&gt; | Std. Dev. &lt;dbl&gt; |\n",
       "|---|---|---|---|---|\n",
       "| Asia |  802.3 | 30.85769 | 26.45 | 17.418867 |\n",
       "| Europe | 1786.2 | 68.70000 | 72.45 | 18.358475 |\n",
       "| Africa |  982.1 | 21.35000 | 20.35 |  7.001738 |\n",
       "| Americas |  920.4 | 40.01739 | 31.20 | 23.993212 |\n",
       "| Oceania |  175.1 | 87.55000 | 87.55 |  6.151829 |\n",
       "\n"
      ],
      "text/plain": [
       "         Total Number Average per Country Median Std. Dev.\n",
       "Asia      802.3       30.85769            26.45  17.418867\n",
       "Europe   1786.2       68.70000            72.45  18.358475\n",
       "Africa    982.1       21.35000            20.35   7.001738\n",
       "Americas  920.4       40.01739            31.20  23.993212\n",
       "Oceania   175.1       87.55000            87.55   6.151829"
      ]
     },
     "metadata": {},
     "output_type": "display_data"
    },
    {
     "name": "stdout",
     "output_type": "stream",
     "text": [
      "\n",
      "\n",
      "Levene Tests to determine if variances are approximately equal between continents:\n",
      "\n",
      "Original Data:"
     ]
    },
    {
     "data": {
      "text/html": [
       "<table class=\"dataframe\">\n",
       "<caption>A anova: 2 × 3</caption>\n",
       "<thead>\n",
       "\t<tr><th></th><th scope=col>Df</th><th scope=col>F value</th><th scope=col>Pr(&gt;F)</th></tr>\n",
       "\t<tr><th></th><th scope=col>&lt;int&gt;</th><th scope=col>&lt;dbl&gt;</th><th scope=col>&lt;dbl&gt;</th></tr>\n",
       "</thead>\n",
       "<tbody>\n",
       "\t<tr><th scope=row>group</th><td>  4</td><td>4.882761</td><td>0.001115675</td></tr>\n",
       "\t<tr><th scope=row> </th><td>118</td><td>      NA</td><td>         NA</td></tr>\n",
       "</tbody>\n",
       "</table>\n"
      ],
      "text/latex": [
       "A anova: 2 × 3\n",
       "\\begin{tabular}{r|lll}\n",
       "  & Df & F value & Pr(>F)\\\\\n",
       "  & <int> & <dbl> & <dbl>\\\\\n",
       "\\hline\n",
       "\tgroup &   4 & 4.882761 & 0.001115675\\\\\n",
       "\t  & 118 &       NA &          NA\\\\\n",
       "\\end{tabular}\n"
      ],
      "text/markdown": [
       "\n",
       "A anova: 2 × 3\n",
       "\n",
       "| <!--/--> | Df &lt;int&gt; | F value &lt;dbl&gt; | Pr(&gt;F) &lt;dbl&gt; |\n",
       "|---|---|---|---|\n",
       "| group |   4 | 4.882761 | 0.001115675 |\n",
       "| <!----> | 118 |       NA |          NA |\n",
       "\n"
      ],
      "text/plain": [
       "      Df  F value  Pr(>F)     \n",
       "group   4 4.882761 0.001115675\n",
       "      118       NA          NA"
      ]
     },
     "metadata": {},
     "output_type": "display_data"
    },
    {
     "name": "stdout",
     "output_type": "stream",
     "text": [
      "\n",
      "Log Transformed Data:"
     ]
    },
    {
     "data": {
      "text/html": [
       "<table class=\"dataframe\">\n",
       "<caption>A anova: 2 × 3</caption>\n",
       "<thead>\n",
       "\t<tr><th></th><th scope=col>Df</th><th scope=col>F value</th><th scope=col>Pr(&gt;F)</th></tr>\n",
       "\t<tr><th></th><th scope=col>&lt;int&gt;</th><th scope=col>&lt;dbl&gt;</th><th scope=col>&lt;dbl&gt;</th></tr>\n",
       "</thead>\n",
       "<tbody>\n",
       "\t<tr><th scope=row>group</th><td>  4</td><td>1.940103</td><td>0.1082767</td></tr>\n",
       "\t<tr><th scope=row> </th><td>118</td><td>      NA</td><td>       NA</td></tr>\n",
       "</tbody>\n",
       "</table>\n"
      ],
      "text/latex": [
       "A anova: 2 × 3\n",
       "\\begin{tabular}{r|lll}\n",
       "  & Df & F value & Pr(>F)\\\\\n",
       "  & <int> & <dbl> & <dbl>\\\\\n",
       "\\hline\n",
       "\tgroup &   4 & 1.940103 & 0.1082767\\\\\n",
       "\t  & 118 &       NA &        NA\\\\\n",
       "\\end{tabular}\n"
      ],
      "text/markdown": [
       "\n",
       "A anova: 2 × 3\n",
       "\n",
       "| <!--/--> | Df &lt;int&gt; | F value &lt;dbl&gt; | Pr(&gt;F) &lt;dbl&gt; |\n",
       "|---|---|---|---|\n",
       "| group |   4 | 1.940103 | 0.1082767 |\n",
       "| <!----> | 118 |       NA |        NA |\n",
       "\n"
      ],
      "text/plain": [
       "      Df  F value  Pr(>F)   \n",
       "group   4 1.940103 0.1082767\n",
       "      118       NA        NA"
      ]
     },
     "metadata": {},
     "output_type": "display_data"
    },
    {
     "name": "stdout",
     "output_type": "stream",
     "text": [
      "\n",
      "\n",
      "Plots of Breast Cancer Rate distriubtion by continent"
     ]
    },
    {
     "data": {
      "image/png": "[encoded data removed]",
      "text/plain": [
       "plot without title"
      ]
     },
     "metadata": {
      "image/png": {
       "height": 420,
       "width": 420
      }
     },
     "output_type": "display_data"
    },
    {
     "data": {
      "image/png": "[encoded data removed]",
      "text/plain": [
       "plot without title"
      ]
     },
     "metadata": {
      "image/png": {
       "height": 420,
       "width": 420
      }
     },
     "output_type": "display_data"
    },
    {
     "name": "stdout",
     "output_type": "stream",
     "text": [
      "\n",
      "\n",
      "ANOVA testing to determine if differences in mean exist between continents:"
     ]
    },
    {
     "data": {
      "text/plain": [
       "             Df Sum Sq Mean Sq F value Pr(>F)    \n",
       "continent     4  26.63   6.657   28.52 <2e-16 ***\n",
       "Residuals   118  27.54   0.233                   \n",
       "---\n",
       "Signif. codes:  0 '***' 0.001 '**' 0.01 '*' 0.05 '.' 0.1 ' ' 1"
      ]
     },
     "metadata": {},
     "output_type": "display_data"
    },
    {
     "name": "stdout",
     "output_type": "stream",
     "text": [
      "\n",
      "\n",
      "Using TukeyHSD paired testing to determine where the differences in mean exist:\n"
     ]
    },
    {
     "data": {
      "text/plain": [
       "  Tukey multiple comparisons of means\n",
       "    99.5% family-wise confidence level\n",
       "\n",
       "Fit: aov(formula = log(NewCasesOfBreastCancerIn2002) ~ continent, data = BCRisk)\n",
       "\n",
       "$continent\n",
       "                       diff         lwr       upr     p adj\n",
       "Americas-Africa   0.5229617  0.08538675 0.9605367 0.0004259\n",
       "Asia-Africa       0.3026285 -0.11777994 0.7230370 0.0861080\n",
       "Europe-Africa     1.1971142  0.77670572 1.6175226 0.0000000\n",
       "Oceania-Africa    1.4816499  0.24400096 2.7192989 0.0004145\n",
       "Asia-Americas    -0.2203332 -0.71080976 0.2701433 0.5047390\n",
       "Europe-Americas   0.6741524  0.18367591 1.1646290 0.0000335\n",
       "Oceania-Americas  0.9586882 -0.30448200 2.2218584 0.0612221\n",
       "Europe-Asia       0.8944857  0.41926086 1.3697105 0.0000000\n",
       "Oceania-Asia      1.1790214 -0.07830524 2.4363481 0.0101602\n",
       "Oceania-Europe    0.2845358 -0.97279090 1.5418624 0.9293492\n"
      ]
     },
     "metadata": {},
     "output_type": "display_data"
    },
    {
     "data": {
      "image/png": "[encoded data removed]",
      "text/plain": [
       "plot without title"
      ]
     },
     "metadata": {
      "image/png": {
       "height": 420,
       "width": 420
      }
     },
     "output_type": "display_data"
    },
    {
     "data": {
      "image/png": "[encoded data removed]",
      "text/plain": [
       "Plot with title \"Plot of ANOVA residuals for visual evidence of approximate equivariance\""
      ]
     },
     "metadata": {
      "image/png": {
       "height": 420,
       "width": 420
      }
     },
     "output_type": "display_data"
    }
   ],
   "source": [
    "# initialize data\n",
    "BCRisk = read.csv(\"globalBreastCancerRisk.csv\")\n",
    "BCRisk$continent = as.factor(BCRisk$continent)\n",
    "# compile number of cases of breast cancer by continent\n",
    "continents = unique(BCRisk$continent)\n",
    "cont_BC = list()\n",
    "cont_stats = data.frame(matrix(0,nrow=length(continents),ncol = 4))\n",
    "rownames(cont_stats) = continents\n",
    "colnames(cont_stats) = c(\"Total Number\",\"Average per Country\",\"Median\",\"Std. Dev.\")\n",
    "k = 0\n",
    "for(names in continents){\n",
    "    k = k+1\n",
    "    countries_cont = BCRisk$continent == names\n",
    "    cont_BC[[names]] = list(BCRisk[countries_cont,7])\n",
    "    cont_stats[names,\"Total Number\"] = sum(unlist(cont_BC[[names]]))\n",
    "    cont_stats[names,\"Average per Country\"] = mean(unlist(cont_BC[[names]]))\n",
    "    cont_stats[names,\"Median\"] = median(unlist(cont_BC[[names]]))\n",
    "    cont_stats[names,\"Std. Dev.\"] = sd(unlist(cont_BC[[names]]))\n",
    "}\n",
    "cat(sprintf(\"\\n\\nSummary of datasets descriptive statistics by continent\"))\n",
    "cont_stats\n",
    "# checking for equivariance between continents so ANOVA can be used\n",
    "cat(sprintf(\"\\n\\nLevene Tests to determine if variances are approximately equal between continents:\"))\n",
    "cat(sprintf(\"\\n\\nOriginal Data:\"))\n",
    "leveneTest(NewCasesOfBreastCancerIn2002~continent, data = BCRisk)\n",
    "cat(sprintf(\"\\nLog Transformed Data:\"))\n",
    "leveneTest(log(NewCasesOfBreastCancerIn2002)~continent, data = BCRisk)\n",
    "\n",
    "# looking at the distributions\n",
    "library(ggplot2)\n",
    "cat(sprintf(\"\\n\\nPlots of Breast Cancer Rate distriubtion by continent\"))\n",
    "ggplot(BCRisk, aes(x = NewCasesOfBreastCancerIn2002, fill = continent)) + geom_density(alpha = 0.5) + ggtitle(\"Untransformed distributions\")\n",
    "ggplot(BCRisk, aes(x = log(NewCasesOfBreastCancerIn2002), fill = continent)) + geom_density(alpha = 0.5)+ggtitle(\"Log transformed distributions\")\n",
    "ggplot(BCRisk, aes(x = log(NewCasesOfBreastCancerIn2002), fill = continent)) + geom_boxplot() + ggtitle(\"Log transformed boxplots\")\n",
    "\n",
    "# ANOVA testing to determine if differences in mean exist within group\n",
    "cat(sprintf(\"\\n\\nANOVA testing to determine if differences in mean exist between continents:\"))\n",
    "res.aov <- aov(log(NewCasesOfBreastCancerIn2002) ~ continent, data = BCRisk)\n",
    "summary(res.aov)\n",
    "\n",
    "# since ANOVA showed significant differences in means exist within group use Tukey HSD to determine which are significant\n",
    "cat(sprintf(\"\\n\\nUsing TukeyHSD paired testing to determine where the differences in mean exist:\\n\"))\n",
    "TukeyHSD(res.aov,conf.level = 0.995)\n",
    "plot(res.aov,1,main=\"Plot of ANOVA residuals for visual evidence of approximate equivariance\")\n",
    "aov_res <- residuals(object = res.aov)"
   ]
  },
  {
   "cell_type": "markdown",
   "metadata": {},
   "source": [
    "At initial glance, the distributions of Breast Cancer Rate (BCR) by continent seem relatively similar in variance besides Africa, which has a standard deviation of 7 compared to the 17-24 of the other continents with multiple countries, and relatively normal with medians near their means and an approximately normal density plot. Oceania had only 2 data points, making evaluation of its normality, variance, and its relation to the other continents tenous. Levene tests were used to compare variance between continents for approximate equivalence and a p-value of 0.0011 indicated that they were in fact significantly different in variance. A log transform was applied to BCR and the test was performed again, providing a p-value of 0.108 indicating that the variances could not be said to be signficantly different. With this assumption met, ANOVA was performed to determine if there is a difference in mean BCR between the continents.\n",
    "\n",
    "ANOVA peformed on the log transformed BCR data resulted in a p-value of 2E-16, indicating high signficance and allowing us to reject the null hypothesis that the BCR data was the same for each continent. The residuals of the ANOVA model were plotted as another measure of relative equivariance between teh continents, which is what was found. While ANOVA was able to determine if there were signficant difference present within the group, it could not say which comparisons this significance happened within.\n",
    "\n",
    "In order to determine which continents had significantly different mean BCR, a TukeyHSD pairwise test was performed. Taking into account the Bonferroni correction, which reduces $\\alpha$ from 0.05 to 0.005 (there are 10 total hypothesis combinations tested), drops only Oceanic-Asia out of significance. The comparisons of Asia-Africa, Asia-Americas, and Oceania-Americas, Ocean-Asia, Oceania-Europe reveal that the differences in breast cancer case distributions are not statistically significant. That the other comparisons have p-values below our $\\alpha$ of 0.005 provides evidence that their distributions are significantly different. This indicates that while there are not differences in breast cancer numbers across all continents, significant differences do exist."
   ]
  },
  {
   "cell_type": "markdown",
   "metadata": {},
   "source": [
    "### 3. Is there an association between the risk factors evaluated in this study and new cases of breast cancer at a global scale? column NewCasesOfBreastCancerIn2002 "
   ]
  },
  {
   "cell_type": "code",
   "execution_count": 78,
   "metadata": {
    "scrolled": false
   },
   "outputs": [
    {
     "name": "stdout",
     "output_type": "stream",
     "text": [
      "\n",
      " iter imp variable\n",
      "  1   1  Smoking\n",
      "  1   2  Smoking\n",
      "  1   3  Smoking\n",
      "  1   4  Smoking\n",
      "  1   5  Smoking\n",
      "  2   1  Smoking\n",
      "  2   2  Smoking\n",
      "  2   3  Smoking\n",
      "  2   4  Smoking\n",
      "  2   5  Smoking\n",
      "  3   1  Smoking\n",
      "  3   2  Smoking\n",
      "  3   3  Smoking\n",
      "  3   4  Smoking\n",
      "  3   5  Smoking\n",
      "  4   1  Smoking\n",
      "  4   2  Smoking\n",
      "  4   3  Smoking\n",
      "  4   4  Smoking\n",
      "  4   5  Smoking\n",
      "  5   1  Smoking\n",
      "  5   2  Smoking\n",
      "  5   3  Smoking\n",
      "  5   4  Smoking\n",
      "  5   5  Smoking\n"
     ]
    },
    {
     "name": "stderr",
     "output_type": "stream",
     "text": [
      "Warning message:\n",
      "\"Number of logged events: 2\"\n"
     ]
    },
    {
     "name": "stdout",
     "output_type": "stream",
     "text": [
      "\n",
      "\n",
      "Summary of multiple linear regression model using all variables (not including those missing smoking data):"
     ]
    },
    {
     "data": {
      "text/plain": [
       "                     Estimate Std. Error t value Pr(>|t|)    \n",
       "(Intercept)        64.8592360 64.5728041   1.004   0.3180    \n",
       "lifeExp             0.0048387  0.2431833   0.020   0.9842    \n",
       "gdpPercap           0.0010089  0.0002351   4.291 4.68e-05 ***\n",
       "AlcoholComsumption  0.9539350  0.4588918   2.079   0.0407 *  \n",
       "BloodPressure      -0.7529632  0.4388334  -1.716   0.0898 .  \n",
       "BodyMassIndex       0.0484733  0.8132425   0.060   0.9526    \n",
       "Cholestorol         9.6727508  9.5180466   1.016   0.3124    \n",
       "Smoking             0.4336950  0.1951560   2.222   0.0289 *  \n",
       "\n",
       "Residual standard error: 13.27 on 85 degrees of freedom\n",
       "  (30 observations deleted due to missingness)\n",
       "Multiple R-squared:  0.7681,\tAdjusted R-squared:  0.749 \n",
       "F-statistic: 40.22 on 7 and 85 DF,  p-value: < 2.2e-16"
      ]
     },
     "metadata": {},
     "output_type": "display_data"
    },
    {
     "name": "stdout",
     "output_type": "stream",
     "text": [
      "\n",
      "\n",
      "Summary of multiple linear regression model using all variables after imputation of missing smoking data:"
     ]
    },
    {
     "data": {
      "text/plain": [
       "                     Estimate Std. Error t value Pr(>|t|)    \n",
       "(Intercept)        28.4509828 56.8524168   0.500  0.61772    \n",
       "lifeExp             0.1171873  0.1980951   0.592  0.55530    \n",
       "gdpPercap           0.0009073  0.0001972   4.602 1.09e-05 ***\n",
       "AlcoholComsumption  1.1110944  0.3885513   2.860  0.00504 ** \n",
       "BloodPressure      -0.4721425  0.3793988  -1.244  0.21586    \n",
       "BodyMassIndex      -0.5558318  0.7032383  -0.790  0.43093    \n",
       "Cholestorol        11.6850345  7.8874979   1.481  0.14122    \n",
       "Smoking             0.2853560  0.1662126   1.717  0.08871 .  \n",
       "\n",
       "Residual standard error: 13.2 on 115 degrees of freedom\n",
       "Multiple R-squared:  0.7312,\tAdjusted R-squared:  0.7149 \n",
       "F-statistic:  44.7 on 7 and 115 DF,  p-value: < 2.2e-16"
      ]
     },
     "metadata": {},
     "output_type": "display_data"
    },
    {
     "name": "stdout",
     "output_type": "stream",
     "text": [
      "\n",
      "Correlation accuracy (correlation between predicted values and actual values) was calculated for both models:\n",
      "Correlation Accuracy before imputation (93 countries): 0.87641\n",
      "Correlation Accuracy after imputation (123 countries): 0.85512\n",
      "\n",
      "\n",
      "Scatter Plots with Regression band to show correlation between breast cancer rates and individual variables\n"
     ]
    },
    {
     "name": "stderr",
     "output_type": "stream",
     "text": [
      "`geom_smooth()` using formula 'y ~ x'\n",
      "\n",
      "`geom_smooth()` using formula 'y ~ x'\n",
      "\n"
     ]
    },
    {
     "data": {
      "image/png": "[encoded data removed]",
      "text/plain": [
       "plot without title"
      ]
     },
     "metadata": {
      "image/png": {
       "height": 420,
       "width": 420
      }
     },
     "output_type": "display_data"
    },
    {
     "name": "stderr",
     "output_type": "stream",
     "text": [
      "`geom_smooth()` using formula 'y ~ x'\n",
      "\n"
     ]
    },
    {
     "data": {
      "image/png": "[encoded data removed]",
      "text/plain": [
       "plot without title"
      ]
     },
     "metadata": {
      "image/png": {
       "height": 420,
       "width": 420
      }
     },
     "output_type": "display_data"
    },
    {
     "name": "stderr",
     "output_type": "stream",
     "text": [
      "`geom_smooth()` using formula 'y ~ x'\n",
      "\n"
     ]
    },
    {
     "data": {
      "image/png": "[encoded data removed]",
      "text/plain": [
       "plot without title"
      ]
     },
     "metadata": {
      "image/png": {
       "height": 420,
       "width": 420
      }
     },
     "output_type": "display_data"
    },
    {
     "data": {
      "image/png": "[encoded data removed]",
      "text/plain": [
       "plot without title"
      ]
     },
     "metadata": {
      "image/png": {
       "height": 420,
       "width": 420
      }
     },
     "output_type": "display_data"
    }
   ],
   "source": [
    "library(\"mice\")\n",
    "library(\"ggpubr\")\n",
    "\n",
    "# regression using all risk factors\n",
    "lin_reg_BC_missing = lm(NewCasesOfBreastCancerIn2002 ~ lifeExp+gdpPercap+AlcoholComsumption+BloodPressure+BodyMassIndex+\n",
    "                 Cholestorol+Smoking, data = BCRisk)\n",
    "\n",
    "# imputing mising smoking data so that all countries can be used during linear regression\n",
    "tempData = mice(BCRisk,method = \"cart\",seed = 500)\n",
    "BCRiskSmokeImp = complete(tempData,2)\n",
    "lin_reg_BC_imp = lm(NewCasesOfBreastCancerIn2002 ~ lifeExp+gdpPercap+AlcoholComsumption+BloodPressure+BodyMassIndex+\n",
    "                 Cholestorol+Smoking, data = BCRiskSmokeImp)\n",
    "cat(sprintf(\"\\n\\nSummary of multiple linear regression model using all variables (not including those missing smoking data):\"))\n",
    "msummary(lin_reg_BC_missing)\n",
    "cat(sprintf(\"\\n\\nSummary of multiple linear regression model using all variables after imputation of missing smoking data:\"))\n",
    "msummary(lin_reg_BC_imp)\n",
    "\n",
    "# predicting using the models and evaluating\n",
    "BC_pred_missing = predict(lin_reg_BC_missing, data = BCRisk)\n",
    "true_missing = is.na(BCRisk$Smoking)\n",
    "true_missing = BCRisk$NewCasesOfBreastCancerIn2002[!true_missing]\n",
    "correlation_acc_missing = cor(true_missing,BC_pred_missing)\n",
    "BC_pred_imp = predict(lin_reg_BC_imp, data = BCRiskImp)\n",
    "correlation_acc_imp = cor(BCRisk$NewCasesOfBreastCancerIn2002,BC_pred_imp)\n",
    "cat(sprintf(\"\\nCorrelation accuracy (correlation between predicted values and actual values) was calculated for both models:\"))\n",
    "cat(sprintf(\"\\nCorrelation Accuracy before imputation (93 countries): %0.5f\",correlation_acc_missing))\n",
    "cat(sprintf(\"\\nCorrelation Accuracy after imputation (123 countries): %0.5f\\n\",correlation_acc_imp))\n",
    "\n",
    "# Visualizing the correlation between individual variables and breast cancer rates\n",
    "cat(sprintf(\"\\n\\nScatter Plots with Regression band to show correlation between breast cancer rates and individual variables\\n\"))\n",
    "ggscatter(BCRisk, x = \"gdpPercap\", y = \"NewCasesOfBreastCancerIn2002\",add = \"reg.line\",conf.int = TRUE, \n",
    "          cor.coef = TRUE, cor.method = \"pearson\",main = \"GDP vs Rate of Breast Cancer\", \n",
    "          xlab = \"GDP per capita\", ylab = \"Breast cancer rates\")\n",
    "ggscatter(BCRisk, x = \"AlcoholComsumption\", y = \"NewCasesOfBreastCancerIn2002\",add = \"reg.line\",conf.int = TRUE, \n",
    "          cor.coef = TRUE, cor.method = \"pearson\",main = \"Alcohol Consumption vs Rate of Breast Cancer\",\n",
    "          xlab = \"Alcohol Consumption\", ylab = \"Breast cancer rates\")\n",
    "ggscatter(BCRiskSmokeImp, x = \"Smoking\", y = \"NewCasesOfBreastCancerIn2002\",add = \"reg.line\",conf.int = TRUE, \n",
    "          cor.coef = TRUE, cor.method = \"pearson\",main = \"Smoking Rate vs Rate of Breast Cancer\",\n",
    "          xlab = \"Smoking\", ylab = \"Breast cancer rates\")\n",
    "ggscatter(BCRisk, x = \"BodyMassIndex\", y = \"NewCasesOfBreastCancerIn2002\",add = \"reg.line\",conf.int = TRUE, \n",
    "          cor.coef = TRUE, cor.method = \"pearson\",main = \"BMI vs Rate of Breast Cancer\",\n",
    "          xlab = \"BMI\", ylab = \"Breast cancer rates\")"
   ]
  },
  {
   "cell_type": "markdown",
   "metadata": {},
   "source": [
    "To determine whether the risk factors from the study had an association with the breast cancer rate globally a multi-linear regression model was created using all risk factors from the dataset as inputs and BCR as an output. This revealed a significant association between BCR and GDP per capita, alcohol consumption and smoking. However, the original dataset had missing values within the smoking risk factor causing 30 countries to be removed prior to training of the model. \n",
    "\n",
    "While 30/123 is higher than the typical proportion of data you would want to impute, given its signficance in the model using 93 countries we chose to impute its missing values using a classification and regression trees method. The model trained using the data from all 123 countries had two significant associations at an alpha of 0.05, GDP per capita and alcohol consumption. Smoking was no longer signficant at this alpha level but would be at an increased alpha of 0.1. Both of these models had high correlations between their predicted values and the actual values at 0.876 and 0.855 for the 93 country and 123 country models, respectively. \n",
    "\n",
    "Additionally, the correlations between BCR and several individual predictors were computed and visualized. Predictors that were signficant in the models had highly significant p-values for their correlation and the lowest correlation of the three (gdp, alcohol, smoking) was alcohol consumption at a relatively high Rsquared of 0.59. Predictors that were far from significance on the models, such as BMI (model p-value = 0.95 and 0.43), still showed significant correlation p-values and Rsquared values of ~0.35.\n",
    "\n",
    "These individual correlations, along with the high level of correlation between predictions made by models using the risk factors as inputs and the true values, demonstrate that there is an association between the risk factors presented in this study and the breast cancer rate at a global scale. "
   ]
  }
 ],
 "metadata": {
  "kernelspec": {
   "display_name": "R",
   "language": "R",
   "name": "ir"
  },
  "language_info": {
   "codemirror_mode": "r",
   "file_extension": ".r",
   "mimetype": "text/x-r-source",
   "name": "R",
   "pygments_lexer": "r",
   "version": "4.0.5"
  }
 },
 "nbformat": 4,
 "nbformat_minor": 2
}
