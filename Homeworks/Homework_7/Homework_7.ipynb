{
 "cells": [
  {
   "cell_type": "markdown",
   "metadata": {},
   "source": [
    "### Homework 7 \n",
    "\n",
    "\n",
    "### 1 \n",
    "\n",
    "From the diabates dataset seen on class, fit a logistic regression model using the binary variable Outcome as the outcome variable and all of the other continuous variables as predictors.\n",
    "\n",
    "The idea is to find the model that best fit the data, and produce a list of optimal coefficients that will allow to predict outcomes from new data. For this you can use some or all of the resources seen in class, and other resources that can increase the resolution and accuracy of the model.\n",
    "\n",
    "lm functions in R (or Python sklearn.linear_model)\n",
    "Cross-validation\n",
    "k-fold cross-validation\n",
    "Maximum likelihood estimation of coefficients \n",
    "Gradient Descent optimization\n",
    "Regularization\n",
    "\n",
    "Other methods for optimization such: forward-backward model selection\n",
    "\n",
    "##### Examples..\n",
    "\n",
    "[https://eight2late.wordpress.com/2017/07/11/a-gentle-introduction-to-logistic-regression-and-lasso-regularisation-using-r/](https://eight2late.wordpress.com/2017/07/11/a-gentle-introduction-to-logistic-regression-and-lasso-regularisation-using-r/)\n",
    "\n",
    "[https://www.kaggle.com/c/titanic/discussion/13582#73042](https://www.kaggle.com/c/titanic/discussion/13582#73042)\n",
    "\n",
    "[https://www.r-bloggers.com/logistic-regression-regularized-with-optimization/](https://www.r-bloggers.com/logistic-regression-regularized-with-optimization/)\n",
    "\n",
    "[https://www.r-bloggers.com/predicting-creditability-using-logistic-regression-in-r-cross-validating-the-classifier-part-2-2/](https://www.r-bloggers.com/predicting-creditability-using-logistic-regression-in-r-cross-validating-the-classifier-part-2-2/)\n"
   ]
  },
  {
   "cell_type": "code",
   "execution_count": null,
   "metadata": {},
   "outputs": [],
   "source": []
  },
  {
   "cell_type": "markdown",
   "metadata": {},
   "source": [
    "the globalBreastCancerRisk.csv shows the number of new cases of Breast Cancer (per population of 10,000) around the globe.\n",
    "\n",
    "Answer the following 2 questions using the inferential tools seen in class, along with any descriptive statistics that help you to evaluate your data. Also remember to state your hypotheses, select your alpha value, and give a statistically coherent answer to the problem.\n",
    "\n",
    "### 2. Evaluate whether there are differences between the number of breast cancer cases across continents."
   ]
  },
  {
   "cell_type": "code",
   "execution_count": null,
   "metadata": {},
   "outputs": [],
   "source": []
  },
  {
   "cell_type": "markdown",
   "metadata": {},
   "source": [
    "### 3. Is there an association between the risk factors evaluated in this study and new cases of breast cancer at a global scale? column NewCasesOfBreastCancerIn2002 "
   ]
  },
  {
   "cell_type": "code",
   "execution_count": null,
   "metadata": {},
   "outputs": [],
   "source": []
  }
 ],
 "metadata": {
  "kernelspec": {
   "display_name": "R",
   "language": "R",
   "name": "ir"
  },
  "language_info": {
   "codemirror_mode": "r",
   "file_extension": ".r",
   "mimetype": "text/x-r-source",
   "name": "R",
   "pygments_lexer": "r",
   "version": "4.0.2"
  }
 },
 "nbformat": 4,
 "nbformat_minor": 2
}
