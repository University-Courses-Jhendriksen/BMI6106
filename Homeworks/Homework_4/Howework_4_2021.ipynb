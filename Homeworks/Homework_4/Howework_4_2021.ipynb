{
 "cells": [
  {
   "cell_type": "markdown",
   "metadata": {},
   "source": [
    "##### 1. let’s assume that two candidates are running in an election for Governor of California. This fictitious election pits Mr. Gubinator vs. Mr. Ventura. We would like to know who is winning the race, and therefore we conduct a poll of likely voters in California. If the poll gives the voters a choice between the two candidates, then the results can be reasonably modeled with the Binomial Distribution. The polls indicate that 62% of the population intend to vote for Mr. Gubinator (Success).\n",
    "\n",
    "\n",
    "1. Calculate and PLOT the binomial probabilities (PMF and CDF), and CF (confidence interval) for the distribution of the samples\n",
    "\n",
    "###  Calculate\n",
    "2. in a random sample of 50 voters we find 10 likely voters to vote for Mr. Gubinator.\n",
    "3. in a random sample of 50 we find at least 3 likely voters to vote for Mr. Gubinator.\n",
    "4. What is the average and standard deviation of the number of voters that we will find in our random sample? Hint: use the estimators of the respective distribution."
   ]
  },
  {
   "cell_type": "code",
   "execution_count": 1,
   "metadata": {},
   "outputs": [],
   "source": [
    "##Code"
   ]
  },
  {
   "cell_type": "markdown",
   "metadata": {},
   "source": [
    "##### 2. X is a continuous random variable with mean μ = 40, Find and plot the density distribution (pdf) with three different standard deviations (2,6,12) (Please draw the curves on the same figure with different colors and a legend - hint: see function lines()) for:\n",
    "\n",
    "a. P(x < 40)<br><br>\n",
    "b. P(x > 21)\n",
    "\n",
    "c. What conclusions can you draw from these plots regarding the effect of the SD on the distribution?"
   ]
  },
  {
   "cell_type": "code",
   "execution_count": 2,
   "metadata": {},
   "outputs": [],
   "source": [
    "##Code"
   ]
  },
  {
   "cell_type": "markdown",
   "metadata": {},
   "source": [
    "##### 3. There are 6 cars in a car shop out which 3 are defective. If 2 cars are picked randomly, \n",
    "\n",
    "#### <font color=blue>Find the probability that at least one is defective.</font>\n",
    "\n",
    "1. Use the density function\n",
    "2. Use the R code to compare the results"
   ]
  },
  {
   "cell_type": "code",
   "execution_count": 3,
   "metadata": {},
   "outputs": [],
   "source": [
    "##Code"
   ]
  },
  {
   "cell_type": "markdown",
   "metadata": {},
   "source": [
    "##### 4. In the past, for every attempt to make a call there was a 70% probability of getting the call. \n",
    "\n",
    "#### <br><font color=blue> a. Calculate the probability of having  12 successes in 20 attempts. \n",
    "1. Use the density function<br>\n",
    "2. Use the R code to compare the results<br> \n",
    "    \n",
    "#### <br><font color=blue>b. Plot the distribution and describe the shape</font>"
   ]
  },
  {
   "cell_type": "code",
   "execution_count": null,
   "metadata": {},
   "outputs": [],
   "source": []
  },
  {
   "cell_type": "markdown",
   "metadata": {},
   "source": [
    "##### 5. In a company 3/4 of the females are single, \n",
    "\n",
    "### <br><br> <font color=blue> Calculate the probability that within the first 5 randomly selected females we find the first single woman? <br> <font color=blue> In average in how many people we need to select before find a single female?</font>\n",
    "    \n",
    "1. Use the density function<br>\n",
    "2. Use the R code to compare the results<br> \n"
   ]
  },
  {
   "cell_type": "code",
   "execution_count": null,
   "metadata": {},
   "outputs": [],
   "source": []
  },
  {
   "cell_type": "markdown",
   "metadata": {},
   "source": [
    "##### 6.\n",
    "\n",
    "Using the same format that I used for the other distributions, create a short explanation of the beta distribution: present the components of the distribution and give with one example of applications of this distribution. Remember: do not copy text from the resource you are using, try to understand and explain using your own words how and why is the beta distribution used. (This is useful as there many, many more distributions that you might encounter while working with statistics, and being able to generate a concise summary is a good skill)"
   ]
  },
  {
   "cell_type": "markdown",
   "metadata": {},
   "source": [
    "# Optional: Choose one of the questions below."
   ]
  },
  {
   "cell_type": "markdown",
   "metadata": {},
   "source": [
    "### 1. Generate a tree graph that represents flipping a coin 4 times,  let A be the event “the first outcome is tails” , B the event “ the second outcome is head” and C the event “the third outcome is tails” calculate \n",
    "\n",
    "p(AUBUC) = P (A U B U C) = P(A) + P(B) + P(C) - P(A ∩ B) - P(A ∩ C) - P(B ∩ C) + P(A ∩ B ∩ C)"
   ]
  },
  {
   "cell_type": "markdown",
   "metadata": {},
   "source": [
    "### 2. From the Dataset Diabetes, construct contingency tables for the following variable combinations:\n",
    "\n",
    "A: location Vs gender\n",
    "B: Gender Vs frame\n",
    "C: Gender Vs Age (Convert age to an discrete ordinal variable with three categories)\n",
    "D: Cholesterol Vs Age (Convert age and cholesterol to an discrete ordinal variable with three categories)\n",
    "\n",
    "calculate the joint and marginal probabilities, and from the above contingency tables choose 5 conditional probability examples with the probabilities calculations and one or two sentences explaining the results."
   ]
  },
  {
   "cell_type": "code",
   "execution_count": null,
   "metadata": {},
   "outputs": [],
   "source": []
  }
 ],
 "metadata": {
  "kernelspec": {
   "display_name": "R",
   "language": "R",
   "name": "ir"
  },
  "language_info": {
   "codemirror_mode": "r",
   "file_extension": ".r",
   "mimetype": "text/x-r-source",
   "name": "R",
   "pygments_lexer": "r",
   "version": "4.0.2"
  }
 },
 "nbformat": 4,
 "nbformat_minor": 2
}
