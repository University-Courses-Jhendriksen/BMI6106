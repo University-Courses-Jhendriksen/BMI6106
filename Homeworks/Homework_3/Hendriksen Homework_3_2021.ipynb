{
 "cells": [
  {
   "cell_type": "markdown",
   "metadata": {},
   "source": [
    "## Homework 1"
   ]
  },
  {
   "cell_type": "markdown",
   "metadata": {},
   "source": [
    "### 1. History of Probability\n",
    "It is said that de Mere had been betting that, in four rolls of a die, at least one six would turn up. He was winning consistently and, to get more people to play, he changed the game to bet that, in 24 rolls of two dice, a pair of sixes would turn up. It is claimed that de Mere lost with 24 and felt that 25 rolls were necessary to make the game favorable. "
   ]
  },
  {
   "cell_type": "code",
   "execution_count": 115,
   "metadata": {},
   "outputs": [
    {
     "data": {
      "text/html": [
       "<ol class=list-inline>\n",
       "\t<li>5</li>\n",
       "\t<li>3</li>\n",
       "\t<li>4</li>\n",
       "\t<li>4</li>\n",
       "</ol>\n"
      ],
      "text/latex": [
       "\\begin{enumerate*}\n",
       "\\item 5\n",
       "\\item 3\n",
       "\\item 4\n",
       "\\item 4\n",
       "\\end{enumerate*}\n"
      ],
      "text/markdown": [
       "1. 5\n",
       "2. 3\n",
       "3. 4\n",
       "4. 4\n",
       "\n",
       "\n"
      ],
      "text/plain": [
       "[1] 5 3 4 4"
      ]
     },
     "metadata": {},
     "output_type": "display_data"
    },
    {
     "data": {
      "text/html": [
       "<dl>\n",
       "\t<dt>$Successes</dt>\n",
       "\t\t<dd>516</dd>\n",
       "\t<dt>$Failures</dt>\n",
       "\t\t<dd>484</dd>\n",
       "</dl>\n"
      ],
      "text/latex": [
       "\\begin{description}\n",
       "\\item[\\$Successes] 516\n",
       "\\item[\\$Failures] 484\n",
       "\\end{description}\n"
      ],
      "text/markdown": [
       "$Successes\n",
       ":   516\n",
       "$Failures\n",
       ":   484\n",
       "\n",
       "\n"
      ],
      "text/plain": [
       "$Successes\n",
       "[1] 516\n",
       "\n",
       "$Failures\n",
       "[1] 484\n"
      ]
     },
     "metadata": {},
     "output_type": "display_data"
    },
    {
     "data": {
      "text/html": [
       "<dl>\n",
       "\t<dt>$`Experimental prob pair 6s in 24`</dt>\n",
       "\t\t<dd>0.4988</dd>\n",
       "\t<dt>$`Experimental prob pair 6s in 25`</dt>\n",
       "\t\t<dd>0.504</dd>\n",
       "</dl>\n"
      ],
      "text/latex": [
       "\\begin{description}\n",
       "\\item[\\$`Experimental prob pair 6s in 24`] 0.4988\n",
       "\\item[\\$`Experimental prob pair 6s in 25`] 0.504\n",
       "\\end{description}\n"
      ],
      "text/markdown": [
       "$`Experimental prob pair 6s in 24`\n",
       ":   0.4988\n",
       "$`Experimental prob pair 6s in 25`\n",
       ":   0.504\n",
       "\n",
       "\n"
      ],
      "text/plain": [
       "$`Experimental prob pair 6s in 24`\n",
       "[1] 0.4988\n",
       "\n",
       "$`Experimental prob pair 6s in 25`\n",
       "[1] 0.504\n"
      ]
     },
     "metadata": {},
     "output_type": "display_data"
    },
    {
     "data": {
      "text/html": [
       "<dl>\n",
       "\t<dt>$`Probability paired 6s in 24 rolls`</dt>\n",
       "\t\t<dd>0.491403876130903</dd>\n",
       "\t<dt>$`Probability paired 6s in 25 rolls`</dt>\n",
       "\t\t<dd>0.505531546238378</dd>\n",
       "</dl>\n"
      ],
      "text/latex": [
       "\\begin{description}\n",
       "\\item[\\$`Probability paired 6s in 24 rolls`] 0.491403876130903\n",
       "\\item[\\$`Probability paired 6s in 25 rolls`] 0.505531546238378\n",
       "\\end{description}\n"
      ],
      "text/markdown": [
       "$`Probability paired 6s in 24 rolls`\n",
       ":   0.491403876130903\n",
       "$`Probability paired 6s in 25 rolls`\n",
       ":   0.505531546238378\n",
       "\n",
       "\n"
      ],
      "text/plain": [
       "$`Probability paired 6s in 24 rolls`\n",
       "[1] 0.4914039\n",
       "\n",
       "$`Probability paired 6s in 25 rolls`\n",
       "[1] 0.5055315\n"
      ]
     },
     "metadata": {},
     "output_type": "display_data"
    }
   ],
   "source": [
    "#1. Write function to sample from die\n",
    "die_roll = function(rolls){\n",
    "    return(sample(1:6,rolls,replace = T))\n",
    "}\n",
    "die_roll(4)\n",
    "#2. Write a loop function to tally sucesses vs failures (define sucesses?)\n",
    "\n",
    "# sucess will be defined as rolling a pair of a chosen number within a set number of rolls of two dice\n",
    "Mere_trials = function(numRuns,rolls,chosen){\n",
    "    results <- list()\n",
    "    successes = 0\n",
    "    for(t in 1:numRuns){\n",
    "        success <- rep(NA, rolls)\n",
    "        d1 <- die_roll(rolls)\n",
    "        d2 <- die_roll(rolls)\n",
    "        d <- list(d1,d2)\n",
    "        for(r in 1:rolls){\n",
    "            if(d1[r] == chosen && d2[r] == d1[r]){\n",
    "                success[r] = 1\n",
    "                num = d1[r]\n",
    "            } else{\n",
    "                success[r] = 0\n",
    "            }\n",
    "        }\n",
    "        if(sum(success)>0){\n",
    "            successes = successes+1\n",
    "        }\n",
    "    }\n",
    "    results[\"Successes\"] <- successes\n",
    "    results[\"Failures\"] <- numRuns - successes\n",
    "    return(results)\n",
    "}\n",
    "\n",
    "Mere_trials(1000,24,6)\n",
    "\n",
    "#3. Run 10000 trials (24 throws 10000 times - 25 throws 10000 times) keeping track of successes vs faiures (from function 2)\n",
    "\n",
    "roll24 = Mere_trials(10000,24,6)\n",
    "roll25 = Mere_trials(10000,25,6)\n",
    "\n",
    "#4. Calculate probabilities for 24 rolls and 25 rolls\n",
    "\n",
    "prob24 = roll24$Successes/(roll24$Successes+roll24$Failures)\n",
    "prob25 = roll25$Successes/(roll25$Successes+roll25$Failures)\n",
    "exprobs = list()\n",
    "exprobs[\"Experimental prob pair 6s in 24\"] = prob24\n",
    "exprobs[\"Experimental prob pair 6s in 25\"] = prob25\n",
    "exprobs\n",
    "\n",
    "#5. Answer if de Mere was right and that we will win with 25 throws, give a mathematical explanation.\n",
    "\n",
    "# de Mere was correct - there was a 1/36 chance of each roll being two sixes which means a 35/36 chance of losing at each roll\n",
    "# raising this probability to the 24th/25th power gives the chance of NOT rolling a pair of sixes within that number of rolls \n",
    "# which can then be subtracted from one to give the probability of having a success - at 24 rolls is just below 0.5 which on \n",
    "# average will yield a loss and at 25 rolls probability is increased to just above 0.5 so on average should yield a win\n",
    "prob2sixes = 1/36\n",
    "probNot2sixes = 1-prob2sixes\n",
    "probNot2sixes24 = probNot2sixes^24\n",
    "probNot2sixes25 = probNot2sixes^25\n",
    "prob2sixes24 = 1-probNot2sixes24\n",
    "prob2sixes25 = 1-probNot2sixes25\n",
    "\n",
    "probs = list()\n",
    "probs[\"Probability paired 6s in 24 rolls\"] = prob2sixes24\n",
    "probs[\"Probability paired 6s in 25 rolls\"] = prob2sixes25\n",
    "probs"
   ]
  },
  {
   "cell_type": "markdown",
   "metadata": {},
   "source": [
    "## 2. Addition rule\n",
    "\n",
    "#### Find the probabilities using the table\n",
    "\n",
    "\n",
    "> 1. Type O or AB.\n",
    "\n",
    "> 2. Type A or AB.\n",
    "\n",
    "> 3. Type AB or Rh negative. \n",
    "\n",
    "> 4. Type O and Negative. \n",
    "\n",
    "> 5. Type AB"
   ]
  },
  {
   "cell_type": "markdown",
   "metadata": {},
   "source": [
    "|Type     |O    |A    |B    |AB |Total |\n",
    "|:--------|:----|:----|:---------|:-------|:-----|\n",
    "|Positive |163  |662  |1513      |1603    |3941  |\n",
    "|Negative |224  |933  |2400      |2337    |5894  |\n",
    "|Total    |387  |1595 |3913      |3940    |9835  |\n"
   ]
  },
  {
   "cell_type": "code",
   "execution_count": 146,
   "metadata": {},
   "outputs": [
    {
     "data": {
      "text/html": [
       "<table>\n",
       "<thead><tr><th scope=col>Type</th><th scope=col>O</th><th scope=col>A</th><th scope=col>B</th><th scope=col>AB</th><th scope=col>Total</th></tr></thead>\n",
       "<tbody>\n",
       "\t<tr><td>Positive</td><td>163     </td><td> 662    </td><td>1513    </td><td>1603    </td><td>3941    </td></tr>\n",
       "\t<tr><td>Negative</td><td>224     </td><td> 933    </td><td>2400    </td><td>2337    </td><td>5894    </td></tr>\n",
       "\t<tr><td>Total   </td><td>387     </td><td>1595    </td><td>3913    </td><td>3940    </td><td>9835    </td></tr>\n",
       "</tbody>\n",
       "</table>\n"
      ],
      "text/latex": [
       "\\begin{tabular}{r|llllll}\n",
       " Type & O & A & B & AB & Total\\\\\n",
       "\\hline\n",
       "\t Positive & 163      &  662     & 1513     & 1603     & 3941    \\\\\n",
       "\t Negative & 224      &  933     & 2400     & 2337     & 5894    \\\\\n",
       "\t Total    & 387      & 1595     & 3913     & 3940     & 9835    \\\\\n",
       "\\end{tabular}\n"
      ],
      "text/markdown": [
       "\n",
       "| Type | O | A | B | AB | Total |\n",
       "|---|---|---|---|---|---|\n",
       "| Positive | 163      |  662     | 1513     | 1603     | 3941     |\n",
       "| Negative | 224      |  933     | 2400     | 2337     | 5894     |\n",
       "| Total    | 387      | 1595     | 3913     | 3940     | 9835     |\n",
       "\n"
      ],
      "text/plain": [
       "  Type     O   A    B    AB   Total\n",
       "1 Positive 163  662 1513 1603 3941 \n",
       "2 Negative 224  933 2400 2337 5894 \n",
       "3 Total    387 1595 3913 3940 9835 "
      ]
     },
     "metadata": {},
     "output_type": "display_data"
    },
    {
     "name": "stdout",
     "output_type": "stream",
     "text": [
      "[1] \"probability type O or type AB = 0.4399593289273\"\n",
      "[1] \"probability type A or type AB = 0.562785968479919\"\n",
      "[1] \"probability type AB or Rh Negative = 0.762277580071174\"\n",
      "[1] \"probability type O or Rh Negative = 0.615861718352822\"\n",
      "[1] \"probability type AB = 0.400610066090493\"\n"
     ]
    }
   ],
   "source": [
    "# initiating data\n",
    "Type = c(\"Positive\",\"Negative\",\"Total\")\n",
    "O = c(163,224,387)\n",
    "A = c(662,933,1595)\n",
    "B = c(1513,2400,3913)\n",
    "AB = c(1603,2337,3940)\n",
    "Total = c(3941,5894,9835)\n",
    "BloodTypes <- data.frame(Type,O,A,B,AB,Total)\n",
    "BloodTypes\n",
    "\n",
    "# Probability of type O or type AB\n",
    "totalO = BloodTypes$O[3]\n",
    "totalAB = BloodTypes$AB[3]\n",
    "totalOandAB = totalO+totalAB\n",
    "totalAll = BloodTypes$Total[3]\n",
    "pOorAB = totalOandAB/totalAll\n",
    "print(paste(\"probability type O or type AB =\",pOorAB))\n",
    "\n",
    "# Probability of type A or type AB\n",
    "totalA = BloodTypes$A[3]\n",
    "totalAAB = totalAB+totalA\n",
    "pAorAB = totalAAB/totalAll\n",
    "print(paste(\"probability type A or type AB =\",pAorAB))\n",
    "\n",
    "# Probability of type AB or Rh negative\n",
    "RhNeg = BloodTypes$Type == \"Negative\"\n",
    "AllRhNeg = BloodTypes[RhNeg,]\n",
    "totalRhNeg = AllRhNeg$Total\n",
    "pRhNegorAB = ((totalAB+totalRhNeg)/totalAll)-(BloodTypes$AB[2]/totalAll)\n",
    "print(paste(\"probability type AB or Rh Negative =\",pRhNegorAB))\n",
    "\n",
    "# Probability of type O and Rh Negative\n",
    "pOandRhNeg = AllRhNeg$O/totalAll\n",
    "pRhNegorO = ((totalO+totalRhNeg)/totalAll)-pOandRhNeg\n",
    "print(paste(\"probability type O or Rh Negative =\",pRhNegorO))\n",
    "\n",
    "# Probability of type AB\n",
    "pAB = totalAB/totalAll\n",
    "print(paste(\"probability type AB =\",pAB))"
   ]
  },
  {
   "cell_type": "markdown",
   "metadata": {},
   "source": [
    "### 3. Multiplication Rule\n",
    "\n",
    "##### Answer questions below using this exercise: If I roll 5 dice, what is the chance of getting all sixes? What is the chance of getting no sixes?\n",
    "\n",
    "Write a simulation in R to obtain the probabilities for each of these two exercises running 10000 trials\n",
    "\n",
    "Hint.\n",
    "\n",
    "Remember that the change to get all 6 in 5 rolls is $(1/6)^5$\n",
    "\n",
    "and to get no sixes is $(5/6)^5$\n"
   ]
  },
  {
   "cell_type": "code",
   "execution_count": 323,
   "metadata": {},
   "outputs": [
    {
     "name": "stdout",
     "output_type": "stream",
     "text": [
      "[1] \"Experimental probability of rolling 5 sixes in 5 rolls = 0.00e+00 | The true probability of rolling 5 sixes in 5 rolls = 1.29e-04\"\n",
      "[1] \"Experimental Probability of rolling no sixes in 5 rolls = 0.3987 | The true probability of rolling no sixes in 5 rolls = 0.401877572016461\"\n"
     ]
    }
   ],
   "source": [
    "#All sixes\n",
    "#1. Write function to sample from die\n",
    "die = function(){\n",
    "    return(sample(1:6,1,replace = T))\n",
    "}\n",
    "#2. Write function to determine if in each 5 rolls we get all sixes (6*5) \n",
    "repeated_roll = function(numRolls){\n",
    "    droll = c()\n",
    "    all6 = 0\n",
    "    for(rolls in 1:numRolls){\n",
    "        droll[rolls] = die()\n",
    "    }\n",
    "    if(sum(droll)/numRolls == 6){\n",
    "        all6 <- 1\n",
    "    }\n",
    "    return(all6)\n",
    "}\n",
    "#3. Run 10000 trials - Hint check sapply function\n",
    "numTrials = 10000\n",
    "successful_trials5six = 0\n",
    "for(trials in 1:numTrials){\n",
    "    result5six = repeated_roll(5)\n",
    "    successful_trials5six = successful_trials5six+result5six\n",
    "}\n",
    "#4. Calculate probabilities \n",
    "exp_prob_5sixes = successful_trials5six/numTrials\n",
    "true_prob_5sixes = (1/6)^5\n",
    "exp_prob_5sixes = formatC(exp_prob_5sixes,format = \"e\",digits = 2)\n",
    "true_prob_5sixes = formatC(true_prob_5sixes,format = \"e\",digits = 2)\n",
    "print(paste(\"Experimental probability of rolling 5 sixes in 5 rolls =\",exp_prob_5sixes,\"| The true probability of rolling 5 sixes in 5 rolls =\",true_prob_5sixes))\n",
    "\n",
    "#No sixes\n",
    "#Repeat 1:4\n",
    "\n",
    "# 1. - will use same die sampling function as before\n",
    "# 2. function to determine if in 5 rolls we get NO sixes\n",
    "repeated_roll_no6 = function(numRolls){\n",
    "    droll = c()\n",
    "    no6 = 1\n",
    "    for(rolls in 1:numRolls){\n",
    "        droll[rolls] = die()\n",
    "        if(droll[rolls] == 6){\n",
    "            no6 = 0\n",
    "        }\n",
    "    }\n",
    "    return(no6)\n",
    "}\n",
    "# 3. Run 10000 trials\n",
    "numTrials = 10000\n",
    "successful_trialsNo6 = 0\n",
    "for(trials in 1:numTrials){\n",
    "    resultNo6 = repeated_roll_no6(5)\n",
    "    successful_trialsNo6 = successful_trialsNo6+resultNo6\n",
    "}\n",
    "# 4. calculate probabilities\n",
    "exp_prob_No6 = successful_trialsNo6/numTrials\n",
    "true_prob_No6 = (5/6)^5\n",
    "print(paste(\"Experimental Probability of rolling no sixes in 5 rolls =\",exp_prob_No6,\"| The true probability of rolling no sixes in 5 rolls =\",true_prob_No6))"
   ]
  },
  {
   "cell_type": "markdown",
   "metadata": {},
   "source": [
    "### 4. Conditional Probability\n",
    "\n",
    "Consider a family that has three children. We are interested in the children's genders. Our sample space is S={(G,G,G),(G,G,B),(G,B,G),(G,B,B),(B,G,G),(B,G,B),(B,B,G),(B,B,B)}. Also assume that all eight possible outcomes are equally likely.\n",
    "\n",
    "1. What is the probability that the three children are girls given that the first child is a girl?\n",
    "\n",
    "2. What is the probability that At least two children are boys given that the first child is a boy?"
   ]
  },
  {
   "cell_type": "code",
   "execution_count": 327,
   "metadata": {},
   "outputs": [
    {
     "name": "stderr",
     "output_type": "stream",
     "text": [
      "Warning message:\n",
      "\"package 'gtool' is not available (for R version 3.6.1)\""
     ]
    },
    {
     "ename": "ERROR",
     "evalue": "Error in permutations(3, 2, genders, repeats.allowed = T): could not find function \"permutations\"\n",
     "output_type": "error",
     "traceback": [
      "Error in permutations(3, 2, genders, repeats.allowed = T): could not find function \"permutations\"\nTraceback:\n"
     ]
    }
   ],
   "source": [
    "install.packages(\"gtool\")\n",
    "genders = c(\"G\",\"B\")\n",
    "permutations(3,2,genders,repeats.allowed = T)"
   ]
  },
  {
   "cell_type": "markdown",
   "metadata": {
    "collapsed": true
   },
   "source": [
    "### 5. Bayes Theorem\n",
    "\n",
    "What is the probability that given a positive mamograph a woman has a postivite cancer diagnosis, if breast cancer incident rate is 1%, the positivity rate for a mamograph if a patient has cancer is 90% and there is a false positive rate of 8& for this exam."
   ]
  },
  {
   "cell_type": "code",
   "execution_count": null,
   "metadata": {},
   "outputs": [],
   "source": []
  }
 ],
 "metadata": {
  "kernelspec": {
   "display_name": "R",
   "language": "R",
   "name": "ir"
  },
  "language_info": {
   "codemirror_mode": "r",
   "file_extension": ".r",
   "mimetype": "text/x-r-source",
   "name": "R",
   "pygments_lexer": "r",
   "version": "3.6.1"
  }
 },
 "nbformat": 4,
 "nbformat_minor": 2
}
