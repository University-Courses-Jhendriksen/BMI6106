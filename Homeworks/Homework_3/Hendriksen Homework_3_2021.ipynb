{
 "cells": [
  {
   "cell_type": "markdown",
   "metadata": {},
   "source": [
    "## Homework 1"
   ]
  },
  {
   "cell_type": "markdown",
   "metadata": {},
   "source": [
    "### 1. History of Probability\n",
    "It is said that de Mere had been betting that, in four rolls of a die, at least one six would turn up. He was winning consistently and, to get more people to play, he changed the game to bet that, in 24 rolls of two dice, a pair of sixes would turn up. It is claimed that de Mere lost with 24 and felt that 25 rolls were necessary to make the game favorable. "
   ]
  },
  {
   "cell_type": "code",
   "execution_count": 202,
   "metadata": {},
   "outputs": [
    {
     "data": {
      "text/html": [
       "<ol class=list-inline>\n",
       "\t<li>6</li>\n",
       "\t<li>5</li>\n",
       "\t<li>4</li>\n",
       "\t<li>3</li>\n",
       "</ol>\n"
      ],
      "text/latex": [
       "\\begin{enumerate*}\n",
       "\\item 6\n",
       "\\item 5\n",
       "\\item 4\n",
       "\\item 3\n",
       "\\end{enumerate*}\n"
      ],
      "text/markdown": [
       "1. 6\n",
       "2. 5\n",
       "3. 4\n",
       "4. 3\n",
       "\n",
       "\n"
      ],
      "text/plain": [
       "[1] 6 5 4 3"
      ]
     },
     "metadata": {},
     "output_type": "display_data"
    },
    {
     "name": "stderr",
     "output_type": "stream",
     "text": [
      "Warning message in results[\"Successes\"] <- success:\n",
      "\"number of items to replace is not a multiple of replacement length\"Warning message in results[\"Failures\"] <- 1000 - success:\n",
      "\"number of items to replace is not a multiple of replacement length\""
     ]
    },
    {
     "data": {
      "text/html": [
       "<dl>\n",
       "\t<dt>$Successes</dt>\n",
       "\t\t<dd>&lt;NA&gt;</dd>\n",
       "\t<dt>$Failures</dt>\n",
       "\t\t<dd>&lt;NA&gt;</dd>\n",
       "\t<dt>$dice</dt>\n",
       "\t\t<dd><ol class=list-inline>\n",
       "\t<li>6</li>\n",
       "\t<li>4</li>\n",
       "\t<li>5</li>\n",
       "\t<li>4</li>\n",
       "\t<li>2</li>\n",
       "\t<li>2</li>\n",
       "\t<li>6</li>\n",
       "\t<li>1</li>\n",
       "\t<li>3</li>\n",
       "\t<li>3</li>\n",
       "\t<li>1</li>\n",
       "\t<li>2</li>\n",
       "\t<li>3</li>\n",
       "\t<li>2</li>\n",
       "\t<li>6</li>\n",
       "\t<li>5</li>\n",
       "\t<li>2</li>\n",
       "\t<li>1</li>\n",
       "\t<li>1</li>\n",
       "\t<li>3</li>\n",
       "\t<li>2</li>\n",
       "\t<li>5</li>\n",
       "\t<li>3</li>\n",
       "\t<li>1</li>\n",
       "</ol>\n",
       "</dd>\n",
       "\t<dt>$d2</dt>\n",
       "\t\t<dd><ol class=list-inline>\n",
       "\t<li>5</li>\n",
       "\t<li>3</li>\n",
       "\t<li>3</li>\n",
       "\t<li>6</li>\n",
       "\t<li>5</li>\n",
       "\t<li>4</li>\n",
       "\t<li>6</li>\n",
       "\t<li>5</li>\n",
       "\t<li>1</li>\n",
       "\t<li>5</li>\n",
       "\t<li>1</li>\n",
       "\t<li>2</li>\n",
       "\t<li>2</li>\n",
       "\t<li>6</li>\n",
       "\t<li>2</li>\n",
       "\t<li>1</li>\n",
       "\t<li>3</li>\n",
       "\t<li>5</li>\n",
       "\t<li>1</li>\n",
       "\t<li>5</li>\n",
       "\t<li>2</li>\n",
       "\t<li>4</li>\n",
       "\t<li>3</li>\n",
       "\t<li>3</li>\n",
       "</ol>\n",
       "</dd>\n",
       "</dl>\n"
      ],
      "text/latex": [
       "\\begin{description}\n",
       "\\item[\\$Successes] <NA>\n",
       "\\item[\\$Failures] <NA>\n",
       "\\item[\\$dice] \\begin{enumerate*}\n",
       "\\item 6\n",
       "\\item 4\n",
       "\\item 5\n",
       "\\item 4\n",
       "\\item 2\n",
       "\\item 2\n",
       "\\item 6\n",
       "\\item 1\n",
       "\\item 3\n",
       "\\item 3\n",
       "\\item 1\n",
       "\\item 2\n",
       "\\item 3\n",
       "\\item 2\n",
       "\\item 6\n",
       "\\item 5\n",
       "\\item 2\n",
       "\\item 1\n",
       "\\item 1\n",
       "\\item 3\n",
       "\\item 2\n",
       "\\item 5\n",
       "\\item 3\n",
       "\\item 1\n",
       "\\end{enumerate*}\n",
       "\n",
       "\\item[\\$d2] \\begin{enumerate*}\n",
       "\\item 5\n",
       "\\item 3\n",
       "\\item 3\n",
       "\\item 6\n",
       "\\item 5\n",
       "\\item 4\n",
       "\\item 6\n",
       "\\item 5\n",
       "\\item 1\n",
       "\\item 5\n",
       "\\item 1\n",
       "\\item 2\n",
       "\\item 2\n",
       "\\item 6\n",
       "\\item 2\n",
       "\\item 1\n",
       "\\item 3\n",
       "\\item 5\n",
       "\\item 1\n",
       "\\item 5\n",
       "\\item 2\n",
       "\\item 4\n",
       "\\item 3\n",
       "\\item 3\n",
       "\\end{enumerate*}\n",
       "\n",
       "\\end{description}\n"
      ],
      "text/markdown": [
       "$Successes\n",
       ":   &lt;NA&gt;\n",
       "$Failures\n",
       ":   &lt;NA&gt;\n",
       "$dice\n",
       ":   1. 6\n",
       "2. 4\n",
       "3. 5\n",
       "4. 4\n",
       "5. 2\n",
       "6. 2\n",
       "7. 6\n",
       "8. 1\n",
       "9. 3\n",
       "10. 3\n",
       "11. 1\n",
       "12. 2\n",
       "13. 3\n",
       "14. 2\n",
       "15. 6\n",
       "16. 5\n",
       "17. 2\n",
       "18. 1\n",
       "19. 1\n",
       "20. 3\n",
       "21. 2\n",
       "22. 5\n",
       "23. 3\n",
       "24. 1\n",
       "\n",
       "\n",
       "\n",
       "$d2\n",
       ":   1. 5\n",
       "2. 3\n",
       "3. 3\n",
       "4. 6\n",
       "5. 5\n",
       "6. 4\n",
       "7. 6\n",
       "8. 5\n",
       "9. 1\n",
       "10. 5\n",
       "11. 1\n",
       "12. 2\n",
       "13. 2\n",
       "14. 6\n",
       "15. 2\n",
       "16. 1\n",
       "17. 3\n",
       "18. 5\n",
       "19. 1\n",
       "20. 5\n",
       "21. 2\n",
       "22. 4\n",
       "23. 3\n",
       "24. 3\n",
       "\n",
       "\n",
       "\n",
       "\n",
       "\n"
      ],
      "text/plain": [
       "$Successes\n",
       "[1] NA\n",
       "\n",
       "$Failures\n",
       "[1] NA\n",
       "\n",
       "$dice\n",
       " [1] 6 4 5 4 2 2 6 1 3 3 1 2 3 2 6 5 2 1 1 3 2 5 3 1\n",
       "\n",
       "$d2\n",
       " [1] 5 3 3 6 5 4 6 5 1 5 1 2 2 6 2 1 3 5 1 5 2 4 3 3\n"
      ]
     },
     "metadata": {},
     "output_type": "display_data"
    },
    {
     "data": {
      "text/html": [
       "<ol class=list-inline>\n",
       "\t<li>&lt;NA&gt;</li>\n",
       "\t<li>&lt;NA&gt;</li>\n",
       "\t<li>&lt;NA&gt;</li>\n",
       "\t<li>&lt;NA&gt;</li>\n",
       "\t<li>&lt;NA&gt;</li>\n",
       "\t<li>&lt;NA&gt;</li>\n",
       "\t<li>&lt;NA&gt;</li>\n",
       "\t<li>&lt;NA&gt;</li>\n",
       "\t<li>&lt;NA&gt;</li>\n",
       "\t<li>&lt;NA&gt;</li>\n",
       "\t<li>&lt;NA&gt;</li>\n",
       "\t<li>&lt;NA&gt;</li>\n",
       "\t<li>&lt;NA&gt;</li>\n",
       "\t<li>&lt;NA&gt;</li>\n",
       "\t<li>&lt;NA&gt;</li>\n",
       "\t<li>&lt;NA&gt;</li>\n",
       "\t<li>&lt;NA&gt;</li>\n",
       "\t<li>&lt;NA&gt;</li>\n",
       "\t<li>&lt;NA&gt;</li>\n",
       "\t<li>&lt;NA&gt;</li>\n",
       "\t<li>&lt;NA&gt;</li>\n",
       "\t<li>&lt;NA&gt;</li>\n",
       "\t<li>&lt;NA&gt;</li>\n",
       "\t<li>&lt;NA&gt;</li>\n",
       "</ol>\n"
      ],
      "text/latex": [
       "\\begin{enumerate*}\n",
       "\\item <NA>\n",
       "\\item <NA>\n",
       "\\item <NA>\n",
       "\\item <NA>\n",
       "\\item <NA>\n",
       "\\item <NA>\n",
       "\\item <NA>\n",
       "\\item <NA>\n",
       "\\item <NA>\n",
       "\\item <NA>\n",
       "\\item <NA>\n",
       "\\item <NA>\n",
       "\\item <NA>\n",
       "\\item <NA>\n",
       "\\item <NA>\n",
       "\\item <NA>\n",
       "\\item <NA>\n",
       "\\item <NA>\n",
       "\\item <NA>\n",
       "\\item <NA>\n",
       "\\item <NA>\n",
       "\\item <NA>\n",
       "\\item <NA>\n",
       "\\item <NA>\n",
       "\\end{enumerate*}\n"
      ],
      "text/markdown": [
       "1. &lt;NA&gt;\n",
       "2. &lt;NA&gt;\n",
       "3. &lt;NA&gt;\n",
       "4. &lt;NA&gt;\n",
       "5. &lt;NA&gt;\n",
       "6. &lt;NA&gt;\n",
       "7. &lt;NA&gt;\n",
       "8. &lt;NA&gt;\n",
       "9. &lt;NA&gt;\n",
       "10. &lt;NA&gt;\n",
       "11. &lt;NA&gt;\n",
       "12. &lt;NA&gt;\n",
       "13. &lt;NA&gt;\n",
       "14. &lt;NA&gt;\n",
       "15. &lt;NA&gt;\n",
       "16. &lt;NA&gt;\n",
       "17. &lt;NA&gt;\n",
       "18. &lt;NA&gt;\n",
       "19. &lt;NA&gt;\n",
       "20. &lt;NA&gt;\n",
       "21. &lt;NA&gt;\n",
       "22. &lt;NA&gt;\n",
       "23. &lt;NA&gt;\n",
       "24. &lt;NA&gt;\n",
       "\n",
       "\n"
      ],
      "text/plain": [
       " [1] NA NA NA NA NA NA NA NA NA NA NA NA NA NA NA NA NA NA NA NA NA NA NA NA"
      ]
     },
     "metadata": {},
     "output_type": "display_data"
    },
    {
     "data": {
      "text/html": [
       "1"
      ],
      "text/latex": [
       "1"
      ],
      "text/markdown": [
       "1"
      ],
      "text/plain": [
       "[1] 1"
      ]
     },
     "metadata": {},
     "output_type": "display_data"
    },
    {
     "data": {
      "text/html": [
       "3"
      ],
      "text/latex": [
       "3"
      ],
      "text/markdown": [
       "3"
      ],
      "text/plain": [
       "[1] 3"
      ]
     },
     "metadata": {},
     "output_type": "display_data"
    },
    {
     "data": {
      "text/html": [
       "4"
      ],
      "text/latex": [
       "4"
      ],
      "text/markdown": [
       "4"
      ],
      "text/plain": [
       "[1] 4"
      ]
     },
     "metadata": {},
     "output_type": "display_data"
    }
   ],
   "source": [
    "#1. Write function to sample from die\n",
    "die_roll = function(rolls){\n",
    "    return(sample(1:6,rolls,replace = T))\n",
    "}\n",
    "die_roll(4)\n",
    "#2. Write a loop function to tally sucesses vs failures (define sucesses?)\n",
    "\n",
    "# sucess will be defined as rolling a pair of sixes within a set number of rolls of two dice\n",
    "# Mere_trials = function(numRuns,rolls){\n",
    "    success <- rep(NA, 24)\n",
    "    results <- list()\n",
    "    for(t in range(1:1000)){\n",
    "        d1 <- die_roll(24)\n",
    "        d2 <- die_roll(24)\n",
    "        d <- list(d1,d2)\n",
    "        for(r in range(1:24)){\n",
    "            if(d1[r] == d2[r]){\n",
    "#                 success[r] = 1\n",
    "                num = d1[r]\n",
    "            } else{\n",
    "#                 success[r] = 0\n",
    "            }\n",
    "        }\n",
    "    }\n",
    "    results[\"Successes\"] <- success\n",
    "    results[\"Failures\"] <- 1000 - success\n",
    "    results[\"dice\"] <- d[1]\n",
    "    results[\"d2\"] <- d[2]\n",
    "    return(results)\n",
    "    return(success)\n",
    "    return(d1[r])\n",
    "    return(d2[r])\n",
    "    return(num)\n",
    "# }\n",
    "# Mere_trials(1000,60)\n",
    "\n",
    "#3. Run 10000 trials (24 throws 10000 times - 25 throws 10000 times) keeping track of successes vs faiures (from function 2)\n",
    "#4. Calculate probabilities for 24 rolls and 25 rolls\n",
    "#5. Answer if de Mere was right and that we will win with 25 throws, give a mathematical explanation."
   ]
  },
  {
   "cell_type": "markdown",
   "metadata": {},
   "source": [
    "## 2. Addition rule\n",
    "\n",
    "#### Find the probabilities using the table\n",
    "\n",
    "\n",
    "> 1. Type O or AB.\n",
    "\n",
    "> 2. Type A or AB.\n",
    "\n",
    "> 3. Type AB or Rh negative. \n",
    "\n",
    "> 4. Type O and Negative. \n",
    "\n",
    "> 5. Type AB"
   ]
  },
  {
   "cell_type": "markdown",
   "metadata": {},
   "source": [
    "|Type     |O    |A    |B    |AB |Total |\n",
    "|:--------|:----|:----|:---------|:-------|:-----|\n",
    "|Positive |163  |662  |1513      |1603    |3941  |\n",
    "|Negative |224  |933  |2400      |2337    |5894  |\n",
    "|Total    |387  |1595 |3913      |3940    |9835  |\n"
   ]
  },
  {
   "cell_type": "markdown",
   "metadata": {},
   "source": [
    "### 3. Multiplication Rule\n",
    "\n",
    "##### Answer questions below using this exercise: If I roll 5 dice, what is the chance of getting all sixes? What is the chance of getting no sixes?\n",
    "\n",
    "Write a simulation in R to obtain the probabilities for each of these two exercises running 10000 trials\n",
    "\n",
    "Hint.\n",
    "\n",
    "Remember that the change to get all 6 in 5 rolls is $(1/6)^5$\n",
    "\n",
    "and to get no sixes is $(5/6)^5$\n"
   ]
  },
  {
   "cell_type": "code",
   "execution_count": null,
   "metadata": {
    "collapsed": true
   },
   "outputs": [],
   "source": [
    "#All sixes\n",
    "#1. Write function to sample from die\n",
    "#2. Write function to determine if in each 5 rolls we get all sixes (6*5) \n",
    "#3. Run 10000 trials - Hint check sapply function\n",
    "#4. Calculate probabilities \n",
    "#No sixes\n",
    "#Repeat 1:4\n"
   ]
  },
  {
   "cell_type": "markdown",
   "metadata": {},
   "source": [
    "### 4. Conditional Probability\n",
    "\n",
    "Consider a family that has three children. We are interested in the children's genders. Our sample space is S={(G,G,G),(G,G,B),(G,B,G),(G,B,B),(B,G,G),(B,G,B),(B,B,G),(B,B,B)}. Also assume that all eight possible outcomes are equally likely.\n",
    "\n",
    "1. What is the probability that the three children are girls given that the first child is a girl?\n",
    "\n",
    "2. What is the probability that At least two children are boys given that the first child is a boy?"
   ]
  },
  {
   "cell_type": "code",
   "execution_count": null,
   "metadata": {},
   "outputs": [],
   "source": []
  },
  {
   "cell_type": "markdown",
   "metadata": {
    "collapsed": true
   },
   "source": [
    "### 5. Bayes Theorem\n",
    "\n",
    "What is the probability that given a positive mamograph a woman has a postivite cancer diagnosis, if breast cancer incident rate is 1%, the positivity rate for a mamograph if a patient has cancer is 90% and there is a false positive rate of 8& for this exam."
   ]
  },
  {
   "cell_type": "code",
   "execution_count": null,
   "metadata": {},
   "outputs": [],
   "source": []
  }
 ],
 "metadata": {
  "kernelspec": {
   "display_name": "R",
   "language": "R",
   "name": "ir"
  },
  "language_info": {
   "codemirror_mode": "r",
   "file_extension": ".r",
   "mimetype": "text/x-r-source",
   "name": "R",
   "pygments_lexer": "r",
   "version": "3.6.1"
  }
 },
 "nbformat": 4,
 "nbformat_minor": 2
}
