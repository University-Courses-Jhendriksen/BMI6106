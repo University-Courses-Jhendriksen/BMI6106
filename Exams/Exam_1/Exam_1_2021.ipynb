{
 "cells": [
  {
   "cell_type": "markdown",
   "metadata": {},
   "source": [
    "### 1. we classify 2000 email in two groups: 1000 emails as spam and 1000 emails as non-spam. 210 of the spam emails contained the phrase This isn’t spam, 99 had the word prize and 110 the word prince. Of the 99 that contained the word prize, 79 also contained the word prince. On the other hand, of the 1000 non-spam emails, only 23 had the phrase this isn’t spam, 80 the word prize and 110 the word prince. Of the 80 that contained the word prize 8 also contained the word prince.\n",
    "\n",
    "<br>\n",
    "<font color=blue>Assuming that the a priori probability of any message being spam is 0.5, what is the probability that an email is spam given it contains the phrase This isn't spam</font>\n",
    "\n",
    "Hint: Bayes Theorem of the form:\n",
    "\n",
    "$$Pr[ K | C ] = \\frac{ \\Pr[ C | K] \\Pr[K] }{ \\Pr[ C | K ] \\Pr[ K ] +\n",
    "               \\Pr[ C | K^c ] \\Pr[ K^c ] } $$\n",
    "\n",
    "##### P(spam) = 0.5; P(non-spam) = 0.5"
   ]
  },
  {
   "cell_type": "code",
   "execution_count": 3,
   "metadata": {},
   "outputs": [
    {
     "name": "stdout",
     "output_type": "stream",
     "text": [
      "The probability that an email is spam given it says that it's not is: 0.450644"
     ]
    }
   ],
   "source": [
    "Pspam = 0.5\n",
    "PnotSpam = 0.5\n",
    "PphraseSpam = 210/1000\n",
    "PphraseNotSpam = 23/1000\n",
    "Pphrase = PphraseSpam+PphraseNotSpam\n",
    "\n",
    "PspamGivenPhrase = PphraseSpam*Pspam/Pphrase\n",
    "cat(sprintf(\"The probability that an email is spam given it says that it's not is: %f\",PspamGivenPhrase))"
   ]
  },
  {
   "cell_type": "markdown",
   "metadata": {},
   "source": [
    "### 2. From the Cleveland Heart Disease dataset (attached to this folder - [ https://archive.ics.uci.edu/ml/datasets/Heart+Disease ] ) if we pick 25 patients randomly, find the probability that at least 3 have less than 50 percent diameter narrowing (num variable 14 in dataset state 0)\n",
    "\n",
    "<br>\n",
    "<font color=blue>Answer this question using one of the distributions seen in class without using the R functions, but by showing the calculations worked by hand. You can always confirm the answer with the R function</font>"
   ]
  },
  {
   "cell_type": "code",
   "execution_count": 20,
   "metadata": {},
   "outputs": [
    {
     "data": {
      "text/html": [
       "0.999985374834897"
      ],
      "text/latex": [
       "0.999985374834897"
      ],
      "text/markdown": [
       "0.999985374834897"
      ],
      "text/plain": [
       "[1] 0.9999854"
      ]
     },
     "metadata": {},
     "output_type": "display_data"
    },
    {
     "data": {
      "text/html": [
       "0.999993242393122"
      ],
      "text/latex": [
       "0.999993242393122"
      ],
      "text/markdown": [
       "0.999993242393122"
      ],
      "text/plain": [
       "[1] 0.9999932"
      ]
     },
     "metadata": {},
     "output_type": "display_data"
    }
   ],
   "source": [
    "clev_header = c(\"age\",\"sex\",\"cp\",\"trestbps\",\"chol\",\"fbs\",\"restecg\",\"thalach\",\"exang\",\"oldpeak\",\"slope\",\"ca\",\"thal\",\"narrowing\")  \n",
    "cleveland <- read.csv(\"cleveland.csv\",header = FALSE)\n",
    "colnames(cleveland) = clev_header\n",
    "count_low_narrowing <- sum(cleveland$narrowing == 0)\n",
    "num_patients <- length(cleveland$age)\n",
    "\n",
    "historical_prob_low_narrowing <- count_low_narrowing/num_patients\n",
    "historical_prob_narrowing <- 1-historical_prob_low_narrowing\n",
    "\n",
    "# using a binomial distribution\n",
    "# finding at least 3 with low narrowing is same as finding 1-probability(3 or fewer have low narrowing)\n",
    "k = 1:3\n",
    "n = 25\n",
    "prob_3_fewer = choose(n,k)*(historical_prob_low_narrowing^k)*(historical_prob_narrowing^(n-k))\n",
    "prob_3_fewer = sum(prob_3_fewer)\n",
    "prob_atleast_3 = 1-prob_3_fewer\n",
    "prob_atleast_3\n",
    "\n",
    "# using a hypergeometric\n",
    "K = count_low_narrowing\n",
    "N = num_patients\n",
    "Hprob_1to3 = (choose(K,k)*choose(N-K,n-k))/choose(N,n)\n",
    "Hprob_1to3 = 1-sum(Hprob_1to3)\n",
    "Hprob_1to3"
   ]
  },
  {
   "cell_type": "markdown",
   "metadata": {},
   "source": [
    "### 3. From the Cleveland Heart Disease dataset assume that patients are examined at random what is the average number of patients before the first patient with cholesterol levels above than 300 is encountered?\n",
    "\n",
    "<br>\n",
    "<font color=blue>Answer this question using one of the distributions seen in class without using the R functions, but by showing the calculations worked by hand. You can always confirm the answer with the R function</font>"
   ]
  },
  {
   "cell_type": "code",
   "execution_count": 48,
   "metadata": {},
   "outputs": [
    {
     "name": "stdout",
     "output_type": "stream",
     "text": [
      "Average number of patients before one with cholesterol above 300: 6.886364 or - since partial patients aren't a thing: 6"
     ]
    }
   ],
   "source": [
    "count_greater300 = sum(cleveland$chol > 300)\n",
    "historical_p_greater300 = count_greater300/num_patients\n",
    "\n",
    "# using a geometric distribution to determine number of selections needed\n",
    "avg_num = 1/historical_p_greater300\n",
    "pat_before = floor(avg_num)\n",
    "\n",
    "cat(sprintf(\"Average number of patients before one with cholesterol above 300: %f or - since partial patients aren't a thing: %s\",avg_num,pat_before))"
   ]
  },
  {
   "cell_type": "markdown",
   "metadata": {},
   "source": [
    "### 4. From the Cleveland Heart Disease dataset create a contingency table that tabulates the relationship between chest pain and the diagnosis of heart disease?\n",
    "\n",
    "<br>\n",
    "<font color=blue>\n",
    "1. Calculate the marginal probability of a diagnosis of a vessel diameter narrowing larger than 50%<br>\n",
    "2. Calculate the joint probability of atypical angina and a vessel diameter narrowing larger than 50%<br>\n",
    "3. What is the probability of a diagnosis of 1 given that the patient has a typical angina?<br>\n",
    "4. If a patient has asymptomatic angina what is the probability of a diagnosis of 0 (diameter narrowing less than 50%), what is the probability of a diagnosis of 1? <br></font>\n",
    "\n",
    "<br>\n",
    "<font color=blue> Generate the contingency table using the R code as seen in class</font>\n"
   ]
  },
  {
   "cell_type": "code",
   "execution_count": 47,
   "metadata": {},
   "outputs": [
    {
     "data": {
      "text/plain": [
       "   \n",
       "      0   1   2   3   4\n",
       "  0 141  30  14  12   7\n",
       "  1  23  25  22  23   6"
      ]
     },
     "metadata": {},
     "output_type": "display_data"
    },
    {
     "data": {
      "text/plain": [
       "                \n",
       "                 Less than 50% narrowing More than 50% narrowing\n",
       "  Angina Present                      23                      76\n",
       "  No Angina                          141                      63"
      ]
     },
     "metadata": {},
     "output_type": "display_data"
    }
   ],
   "source": [
    "table(cleveland$exang,cleveland$narrowing)\n",
    "\n",
    "# making it read better\n",
    "cleveland2 <- data.frame(cleveland)\n",
    "for(k in 1:num_patients){\n",
    "    if(cleveland$exang[k] == 1){\n",
    "        cleveland2$exang[k] = \"Angina Present\"\n",
    "    } else{\n",
    "        cleveland2$exang[k] = \"No Angina\"\n",
    "    }\n",
    "    if(cleveland$narrowing[k] >= 1){\n",
    "        cleveland2$narrowing[k] = \"More than 50% narrowing\"\n",
    "    } else{\n",
    "        cleveland2$narrowing[k] = \"Less than 50% narrowing\"\n",
    "    }\n",
    "}\n",
    "\n",
    "table(cleveland2$exang,cleveland2$narrowing)\n"
   ]
  },
  {
   "cell_type": "markdown",
   "metadata": {},
   "source": [
    "## 5. Markov Chains\n",
    "\n",
    "1. As explained in class, create a function in R (or python) that simulates the following random walk based on the conditional probabilities from the transition graph given below (Let's define state A as state 0):\n",
    "\n",
    "2. Once the function is created, simulate 500 random walks of 10 steps each (you choose the initial state - can be a constant or a user defined variable). \n",
    "\n",
    "Example of ONE random walk 2,3,2,3,4,4,4,4,4,4 (remember that 0 and 4 are absorbing states). \n",
    "\n",
    "3. Plot the 500 simulations.\n",
    "\n",
    "4. Capture each one of the 500 walks last state (at step 10) and create a table of frequencies for each one of the states. it should looks something like\n",
    "\n",
    "|State  |Count|Frequency|\n",
    "|:------|:----|:--------|\n",
    "|0      |100  |0.2      |\n",
    "|1      |100  |0.2      |\n",
    "|2      |100  |0.2      |\n",
    "|3      |100  |0.2      |\n",
    "|4      |100  |0.2      |\n",
    "|total  |500  |1.0      |"
   ]
  },
  {
   "attachments": {
    "absorbing_markov_chain.png": {
     "image/png": "[encoded data removed]"
    }
   },
   "cell_type": "markdown",
   "metadata": {},
   "source": [
    "![absorbing_markov_chain.png](attachment:absorbing_markov_chain.png)"
   ]
  },
  {
   "cell_type": "code",
   "execution_count": 269,
   "metadata": {},
   "outputs": [
    {
     "data": {
      "text/html": [
       "<ol class=list-inline>\n",
       "\t<li>2</li>\n",
       "\t<li>3</li>\n",
       "\t<li>4</li>\n",
       "\t<li>5</li>\n",
       "\t<li>5</li>\n",
       "\t<li>5</li>\n",
       "\t<li>5</li>\n",
       "\t<li>5</li>\n",
       "\t<li>5</li>\n",
       "\t<li>5</li>\n",
       "</ol>\n"
      ],
      "text/latex": [
       "\\begin{enumerate*}\n",
       "\\item 2\n",
       "\\item 3\n",
       "\\item 4\n",
       "\\item 5\n",
       "\\item 5\n",
       "\\item 5\n",
       "\\item 5\n",
       "\\item 5\n",
       "\\item 5\n",
       "\\item 5\n",
       "\\end{enumerate*}\n"
      ],
      "text/markdown": [
       "1. 2\n",
       "2. 3\n",
       "3. 4\n",
       "4. 5\n",
       "5. 5\n",
       "6. 5\n",
       "7. 5\n",
       "8. 5\n",
       "9. 5\n",
       "10. 5\n",
       "\n",
       "\n"
      ],
      "text/plain": [
       " [1] 2 3 4 5 5 5 5 5 5 5"
      ]
     },
     "metadata": {},
     "output_type": "display_data"
    }
   ],
   "source": [
    "##This is an example of the code, but you can create the functions and the plots anyway you want (even in python)\n",
    "\n",
    "# library(markovchain)\n",
    "\n",
    "#1. create function that produces a random walk of size N\n",
    "\n",
    "####Random Walk function\n",
    "#N = number of steps in the walk\n",
    "#Ini_prob = initial state\n",
    "#P_mat = Probability matrix\n",
    "Sim_Markov=function(N,Ini_prob,P_mat,initial_node) {\n",
    "  #write function that generates one random walk sampling from the initial state....\n",
    "    newP = Ini_prob*P_mat\n",
    "    b = matrix(0,1,N)\n",
    "    b[1] = initial_node\n",
    "    for(k in 2:N){\n",
    "        b[k] = sample(c(1:length(Ini_prob)),1,replace=T,newP[b[k-1],])\n",
    "    }\n",
    "    b = as.vector(b)\n",
    "  return(b)\n",
    "}\n",
    "\n",
    "#2. Define the initial state Ini_prob - different examples\n",
    "Ini_prob=c(0.0005,0.4,0.199,0.4,0.0005)\n",
    "# Ini_prob=c(0.2,0.2,0.2,0.2,0.2)\n",
    "# Ini_prob=c(0,0,1,0,0)\n",
    "\n",
    "#3. Define the transition probabilities matrix\n",
    "P_mat=matrix(0,5,5)\n",
    "P_mat[1,]=c(1,0,0,0,0)\n",
    "P_mat[2,]=c(0.5,0,0.5,0,0)\n",
    "P_mat[3,]=c(0,0,0,0.5,0.5)\n",
    "P_mat[4,]=c(0,0,0.5,0,0.5)\n",
    "P_mat[5,]=c(0,0,0,0,1)\n",
    "\n",
    "#Number of steps\n",
    "Nst=10\n",
    "##Run one ramdom walk - for testing\n",
    "X=Sim_Markov(Nst,Ini_prob,P_mat,2)\n",
    "\n",
    "X\n",
    "\n",
    "# e.g. 3,2,1,1,1,1,1,1,1,1"
   ]
  },
  {
   "cell_type": "code",
   "execution_count": 272,
   "metadata": {},
   "outputs": [
    {
     "ename": "ERROR",
     "evalue": "Error in alpha(\"blue\", 0.2): could not find function \"alpha\"\n",
     "output_type": "error",
     "traceback": [
      "Error in alpha(\"blue\", 0.2): could not find function \"alpha\"\nTraceback:\n",
      "1. plot(steps, rand_walks[1, ] - 1, type = \"l\", ylim = c(0, 4), \n .     ylab = \"State\", xlab = \"Number of Steps\", main = \"Random Walk with initial state = 1\", \n .     col = alpha(\"blue\", 0.2))",
      "2. plot.default(steps, rand_walks[1, ] - 1, type = \"l\", ylim = c(0, \n .     4), ylab = \"State\", xlab = \"Number of Steps\", main = \"Random Walk with initial state = 1\", \n .     col = alpha(\"blue\", 0.2))",
      "3. plot.xy(xy, type, ...)"
     ]
    },
    {
     "data": {
      "image/png": "[encoded data removed]",
      "text/plain": [
       "plot without title"
      ]
     },
     "metadata": {},
     "output_type": "display_data"
    }
   ],
   "source": [
    "# Run the 500 simulations\n",
    "rand_walks = matrix(0,500,10)\n",
    "for(k in 1:500){\n",
    "    rand_walks[k,] = Sim_Markov(10,Ini_prob,P_mat,2)\n",
    "}\n",
    "\n",
    "# test plot 1 random walk\n",
    "steps = 1:10\n",
    "plot(steps,rand_walks[1,]-1,type = 'l',ylim=c(0,4),ylab=\"State\",xlab=\"Number of Steps\",main=\"Random Walk with initial state = 1\",col = alpha(\"blue\",0.2))\n",
    "for(k in 2:500){\n",
    "    lines(steps,rand_walks[k,]-1)\n",
    "}"
   ]
  },
  {
   "cell_type": "code",
   "execution_count": null,
   "metadata": {},
   "outputs": [],
   "source": [
    "##plot the 500 simulations\n",
    "\n",
    "##an option is to look something like this, where I am plotting each random walk and change the color to red \n",
    "##if the state is 0 or 5, green for the others. "
   ]
  },
  {
   "cell_type": "code",
   "execution_count": null,
   "metadata": {},
   "outputs": [],
   "source": [
    "###Create table of frequencies"
   ]
  },
  {
   "cell_type": "markdown",
   "metadata": {},
   "source": [
    "## Bonus 1 optional\n",
    "### From the Cleveland Heart Disease dataset:\n",
    "\n",
    "<br>\n",
    "<font color=blue>\n",
    "1. calculate the mean and variance for the maximum heart rate achive during the exercise test, <br>\n",
    "2. then generate 10000 boostraps and calculate the average mean, variance and 95% Confidence interval for each of the bootstraps samples. <br>\n",
    "3. Produce density plots of the mean bootstraps.<br> \n",
    "4. In one of two sentences write an overall conclusion of applying the bootstrap to increase the precision to this dataset.<br></font>"
   ]
  },
  {
   "cell_type": "code",
   "execution_count": null,
   "metadata": {},
   "outputs": [],
   "source": []
  },
  {
   "cell_type": "markdown",
   "metadata": {},
   "source": [
    "### Bonus 2 optional. \n",
    "### From the Cleveland Heart Disease dataset: \n",
    "<br>\n",
    "<font color=blue>\n",
    "Generate a bayes network using all 14 available variables. In no more than 250 words write a summary of the main conclusions of your network. <br>\n",
    "\n",
    "Generate conditional probabilities and Relative Risk calculations of 5 dependencies that you think are fundamental given the Belief network generated. (Remember that you can generate conditional probabilities with more than one variable and at different states)<br></font>"
   ]
  },
  {
   "cell_type": "code",
   "execution_count": null,
   "metadata": {},
   "outputs": [],
   "source": []
  }
 ],
 "metadata": {
  "kernelspec": {
   "display_name": "R",
   "language": "R",
   "name": "ir"
  },
  "language_info": {
   "codemirror_mode": "r",
   "file_extension": ".r",
   "mimetype": "text/x-r-source",
   "name": "R",
   "pygments_lexer": "r",
   "version": "3.6.1"
  }
 },
 "nbformat": 4,
 "nbformat_minor": 2
}
