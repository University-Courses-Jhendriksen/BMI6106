{
 "cells": [
  {
   "cell_type": "markdown",
   "metadata": {},
   "source": [
    "### 1. we classify 2000 email in two groups: 1000 emails as spam and 1000 emails as non-spam. 210 of the spam emails contained the phrase This isn’t spam, 99 had the word prize and 110 the word prince. Of the 99 that contained the word prize, 79 also contained the word prince. On the other hand, of the 1000 non-spam emails, only 23 had the phrase this isn’t spam, 80 the word prize and 110 the word prince. Of the 80 that contained the word prize 8 also contained the word prince.\n",
    "\n",
    "<br>\n",
    "<font color=blue>Assuming that the a priori probability of any message being spam is 0.5, what is the probability that an email is spam given it contains the phrase This isn't spam</font>\n",
    "\n",
    "Hint: Bayes Theorem of the form:\n",
    "\n",
    "$$Pr[ K | C ] = \\frac{ \\Pr[ C | K] \\Pr[K] }{ \\Pr[ C | K ] \\Pr[ K ] +\n",
    "               \\Pr[ C | K^c ] \\Pr[ K^c ] } $$\n",
    "\n",
    "##### P(spam) = 0.5; P(non-spam) = 0.5"
   ]
  },
  {
   "cell_type": "code",
   "execution_count": 484,
   "metadata": {},
   "outputs": [
    {
     "name": "stdout",
     "output_type": "stream",
     "text": [
      "The probability that an email is spam given it says that it's not is: 0.901288"
     ]
    }
   ],
   "source": [
    "Pspam = 0.5\n",
    "PnotSpam = 0.5\n",
    "PphraseSpam = 210/1000\n",
    "PphraseNotSpam = 23/1000\n",
    "Pphrase = PphraseSpam+PphraseNotSpam\n",
    "\n",
    "PspamGivenPhrase = (PphraseSpam*Pspam)/((PphraseSpam*Pspam)+(PphraseNotSpam*PnotSpam))\n",
    "cat(sprintf(\"The probability that an email is spam given it says that it's not is: %f\",PspamGivenPhrase))"
   ]
  },
  {
   "cell_type": "markdown",
   "metadata": {},
   "source": [
    "### 2. From the Cleveland Heart Disease dataset (attached to this folder - [ https://archive.ics.uci.edu/ml/datasets/Heart+Disease ] ) if we pick 25 patients randomly, find the probability that at least 3 have less than 50 percent diameter narrowing (num variable 14 in dataset state 0)\n",
    "\n",
    "<br>\n",
    "<font color=blue>Answer this question using one of the distributions seen in class without using the R functions, but by showing the calculations worked by hand. You can always confirm the answer with the R function</font>"
   ]
  },
  {
   "cell_type": "code",
   "execution_count": 482,
   "metadata": {},
   "outputs": [
    {
     "data": {
      "text/html": [
       "0.999993242393122"
      ],
      "text/latex": [
       "0.999993242393122"
      ],
      "text/markdown": [
       "0.999993242393122"
      ],
      "text/plain": [
       "[1] 0.9999932"
      ]
     },
     "metadata": {},
     "output_type": "display_data"
    }
   ],
   "source": [
    "clev_header = c(\"age\",\"sex\",\"cp\",\"trestbps\",\"chol\",\"fbs\",\"restecg\",\"thalach\",\"exang\",\"oldpeak\",\"slope\",\"ca\",\"thal\",\"narrowing\")  \n",
    "cleveland <- read.csv(\"cleveland.csv\",header = FALSE)\n",
    "colnames(cleveland) = clev_header\n",
    "count_low_narrowing <- sum(cleveland$narrowing == 0)\n",
    "num_patients <- length(cleveland$age)\n",
    "\n",
    "historical_prob_low_narrowing <- count_low_narrowing/num_patients\n",
    "historical_prob_narrowing <- 1-historical_prob_low_narrowing\n",
    "\n",
    "# finding at least 3 with low narrowing is same as finding 1-probability(3 or fewer have low narrowing)\n",
    "# using a hypergeometric - sampling without replacement \n",
    "K = count_low_narrowing\n",
    "N = num_patients\n",
    "Hprob_1to3 = (choose(K,k)*choose(N-K,n-k))/choose(N,n)\n",
    "Hprob_1to3 = 1-sum(Hprob_1to3)\n",
    "Hprob_1to3\n"
   ]
  },
  {
   "cell_type": "markdown",
   "metadata": {},
   "source": [
    "### 3. From the Cleveland Heart Disease dataset assume that patients are examined at random what is the average number of patients before the first patient with cholesterol levels above than 300 is encountered?\n",
    "\n",
    "<br>\n",
    "<font color=blue>Answer this question using one of the distributions seen in class without using the R functions, but by showing the calculations worked by hand. You can always confirm the answer with the R function</font>"
   ]
  },
  {
   "cell_type": "code",
   "execution_count": 432,
   "metadata": {},
   "outputs": [
    {
     "name": "stdout",
     "output_type": "stream",
     "text": [
      "Average number of patients before one with cholesterol above 300 is selected: 6.886364 \n",
      "or - since partial patients aren't a thing: 6"
     ]
    }
   ],
   "source": [
    "count_greater300 = sum(cleveland$chol > 300)\n",
    "historical_p_greater300 = count_greater300/num_patients\n",
    "\n",
    "# using a geometric distribution to determine number of selections needed\n",
    "avg_num = 1/historical_p_greater300\n",
    "pat_before = floor(avg_num)\n",
    "\n",
    "cat(sprintf(\"Average number of patients before one with cholesterol above 300 is selected: %f \\nor - since partial patients aren't a thing: %s\",avg_num,pat_before))"
   ]
  },
  {
   "cell_type": "markdown",
   "metadata": {},
   "source": [
    "### 4. From the Cleveland Heart Disease dataset create a contingency table that tabulates the relationship between chest pain and the diagnosis of heart disease?\n",
    "\n",
    "<br>\n",
    "<font color=blue>\n",
    "1. Calculate the marginal probability of a diagnosis of a vessel diameter narrowing larger than 50%<br>\n",
    "2. Calculate the joint probability of atypical angina and a vessel diameter narrowing larger than 50%<br>\n",
    "3. What is the probability of a diagnosis of 1 given that the patient has a typical angina?<br>\n",
    "4. If a patient has asymptomatic angina what is the probability of a diagnosis of 0 (diameter narrowing less than 50%), what is the probability of a diagnosis of 1? <br></font>\n",
    "\n",
    "<br>\n",
    "<font color=blue> Generate the contingency table using the R code as seen in class</font>\n"
   ]
  },
  {
   "cell_type": "code",
   "execution_count": 469,
   "metadata": {},
   "outputs": [
    {
     "data": {
      "text/plain": [
       "   \n",
       "      0   1   2   3   4\n",
       "  0 141  30  14  12   7\n",
       "  1  23  25  22  23   6"
      ]
     },
     "metadata": {},
     "output_type": "display_data"
    },
    {
     "data": {
      "text/html": [
       "<table>\n",
       "<thead><tr><th></th><th scope=col>Less than 50% narrowing</th><th scope=col>More than 50% narrowing</th><th scope=col>Sum</th></tr></thead>\n",
       "<tbody>\n",
       "\t<tr><th scope=row>Angina Present</th><td> 23</td><td> 76</td><td> 99</td></tr>\n",
       "\t<tr><th scope=row>No Angina</th><td>141</td><td> 63</td><td>204</td></tr>\n",
       "\t<tr><th scope=row>Sum</th><td>164</td><td>139</td><td>303</td></tr>\n",
       "</tbody>\n",
       "</table>\n"
      ],
      "text/latex": [
       "\\begin{tabular}{r|lll}\n",
       "  & Less than 50\\% narrowing & More than 50\\% narrowing & Sum\\\\\n",
       "\\hline\n",
       "\tAngina Present &  23 &  76 &  99\\\\\n",
       "\tNo Angina & 141 &  63 & 204\\\\\n",
       "\tSum & 164 & 139 & 303\\\\\n",
       "\\end{tabular}\n"
      ],
      "text/markdown": [
       "\n",
       "| <!--/--> | Less than 50% narrowing | More than 50% narrowing | Sum |\n",
       "|---|---|---|---|\n",
       "| Angina Present |  23 |  76 |  99 |\n",
       "| No Angina | 141 |  63 | 204 |\n",
       "| Sum | 164 | 139 | 303 |\n",
       "\n"
      ],
      "text/plain": [
       "                \n",
       "                 Less than 50% narrowing More than 50% narrowing Sum\n",
       "  Angina Present  23                      76                      99\n",
       "  No Angina      141                      63                     204\n",
       "  Sum            164                     139                     303"
      ]
     },
     "metadata": {},
     "output_type": "display_data"
    }
   ],
   "source": [
    "table(cleveland$exang,cleveland$narrowing)\n",
    "\n",
    "# making it read better\n",
    "cleveland2 <- data.frame(cleveland)\n",
    "for(k in 1:num_patients){\n",
    "    if(cleveland$exang[k] == 1){\n",
    "        cleveland2$exang[k] = \"Angina Present\"\n",
    "    } else{\n",
    "        cleveland2$exang[k] = \"No Angina\"\n",
    "    }\n",
    "    if(cleveland$narrowing[k] >= 1){\n",
    "        cleveland2$narrowing[k] = \"More than 50% narrowing\"\n",
    "    } else{\n",
    "        cleveland2$narrowing[k] = \"Less than 50% narrowing\"\n",
    "    }\n",
    "}\n",
    "\n",
    "clev_table = addmargins(table(cleveland2$exang,cleveland2$narrowing))\n",
    "clev_table"
   ]
  },
  {
   "cell_type": "code",
   "execution_count": 496,
   "metadata": {},
   "outputs": [
    {
     "name": "stdout",
     "output_type": "stream",
     "text": [
      "Marginal Probability of a diagnosis of vessel narrowing greater than 50 percent = 0.458746\n",
      "\n",
      "Joint Probability of atypical angina and greater than 50 percent narrowing = 0.250825\n",
      "\n",
      "Probability of greater than 50 percent narrowing give atypical angina = 0.767677\n",
      "Both versions of calculation give the same probability: 0.767677 = 0.767677\n",
      "\n",
      "Probability of less than 50 percent narrowing given no angina: 0.691176\n",
      "While the probability of greater than 50 percent narrowing given no angina is: 0.308824"
     ]
    }
   ],
   "source": [
    "# 1 - marginal probability of a diagnosis of a vessel diameter greater than 50%\n",
    "pat_greater50 = clev_table[3,2]\n",
    "total_pat = clev_table[3,3]\n",
    "p1 = pat_greater50/total_pat\n",
    "cat(sprintf(\"Marginal Probability of a diagnosis of vessel narrowing greater than 50 percent = %f\\n\",p1))\n",
    "# 2 - joint probability of atypical angina and > 50% narrowing\n",
    "angina_greater = clev_table[1,2]\n",
    "p2 = angina_greater/total_pat\n",
    "cat(sprintf(\"\\nJoint Probability of atypical angina and greater than 50 percent narrowing = %f\\n\",p2))\n",
    "# 3 - probability of > 50% narrowing given atypical angina\n",
    "p3a = angina_greater/clev_table[3,2]\n",
    "p3b = clev_table[1,1]/clev_table[3,1]\n",
    "p3 = (p1*p3a)/((p1*p3a)+(p3b*(1-p1)))\n",
    "# alternative \n",
    "p3alt = clev_table[1,2]/clev_table[1,3]\n",
    "cat(sprintf(\"\\nProbability of greater than 50 percent narrowing give atypical angina = %f\\n\",p3))\n",
    "cat(sprintf(\"Both versions of calculation give the same probability: %f = %f\\n\",p3,p3alt))\n",
    "# 4 - given no angina, what are probability of < 50% and >50% narrowing \n",
    "p4less = clev_table[2,1]/clev_table[2,3]\n",
    "p4greater = clev_table[2,2]/clev_table[2,3]\n",
    "cat(sprintf(\"\\nProbability of less than 50 percent narrowing given no angina: %f\\n\",p4less))\n",
    "cat(sprintf(\"While the probability of greater than 50 percent narrowing given no angina is: %f\",p4greater))"
   ]
  },
  {
   "cell_type": "markdown",
   "metadata": {},
   "source": [
    "## 5. Markov Chains\n",
    "\n",
    "1. As explained in class, create a function in R (or python) that simulates the following random walk based on the conditional probabilities from the transition graph given below (Let's define state A as state 0):\n",
    "\n",
    "2. Once the function is created, simulate 500 random walks of 10 steps each (you choose the initial state - can be a constant or a user defined variable). \n",
    "\n",
    "Example of ONE random walk 2,3,2,3,4,4,4,4,4,4 (remember that 0 and 4 are absorbing states). \n",
    "\n",
    "3. Plot the 500 simulations.\n",
    "\n",
    "4. Capture each one of the 500 walks last state (at step 10) and create a table of frequencies for each one of the states. it should looks something like\n",
    "\n",
    "|State  |Count|Frequency|\n",
    "|:------|:----|:--------|\n",
    "|0      |100  |0.2      |\n",
    "|1      |100  |0.2      |\n",
    "|2      |100  |0.2      |\n",
    "|3      |100  |0.2      |\n",
    "|4      |100  |0.2      |\n",
    "|total  |500  |1.0      |"
   ]
  },
  {
   "attachments": {
    "absorbing_markov_chain.png": {
     "image/png": "[encoded data removed]"
    }
   },
   "cell_type": "markdown",
   "metadata": {},
   "source": [
    "![absorbing_markov_chain.png](attachment:absorbing_markov_chain.png)"
   ]
  },
  {
   "cell_type": "code",
   "execution_count": 405,
   "metadata": {},
   "outputs": [
    {
     "data": {
      "text/html": [
       "<ol class=list-inline>\n",
       "\t<li>2</li>\n",
       "\t<li>1</li>\n",
       "\t<li>1</li>\n",
       "\t<li>1</li>\n",
       "\t<li>1</li>\n",
       "\t<li>1</li>\n",
       "\t<li>1</li>\n",
       "\t<li>1</li>\n",
       "\t<li>1</li>\n",
       "\t<li>1</li>\n",
       "</ol>\n"
      ],
      "text/latex": [
       "\\begin{enumerate*}\n",
       "\\item 2\n",
       "\\item 1\n",
       "\\item 1\n",
       "\\item 1\n",
       "\\item 1\n",
       "\\item 1\n",
       "\\item 1\n",
       "\\item 1\n",
       "\\item 1\n",
       "\\item 1\n",
       "\\end{enumerate*}\n"
      ],
      "text/markdown": [
       "1. 2\n",
       "2. 1\n",
       "3. 1\n",
       "4. 1\n",
       "5. 1\n",
       "6. 1\n",
       "7. 1\n",
       "8. 1\n",
       "9. 1\n",
       "10. 1\n",
       "\n",
       "\n"
      ],
      "text/plain": [
       " [1] 2 1 1 1 1 1 1 1 1 1"
      ]
     },
     "metadata": {},
     "output_type": "display_data"
    }
   ],
   "source": [
    "##This is an example of the code, but you can create the functions and the plots anyway you want (even in python)\n",
    "\n",
    "# library(markovchain)\n",
    "\n",
    "#1. create function that produces a random walk of size N\n",
    "\n",
    "####Random Walk function\n",
    "#N = number of steps in the walk\n",
    "#Ini_prob = initial state\n",
    "#P_mat = Probability matrix\n",
    "Sim_Markov=function(N,Ini_prob,P_mat,initial_node) {\n",
    "  #write function that generates one random walk sampling from the initial state....\n",
    "    newP = Ini_prob*P_mat\n",
    "    b = matrix(0,1,N)\n",
    "    b[1] = initial_node\n",
    "    for(k in 2:N){\n",
    "        newP = newP*P_mat\n",
    "        b[k] = sample(c(1:length(Ini_prob)),1,replace=T,newP[b[k-1],])\n",
    "    }\n",
    "    b = as.vector(b)\n",
    "  return(b)\n",
    "}\n",
    "\n",
    "#2. Define the initial state Ini_prob - different examples\n",
    "Ini_prob=c(0.0005,0.4,0.199,0.4,0.0005)\n",
    "Ini_prob=c(0.2,0.2,0.2,0.2,0.2)\n",
    "# Ini_prob=c(0,0,1,0,0)\n",
    "\n",
    "#3. Define the transition probabilities matrix\n",
    "P_mat=matrix(0,5,5)\n",
    "P_mat[1,]=c(1,0,0,0,0)\n",
    "P_mat[2,]=c(0.5,0,0.5,0,0)\n",
    "P_mat[3,]=c(0,0,0,0.5,0.5)\n",
    "P_mat[4,]=c(0,0,0.5,0,0.5)\n",
    "P_mat[5,]=c(0,0,0,0,1)\n",
    "\n",
    "#Number of steps\n",
    "Nst=10\n",
    "##Run one ramdom walk - for testing\n",
    "X=Sim_Markov(Nst,Ini_prob,P_mat,2)\n",
    "\n",
    "X\n",
    "\n",
    "# e.g. 3,2,1,1,1,1,1,1,1,1"
   ]
  },
  {
   "cell_type": "code",
   "execution_count": 448,
   "metadata": {},
   "outputs": [
    {
     "data": {
      "image/png": "[encoded data removed]",
      "text/plain": [
       "Plot with title \"Random Walk with initial state = 2\""
      ]
     },
     "metadata": {},
     "output_type": "display_data"
    }
   ],
   "source": [
    "# Run the 500 simulations\n",
    "rand_walks = matrix(0,10,500)\n",
    "for(k in 1:500){\n",
    "    rand_walks[,k] = Sim_Markov(10,Ini_prob,P_mat,2)\n",
    "}\n",
    "\n",
    "# test plot 1 random walk\n",
    "steps = 1:10\n",
    "plot(steps,rand_walks[,1]-1,type = 'l',ylim=c(0,4),ylab=\"State\",xlab=\"Number of Steps\",main=\"Random Walk with initial state = 2\",)\n"
   ]
  },
  {
   "cell_type": "code",
   "execution_count": 449,
   "metadata": {},
   "outputs": [
    {
     "data": {
      "image/png": "[encoded data removed]",
      "text/plain": [
       "Plot with title \"500 random walks through transition graph: \n",
       "Opacity indicates number of walks along that path\""
      ]
     },
     "metadata": {},
     "output_type": "display_data"
    }
   ],
   "source": [
    "##plot the 500 simulations\n",
    "library(scales)\n",
    "matplot(steps,rand_walks-1,type = \"l\",col = alpha(\"black\",0.065),lwd = 2,ylab = \"State\",main = \"500 random walks through transition graph: \\nOpacity indicates number of walks along that path\")\n",
    "legend(\"right\",c(\"1 walk\",\"> 15 walks\"),fill = c(alpha(\"black\",0.065),\"black\"))"
   ]
  },
  {
   "cell_type": "code",
   "execution_count": 426,
   "metadata": {},
   "outputs": [
    {
     "data": {
      "text/html": [
       "<table>\n",
       "<thead><tr><th scope=col>State</th><th scope=col>Count</th><th scope=col>Frequency</th></tr></thead>\n",
       "<tbody>\n",
       "\t<tr><td>1    </td><td>242  </td><td>0.484</td></tr>\n",
       "\t<tr><td>2    </td><td>  0  </td><td>0.000</td></tr>\n",
       "\t<tr><td>3    </td><td>  1  </td><td>0.002</td></tr>\n",
       "\t<tr><td>4    </td><td>  0  </td><td>0.000</td></tr>\n",
       "\t<tr><td>5    </td><td>257  </td><td>0.514</td></tr>\n",
       "\t<tr><td>Total</td><td>500  </td><td>1.000</td></tr>\n",
       "</tbody>\n",
       "</table>\n"
      ],
      "text/latex": [
       "\\begin{tabular}{r|lll}\n",
       " State & Count & Frequency\\\\\n",
       "\\hline\n",
       "\t 1     & 242   & 0.484\\\\\n",
       "\t 2     &   0   & 0.000\\\\\n",
       "\t 3     &   1   & 0.002\\\\\n",
       "\t 4     &   0   & 0.000\\\\\n",
       "\t 5     & 257   & 0.514\\\\\n",
       "\t Total & 500   & 1.000\\\\\n",
       "\\end{tabular}\n"
      ],
      "text/markdown": [
       "\n",
       "| State | Count | Frequency |\n",
       "|---|---|---|\n",
       "| 1     | 242   | 0.484 |\n",
       "| 2     |   0   | 0.000 |\n",
       "| 3     |   1   | 0.002 |\n",
       "| 4     |   0   | 0.000 |\n",
       "| 5     | 257   | 0.514 |\n",
       "| Total | 500   | 1.000 |\n",
       "\n"
      ],
      "text/plain": [
       "  State Count Frequency\n",
       "1 1     242   0.484    \n",
       "2 2       0   0.000    \n",
       "3 3       1   0.002    \n",
       "4 4       0   0.000    \n",
       "5 5     257   0.514    \n",
       "6 Total 500   1.000    "
      ]
     },
     "metadata": {},
     "output_type": "display_data"
    }
   ],
   "source": [
    "###Create table of frequencies\n",
    "final_state = rand_walks[10,]\n",
    "freq_table = data.frame(matrix(0,6,3))\n",
    "colnames(freq_table) = c(\"State\",\"Count\",\"Frequency\")\n",
    "freq_table$State = c(\"1\",\"2\",\"3\",\"4\",\"5\",\"Total\")\n",
    "for(k in 1:5){\n",
    "    freq_table$Count[k] = sum(final_state == k)\n",
    "}\n",
    "freq_table$Count[6] = sum(freq_table$Count[1:5])\n",
    "freq_table$Frequency = freq_table$Count/500\n",
    "freq_table"
   ]
  },
  {
   "cell_type": "markdown",
   "metadata": {},
   "source": [
    "## Bonus 1 optional\n",
    "### From the Cleveland Heart Disease dataset:\n",
    "\n",
    "<br>\n",
    "<font color=blue>\n",
    "1. calculate the mean and variance for the maximum heart rate achive during the exercise test, <br>\n",
    "2. then generate 10000 boostraps and calculate the average mean, variance and 95% Confidence interval for each of the bootstraps samples. <br>\n",
    "3. Produce density plots of the mean bootstraps.<br> \n",
    "4. In one of two sentences write an overall conclusion of applying the bootstrap to increase the precision to this dataset.<br></font>"
   ]
  },
  {
   "cell_type": "code",
   "execution_count": 502,
   "metadata": {},
   "outputs": [
    {
     "name": "stdout",
     "output_type": "stream",
     "text": [
      "For the max heart rate achieved the mean is 149.607261 bpm; variance is 523.265775 bpm; \n",
      "and standard deviation is 22.875003 bpm"
     ]
    }
   ],
   "source": [
    "# 1\n",
    "max_hr = cleveland$thalach\n",
    "mean_hr = mean(max_hr)\n",
    "var_hr = var(max_hr)\n",
    "stddev_hr = sd(max_hr)\n",
    "cat(sprintf(\"For the max heart rate achieved the mean is %f bpm; variance is %f bpm; \\nand standard deviation is %f bpm\",mean_hr,var_hr,stddev_hr))\n",
    "# 2 \n"
   ]
  },
  {
   "cell_type": "markdown",
   "metadata": {},
   "source": [
    "### Bonus 2 optional. \n",
    "### From the Cleveland Heart Disease dataset: \n",
    "<br>\n",
    "<font color=blue>\n",
    "Generate a bayes network using all 14 available variables. In no more than 250 words write a summary of the main conclusions of your network. <br>\n",
    "\n",
    "Generate conditional probabilities and Relative Risk calculations of 5 dependencies that you think are fundamental given the Belief network generated. (Remember that you can generate conditional probabilities with more than one variable and at different states)<br></font>"
   ]
  },
  {
   "cell_type": "code",
   "execution_count": null,
   "metadata": {},
   "outputs": [],
   "source": []
  }
 ],
 "metadata": {
  "kernelspec": {
   "display_name": "R",
   "language": "R",
   "name": "ir"
  },
  "language_info": {
   "codemirror_mode": "r",
   "file_extension": ".r",
   "mimetype": "text/x-r-source",
   "name": "R",
   "pygments_lexer": "r",
   "version": "3.6.1"
  }
 },
 "nbformat": 4,
 "nbformat_minor": 2
}
