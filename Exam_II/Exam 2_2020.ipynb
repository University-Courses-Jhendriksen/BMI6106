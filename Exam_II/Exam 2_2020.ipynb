{
 "cells": [
  {
   "cell_type": "markdown",
   "metadata": {},
   "source": [
    "## Exam 2 (Due April 20, 2020 at 11:59 pm)\n",
    "\n",
    "Please read each question carefully and apply the necessary exploratory analysis to each data set, as well as test for the assumptions relevant to each method when appropriate.\n",
    "\n",
    "Write the answers in the space provided below each question."
   ]
  },
  {
   "cell_type": "markdown",
   "metadata": {},
   "source": [
    "### $1$. Small sample sizes affects accuracy of a t-test because the distribution resembles a normal distribution.\n",
    "\n",
    "a. True\n",
    "\n",
    "b. False"
   ]
  },
  {
   "cell_type": "code",
   "execution_count": null,
   "metadata": {},
   "outputs": [],
   "source": []
  },
  {
   "cell_type": "markdown",
   "metadata": {},
   "source": [
    "### $2$. Data on 102 male and 100 female athletes were collected at the Australian Institute of Sport. The data are  in the file ais.txt.\n",
    "\n",
    "Develop a logistic regression model for gender ( y = 1 corresponds to female) or ( y = 0 corresponds to male) based on the following predictors (which is a subset of those available):\n",
    "\n",
    "- RCC, read cell count\n",
    "- WCC, white cell count\n",
    "- BMI, body mass index\n",
    " \n",
    "Remember to check for the model assumptions."
   ]
  },
  {
   "cell_type": "code",
   "execution_count": null,
   "metadata": {},
   "outputs": [],
   "source": []
  },
  {
   "cell_type": "markdown",
   "metadata": {},
   "source": [
    "### $3$. If scores are normally distributed with a mean of 42 and a standard deviation of 8, what percent of the scores is: \n",
    "\n",
    "(a) greater than 25? \n",
    "\n",
    "(b) smaller than 31? \n",
    "\n",
    "(c) between 25 and 31?"
   ]
  },
  {
   "cell_type": "markdown",
   "metadata": {},
   "source": [
    "### $4$. From the following table:\n",
    "![title](table1.png)\n",
    "\n",
    "a. Apply the appropiate tests to evaluate the null hypothesis that there is no difference in the noise values means at different vehicle sizes. \n",
    "\n",
    "b. Examine all assumptions related to the test and make sure that the data follows all of those assumptions."
   ]
  },
  {
   "cell_type": "code",
   "execution_count": null,
   "metadata": {},
   "outputs": [],
   "source": []
  },
  {
   "cell_type": "markdown",
   "metadata": {},
   "source": [
    "### $5$. From the BABNEW.dta dataset use the appropiate statistical test to evaluate difference in birth weight (bweight)  as a function of gender (sex). \n",
    "\n",
    "Solve the exercise manually using the steps given in lecture and then confirm the results with the R function."
   ]
  },
  {
   "cell_type": "code",
   "execution_count": 4,
   "metadata": {},
   "outputs": [
    {
     "data": {
      "text/html": [
       "<table>\n",
       "<caption>A data.frame: 6 × 8</caption>\n",
       "<thead>\n",
       "\t<tr><th></th><th scope=col>id</th><th scope=col>matage</th><th scope=col>ht</th><th scope=col>gestwks</th><th scope=col>sex</th><th scope=col>bweight</th><th scope=col>matagegp</th><th scope=col>gestcat</th></tr>\n",
       "\t<tr><th></th><th scope=col>&lt;dbl&gt;</th><th scope=col>&lt;dbl&gt;</th><th scope=col>&lt;fct&gt;</th><th scope=col>&lt;dbl&gt;</th><th scope=col>&lt;fct&gt;</th><th scope=col>&lt;dbl&gt;</th><th scope=col>&lt;dbl&gt;</th><th scope=col>&lt;dbl&gt;</th></tr>\n",
       "</thead>\n",
       "<tbody>\n",
       "\t<tr><th scope=row>1</th><td>1</td><td>33</td><td>no</td><td>37.74</td><td>female</td><td>2410</td><td>2</td><td>2</td></tr>\n",
       "\t<tr><th scope=row>2</th><td>2</td><td>34</td><td>no</td><td>39.15</td><td>female</td><td>2977</td><td>2</td><td>2</td></tr>\n",
       "\t<tr><th scope=row>3</th><td>3</td><td>34</td><td>no</td><td>35.72</td><td>female</td><td>2100</td><td>2</td><td>1</td></tr>\n",
       "\t<tr><th scope=row>4</th><td>4</td><td>30</td><td>no</td><td>39.29</td><td>male  </td><td>3270</td><td>2</td><td>2</td></tr>\n",
       "\t<tr><th scope=row>5</th><td>5</td><td>35</td><td>no</td><td>38.38</td><td>female</td><td>2620</td><td>3</td><td>2</td></tr>\n",
       "\t<tr><th scope=row>6</th><td>6</td><td>37</td><td>no</td><td>37.86</td><td>male  </td><td>3260</td><td>3</td><td>2</td></tr>\n",
       "</tbody>\n",
       "</table>\n"
      ],
      "text/latex": [
       "A data.frame: 6 × 8\n",
       "\\begin{tabular}{r|llllllll}\n",
       "  & id & matage & ht & gestwks & sex & bweight & matagegp & gestcat\\\\\n",
       "  & <dbl> & <dbl> & <fct> & <dbl> & <fct> & <dbl> & <dbl> & <dbl>\\\\\n",
       "\\hline\n",
       "\t1 & 1 & 33 & no & 37.74 & female & 2410 & 2 & 2\\\\\n",
       "\t2 & 2 & 34 & no & 39.15 & female & 2977 & 2 & 2\\\\\n",
       "\t3 & 3 & 34 & no & 35.72 & female & 2100 & 2 & 1\\\\\n",
       "\t4 & 4 & 30 & no & 39.29 & male   & 3270 & 2 & 2\\\\\n",
       "\t5 & 5 & 35 & no & 38.38 & female & 2620 & 3 & 2\\\\\n",
       "\t6 & 6 & 37 & no & 37.86 & male   & 3260 & 3 & 2\\\\\n",
       "\\end{tabular}\n"
      ],
      "text/markdown": [
       "\n",
       "A data.frame: 6 × 8\n",
       "\n",
       "| <!--/--> | id &lt;dbl&gt; | matage &lt;dbl&gt; | ht &lt;fct&gt; | gestwks &lt;dbl&gt; | sex &lt;fct&gt; | bweight &lt;dbl&gt; | matagegp &lt;dbl&gt; | gestcat &lt;dbl&gt; |\n",
       "|---|---|---|---|---|---|---|---|---|\n",
       "| 1 | 1 | 33 | no | 37.74 | female | 2410 | 2 | 2 |\n",
       "| 2 | 2 | 34 | no | 39.15 | female | 2977 | 2 | 2 |\n",
       "| 3 | 3 | 34 | no | 35.72 | female | 2100 | 2 | 1 |\n",
       "| 4 | 4 | 30 | no | 39.29 | male   | 3270 | 2 | 2 |\n",
       "| 5 | 5 | 35 | no | 38.38 | female | 2620 | 3 | 2 |\n",
       "| 6 | 6 | 37 | no | 37.86 | male   | 3260 | 3 | 2 |\n",
       "\n"
      ],
      "text/plain": [
       "  id matage ht gestwks sex    bweight matagegp gestcat\n",
       "1 1  33     no 37.74   female 2410    2        2      \n",
       "2 2  34     no 39.15   female 2977    2        2      \n",
       "3 3  34     no 35.72   female 2100    2        1      \n",
       "4 4  30     no 39.29   male   3270    2        2      \n",
       "5 5  35     no 38.38   female 2620    3        2      \n",
       "6 6  37     no 37.86   male   3260    3        2      "
      ]
     },
     "metadata": {},
     "output_type": "display_data"
    }
   ],
   "source": [
    "library(foreign)\n",
    "library(tidyverse)\n",
    "library(dplyr)\n",
    "babnew <- read.dta(\"./BABNEW.dta\", convert.factors = T)\n",
    "library(magrittr)\n",
    "head(babnew)\n",
    "\n"
   ]
  },
  {
   "cell_type": "code",
   "execution_count": null,
   "metadata": {},
   "outputs": [],
   "source": []
  },
  {
   "cell_type": "markdown",
   "metadata": {},
   "source": [
    "### $6$. The following data reports the calorie content of beef hot dogs. Here are the numbers of calories of a random sample of 20 different hot dogs:\n",
    "\n",
    "186, 181, 176, 149, 184, 190, 158, 139, 175, 148, 152, 111, 141, 153, 190, 157, 131, 149, 135, 132.\n",
    "\n",
    "Assume that these numbers are the observed values from a random sample of twenty independent normal random variables with mean μ and variance σ2, both unknown. Find the 90% confidence intervals for the mean number of calories μ."
   ]
  },
  {
   "cell_type": "markdown",
   "metadata": {},
   "source": [
    "$(\\bar{x} - t_{n-1,1_{-\\alpha/2}}s/\\sqrt{n},\\bar{x} + t_{n-1,1_{-\\alpha/2}}s/\\sqrt{n}) $"
   ]
  },
  {
   "cell_type": "markdown",
   "metadata": {},
   "source": [
    "### $7$. Which type of predictor variables can be included in a General Linear Model\n",
    "\n",
    "a. Logistic\n",
    "\n",
    "b. Normal\n",
    "\n",
    "c. Categorical\n",
    "\n",
    "d. continuous\n",
    "\n",
    "e. Mixed\n"
   ]
  },
  {
   "cell_type": "code",
   "execution_count": null,
   "metadata": {},
   "outputs": [],
   "source": []
  },
  {
   "cell_type": "markdown",
   "metadata": {},
   "source": [
    "### $8$. The file anscombe.txt contains 4 different datasets constructed by Anscombe in 1973. The x and y variables are matched to each dataset respectively (e.g. x1 corresponds to y1, etc). A. Produce a Simple linear regression for each dataset (a scatterplot might also help you to see the differences). B. Write the resulting linear function for each model. C. Generate residuals plots D. In a few sentences discuss each model and what might be the problem (if any) with that model and what can be done to fix it."
   ]
  },
  {
   "cell_type": "code",
   "execution_count": null,
   "metadata": {},
   "outputs": [],
   "source": []
  },
  {
   "cell_type": "code",
   "execution_count": null,
   "metadata": {},
   "outputs": [],
   "source": []
  }
 ],
 "metadata": {
  "kernelspec": {
   "display_name": "R",
   "language": "R",
   "name": "ir"
  },
  "language_info": {
   "codemirror_mode": "r",
   "file_extension": ".r",
   "mimetype": "text/x-r-source",
   "name": "R",
   "pygments_lexer": "r",
   "version": "3.6.0"
  }
 },
 "nbformat": 4,
 "nbformat_minor": 2
}
