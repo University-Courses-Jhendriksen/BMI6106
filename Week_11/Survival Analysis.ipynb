{
 "cells": [
  {
   "cell_type": "markdown",
   "metadata": {},
   "source": [
    "# Survival Analysis\n",
    "\n",
    "Reference: Hosmer, Lemeshow and May **Applied Survival Analysis**"
   ]
  },
  {
   "cell_type": "markdown",
   "metadata": {},
   "source": [
    "Up to this point, we focused on the analysis of continuous and dichotomous outcomes\n",
    "\n",
    "– For continuous outcomes, we compared groups using a t-test and we completed more advanced analyses using linear regression\n",
    "\n",
    "– For dichotomous outcomes, we compared groups using a χ2-test and we completed more advanced analyses using logistic regression\n",
    "\n",
    "Another common outcome in health research is a time to event or survival outcome"
   ]
  },
  {
   "cell_type": "markdown",
   "metadata": {},
   "source": [
    "##### Survival analysis was originally developed to analyze clinical studies of who survived longer\n",
    "\n",
    "Although the original goal was to describe survival, the approaches can be applied to any time to event outcome\n",
    "- Time to recurrence of cancer\n",
    "- Time to hospital discharge"
   ]
  },
  {
   "cell_type": "markdown",
   "metadata": {},
   "source": [
    "###### Time to event\n",
    "\n",
    "In order to determine a time to event for each patient, we must know\n",
    "\n",
    "- When the follow-up of the subject begins (time origin)\n",
    "- When the patient begins to be at risk for the event of interest\n",
    "- When the subject has had the event (event definition)\n",
    "- Appropriate measure of time (time scale)\n",
    "\n",
    "Although these sound easy to define, eeach are critical to complete a survival analysis"
   ]
  },
  {
   "cell_type": "markdown",
   "metadata": {},
   "source": [
    "##### Example\n",
    "\n",
    "An important marker of disease activity in MS is the occurrence of a relapse. This is the presence of new symptoms that lasts for at least 24 hours\n",
    "\n",
    "A recent study investigated the effect of genetic factors on the time to next relapse in relapsing-remitting MS patients\n",
    "\n",
    "Scientific questions: What is the distribution of survival times (i.e. time to relapse)? Does the genotype change the time to relapse?"
   ]
  },
  {
   "cell_type": "markdown",
   "metadata": {},
   "source": [
    "##### Time origin\n",
    "\n",
    "For the analysis of genetic effects on the time to next relapse while on a treatment, the time origin is 6 months after the beginning of the treatment"
   ]
  },
  {
   "cell_type": "markdown",
   "metadata": {},
   "source": [
    "Time to event distribution in RRMS patients at Partners MS Center\n",
    "\n",
    "Time origin was 6 months after the beginning of a specific treatment\n",
    "\n",
    "The analysis time is the number of weeks\n",
    "\n",
    "![title](KM_curve.png)"
   ]
  },
  {
   "cell_type": "markdown",
   "metadata": {},
   "source": [
    "Failure distribution\n",
    "\n",
    "An alternative way to describe the time to event is to show the failure distribution, which shows how many people have had the event\n",
    "\n",
    "![title](CDF_Failure.png)"
   ]
  },
  {
   "cell_type": "markdown",
   "metadata": {},
   "source": [
    "##### What makes time to event data special?\n",
    "\n",
    "If every subject was (1) observed from the moment they were at risk and (2) every subject had the event, the time to event is just a type of continuous outcome\n",
    "\n",
    "Since the distribution is likely not normal, a t-test might not be appropriate, but a Wilcoxon test or other approaches could be used\n",
    "\n",
    "\n",
    "Unfortunately, one or both of the conditions above often do not hold in clinical studies"
   ]
  },
  {
   "cell_type": "markdown",
   "metadata": {},
   "source": [
    "### Censoring\n",
    "\n",
    "When we do not observe a patient's survival time but we know incomplete information about the survival time, we call the survival time censored\n",
    "\n",
    "##### Three forms of censoring\n",
    "\n",
    "- Right censoring-We know the event occurred after a specific date, e.g. individual drop out, or event free at the end of the observation period\n",
    "\n",
    "- Left censoring-We know the event occurred before a specific date\n",
    "- Interval censoring-We know the event occurred between two dates"
   ]
  },
  {
   "cell_type": "markdown",
   "metadata": {},
   "source": [
    "### Right censoring\n",
    "\n",
    "Right censoring occurs when subjects are observed for a specific amount of time, but the event does not occur\n",
    "\n",
    "\n",
    "Right censoring is the most common form of censoring in health research\n",
    "\n",
    "- It is also the easiest to handle because the most forms of survival analysis directly handle uninformative right censoring\n",
    "\n"
   ]
  },
  {
   "cell_type": "markdown",
   "metadata": {},
   "source": [
    "For example: A small prospective study is run and follows ten participants for the development of myocardial infarction (MI, or heart attack) over a period of 10 years. Participants are recruited into the study over a period of two years and are followed for up to 10 years. The graphic below indicates when they enrolled and what subsequently happened to them during the observation period.\n",
    "\n",
    "![title](Censoring.png)\n",
    "\n",
    "https://sphweb.bumc.bu.edu/otlt/mph-modules/bs/bs704_survival/BS704_Survival_print.html"
   ]
  },
  {
   "cell_type": "code",
   "execution_count": null,
   "metadata": {},
   "outputs": [],
   "source": []
  },
  {
   "cell_type": "markdown",
   "metadata": {},
   "source": [
    "#### Quantities of interest\n",
    "\n",
    "**For a continuous outcome**, we are usually interested in measures of location\n",
    "\n",
    "- Primary outcome measure: Mean or Median\n",
    "\n",
    "- Difference in means can be used to compare groups\n",
    "\n",
    "Usually we assume the data come from a normal distribution, which is defined by mean (μ) and standard deviation (σ)\n",
    "\n",
    "\n",
    "**With a dichotomous outcome**\n",
    "\n",
    "\n",
    "- Primary outcome measure: Proportion\n",
    "\n",
    "- Risk difference, relative risk, odds ratio can be used to compare groups\n",
    "\n",
    "Usually we assume the data come from a binomial distribution, which is defined by the proportion (p)"
   ]
  },
  {
   "cell_type": "markdown",
   "metadata": {},
   "source": [
    "#### Survival and hazard function: In survival analysis, our goal is to estimate several quantities\n",
    "\n",
    "Survival function: The probability of surviving longer than a specific time\n",
    "\n",
    "- S(t)=𝑃(𝑇>𝑡)\n",
    "\n",
    "- $S(t)=1-Ft=1−𝑃(T \\leq t)$\n",
    "\n",
    "\n",
    "Hazard function: The risk of having the event in the next interval conditional on surviving to the beginning of the interval\n",
    "\n",
    "- h(t) "
   ]
  },
  {
   "cell_type": "markdown",
   "metadata": {},
   "source": [
    "### Relationship between survival and hazard\n",
    "\n",
    "The survival function and the hazard function are related to each other through the cumulative hazard\n",
    "\n",
    "\n",
    "H(t) = -log(S(t))\n",
    "\n",
    "The cumulative hazard is equal to the negative log of the survival\n",
    "\n",
    "h(t) = $\\frac {dH(t)}{dt}$\n",
    "\n",
    "Hazard is the derivative of the cumulative hazard\n",
    "\n",
    "h(t) = $\\frac {f(t)}{s(t)}$\n",
    "Hazard and survival function are directly related to each other as well"
   ]
  },
  {
   "cell_type": "markdown",
   "metadata": {},
   "source": [
    "#### Parametric survival distributions\n",
    "\n",
    "Since time to event data is not normally distributed because it is only positive, alternative parametric distributions can be used\n",
    "\n",
    "- Exponential\n",
    "\n",
    "Assumes constant hazard\n",
    "\n",
    "- Weibull\n",
    "\n",
    "Adds a second parameter to the exponential\n",
    "\n",
    "\n",
    "- For parametric distributions, we estimate the parameters since these define the survival distribution"
   ]
  },
  {
   "cell_type": "markdown",
   "metadata": {},
   "source": [
    "Hazard and survival curves\n",
    "•\n",
    "For an exponential distribution the hazard and survival curve look like this\n",
    "\n",
    "![title](Haz_surv.png)"
   ]
  },
  {
   "cell_type": "markdown",
   "metadata": {},
   "source": [
    "#### Parametric analysis of survival times is sometimes used\n",
    "\n",
    "Known distribution of survival times: Some survival times are known to follow specific distributions and using the known distribution can improve the analysis\n",
    "\n",
    "- Complex censoring pattern: In the presence of left or interval censoring, parametric analysis may be only option\n",
    "\n",
    "- In addition to the survival distribution, we often report the median survival time as the main summary statistic\n",
    "\n",
    "- Since survival distributions are usually skewed, median is preferred to the mean"
   ]
  },
  {
   "cell_type": "markdown",
   "metadata": {},
   "source": [
    "### Kaplan-Meier curve\n",
    "\n",
    "Nonparametric survival\n",
    "\n",
    "Although sometimes we use the common survival distributions, a more general technique is to estimate the survival distribution nonparametrically\n",
    "\n",
    "Three things to estimate\n",
    "\n",
    "- Kaplan-Meier survival curve\n",
    "- Nelson-Aalen cumulative hazard curve\n",
    "- Smoothed hazard function"
   ]
  },
  {
   "cell_type": "markdown",
   "metadata": {},
   "source": [
    "#### Example\n",
    "\n",
    "As described previously, our focus will be the time to next relapse while on treatment for RRMS patients\n",
    "\n",
    "\n",
    "Initially, we will focus on a small subgroup of patients for simplicity, but the same approach is followed for larger datasets\n",
    "\n",
    "\n",
    "When there are multiple groups (i.e. different genotypes), we will use the same technique for each genotype"
   ]
  },
  {
   "cell_type": "markdown",
   "metadata": {},
   "source": [
    "Dataset\n",
    "\n",
    "For simplicity, let’s focus on 8 patients whose time to relapse is provided here\n",
    "\n",
    "We assume that no one is censored initially\n",
    "\n",
    "We would like to estimate S(t) using Kaplan-Meier method\n",
    "\n",
    "![title](MS_ex.png)"
   ]
  },
  {
   "cell_type": "markdown",
   "metadata": {},
   "source": [
    "Estimating survival curve\n",
    "\n",
    "To estimate the survival curve, we first order the event times (t1,t2,t3,…,tj)\n",
    "\n",
    "Then, we estimate the hazard at each time as\n",
    "\n",
    "If event: \n",
    "\n",
    "$ \\hat {h}(t_j) = \\frac {No.\\ events}{No.\\ at\\ risk} = \\frac {n_j}{r_j} $\n",
    "\n",
    "\n",
    "If no event: $ \\hat {h} = 0$\n",
    "\n",
    "To calculate estimated survival function at a specific time, we use:\n",
    "\n",
    "$\\large \\hat {S}(t) = \\prod_{j}{^{t<t_j}}(1- \\frac {n_j}{r_j}) \\large$"
   ]
  },
  {
   "cell_type": "markdown",
   "metadata": {},
   "source": [
    "Estimating survival curve\n",
    "\n",
    "![title](surv_curve.png)\n",
    "\n",
    "![title](KM_curve2.png)"
   ]
  },
  {
   "cell_type": "markdown",
   "metadata": {},
   "source": [
    "Survival curve is flat when there is not event. This corresponds to the fact that the hazard of an event=0\n",
    "Drops occur at the observed event times only\n",
    "Size of drop depends on number of events\n",
    "We can also construct confidence intervals\n"
   ]
  },
  {
   "cell_type": "markdown",
   "metadata": {},
   "source": [
    "Example-censoring\n",
    "\n",
    "As we have described, often patients are right censored and leave the risk set rather than having the event\n",
    "\n",
    "- To account for this, we must include another variable called a censoring or failure indicator\n",
    "\n",
    "- Calculation of KM curve is basically unchanged\n",
    "\n",
    "![title](Censoring2.png)"
   ]
  },
  {
   "cell_type": "markdown",
   "metadata": {},
   "source": [
    "Estimating survival curve\n",
    "![title](Cen_table.png)\n",
    "Note that the hazard of an event is 0 for censoring times\n",
    "Censored patient leaves the risk set so they are no longer at risk\n",
    "\n",
    "![title](KM_cen_fig.png)"
   ]
  },
  {
   "cell_type": "code",
   "execution_count": null,
   "metadata": {},
   "outputs": [],
   "source": []
  },
  {
   "cell_type": "markdown",
   "metadata": {},
   "source": [
    "### Comparison of survival curves\n",
    "\n",
    "The Kaplan-Meier curve provides a description of the distribution of survival times\n",
    "\n",
    "Another important aspect of survival analysis is the comparison of survival curves\n",
    "\n",
    "\n",
    "Null hypothesis: S1(t)=S2(t)\n",
    "\n",
    "Methods:\n",
    "\n",
    "- Log-rank test-most common"
   ]
  },
  {
   "cell_type": "markdown",
   "metadata": {},
   "source": [
    "### Example\n",
    "\n",
    "In our dataset, all patients had data on a specific single nucleotide polymorphism (SNP)\n",
    "\n",
    "\n",
    "For this analysis, patients will be classified as not having the SNP (SNP=0) or having at least one copy of the SNP (SNP=1)\n",
    "\n",
    "##### Question: Is there an effect of the SNP on the survival distribution\n",
    "\n",
    "![title](logrank_curve.png)\n",
    "\n",
    "From looking at this graph, it does not seem that there is much difference, but the KM curve for the SNP group is generally lower\n",
    "Is the difference statistically significant?"
   ]
  },
  {
   "cell_type": "markdown",
   "metadata": {},
   "source": [
    "####Comparing the groups\n",
    "\n",
    "One way to think about the comparison of two groups is to construct a 2x2 table at each event time"
   ]
  },
  {
   "cell_type": "markdown",
   "metadata": {},
   "source": [
    "#### Testing for an association\n",
    "\n",
    "There are two components that we must consider to see if there is an effect of SNP on the event\n",
    "\n",
    "- Within each table, is there an association between SNP and event?\n",
    "- Is the observed table different from what we expect?\n",
    "\n",
    "χ2 test\n",
    "\n",
    "- How do we combine the information across the tables?\n",
    "\n",
    "Mantel-Haenszel Q (test) which has a chi-square distribution with one degree of freedom"
   ]
  },
  {
   "cell_type": "markdown",
   "metadata": {},
   "source": [
    "Hypothesis test\n",
    "1. H0: S1(t)=S2(t)\n",
    "2. Time to event outcome, dichotomous predictor\n",
    "3. Log rank test\n",
    "4. Test statistic: χ2=0.22\n",
    "5. p-value=0.64\n",
    "6. Since the p-value is more than 0.05, we fail to reject the null hypothesis\n",
    "7. We conclude that there is no significant difference in the survival time between the two groups"
   ]
  },
  {
   "cell_type": "markdown",
   "metadata": {},
   "source": [
    "## Cox proportional hazards regression models\n",
    "\n",
    "The natural extension is to assess the effect of continuous covariates and more complex models on the survival time distribution\n",
    "\n",
    "\n",
    "Just as linear regression and logistic regression extended the t-test and χ2 test, we would like a version of regression for survival"
   ]
  },
  {
   "cell_type": "markdown",
   "metadata": {},
   "source": [
    "Regression for time to event outcomes\n",
    "\n",
    "- Linear and logistic regression are not appropriate for time to event outcomes\n",
    "\n",
    "- Linear regression assumes residuals are normally distributed and time to event outcomes rarely have this distribution\n",
    "\n",
    "- Logistic regression would be appropriate for survival at a specific time point only\n",
    "\n",
    "- Neither of these approaches handle censoring"
   ]
  },
  {
   "cell_type": "markdown",
   "metadata": {},
   "source": [
    "The Cox proportional hazards model\n",
    "\n",
    "Model the hazard as opposd to the survival time\n",
    "\n",
    "$$\\large h_i(t) = h_o(t)e ^{\\beta_1*x_1+\\beta_2*x_2+...+\\beta_n*x_n}\\large$$\n",
    "\n",
    "- h0(t) is the baseline hazard. This acts like the intercept term in other forms of regression\n",
    "- eβ1*x is the change in the hazard due to the predictor\n",
    "- Note that x1 changes the hazard by multiplication, which means"
   ]
  },
  {
   "cell_type": "markdown",
   "metadata": {},
   "source": [
    "We Will now follow a tutorial for survival analysis in R presented in: [https://rviews.rstudio.com/2017/09/25/survival-analysis-with-r/](https://rviews.rstudio.com/2017/09/25/survival-analysis-with-r/)"
   ]
  },
  {
   "cell_type": "code",
   "execution_count": 2,
   "metadata": {},
   "outputs": [],
   "source": [
    "# install.packages(\"ggfortify\")\n",
    "# install.packages(\"ranger\")##Used for Random Forest Analysis\n",
    "# install.packages(\"survival\")\n",
    "#library(ranger)\n",
    "library(survival)\n",
    "library(ggplot2)\n",
    "library(dplyr)\n",
    "library(ggfortify)\n"
   ]
  },
  {
   "cell_type": "code",
   "execution_count": 3,
   "metadata": {},
   "outputs": [
    {
     "name": "stderr",
     "output_type": "stream",
     "text": [
      "Warning message in data(veteran):\n",
      "\"data set 'veteran' not found\"\n"
     ]
    },
    {
     "data": {
      "text/html": [
       "<table class=\"dataframe\">\n",
       "<caption>A data.frame: 6 × 8</caption>\n",
       "<thead>\n",
       "\t<tr><th></th><th scope=col>trt</th><th scope=col>celltype</th><th scope=col>time</th><th scope=col>status</th><th scope=col>karno</th><th scope=col>diagtime</th><th scope=col>age</th><th scope=col>prior</th></tr>\n",
       "\t<tr><th></th><th scope=col>&lt;dbl&gt;</th><th scope=col>&lt;fct&gt;</th><th scope=col>&lt;dbl&gt;</th><th scope=col>&lt;dbl&gt;</th><th scope=col>&lt;dbl&gt;</th><th scope=col>&lt;dbl&gt;</th><th scope=col>&lt;dbl&gt;</th><th scope=col>&lt;dbl&gt;</th></tr>\n",
       "</thead>\n",
       "<tbody>\n",
       "\t<tr><th scope=row>1</th><td>1</td><td>squamous</td><td> 72</td><td>1</td><td>60</td><td> 7</td><td>69</td><td> 0</td></tr>\n",
       "\t<tr><th scope=row>2</th><td>1</td><td>squamous</td><td>411</td><td>1</td><td>70</td><td> 5</td><td>64</td><td>10</td></tr>\n",
       "\t<tr><th scope=row>3</th><td>1</td><td>squamous</td><td>228</td><td>1</td><td>60</td><td> 3</td><td>38</td><td> 0</td></tr>\n",
       "\t<tr><th scope=row>4</th><td>1</td><td>squamous</td><td>126</td><td>1</td><td>60</td><td> 9</td><td>63</td><td>10</td></tr>\n",
       "\t<tr><th scope=row>5</th><td>1</td><td>squamous</td><td>118</td><td>1</td><td>70</td><td>11</td><td>65</td><td>10</td></tr>\n",
       "\t<tr><th scope=row>6</th><td>1</td><td>squamous</td><td> 10</td><td>1</td><td>20</td><td> 5</td><td>49</td><td> 0</td></tr>\n",
       "</tbody>\n",
       "</table>\n"
      ],
      "text/latex": [
       "A data.frame: 6 × 8\n",
       "\\begin{tabular}{r|llllllll}\n",
       "  & trt & celltype & time & status & karno & diagtime & age & prior\\\\\n",
       "  & <dbl> & <fct> & <dbl> & <dbl> & <dbl> & <dbl> & <dbl> & <dbl>\\\\\n",
       "\\hline\n",
       "\t1 & 1 & squamous &  72 & 1 & 60 &  7 & 69 &  0\\\\\n",
       "\t2 & 1 & squamous & 411 & 1 & 70 &  5 & 64 & 10\\\\\n",
       "\t3 & 1 & squamous & 228 & 1 & 60 &  3 & 38 &  0\\\\\n",
       "\t4 & 1 & squamous & 126 & 1 & 60 &  9 & 63 & 10\\\\\n",
       "\t5 & 1 & squamous & 118 & 1 & 70 & 11 & 65 & 10\\\\\n",
       "\t6 & 1 & squamous &  10 & 1 & 20 &  5 & 49 &  0\\\\\n",
       "\\end{tabular}\n"
      ],
      "text/markdown": [
       "\n",
       "A data.frame: 6 × 8\n",
       "\n",
       "| <!--/--> | trt &lt;dbl&gt; | celltype &lt;fct&gt; | time &lt;dbl&gt; | status &lt;dbl&gt; | karno &lt;dbl&gt; | diagtime &lt;dbl&gt; | age &lt;dbl&gt; | prior &lt;dbl&gt; |\n",
       "|---|---|---|---|---|---|---|---|---|\n",
       "| 1 | 1 | squamous |  72 | 1 | 60 |  7 | 69 |  0 |\n",
       "| 2 | 1 | squamous | 411 | 1 | 70 |  5 | 64 | 10 |\n",
       "| 3 | 1 | squamous | 228 | 1 | 60 |  3 | 38 |  0 |\n",
       "| 4 | 1 | squamous | 126 | 1 | 60 |  9 | 63 | 10 |\n",
       "| 5 | 1 | squamous | 118 | 1 | 70 | 11 | 65 | 10 |\n",
       "| 6 | 1 | squamous |  10 | 1 | 20 |  5 | 49 |  0 |\n",
       "\n"
      ],
      "text/plain": [
       "  trt celltype time status karno diagtime age prior\n",
       "1 1   squamous  72  1      60     7       69   0   \n",
       "2 1   squamous 411  1      70     5       64  10   \n",
       "3 1   squamous 228  1      60     3       38   0   \n",
       "4 1   squamous 126  1      60     9       63  10   \n",
       "5 1   squamous 118  1      70    11       65  10   \n",
       "6 1   squamous  10  1      20     5       49   0   "
      ]
     },
     "metadata": {},
     "output_type": "display_data"
    }
   ],
   "source": [
    "#veteran containas data from a two-treatment, \n",
    "#randomized trial for lung cancer.\n",
    "data(veteran)\n",
    "head(veteran)"
   ]
  },
  {
   "cell_type": "markdown",
   "metadata": {},
   "source": [
    "The variables in veteran are: * trt: 1=standard 2=test * celltype: 1=squamous, 2=small cell, 3=adeno, 4=large * time: survival time in days * status: censoring status * karno: Karnofsky performance score (100=good) * diagtime: months from diagnosis to randomization * age: in years * prior: prior therapy 0=no, 10=yes"
   ]
  },
  {
   "cell_type": "markdown",
   "metadata": {},
   "source": [
    "The first thing to do is to use Surv() to build the standard survival object. \n",
    "\n",
    "The variable time records survival time; status indicates whether the patient’s death was observed (status = 1) or that survival time was censored (status = 0). \n",
    "\n",
    "Note that a “+” after the time in the print out of km indicates censoring."
   ]
  },
  {
   "cell_type": "code",
   "execution_count": 4,
   "metadata": {},
   "outputs": [
    {
     "data": {
      "text/plain": [
       " [1]  72  411  228  126  118   10   82  110  314  100+  42    8  144   25+  11 \n",
       "[16]  30  384    4   54   13  123+  97+ 153   59  117   16  151   22   56   21 \n",
       "[31]  18  139   20   31   52  287   18   51  122   27   54    7   63  392   10 \n",
       "[46]   8   92   35  117  132   12  162    3   95  177  162  216  553  278   12 \n",
       "[61] 260  200  156  182+ 143  105  103  250  100  999  112   87+ 231+ 242  991 \n",
       "[76] 111    1  587  389   33 "
      ]
     },
     "metadata": {},
     "output_type": "display_data"
    }
   ],
   "source": [
    "km <- with(veteran, Surv(time, status))\n",
    "head(km,80)"
   ]
  },
  {
   "cell_type": "code",
   "execution_count": 5,
   "metadata": {},
   "outputs": [
    {
     "data": {
      "text/plain": [
       "Call: survfit(formula = Surv(time, status) ~ 1, data = veteran)\n",
       "\n",
       " time n.risk n.event survival std.err lower 95% CI upper 95% CI\n",
       "    1    137       2    0.985  0.0102      0.96552       1.0000\n",
       "   30     97      39    0.700  0.0392      0.62774       0.7816\n",
       "   60     73      22    0.538  0.0427      0.46070       0.6288\n",
       "   90     62      10    0.464  0.0428      0.38731       0.5560\n",
       "  180     27      30    0.222  0.0369      0.16066       0.3079\n",
       "  270     16       9    0.144  0.0319      0.09338       0.2223\n",
       "  360     10       6    0.090  0.0265      0.05061       0.1602\n",
       "  450      5       5    0.045  0.0194      0.01931       0.1049\n",
       "  540      4       1    0.036  0.0175      0.01389       0.0934\n",
       "  630      2       2    0.018  0.0126      0.00459       0.0707\n",
       "  720      2       0    0.018  0.0126      0.00459       0.0707\n",
       "  810      2       0    0.018  0.0126      0.00459       0.0707\n",
       "  900      2       0    0.018  0.0126      0.00459       0.0707"
      ]
     },
     "metadata": {},
     "output_type": "display_data"
    }
   ],
   "source": [
    "#Probability of survival over time \n",
    "km_fit <- survfit(Surv(time, status) ~ 1, data=veteran)\n",
    "summary(km_fit, times = c(1,30,60,90*(1:10)))"
   ]
  },
  {
   "cell_type": "code",
   "execution_count": 6,
   "metadata": {},
   "outputs": [
    {
     "data": {
      "image/png": "[encoded data removed]",
      "text/plain": [
       "Plot with title \"Kaplan Meyer Plot\""
      ]
     },
     "metadata": {
      "image/png": {
       "height": 420,
       "width": 420
      }
     },
     "output_type": "display_data"
    },
    {
     "data": {
      "image/png": "[encoded data removed]",
      "text/plain": [
       "plot without title"
      ]
     },
     "metadata": {
      "image/png": {
       "height": 420,
       "width": 420
      }
     },
     "output_type": "display_data"
    }
   ],
   "source": [
    "plot(km_fit, xlab=\"Days\", main = 'Kaplan Meyer Plot') #base graphics is always ready\n",
    "autoplot(km_fit)"
   ]
  },
  {
   "cell_type": "markdown",
   "metadata": {},
   "source": [
    "Next, we look at survival curves by treatment."
   ]
  },
  {
   "cell_type": "code",
   "execution_count": 7,
   "metadata": {},
   "outputs": [
    {
     "data": {
      "image/png": "[encoded data removed]",
      "text/plain": [
       "plot without title"
      ]
     },
     "metadata": {
      "image/png": {
       "height": 420,
       "width": 420
      }
     },
     "output_type": "display_data"
    }
   ],
   "source": [
    "km_trt_fit <- survfit(Surv(time, status) ~ trt, data=veteran)\n",
    "autoplot(km_trt_fit)"
   ]
  },
  {
   "cell_type": "code",
   "execution_count": 8,
   "metadata": {},
   "outputs": [
    {
     "data": {
      "text/plain": [
       "Call:\n",
       "survdiff(formula = Surv(time, status) ~ trt, data = veteran)\n",
       "\n",
       "       N Observed Expected (O-E)^2/E (O-E)^2/V\n",
       "trt=1 69       64     64.5   0.00388   0.00823\n",
       "trt=2 68       64     63.5   0.00394   0.00823\n",
       "\n",
       " Chisq= 0  on 1 degrees of freedom, p= 0.9 "
      ]
     },
     "metadata": {},
     "output_type": "display_data"
    }
   ],
   "source": [
    "survdiff(Surv(time, status) ~ trt, data=veteran)"
   ]
  },
  {
   "cell_type": "markdown",
   "metadata": {},
   "source": [
    "And, to show one more small exploratory plot, we can rearrange the data to look at survival by age. \n",
    "\n",
    "First, create a new data frame with a categorical variable AG that has values LT60 and GT60, which respectively describe veterans younger and older than sixty. \n",
    "\n",
    "then we make trt and prior into factor variables. "
   ]
  },
  {
   "cell_type": "code",
   "execution_count": 9,
   "metadata": {},
   "outputs": [
    {
     "data": {
      "image/png": "[encoded data removed]",
      "text/plain": [
       "plot without title"
      ]
     },
     "metadata": {
      "image/png": {
       "height": 420,
       "width": 420
      }
     },
     "output_type": "display_data"
    }
   ],
   "source": [
    "vet <- mutate(veteran, AG = ifelse((age < 60), \"LT60\", \"OV60\"),\n",
    "              AG = factor(AG),\n",
    "              trt = factor(trt,labels=c(\"standard\",\"test\")),\n",
    "              prior = factor(prior,labels=c(\"N0\",\"Yes\")))\n",
    "\n",
    "km_AG_fit <- survfit(Surv(time, status) ~ AG, data=vet)\n",
    "autoplot(km_AG_fit)"
   ]
  },
  {
   "cell_type": "code",
   "execution_count": 10,
   "metadata": {},
   "outputs": [
    {
     "data": {
      "text/plain": [
       "Call:\n",
       "survdiff(formula = Surv(time, status) ~ AG, data = vet)\n",
       "\n",
       "         N Observed Expected (O-E)^2/E (O-E)^2/V\n",
       "AG=LT60 53       47     56.2      1.51      2.89\n",
       "AG=OV60 84       81     71.8      1.18      2.89\n",
       "\n",
       " Chisq= 2.9  on 1 degrees of freedom, p= 0.09 "
      ]
     },
     "metadata": {},
     "output_type": "display_data"
    }
   ],
   "source": [
    "survdiff(Surv(time, status) ~  AG, data=vet)"
   ]
  },
  {
   "cell_type": "markdown",
   "metadata": {},
   "source": [
    "## Cox Proportional Hazards Model\n",
    "\n",
    "Next, I’ll fit a Cox Proportional Hazards Model that makes use of all of the covariates in the data set."
   ]
  },
  {
   "cell_type": "code",
   "execution_count": 11,
   "metadata": {},
   "outputs": [
    {
     "data": {
      "text/plain": [
       "Call:\n",
       "coxph(formula = Surv(time, status) ~ trt + celltype + karno + \n",
       "    diagtime + age + prior, data = vet)\n",
       "\n",
       "  n= 137, number of events= 128 \n",
       "\n",
       "                        coef  exp(coef)   se(coef)      z Pr(>|z|)    \n",
       "trttest            2.946e-01  1.343e+00  2.075e-01  1.419  0.15577    \n",
       "celltypesmallcell  8.616e-01  2.367e+00  2.753e-01  3.130  0.00175 ** \n",
       "celltypeadeno      1.196e+00  3.307e+00  3.009e-01  3.975 7.05e-05 ***\n",
       "celltypelarge      4.013e-01  1.494e+00  2.827e-01  1.420  0.15574    \n",
       "karno             -3.282e-02  9.677e-01  5.508e-03 -5.958 2.55e-09 ***\n",
       "diagtime           8.132e-05  1.000e+00  9.136e-03  0.009  0.99290    \n",
       "age               -8.706e-03  9.913e-01  9.300e-03 -0.936  0.34920    \n",
       "priorYes           7.159e-02  1.074e+00  2.323e-01  0.308  0.75794    \n",
       "---\n",
       "Signif. codes:  0 '***' 0.001 '**' 0.01 '*' 0.05 '.' 0.1 ' ' 1\n",
       "\n",
       "                  exp(coef) exp(-coef) lower .95 upper .95\n",
       "trttest              1.3426     0.7448    0.8939    2.0166\n",
       "celltypesmallcell    2.3669     0.4225    1.3799    4.0597\n",
       "celltypeadeno        3.3071     0.3024    1.8336    5.9647\n",
       "celltypelarge        1.4938     0.6695    0.8583    2.5996\n",
       "karno                0.9677     1.0334    0.9573    0.9782\n",
       "diagtime             1.0001     0.9999    0.9823    1.0182\n",
       "age                  0.9913     1.0087    0.9734    1.0096\n",
       "priorYes             1.0742     0.9309    0.6813    1.6937\n",
       "\n",
       "Concordance= 0.736  (se = 0.021 )\n",
       "Likelihood ratio test= 62.1  on 8 df,   p=2e-10\n",
       "Wald test            = 62.37  on 8 df,   p=2e-10\n",
       "Score (logrank) test = 66.74  on 8 df,   p=2e-11\n"
      ]
     },
     "metadata": {},
     "output_type": "display_data"
    }
   ],
   "source": [
    "cox <- coxph(Surv(time, status) ~ trt + celltype + karno + diagtime + age + prior , data = vet)\n",
    "summary(cox)"
   ]
  },
  {
   "cell_type": "code",
   "execution_count": 15,
   "metadata": {},
   "outputs": [
    {
     "data": {
      "image/png": "[encoded data removed]",
      "text/plain": [
       "Plot with title \"cph model\""
      ]
     },
     "metadata": {
      "image/png": {
       "height": 420,
       "width": 420
      }
     },
     "output_type": "display_data"
    },
    {
     "data": {
      "image/png": "[encoded data removed]",
      "text/plain": [
       "plot without title"
      ]
     },
     "metadata": {
      "image/png": {
       "height": 420,
       "width": 420
      }
     },
     "output_type": "display_data"
    }
   ],
   "source": [
    "cox_fit <- survfit(cox)\n",
    "plot(cox_fit, main = \"cph model\", xlab=\"Days\")\n",
    "autoplot(cox_fit)"
   ]
  },
  {
   "cell_type": "code",
   "execution_count": 13,
   "metadata": {},
   "outputs": [
    {
     "data": {
      "text/plain": [
       "Call:\n",
       "aareg(formula = Surv(time, status) ~ trt + celltype + karno + \n",
       "    diagtime + age + prior, data = vet)\n",
       "\n",
       "  n= 137 \n",
       "    75 out of 97 unique event times used\n",
       "\n",
       "                      slope      coef se(coef)      z        p\n",
       "Intercept          0.083400  3.81e-02 1.09e-02  3.490 4.79e-04\n",
       "trttest            0.006730  2.49e-03 2.58e-03  0.967 3.34e-01\n",
       "celltypesmallcell  0.015000  7.30e-03 3.38e-03  2.160 3.09e-02\n",
       "celltypeadeno      0.018400  1.03e-02 4.20e-03  2.450 1.42e-02\n",
       "celltypelarge     -0.001090 -6.21e-04 2.71e-03 -0.229 8.19e-01\n",
       "karno             -0.001180 -4.37e-04 8.77e-05 -4.980 6.28e-07\n",
       "diagtime          -0.000243 -4.92e-05 1.64e-04 -0.300 7.65e-01\n",
       "age               -0.000246 -6.27e-05 1.28e-04 -0.491 6.23e-01\n",
       "priorYes           0.003300  1.54e-03 2.86e-03  0.539 5.90e-01\n",
       "\n",
       "Chisq=41.62 on 8 df, p=1.6e-06; test weights=aalen"
      ]
     },
     "metadata": {},
     "output_type": "display_data"
    }
   ],
   "source": [
    "aa_fit <-aareg(Surv(time, status) ~ trt + celltype +\n",
    "                 karno + diagtime + age + prior , \n",
    "                 data = vet)\n",
    "aa_fit"
   ]
  },
  {
   "cell_type": "code",
   "execution_count": 16,
   "metadata": {},
   "outputs": [
    {
     "data": {
      "image/png": "[encoded data removed]",
      "text/plain": [
       "plot without title"
      ]
     },
     "metadata": {
      "image/png": {
       "height": 420,
       "width": 420
      }
     },
     "output_type": "display_data"
    }
   ],
   "source": [
    "autoplot(aa_fit)"
   ]
  },
  {
   "cell_type": "markdown",
   "metadata": {},
   "source": [
    "The plots show how the effects of the covariates change over time. Notice the steep slope and then abrupt change in slope of karno.\n",
    "\n",
    "[https://rviews.rstudio.com/2017/09/25/survival-analysis-with-r/](https://rviews.rstudio.com/2017/09/25/survival-analysis-with-r/)"
   ]
  },
  {
   "cell_type": "code",
   "execution_count": null,
   "metadata": {},
   "outputs": [],
   "source": []
  }
 ],
 "metadata": {
  "kernelspec": {
   "display_name": "R",
   "language": "R",
   "name": "ir"
  },
  "language_info": {
   "codemirror_mode": "r",
   "file_extension": ".r",
   "mimetype": "text/x-r-source",
   "name": "R",
   "pygments_lexer": "r",
   "version": "4.0.5"
  }
 },
 "nbformat": 4,
 "nbformat_minor": 2
}
