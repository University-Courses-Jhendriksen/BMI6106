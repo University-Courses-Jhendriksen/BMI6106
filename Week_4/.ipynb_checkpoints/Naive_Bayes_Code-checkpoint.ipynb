{
 "cells": [
  {
   "cell_type": "markdown",
   "metadata": {},
   "source": [
    "## Naive Bayes"
   ]
  },
  {
   "cell_type": "code",
   "execution_count": 4,
   "metadata": {},
   "outputs": [],
   "source": [
    "#Loading required packages\n",
    "library(tidyverse)\n",
    "library(ggplot2)\n",
    "library(caret)\n",
    "library(psych)\n",
    "library(rpart)\n",
    "# install.packages(\"randomForest\")\n",
    "library(randomForest)\n",
    "# install.packages(\"Amelia\")\n",
    "library(Amelia)\n",
    "library(mice)\n",
    "library(e1071)\n",
    "# install.packages(\"klaR\")\n",
    "library(klaR)"
   ]
  },
  {
   "cell_type": "markdown",
   "metadata": {},
   "source": [
    "### This example comes from [https://www.edureka.co/blog/naive-bayes-in-r/](https://www.edureka.co/blog/naive-bayes-in-r/)\n",
    "\n",
    "### For a very nice manuall python tutorial see [https://machinelearningmastery.com/naive-bayes-classifier-scratch-python/](https://machinelearningmastery.com/naive-bayes-classifier-scratch-python/)"
   ]
  },
  {
   "cell_type": "code",
   "execution_count": null,
   "metadata": {},
   "outputs": [],
   "source": [
    "diabetes = read.csv(\"diabetes.csv\", header = T)\n",
    "str(diabetes)"
   ]
  },
  {
   "cell_type": "code",
   "execution_count": null,
   "metadata": {},
   "outputs": [],
   "source": [
    "describe(diabetes)"
   ]
  },
  {
   "cell_type": "code",
   "execution_count": null,
   "metadata": {},
   "outputs": [],
   "source": [
    "#Convert '0' values into NA\n",
    "diabetes[, 2:7][diabetes[, 2:7] == 0] <- NA"
   ]
  },
  {
   "cell_type": "code",
   "execution_count": null,
   "metadata": {},
   "outputs": [],
   "source": [
    "#visualize the missing data\n",
    "missmap(diabetes)"
   ]
  },
  {
   "cell_type": "code",
   "execution_count": null,
   "metadata": {},
   "outputs": [],
   "source": [
    "###We can impute missing values using different techniques (k-mers, nearest neighbors)\n",
    "mice_mod <- mice(diabetes[, c(\"Glucose\",\"BloodPressure\",\"SkinThickness\",\"Insulin\",\"BMI\")], method='rf')\n",
    "mice_complete <- complete(mice_mod)"
   ]
  },
  {
   "cell_type": "code",
   "execution_count": null,
   "metadata": {},
   "outputs": [],
   "source": [
    "#Transfer the predicted missing values into the main diabetes set\n",
    "diabetes$Glucose <- mice_complete$Glucose\n",
    "diabetes$BloodPressure <- mice_complete$BloodPressure\n",
    "diabetes$SkinThickness <- mice_complete$SkinThickness\n",
    "diabetes$Insulin<- mice_complete$Insulin\n",
    "diabetes$BMI <- mice_complete$BMI\n",
    "\n"
   ]
  },
  {
   "cell_type": "code",
   "execution_count": null,
   "metadata": {},
   "outputs": [],
   "source": [
    "missmap(diabetes)"
   ]
  },
  {
   "cell_type": "code",
   "execution_count": null,
   "metadata": {},
   "outputs": [],
   "source": [
    "#Data Visualization\n",
    "ggplot(diabetes, aes(Age, colour = Outcome)) +\n",
    "  geom_freqpoly(binwidth = 1) + \n",
    "  labs(title=\"Age Distribution by Outcome\")"
   ]
  },
  {
   "cell_type": "code",
   "execution_count": null,
   "metadata": {},
   "outputs": [],
   "source": [
    "#visual 2\n",
    "c <- ggplot(diabetes, aes(x=Pregnancies, fill=Outcome, color=Outcome)) +\n",
    "  geom_histogram(binwidth = 1) + labs(title=\"Pregnancy Distribution by Outcome\")\n",
    "c + theme_bw()"
   ]
  },
  {
   "cell_type": "code",
   "execution_count": null,
   "metadata": {},
   "outputs": [],
   "source": [
    "#visual 3\n",
    "P <- ggplot(diabetes, aes(x=BMI, fill=Outcome, color=Outcome)) +\n",
    "  geom_histogram(binwidth = 1) + labs(title=\"BMI Distribution by Outcome\")\n",
    "P + theme_bw()"
   ]
  },
  {
   "cell_type": "code",
   "execution_count": null,
   "metadata": {},
   "outputs": [],
   "source": [
    "#visual 4\n",
    "ggplot(diabetes, aes(Glucose, colour = Outcome)) +\n",
    "  geom_freqpoly(binwidth = 1) + labs(title=\"Glucose Distribution by Outcome\")\n"
   ]
  },
  {
   "cell_type": "code",
   "execution_count": null,
   "metadata": {},
   "outputs": [],
   "source": [
    "#visual 5\n",
    "ggpairs(diabetes)"
   ]
  },
  {
   "cell_type": "code",
   "execution_count": null,
   "metadata": {},
   "outputs": [],
   "source": [
    "#Building a model\n",
    "#split data into training and test data sets\n",
    "library(caret)\n",
    "set.seed(998)\n",
    "indxTrain <- createDataPartition(y = diabetes$Outcome,p = 0.75,list = FALSE)\n",
    "training <- diabetes[indxTrain,]\n",
    "testing <- diabetes[-indxTrain,]"
   ]
  },
  {
   "cell_type": "code",
   "execution_count": null,
   "metadata": {},
   "outputs": [],
   "source": [
    "#Check dimensions of the split\n",
    "\n",
    "prop.table(table(diabetes$Outcome)) * 100\n",
    "prop.table(table(training$Outcome)) * 100\n",
    "prop.table(table(testing$Outcome)) * 100"
   ]
  },
  {
   "cell_type": "code",
   "execution_count": null,
   "metadata": {},
   "outputs": [],
   "source": [
    "#create objects x which holds the predictor variables and y \n",
    "#which holds the response variables\n",
    "x = training[,-9]\n",
    "y = training$Outcome"
   ]
  },
  {
   "cell_type": "code",
   "execution_count": null,
   "metadata": {},
   "outputs": [],
   "source": [
    "model = train(x,y,'naive_bayes',trControl=trainControl(method='cv',number=10))\n",
    "#?naive_bayes"
   ]
  },
  {
   "cell_type": "code",
   "execution_count": null,
   "metadata": {},
   "outputs": [],
   "source": [
    "#Model Evaluation\n",
    "#Predict testing set\n",
    "Predict <- predict(model,newdata = testing )"
   ]
  },
  {
   "cell_type": "code",
   "execution_count": null,
   "metadata": {},
   "outputs": [],
   "source": [
    "#Get the confusion matrix to see accuracy value and other parameter values\n",
    "\n",
    "confusionMatrix(Predict, testing$Outcome )"
   ]
  },
  {
   "cell_type": "code",
   "execution_count": null,
   "metadata": {},
   "outputs": [],
   "source": [
    "#Plot Variable performance\n",
    "X <- varImp(model)\n",
    "plot(X)"
   ]
  }
 ],
 "metadata": {
  "kernelspec": {
   "display_name": "R",
   "language": "R",
   "name": "ir"
  },
  "language_info": {
   "codemirror_mode": "r",
   "file_extension": ".r",
   "mimetype": "text/x-r-source",
   "name": "R",
   "pygments_lexer": "r",
   "version": "4.0.5"
  }
 },
 "nbformat": 4,
 "nbformat_minor": 2
}
