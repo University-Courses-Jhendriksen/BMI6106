{
 "cells": [
  {
   "cell_type": "markdown",
   "metadata": {},
   "source": [
    "## Naive Bayes"
   ]
  },
  {
   "cell_type": "code",
   "execution_count": 4,
   "metadata": {},
   "outputs": [],
   "source": [
    "#Loading required packages\n",
    "library(tidyverse)\n",
    "library(ggplot2)\n",
    "library(caret)\n",
    "library(psych)\n",
    "library(rpart)\n",
    "# install.packages(\"randomForest\")\n",
    "library(randomForest)\n",
    "# install.packages(\"Amelia\")\n",
    "library(Amelia)\n",
    "library(mice)\n",
    "library(e1071)\n",
    "# install.packages(\"klaR\")\n",
    "library(klaR)"
   ]
  },
  {
   "cell_type": "markdown",
   "metadata": {},
   "source": [
    "### This example comes from [https://www.edureka.co/blog/naive-bayes-in-r/](https://www.edureka.co/blog/naive-bayes-in-r/)\n",
    "\n",
    "### For a very nice manuall python tutorial see [https://machinelearningmastery.com/naive-bayes-classifier-scratch-python/](https://machinelearningmastery.com/naive-bayes-classifier-scratch-python/)"
   ]
  },
  {
   "cell_type": "code",
   "execution_count": 5,
   "metadata": {},
   "outputs": [
    {
     "name": "stdout",
     "output_type": "stream",
     "text": [
      "'data.frame':\t2000 obs. of  9 variables:\n",
      " $ Pregnancies             : int  2 0 0 0 1 0 4 8 2 2 ...\n",
      " $ Glucose                 : int  138 84 145 135 139 173 99 194 83 89 ...\n",
      " $ BloodPressure           : int  62 82 0 68 62 78 72 80 65 90 ...\n",
      " $ SkinThickness           : int  35 31 0 42 41 32 17 0 28 30 ...\n",
      " $ Insulin                 : int  0 125 0 250 480 265 0 0 66 0 ...\n",
      " $ BMI                     : num  33.6 38.2 44.2 42.3 40.7 46.5 25.6 26.1 36.8 33.5 ...\n",
      " $ DiabetesPedigreeFunction: num  0.127 0.233 0.63 0.365 0.536 ...\n",
      " $ Age                     : int  47 23 31 24 21 58 28 67 24 42 ...\n",
      " $ Outcome                 : int  1 0 1 1 0 0 0 0 0 0 ...\n"
     ]
    }
   ],
   "source": [
    "diabetes = read.csv(\"diabetes.csv\", header = T)\n",
    "str(diabetes)"
   ]
  },
  {
   "cell_type": "code",
   "execution_count": 6,
   "metadata": {},
   "outputs": [
    {
     "data": {
      "text/html": [
       "<table class=\"dataframe\">\n",
       "<caption>A psych: 9 × 13</caption>\n",
       "<thead>\n",
       "\t<tr><th></th><th scope=col>vars</th><th scope=col>n</th><th scope=col>mean</th><th scope=col>sd</th><th scope=col>median</th><th scope=col>trimmed</th><th scope=col>mad</th><th scope=col>min</th><th scope=col>max</th><th scope=col>range</th><th scope=col>skew</th><th scope=col>kurtosis</th><th scope=col>se</th></tr>\n",
       "\t<tr><th></th><th scope=col>&lt;int&gt;</th><th scope=col>&lt;dbl&gt;</th><th scope=col>&lt;dbl&gt;</th><th scope=col>&lt;dbl&gt;</th><th scope=col>&lt;dbl&gt;</th><th scope=col>&lt;dbl&gt;</th><th scope=col>&lt;dbl&gt;</th><th scope=col>&lt;dbl&gt;</th><th scope=col>&lt;dbl&gt;</th><th scope=col>&lt;dbl&gt;</th><th scope=col>&lt;dbl&gt;</th><th scope=col>&lt;dbl&gt;</th><th scope=col>&lt;dbl&gt;</th></tr>\n",
       "</thead>\n",
       "<tbody>\n",
       "\t<tr><th scope=row>Pregnancies</th><td>1</td><td>2000</td><td>  3.70350</td><td>  3.3060630</td><td>  3.000</td><td>  3.2981250</td><td> 2.9652000</td><td> 0.000</td><td> 17.00</td><td> 17.000</td><td> 0.9808925</td><td> 0.4024401</td><td>0.073925817</td></tr>\n",
       "\t<tr><th scope=row>Glucose</th><td>2</td><td>2000</td><td>121.18250</td><td> 32.0686356</td><td>117.000</td><td>119.7112500</td><td>29.6520000</td><td> 0.000</td><td>199.00</td><td>199.000</td><td> 0.1585677</td><td> 0.5524171</td><td>0.717076493</td></tr>\n",
       "\t<tr><th scope=row>BloodPressure</th><td>3</td><td>2000</td><td> 69.14550</td><td> 19.1883148</td><td> 72.000</td><td> 71.3293750</td><td>11.8608000</td><td> 0.000</td><td>122.00</td><td>122.000</td><td>-1.8516952</td><td> 5.3038693</td><td>0.429063763</td></tr>\n",
       "\t<tr><th scope=row>SkinThickness</th><td>4</td><td>2000</td><td> 20.93500</td><td> 16.1032429</td><td> 23.000</td><td> 20.3468750</td><td>17.7912000</td><td> 0.000</td><td>110.00</td><td>110.000</td><td> 0.2069174</td><td> 0.1490412</td><td>0.360079458</td></tr>\n",
       "\t<tr><th scope=row>Insulin</th><td>5</td><td>2000</td><td> 80.25400</td><td>111.1805335</td><td> 40.000</td><td> 58.4318750</td><td>59.3040000</td><td> 0.000</td><td>744.00</td><td>744.000</td><td> 1.9930912</td><td> 5.1043410</td><td>2.486072308</td></tr>\n",
       "\t<tr><th scope=row>BMI</th><td>6</td><td>2000</td><td> 32.19300</td><td>  8.1499007</td><td> 32.300</td><td> 32.0711875</td><td> 6.9682200</td><td> 0.000</td><td> 80.60</td><td> 80.600</td><td>-0.0903197</td><td> 4.1112849</td><td>0.182237320</td></tr>\n",
       "\t<tr><th scope=row>DiabetesPedigreeFunction</th><td>7</td><td>2000</td><td>  0.47093</td><td>  0.3235526</td><td>  0.376</td><td>  0.4224337</td><td> 0.2490768</td><td> 0.078</td><td>  2.42</td><td>  2.342</td><td> 1.8092618</td><td> 4.9833437</td><td>0.007234855</td></tr>\n",
       "\t<tr><th scope=row>Age</th><td>8</td><td>2000</td><td> 33.09050</td><td> 11.7864231</td><td> 29.000</td><td> 31.3187500</td><td>10.3782000</td><td>21.000</td><td> 81.00</td><td> 60.000</td><td> 1.1794959</td><td> 0.8174996</td><td>0.263552433</td></tr>\n",
       "\t<tr><th scope=row>Outcome</th><td>9</td><td>2000</td><td>  0.34200</td><td>  0.4744982</td><td>  0.000</td><td>  0.3025000</td><td> 0.0000000</td><td> 0.000</td><td>  1.00</td><td>  1.000</td><td> 0.6656337</td><td>-1.5577099</td><td>0.010610103</td></tr>\n",
       "</tbody>\n",
       "</table>\n"
      ],
      "text/latex": [
       "A psych: 9 × 13\n",
       "\\begin{tabular}{r|lllllllllllll}\n",
       "  & vars & n & mean & sd & median & trimmed & mad & min & max & range & skew & kurtosis & se\\\\\n",
       "  & <int> & <dbl> & <dbl> & <dbl> & <dbl> & <dbl> & <dbl> & <dbl> & <dbl> & <dbl> & <dbl> & <dbl> & <dbl>\\\\\n",
       "\\hline\n",
       "\tPregnancies & 1 & 2000 &   3.70350 &   3.3060630 &   3.000 &   3.2981250 &  2.9652000 &  0.000 &  17.00 &  17.000 &  0.9808925 &  0.4024401 & 0.073925817\\\\\n",
       "\tGlucose & 2 & 2000 & 121.18250 &  32.0686356 & 117.000 & 119.7112500 & 29.6520000 &  0.000 & 199.00 & 199.000 &  0.1585677 &  0.5524171 & 0.717076493\\\\\n",
       "\tBloodPressure & 3 & 2000 &  69.14550 &  19.1883148 &  72.000 &  71.3293750 & 11.8608000 &  0.000 & 122.00 & 122.000 & -1.8516952 &  5.3038693 & 0.429063763\\\\\n",
       "\tSkinThickness & 4 & 2000 &  20.93500 &  16.1032429 &  23.000 &  20.3468750 & 17.7912000 &  0.000 & 110.00 & 110.000 &  0.2069174 &  0.1490412 & 0.360079458\\\\\n",
       "\tInsulin & 5 & 2000 &  80.25400 & 111.1805335 &  40.000 &  58.4318750 & 59.3040000 &  0.000 & 744.00 & 744.000 &  1.9930912 &  5.1043410 & 2.486072308\\\\\n",
       "\tBMI & 6 & 2000 &  32.19300 &   8.1499007 &  32.300 &  32.0711875 &  6.9682200 &  0.000 &  80.60 &  80.600 & -0.0903197 &  4.1112849 & 0.182237320\\\\\n",
       "\tDiabetesPedigreeFunction & 7 & 2000 &   0.47093 &   0.3235526 &   0.376 &   0.4224337 &  0.2490768 &  0.078 &   2.42 &   2.342 &  1.8092618 &  4.9833437 & 0.007234855\\\\\n",
       "\tAge & 8 & 2000 &  33.09050 &  11.7864231 &  29.000 &  31.3187500 & 10.3782000 & 21.000 &  81.00 &  60.000 &  1.1794959 &  0.8174996 & 0.263552433\\\\\n",
       "\tOutcome & 9 & 2000 &   0.34200 &   0.4744982 &   0.000 &   0.3025000 &  0.0000000 &  0.000 &   1.00 &   1.000 &  0.6656337 & -1.5577099 & 0.010610103\\\\\n",
       "\\end{tabular}\n"
      ],
      "text/markdown": [
       "\n",
       "A psych: 9 × 13\n",
       "\n",
       "| <!--/--> | vars &lt;int&gt; | n &lt;dbl&gt; | mean &lt;dbl&gt; | sd &lt;dbl&gt; | median &lt;dbl&gt; | trimmed &lt;dbl&gt; | mad &lt;dbl&gt; | min &lt;dbl&gt; | max &lt;dbl&gt; | range &lt;dbl&gt; | skew &lt;dbl&gt; | kurtosis &lt;dbl&gt; | se &lt;dbl&gt; |\n",
       "|---|---|---|---|---|---|---|---|---|---|---|---|---|---|\n",
       "| Pregnancies | 1 | 2000 |   3.70350 |   3.3060630 |   3.000 |   3.2981250 |  2.9652000 |  0.000 |  17.00 |  17.000 |  0.9808925 |  0.4024401 | 0.073925817 |\n",
       "| Glucose | 2 | 2000 | 121.18250 |  32.0686356 | 117.000 | 119.7112500 | 29.6520000 |  0.000 | 199.00 | 199.000 |  0.1585677 |  0.5524171 | 0.717076493 |\n",
       "| BloodPressure | 3 | 2000 |  69.14550 |  19.1883148 |  72.000 |  71.3293750 | 11.8608000 |  0.000 | 122.00 | 122.000 | -1.8516952 |  5.3038693 | 0.429063763 |\n",
       "| SkinThickness | 4 | 2000 |  20.93500 |  16.1032429 |  23.000 |  20.3468750 | 17.7912000 |  0.000 | 110.00 | 110.000 |  0.2069174 |  0.1490412 | 0.360079458 |\n",
       "| Insulin | 5 | 2000 |  80.25400 | 111.1805335 |  40.000 |  58.4318750 | 59.3040000 |  0.000 | 744.00 | 744.000 |  1.9930912 |  5.1043410 | 2.486072308 |\n",
       "| BMI | 6 | 2000 |  32.19300 |   8.1499007 |  32.300 |  32.0711875 |  6.9682200 |  0.000 |  80.60 |  80.600 | -0.0903197 |  4.1112849 | 0.182237320 |\n",
       "| DiabetesPedigreeFunction | 7 | 2000 |   0.47093 |   0.3235526 |   0.376 |   0.4224337 |  0.2490768 |  0.078 |   2.42 |   2.342 |  1.8092618 |  4.9833437 | 0.007234855 |\n",
       "| Age | 8 | 2000 |  33.09050 |  11.7864231 |  29.000 |  31.3187500 | 10.3782000 | 21.000 |  81.00 |  60.000 |  1.1794959 |  0.8174996 | 0.263552433 |\n",
       "| Outcome | 9 | 2000 |   0.34200 |   0.4744982 |   0.000 |   0.3025000 |  0.0000000 |  0.000 |   1.00 |   1.000 |  0.6656337 | -1.5577099 | 0.010610103 |\n",
       "\n"
      ],
      "text/plain": [
       "                         vars n    mean      sd          median  trimmed    \n",
       "Pregnancies              1    2000   3.70350   3.3060630   3.000   3.2981250\n",
       "Glucose                  2    2000 121.18250  32.0686356 117.000 119.7112500\n",
       "BloodPressure            3    2000  69.14550  19.1883148  72.000  71.3293750\n",
       "SkinThickness            4    2000  20.93500  16.1032429  23.000  20.3468750\n",
       "Insulin                  5    2000  80.25400 111.1805335  40.000  58.4318750\n",
       "BMI                      6    2000  32.19300   8.1499007  32.300  32.0711875\n",
       "DiabetesPedigreeFunction 7    2000   0.47093   0.3235526   0.376   0.4224337\n",
       "Age                      8    2000  33.09050  11.7864231  29.000  31.3187500\n",
       "Outcome                  9    2000   0.34200   0.4744982   0.000   0.3025000\n",
       "                         mad        min    max    range   skew       kurtosis  \n",
       "Pregnancies               2.9652000  0.000  17.00  17.000  0.9808925  0.4024401\n",
       "Glucose                  29.6520000  0.000 199.00 199.000  0.1585677  0.5524171\n",
       "BloodPressure            11.8608000  0.000 122.00 122.000 -1.8516952  5.3038693\n",
       "SkinThickness            17.7912000  0.000 110.00 110.000  0.2069174  0.1490412\n",
       "Insulin                  59.3040000  0.000 744.00 744.000  1.9930912  5.1043410\n",
       "BMI                       6.9682200  0.000  80.60  80.600 -0.0903197  4.1112849\n",
       "DiabetesPedigreeFunction  0.2490768  0.078   2.42   2.342  1.8092618  4.9833437\n",
       "Age                      10.3782000 21.000  81.00  60.000  1.1794959  0.8174996\n",
       "Outcome                   0.0000000  0.000   1.00   1.000  0.6656337 -1.5577099\n",
       "                         se         \n",
       "Pregnancies              0.073925817\n",
       "Glucose                  0.717076493\n",
       "BloodPressure            0.429063763\n",
       "SkinThickness            0.360079458\n",
       "Insulin                  2.486072308\n",
       "BMI                      0.182237320\n",
       "DiabetesPedigreeFunction 0.007234855\n",
       "Age                      0.263552433\n",
       "Outcome                  0.010610103"
      ]
     },
     "metadata": {},
     "output_type": "display_data"
    }
   ],
   "source": [
    "describe(diabetes)"
   ]
  },
  {
   "cell_type": "code",
   "execution_count": 7,
   "metadata": {},
   "outputs": [],
   "source": [
    "#Convert '0' values into NA\n",
    "diabetes[, 2:7][diabetes[, 2:7] == 0] <- NA"
   ]
  },
  {
   "cell_type": "code",
   "execution_count": 8,
   "metadata": {},
   "outputs": [
    {
     "data": {
      "image/png": "[encoded data removed]",
      "text/plain": [
       "Plot with title \"Missingness Map\""
      ]
     },
     "metadata": {
      "image/png": {
       "height": 420,
       "width": 420
      }
     },
     "output_type": "display_data"
    }
   ],
   "source": [
    "#visualize the missing data\n",
    "missmap(diabetes)"
   ]
  },
  {
   "cell_type": "code",
   "execution_count": 9,
   "metadata": {},
   "outputs": [
    {
     "name": "stdout",
     "output_type": "stream",
     "text": [
      "\n",
      " iter imp variable\n",
      "  1   1  Glucose  BloodPressure  SkinThickness  Insulin  BMI\n",
      "  1   2  Glucose  BloodPressure  SkinThickness  Insulin  BMI\n",
      "  1   3  Glucose  BloodPressure  SkinThickness  Insulin  BMI\n",
      "  1   4  Glucose  BloodPressure  SkinThickness  Insulin  BMI\n",
      "  1   5  Glucose  BloodPressure  SkinThickness  Insulin  BMI\n",
      "  2   1  Glucose  BloodPressure  SkinThickness  Insulin  BMI\n",
      "  2   2  Glucose  BloodPressure  SkinThickness  Insulin  BMI\n",
      "  2   3  Glucose  BloodPressure  SkinThickness  Insulin  BMI\n",
      "  2   4  Glucose  BloodPressure  SkinThickness  Insulin  BMI\n",
      "  2   5  Glucose  BloodPressure  SkinThickness  Insulin  BMI\n",
      "  3   1  Glucose  BloodPressure  SkinThickness  Insulin  BMI\n",
      "  3   2  Glucose  BloodPressure  SkinThickness  Insulin  BMI\n",
      "  3   3  Glucose  BloodPressure  SkinThickness  Insulin  BMI\n",
      "  3   4  Glucose  BloodPressure  SkinThickness  Insulin  BMI\n",
      "  3   5  Glucose  BloodPressure  SkinThickness  Insulin  BMI\n",
      "  4   1  Glucose  BloodPressure  SkinThickness  Insulin  BMI\n",
      "  4   2  Glucose  BloodPressure  SkinThickness  Insulin  BMI\n",
      "  4   3  Glucose  BloodPressure  SkinThickness  Insulin  BMI\n",
      "  4   4  Glucose  BloodPressure  SkinThickness  Insulin  BMI\n",
      "  4   5  Glucose  BloodPressure  SkinThickness  Insulin  BMI\n",
      "  5   1  Glucose  BloodPressure  SkinThickness  Insulin  BMI\n",
      "  5   2  Glucose  BloodPressure  SkinThickness  Insulin  BMI\n",
      "  5   3  Glucose  BloodPressure  SkinThickness  Insulin  BMI\n",
      "  5   4  Glucose  BloodPressure  SkinThickness  Insulin  BMI\n",
      "  5   5  Glucose  BloodPressure  SkinThickness  Insulin  BMI\n"
     ]
    }
   ],
   "source": [
    "###We can impute missing values using different techniques (k-mers, nearest neighbors)\n",
    "mice_mod <- mice(diabetes[, c(\"Glucose\",\"BloodPressure\",\"SkinThickness\",\"Insulin\",\"BMI\")], method='rf')\n",
    "mice_complete <- complete(mice_mod)"
   ]
  },
  {
   "cell_type": "code",
   "execution_count": 10,
   "metadata": {},
   "outputs": [],
   "source": [
    "#Transfer the predicted missing values into the main diabetes set\n",
    "diabetes$Glucose <- mice_complete$Glucose\n",
    "diabetes$BloodPressure <- mice_complete$BloodPressure\n",
    "diabetes$SkinThickness <- mice_complete$SkinThickness\n",
    "diabetes$Insulin<- mice_complete$Insulin\n",
    "diabetes$BMI <- mice_complete$BMI\n",
    "\n"
   ]
  },
  {
   "cell_type": "code",
   "execution_count": 11,
   "metadata": {},
   "outputs": [
    {
     "data": {
      "image/png": "[encoded data removed]",
      "text/plain": [
       "Plot with title \"Missingness Map\""
      ]
     },
     "metadata": {
      "image/png": {
       "height": 420,
       "width": 420
      }
     },
     "output_type": "display_data"
    }
   ],
   "source": [
    "missmap(diabetes)"
   ]
  },
  {
   "cell_type": "code",
   "execution_count": 12,
   "metadata": {},
   "outputs": [
    {
     "data": {
      "image/png": "[encoded data removed]",
      "text/plain": [
       "plot without title"
      ]
     },
     "metadata": {
      "image/png": {
       "height": 420,
       "width": 420
      }
     },
     "output_type": "display_data"
    }
   ],
   "source": [
    "#Data Visualization\n",
    "ggplot(diabetes, aes(Age, colour = Outcome)) +\n",
    "  geom_freqpoly(binwidth = 1) + \n",
    "  labs(title=\"Age Distribution by Outcome\")"
   ]
  },
  {
   "cell_type": "code",
   "execution_count": 13,
   "metadata": {},
   "outputs": [
    {
     "data": {
      "image/png": "[encoded data removed]",
      "text/plain": [
       "plot without title"
      ]
     },
     "metadata": {
      "image/png": {
       "height": 420,
       "width": 420
      }
     },
     "output_type": "display_data"
    }
   ],
   "source": [
    "#visual 2\n",
    "c <- ggplot(diabetes, aes(x=Pregnancies, fill=Outcome, color=Outcome)) +\n",
    "  geom_histogram(binwidth = 1) + labs(title=\"Pregnancy Distribution by Outcome\")\n",
    "c + theme_bw()"
   ]
  },
  {
   "cell_type": "code",
   "execution_count": 14,
   "metadata": {},
   "outputs": [
    {
     "data": {
      "image/png": "[encoded data removed]",
      "text/plain": [
       "plot without title"
      ]
     },
     "metadata": {
      "image/png": {
       "height": 420,
       "width": 420
      }
     },
     "output_type": "display_data"
    }
   ],
   "source": [
    "#visual 3\n",
    "P <- ggplot(diabetes, aes(x=BMI, fill=Outcome, color=Outcome)) +\n",
    "  geom_histogram(binwidth = 1) + labs(title=\"BMI Distribution by Outcome\")\n",
    "P + theme_bw()"
   ]
  },
  {
   "cell_type": "code",
   "execution_count": 15,
   "metadata": {},
   "outputs": [
    {
     "data": {
      "image/png": "[encoded data removed]",
      "text/plain": [
       "plot without title"
      ]
     },
     "metadata": {
      "image/png": {
       "height": 420,
       "width": 420
      }
     },
     "output_type": "display_data"
    }
   ],
   "source": [
    "#visual 4\n",
    "ggplot(diabetes, aes(Glucose, colour = Outcome)) +\n",
    "  geom_freqpoly(binwidth = 1) + labs(title=\"Glucose Distribution by Outcome\")\n"
   ]
  },
  {
   "cell_type": "code",
   "execution_count": 16,
   "metadata": {},
   "outputs": [
    {
     "ename": "ERROR",
     "evalue": "Error in ggpairs(diabetes): could not find function \"ggpairs\"\n",
     "output_type": "error",
     "traceback": [
      "Error in ggpairs(diabetes): could not find function \"ggpairs\"\nTraceback:\n"
     ]
    }
   ],
   "source": [
    "#visual 5\n",
    "ggpairs(diabetes)"
   ]
  },
  {
   "cell_type": "code",
   "execution_count": 17,
   "metadata": {},
   "outputs": [],
   "source": [
    "#Building a model\n",
    "#split data into training and test data sets\n",
    "library(caret)\n",
    "set.seed(998)\n",
    "indxTrain <- createDataPartition(y = diabetes$Outcome,p = 0.75,list = FALSE)\n",
    "training <- diabetes[indxTrain,]\n",
    "testing <- diabetes[-indxTrain,]"
   ]
  },
  {
   "cell_type": "code",
   "execution_count": 18,
   "metadata": {},
   "outputs": [
    {
     "data": {
      "text/plain": [
       "\n",
       "   0    1 \n",
       "65.8 34.2 "
      ]
     },
     "metadata": {},
     "output_type": "display_data"
    },
    {
     "data": {
      "text/plain": [
       "\n",
       "       0        1 \n",
       "65.73333 34.26667 "
      ]
     },
     "metadata": {},
     "output_type": "display_data"
    },
    {
     "data": {
      "text/plain": [
       "\n",
       " 0  1 \n",
       "66 34 "
      ]
     },
     "metadata": {},
     "output_type": "display_data"
    }
   ],
   "source": [
    "#Check dimensions of the split\n",
    "\n",
    "prop.table(table(diabetes$Outcome)) * 100\n",
    "prop.table(table(training$Outcome)) * 100\n",
    "prop.table(table(testing$Outcome)) * 100"
   ]
  },
  {
   "cell_type": "code",
   "execution_count": 28,
   "metadata": {},
   "outputs": [],
   "source": [
    "#create objects x which holds the predictor variables and y \n",
    "#which holds the response variables\n",
    "x = training[,-9]\n",
    "y = as.factor(training$Outcome)"
   ]
  },
  {
   "cell_type": "code",
   "execution_count": 29,
   "metadata": {},
   "outputs": [],
   "source": [
    "model = train(x,y,'naive_bayes')\n",
    "#?naive_bayes"
   ]
  },
  {
   "cell_type": "code",
   "execution_count": 30,
   "metadata": {},
   "outputs": [],
   "source": [
    "#Model Evaluation\n",
    "#Predict testing set\n",
    "Predict <- predict(model,newdata = testing )"
   ]
  },
  {
   "cell_type": "code",
   "execution_count": 32,
   "metadata": {},
   "outputs": [
    {
     "data": {
      "text/plain": [
       "Confusion Matrix and Statistics\n",
       "\n",
       "          Reference\n",
       "Prediction   0   1\n",
       "         0 264  45\n",
       "         1  66 125\n",
       "                                         \n",
       "               Accuracy : 0.778          \n",
       "                 95% CI : (0.739, 0.8137)\n",
       "    No Information Rate : 0.66           \n",
       "    P-Value [Acc > NIR] : 5.433e-09      \n",
       "                                         \n",
       "                  Kappa : 0.5197         \n",
       "                                         \n",
       " Mcnemar's Test P-Value : 0.05765        \n",
       "                                         \n",
       "            Sensitivity : 0.8000         \n",
       "            Specificity : 0.7353         \n",
       "         Pos Pred Value : 0.8544         \n",
       "         Neg Pred Value : 0.6545         \n",
       "             Prevalence : 0.6600         \n",
       "         Detection Rate : 0.5280         \n",
       "   Detection Prevalence : 0.6180         \n",
       "      Balanced Accuracy : 0.7676         \n",
       "                                         \n",
       "       'Positive' Class : 0              \n",
       "                                         "
      ]
     },
     "metadata": {},
     "output_type": "display_data"
    }
   ],
   "source": [
    "#Get the confusion matrix to see accuracy value and other parameter values\n",
    "\n",
    "confusionMatrix(Predict, as.factor(testing$Outcome) )"
   ]
  },
  {
   "cell_type": "code",
   "execution_count": 33,
   "metadata": {},
   "outputs": [
    {
     "data": {
      "image/png": "[encoded data removed]",
      "text/plain": [
       "plot without title"
      ]
     },
     "metadata": {
      "image/png": {
       "height": 420,
       "width": 420
      }
     },
     "output_type": "display_data"
    }
   ],
   "source": [
    "#Plot Variable performance\n",
    "X <- varImp(model)\n",
    "plot(X)"
   ]
  }
 ],
 "metadata": {
  "kernelspec": {
   "display_name": "R",
   "language": "R",
   "name": "ir"
  },
  "language_info": {
   "codemirror_mode": "r",
   "file_extension": ".r",
   "mimetype": "text/x-r-source",
   "name": "R",
   "pygments_lexer": "r",
   "version": "4.0.5"
  }
 },
 "nbformat": 4,
 "nbformat_minor": 2
}
